{
    "metadata": {
        "kernelspec": {
            "name": "python3",
            "display_name": "Python 3",
            "language": "python"
        }
    },
    "nbformat": 4,
    "nbformat_minor": 4,
    "cells": [
        {
            "attachments": {},
            "cell_type": "markdown",
            "metadata": {},
            "source": [
                "\u003cdiv class=\"alert alert-block alert-danger\" style=\"color:black;background-color:#E7F4FA\"\u003e\n",
                "    \n",
                "## **PART 2 [50 points]: Creating your own Cipher using string manipulations**\n",
                "\u003cbr /\u003e    \n",
                "\n",
                "A cipher is a secret code for a language. In this case study, we will explore a cipher that is reported by contemporary Greek historians to have been used by Julius Caesar to send secret messages to generals during times of war.\n",
                "\n",
                "The Caesar cipher shifts each letter of a message to another letter in the alphabet located a fixed distance from the original letter. If our encryption key were `1`, we would shift `h` to the next letter `i`, `i` to the next letter `j`, and so on. If we reach the end of the alphabet, which for us is the space character, we simply loop back to `a`. To decode the message, we make a similar shift, except we move the same number of steps backwards in the alphabet.\n",
                "\n",
                "\u003cimg src=\"https://media.giphy.com/media/3IpHeyAdAmjQI/giphy.gif\" style=\"margin-left:350px\"\u003e\n",
                "\n",
                "In this part of the homework, you will use the tools \u0026 concepts you have learnt past few weeks to slowly work out encoding, decoding a message and guessing the key of an encoded message. You will decode using a basic strategy of frequency counting  \n",
                "    \n",
                "\u003c/div\u003e\n",
                "    "
            ]
        },
        {
            "cell_type": "code",
            "execution_count": 1,
            "metadata": {},
            "outputs": [
                {
                    "name": "stdout",
                    "output_type": "stream",
                    "text": "The Zen of Python, by Tim Peters\n\nBeautiful is better than ugly.\nExplicit is better than implicit.\nSimple is better than complex.\nComplex is better than complicated.\nFlat is better than nested.\nSparse is better than dense.\nReadability counts.\nSpecial cases aren't special enough to break the rules.\nAlthough practicality beats purity.\nErrors should never pass silently.\nUnless explicitly silenced.\nIn the face of ambiguity, refuse the temptation to guess.\nThere should be one-- and preferably only one --obvious way to do it.\nAlthough that way may not be obvious at first unless you're Dutch.\nNow is better than never.\nAlthough never is often better than *right* now.\nIf the implementation is hard to explain, it's a bad idea.\nIf the implementation is easy to explain, it may be a good idea.\nNamespaces are one honking great idea -- let's do more of those!\n"
                }
            ],
            "source": [
                "# RUN THIS CELL\n",
                "# import libraries\n",
                "import string\n",
                "import this\n",
                "from collections import Counter"
            ]
        },
        {
            "attachments": {},
            "cell_type": "markdown",
            "metadata": {},
            "source": [
                "\u003cdiv class=\"alert alert-block alert-danger\" style=\"color:black;background-color:#E7F4FA\"\u003e\n",
                "    \n",
                "## **Prepare tools**\n",
                "### Instructions\n",
                "\n",
                "- Using the string library, create a string called `alphabet` consisting of all the lowercase letters (you can use string library methods). Note that we're only using the lowercase letters in this exercise.\n",
                "\n",
                "- Create a dictionary with keys consisting of the characters in alphabet and values consisting of the numbers from 0 to 25.\n",
                "- Store this as `position`.\n",
                "\u003c/div\u003e"
            ]
        },
        {
            "cell_type": "code",
            "execution_count": 2,
            "metadata": {},
            "outputs": [],
            "source": [
                "# Your code here\n",
                "alphabet = string.ascii_lowercase "
            ]
        },
        {
            "cell_type": "code",
            "execution_count": 3,
            "metadata": {},
            "outputs": [
                {
                    "data": {
                        "text/plain": "13"
                    },
                    "execution_count": 3,
                    "metadata": {},
                    "output_type": "execute_result"
                }
            ],
            "source": [
                "# Your code here\n",
                "position = {k:v for v,k in enumerate(alphabet)}\n",
                "position['n']"
            ]
        },
        {
            "attachments": {},
            "cell_type": "markdown",
            "metadata": {},
            "source": [
                "\u003cdiv class=\"alert alert-block alert-danger\" style=\"color:black;background-color:#E7F4FA\"\u003e\n",
                "    \n",
                "## **Encode a message**\n",
                "### Instructions \n",
                "- You are provided with `message`.\n",
                "- Using `alphabet` and `position` create an encoded message where each character in `message` has been shifted forward by 1 position\n",
                "\n",
                "- You can ensure the result remains within 0-26 using result `% 26`. \n",
                "- **Note : Keep in mind that the message has blank spaces `' '`. Shift alphabets by 1 position, but keep the blank spaces as it is**\n",
                "- Store this as `encoded_message`.\n",
                "\u003c/div\u003e"
            ]
        },
        {
            "cell_type": "code",
            "execution_count": 4,
            "metadata": {},
            "outputs": [
                {
                    "data": {
                        "text/plain": "'uijt nfttbhf jt b mjf'"
                    },
                    "execution_count": 4,
                    "metadata": {},
                    "output_type": "execute_result"
                }
            ],
            "source": [
                "# Your code here\n",
                "message = \"this message is a lie\"\n",
                "encoded = []\n",
                "for i in message:\n",
                "    if i!=' ':\n",
                "        encoded.append(alphabet[(position[i]+1)%26])\n",
                "    else:\n",
                "        encoded.append(' ')\n",
                "\n",
                "encoded_message = \"\".join(encoded)\n",
                "encoded_message"
            ]
        },
        {
            "attachments": {},
            "cell_type": "markdown",
            "metadata": {},
            "source": [
                "\u003cdiv class=\"alert alert-block alert-danger\" style=\"color:black;background-color:#E7F4FA\"\u003e\n",
                "\n",
                "### ⏸ What will be the result if I encode `encoded_message` with key 25?\n",
                "\n",
                "#### A. `'uijt nfttbhf jt b mjf'`\n",
                "#### B. `'sgjt ldrrzfd hr z khd'`\n",
                "#### C. `'this message is a lie'`\n",
                "#### D. `'vjku oguucig ku c nkg'`\n",
                "\u003c/div\u003e"
            ]
        },
        {
            "cell_type": "code",
            "execution_count": 5,
            "metadata": {},
            "outputs": [],
            "source": [
                "answer = 'c'"
            ]
        },
        {
            "attachments": {},
            "cell_type": "markdown",
            "metadata": {},
            "source": [
                "\u003cdiv class=\"alert alert-block alert-danger\" style=\"color:black;background-color:#E7F4FA\"\u003e\n",
                "\n",
                "## **Define a Function**\n",
                "### Instructions \n",
                "- Define a function `encoding` that takes a message as input as well as an `int` encryption key `key` to encode a message with the Caesar cipher by shifting each letter in message by key positions.\n",
                "- Your function should return a string consisting of these encoded letters.\n",
                "- Use `encoding` to encode `message` using `key = 3` and save the result as `encoded_message`.\n",
                "Display `encoded_message`.\n",
                "\u003c/div\u003e"
            ]
        },
        {
            "cell_type": "code",
            "execution_count": 6,
            "metadata": {},
            "outputs": [
                {
                    "data": {
                        "text/plain": "'uijt nfttbhf jt b mjf'"
                    },
                    "execution_count": 6,
                    "metadata": {},
                    "output_type": "execute_result"
                }
            ],
            "source": [
                "# write your code here \n",
                "def encoding(message,key):\n",
                "    encoded = list()\n",
                "    for i in message:\n",
                "        if i in alphabet:\n",
                "            encoded.append(alphabet[(position[i]+key)%26])\n",
                "        else:\n",
                "            encoded.append(i)\n",
                "    return \"\".join(encoded)\n",
                "\n",
                "encoding(message,key=1)"
            ]
        },
        {
            "attachments": {},
            "cell_type": "markdown",
            "metadata": {},
            "source": [
                "\u003cdiv class=\"alert alert-block alert-danger\" style=\"color:black;background-color:#E7F4FA\"\u003e\n",
                "\n",
                "### ⏸ I encoded a message using the key 3, what key should I encode the encoded message with to get the original message back?\n",
                "\n",
                "#### A. 3\n",
                "#### B. 27-3\n",
                "#### C. 26-3\n",
                "#### D. -3\n",
                "\u003c/div\u003e"
            ]
        },
        {
            "cell_type": "code",
            "execution_count": 7,
            "metadata": {},
            "outputs": [],
            "source": [
                "answer = 'c'"
            ]
        },
        {
            "attachments": {},
            "cell_type": "markdown",
            "metadata": {},
            "source": [
                "\u003cdiv class=\"alert alert-block alert-danger\" style=\"color:black;background-color:#E7F4FA\"\u003e\n",
                "\n",
                "## **Decoding**\n",
                "### Instructions\n",
                "- Figure a way to use `encoding` function to decode `encoded_message`. (Hint : Try to figure out what happens when you encode `encoded_message` with different keys)\n",
                "- Store your decoded message as `decoded_message`.\n",
                "- Display `decoded_message` and compare it with the original `message`\n",
                "\u003c/div\u003e"
            ]
        },
        {
            "cell_type": "code",
            "execution_count": 8,
            "metadata": {},
            "outputs": [],
            "source": [
                "# write your code here!\n",
                "decoded_message = encoding(encoding(message,key=2),key=24)"
            ]
        },
        {
            "attachments": {},
            "cell_type": "markdown",
            "metadata": {},
            "source": [
                "## "
            ]
        },
        {
            "attachments": {},
            "cell_type": "markdown",
            "metadata": {},
            "source": [
                "\u003cdiv class=\"alert alert-block alert-danger\" style=\"color:black;background-color:#E7F4FA\"\u003e\n",
                "\n",
                "## **Zen of Python**\n",
                "\n",
                "Take a look at `encoded_message`. This message has been encoded using caesar cipher but the key is unknown\n",
                "\u003c/div\u003e"
            ]
        },
        {
            "cell_type": "code",
            "execution_count": 9,
            "metadata": {},
            "outputs": [
                {
                    "data": {
                        "text/plain": "\"Gur Mra bs Clguba, ol Gvz Crgref\\n\\nOrnhgvshy vf orggre guna htyl.\\nRkcyvpvg vf orggre guna vzcyvpvg.\\nFvzcyr vf orggre guna pbzcyrk.\\nPbzcyrk vf orggre guna pbzcyvpngrq.\\nSyng vf orggre guna arfgrq.\\nFcnefr vf orggre guna qrafr.\\nErnqnovyvgl pbhagf.\\nFcrpvny pnfrf nera'g fcrpvny rabhtu gb oernx gur ehyrf.\\nNygubhtu cenpgvpnyvgl orngf chevgl.\\nReebef fubhyq arire cnff fvyragyl.\\nHayrff rkcyvpvgyl fvyraprq.\\nVa gur snpr bs nzovthvgl, ershfr gur grzcgngvba gb thrff.\\nGurer fubhyq or bar-- naq cersrenoyl bayl bar --boivbhf jnl gb qb vg.\\nNygubhtu gung jnl znl abg or boivbhf ng svefg hayrff lbh'er Qhgpu.\\nAbj vf orggre guna arire.\\nNygubhtu arire vf bsgra orggre guna *evtug* abj.\\nVs gur vzcyrzragngvba vf uneq gb rkcynva, vg'f n onq vqrn.\\nVs gur vzcyrzragngvba vf rnfl gb rkcynva, vg znl or n tbbq vqrn.\\nAnzrfcnprf ner bar ubaxvat terng vqrn -- yrg'f qb zber bs gubfr!\""
                    },
                    "execution_count": 9,
                    "metadata": {},
                    "output_type": "execute_result"
                }
            ],
            "source": [
                "#  RUN THIS CELL\n",
                "encoded_message = this.s\n",
                "encoded_message"
            ]
        },
        {
            "attachments": {},
            "cell_type": "markdown",
            "metadata": {},
            "source": [
                "\u003cdiv class=\"alert alert-block alert-danger\" style=\"color:black;background-color:#E7F4FA\"\u003e\n",
                "\n",
                "## **Guess the key**\n",
                "A very common way of guessing the key is by counting the frequency of letters in the encoded message. It is usually found the normal text has the letter 'e' which occurs with the most frequency, hence the most frequent character after encoding the text will correspond to letter 'e'. Since we know positions of both the most frequent letter and the letter 'e', we can assign the guess key as `26 - (position[most common] - position['e'])`\n",
                "\u003c/div\u003e"
            ]
        },
        {
            "attachments": {},
            "cell_type": "markdown",
            "metadata": {},
            "source": [
                "\u003cdiv class=\"alert alert-block alert-danger\" style=\"color:black;background-color:#E7F4FA\"\u003e\n",
                "\n",
                "### Instructions\n",
                "- Find out the most frequent character in encoded message\n",
                "- Calculate the `guess_key` according to the formula :\n",
                "`26 - (position[most common] - position['e'])`\n",
                "- Decode the message using this `guess_key`\n",
                "\u003c/div\u003e"
            ]
        },
        {
            "cell_type": "code",
            "execution_count": 10,
            "metadata": {},
            "outputs": [
                {
                    "data": {
                        "text/plain": "'r'"
                    },
                    "execution_count": 10,
                    "metadata": {},
                    "output_type": "execute_result"
                }
            ],
            "source": [
                "# Your code here\n",
                "encoding_count = Counter(encoded_message.replace(' ',\"\"))\n",
                "encoding_count.most_common(1)[0][0]"
            ]
        },
        {
            "cell_type": "code",
            "execution_count": 11,
            "metadata": {},
            "outputs": [],
            "source": [
                "#Your code here\n",
                "guess_key = 26 - (position['r'] - position['e'])"
            ]
        },
        {
            "cell_type": "code",
            "execution_count": 12,
            "metadata": {},
            "outputs": [
                {
                    "data": {
                        "text/plain": "\"the zen of python, by tim peters\\n\\nbeautiful is better than ugly.\\nexplicit is better than implicit.\\nsimple is better than complex.\\ncomplex is better than complicated.\\nflat is better than nested.\\nsparse is better than dense.\\nreadability counts.\\nspecial cases aren't special enough to break the rules.\\nalthough practicality beats purity.\\nerrors should never pass silently.\\nunless explicitly silenced.\\nin the face of ambiguity, refuse the temptation to guess.\\nthere should be one-- and preferably only one --obvious way to do it.\\nalthough that way may not be obvious at first unless you're dutch.\\nnow is better than never.\\nalthough never is often better than *right* now.\\nif the implementation is hard to explain, it's a bad idea.\\nif the implementation is easy to explain, it may be a good idea.\\nnamespaces are one honking great idea -- let's do more of those!\""
                    },
                    "execution_count": 12,
                    "metadata": {},
                    "output_type": "execute_result"
                }
            ],
            "source": [
                "#Your code here\n",
                "decoded_message = encoding(encoded_message.lower(),key = guess_key)\n",
                "decoded_message"
            ]
        },
        {
            "attachments": {},
            "cell_type": "markdown",
            "metadata": {},
            "source": [
                "\u003cdiv class=\"alert alert-block alert-danger\" style=\"color:black;background-color:#E7F4FA\"\u003e\n",
                "\n",
                "## **Write a Cipher class** \n",
                "### Instructions\n",
                "- Initialise using a key which is passed during instantiation.\n",
                "- Also declare `alphabet` which has all lowercase alphabets from string library and `position` which is a dictionary alphabet as key and it's position as value\n",
                "- Declare a method called encode, it takes a string as input an encodes the string using the key from class attribute\n",
                "- Declare a method called `change_key`. It takes a key as input and modifies the class attribute `key` to the value passed\n",
                "- Declare a method called `decode`. It takes an encoded string and the key used for encoding as input. Call `change_key` method to change the key to something required for decoding. Then call the encode function on the encoded string\n",
                "- Declare a method called `guess_key`. It takes an encoded string as input and using the frequency counting method generates a guess key. Also return the decoded message by calling the decode method using the guess_key\n",
                "\n",
                "**Note : The guess key generated here should be the guess for key which was used while encoding the string, and not the guess_key required for decoding the string**\n",
                "\u003c/div\u003e"
            ]
        },
        {
            "cell_type": "code",
            "execution_count": 13,
            "metadata": {},
            "outputs": [],
            "source": [
                "#Your code here\n",
                "class Cipher():\n",
                "    def __init__(self,key):\n",
                "        self.key = key\n",
                "        self.alphabet = string.ascii_lowercase\n",
                "        self.position = {k:v for v,k in enumerate(self.alphabet)}\n",
                "    def encode(self,string):\n",
                "        encoded = list()\n",
                "        for i in string:\n",
                "            if i in self.alphabet:\n",
                "                encoded.append(self.alphabet[(self.position[i]+self.key)%26])\n",
                "            else:\n",
                "                encoded.append(i)\n",
                "        return \"\".join(encoded)  \n",
                "    def change_key(self,key):\n",
                "        self.key = key\n",
                "    def guess_key(self,string):\n",
                "        encoding_count = Counter(encoded_message.replace(' ',\"\"))\n",
                "        common = encoding_count.most_common(1)[0][0]\n",
                "        guess_key = self.position[common] - self.position['e']\n",
                "        return guess_key"
            ]
        },
        {
            "cell_type": "code",
            "execution_count": 15,
            "metadata": {},
            "outputs": [
                {
                    "name": "stdout",
                    "output_type": "stream",
                    "text": "Hhoorc Helloz\n"
                }
            ],
            "source": [
                "# Test your class here\n",
                "key = 3\n",
                "mystr = 'Helloz'\n",
                "\n",
                "mycipher = Cipher(key)\n",
                "encoded = mycipher.encode(mystr)\n",
                "mycipher.change_key(26-key)\n",
                "decoded = mycipher.encode(encoded)\n",
                "print(encoded,decoded)"
            ]
        },
        {
            "cell_type": "code",
            "execution_count": 0,
            "metadata": {},
            "outputs": [],
            "source": [
                ""
            ]
        }
    ]
}
