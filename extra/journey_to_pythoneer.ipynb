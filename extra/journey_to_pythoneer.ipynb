{
    "metadata": {
        "kernelspec": {
            "name": "python3",
            "display_name": "Python 3",
            "language": "python"
        }
    },
    "nbformat": 4,
    "nbformat_minor": 2,
    "cells": [
        {
            "attachments": {},
            "cell_type": "markdown",
            "metadata": {},
            "source": [
                "# **Journey towards becoming a Pythoneer**\n",
                "\n",
                "![](https://media.giphy.com/media/h56NJ3ghZZulG/giphy.gif)\n",
                "\n",
                "When a veteran Python developer (a Pythonista) calls portions of code not “Pythonic”, they usually mean that these lines of code do not follow the common guidelines and fail to express its intent in what is considered the best (hear: most readable) way."
            ]
        },
        {
            "cell_type": "code",
            "execution_count": 1,
            "metadata": {},
            "outputs": [
                {
                    "name": "stdout",
                    "output_type": "stream",
                    "text": "The Zen of Python, by Tim Peters\n\nBeautiful is better than ugly.\nExplicit is better than implicit.\nSimple is better than complex.\nComplex is better than complicated.\nFlat is better than nested.\nSparse is better than dense.\nReadability counts.\nSpecial cases aren't special enough to break the rules.\nAlthough practicality beats purity.\nErrors should never pass silently.\nUnless explicitly silenced.\nIn the face of ambiguity, refuse the temptation to guess.\nThere should be one-- and preferably only one --obvious way to do it.\nAlthough that way may not be obvious at first unless you're Dutch.\nNow is better than never.\nAlthough never is often better than *right* now.\nIf the implementation is hard to explain, it's a bad idea.\nIf the implementation is easy to explain, it may be a good idea.\nNamespaces are one honking great idea -- let's do more of those!\n"
                }
            ],
            "source": [
                "import this"
            ]
        },
        {
            "attachments": {},
            "cell_type": "markdown",
            "metadata": {},
            "source": [
                "## **General Concepts**\n",
                "PEP 8 exists to improve the readability of Python code. \n",
                ""
            ]
        },
        {
            "attachments": {},
            "cell_type": "markdown",
            "metadata": {},
            "source": [
                "### **Naming Conventions**\n",
                "\n",
                "\"Explicit is better than implicit.\"\n",
                "\n",
                "+ Variables, functions, methods, packages, modules\n",
                "```lower_case_with_underscores```\n",
                "\n",
                "+ Classes and Exceptions \u003cbr\u003e\n",
                "```CapWords```\n",
                "\n",
                "+ Protected methods and internal functions\u003cbr\u003e\n",
                "```_single_leading_underscore(self, ...)```\n",
                "\n",
                "+ Private methods\u003cbr\u003e\n",
                "```__double_leading_underscore(self, ...)```\n",
                "\n",
                "+ Constants\u003cbr\u003e\n",
                "```ALL_CAPS_WITH_UNDERSCORES```"
            ]
        },
        {
            "cell_type": "code",
            "execution_count": 2,
            "metadata": {},
            "outputs": [],
            "source": [
                "#Note: Never use l, O, or I single letter \n",
                "# names as these can be mistaken for 1 and 0, depending on typeface:\n",
                "\n",
                "O = 2  # This may look like you're trying to reassign 2 to zero"
            ]
        },
        {
            "cell_type": "code",
            "execution_count": 3,
            "metadata": {},
            "outputs": [
                {
                    "name": "stdout",
                    "output_type": "stream",
                    "text": "Smith, John\n"
                }
            ],
            "source": [
                "#BAD\n",
                "\n",
                "x = 'David Copperfield'\n",
                "y, z = x.split()\n",
                "print(z, y, sep=', ')"
            ]
        },
        {
            "cell_type": "code",
            "execution_count": 4,
            "metadata": {},
            "outputs": [
                {
                    "name": "stdout",
                    "output_type": "stream",
                    "text": "Smith, John\n"
                }
            ],
            "source": [
                "#GOOD\n",
                "\n",
                "name = 'David Copperfield'\n",
                "first_name, last_name = name.split()\n",
                "print(last_name, first_name, sep=', ')"
            ]
        },
        {
            "attachments": {},
            "cell_type": "markdown",
            "metadata": {},
            "source": [
                "What does the following code do?"
            ]
        },
        {
            "cell_type": "code",
            "execution_count": 0,
            "metadata": {},
            "outputs": [],
            "source": [
                "for i in range(n):\n",
                "    for j in range(m):\n",
                "        for k in range(l): \n",
                "            temp_value = X[i][j][k] * 12.5\n",
                "            new_array[i][j][k] = temp_value + 150"
            ]
        },
        {
            "attachments": {},
            "cell_type": "markdown",
            "metadata": {},
            "source": [
                "It's very hard to modify or debug this code because there is no comments or naming conventions followed.\n",
                "\n",
                "As a matter of fact, there are three things wrong here:\n",
                "1. Use of unuseful variable names\n",
                "2. Magic numbers - constants without any names given.\n",
                "3. No comments\n",
                "\n",
                "Here's a recommended way by which you can make the code more readable.\n",
                "\n",
                "Note: You do not have to run the below cell. This is just to show you how good code can look like. \n",
                ""
            ]
        },
        {
            "cell_type": "code",
            "execution_count": 0,
            "metadata": {},
            "outputs": [],
            "source": [
                "##PLEASE NOTE YOU DO NOT HAVE TO RUN THIS CELL##\n",
                "## This is just for demonstration purpose ##\n",
                "\n",
                "#defining constant \n",
                "PIXEL_NORMALIZATION_FACTOR = 12.5\n",
                "\n",
                "#defining constant\n",
                "PIXEL_OFFSET_FACTOR = 150\n",
                "\n",
                "#looping through row index in image\n",
                "for row_index in range(row_count):\n",
                "    #looping through column index in image\n",
                "    for column_index in range(column_count):\n",
                "        #looping through color channel index in image\n",
                "        for color_channel_index in range(color_channel_count):\n",
                "            #normalized pixel value = pixel * PIXEL_NORMALIZATION_FACTOR\n",
                "            normalized_pixel_value = (\n",
                "                original_pixel_array[row_index][column_index][color_channel_index]\n",
                "                * PIXEL_NORMALIZATION_FACTOR\n",
                "            )\n",
                "            #transformed_pixel_array = normalized_pixel_value + PIXEL_OFFSET_FACTOR\n",
                "            transformed_pixel_array[row_index][column_index][color_channel_index] = (\n",
                "                normalized_pixel_value + PIXEL_OFFSET_FACTOR\n",
                "            )"
            ]
        },
        {
            "attachments": {},
            "cell_type": "markdown",
            "metadata": {},
            "source": [
                "### **Maximum Line Length and Line Breaking**\n",
                "\n",
                "\"Beautiful is better than ugly.\"\n",
                "\n",
                "PEP 8 suggests lines should be limited to 79 characters. This is because it allows you to have multiple files open next to one another, while also avoiding line wrapping."
            ]
        },
        {
            "cell_type": "code",
            "execution_count": 6,
            "metadata": {},
            "outputs": [
                {
                    "name": "stdout",
                    "output_type": "stream",
                    "text": "one\ntwo\n"
                }
            ],
            "source": [
                "#BAD\n",
                "\n",
                "x = 2\n",
                "\n",
                "print('one'); print('two')\n",
                "\n",
                "if x == 1 : print('123')\n",
                "\n",
                "if 12 +23+424+26+232 == 34 and 123089 *2103 ==1232 and x + 123903*932/26 == 123: print(\"This is getting crazy\")\n",
                ""
            ]
        },
        {
            "cell_type": "code",
            "execution_count": 9,
            "metadata": {},
            "outputs": [
                {
                    "name": "stdout",
                    "output_type": "stream",
                    "text": "one\ntwo\n"
                }
            ],
            "source": [
                "#GOOD\n",
                "\n",
                "x = 2\n",
                "\n",
                "#printing one\n",
                "print('one');\n",
                "#printin two \n",
                "print('two')\n",
                "\n",
                "#if x equals 1\n",
                "if x == 1 : \n",
                "    #print 123\n",
                "    print('123')\n",
                "\n",
                "#condA defined\n",
                "condA = 12+23+424+26+232 == 34\n",
                "#condB defined\n",
                "condB = 123089 * 2103 ==1232\n",
                "#condC defined\n",
                "condC = x+123903*(932%26) == 123\n",
                "\n",
                "#if condA, condB and condC is true\n",
                "if condA and condB and condC: \n",
                "    #print statement \"This is getting crazy.\"\n",
                "    print(\"This is getting crazy\")\n",
                ""
            ]
        },
        {
            "attachments": {},
            "cell_type": "markdown",
            "metadata": {},
            "source": [
                "### **Commenting**\n",
                "\n",
                "\"If the implementation is hard to explain, it's a bad idea.\"\n",
                "\n",
                "You should use comments to document code as it’s written. It is important to document your code so that you, and any collaborators, can understand it. "
            ]
        },
        {
            "cell_type": "code",
            "execution_count": 10,
            "metadata": {},
            "outputs": [],
            "source": [
                "#Block comments\n",
                "def quadratic(a, b, c, x):\n",
                "    # Calculate the solution to a quadratic equation using the quadratic\n",
                "    # formula.\n",
                "    #\n",
                "    # There are always two solutions to a quadratic equation, x_1 and x_2.\n",
                "    x_1 = (- b+(b**2-4*a*c)**(1/2)) / (2*a)\n",
                "    x_2 = (- b-(b**2-4*a*c)**(1/2)) / (2*a)\n",
                "    return x_1, x_2"
            ]
        },
        {
            "cell_type": "code",
            "execution_count": 11,
            "metadata": {},
            "outputs": [],
            "source": [
                "x = 5  # This is an inline comment"
            ]
        },
        {
            "attachments": {},
            "cell_type": "markdown",
            "metadata": {},
            "source": [
                "## **Idioms  \u0026 Pythonic Way**"
            ]
        },
        {
            "attachments": {},
            "cell_type": "markdown",
            "metadata": {},
            "source": [
                "### **Unpacking**"
            ]
        },
        {
            "cell_type": "code",
            "execution_count": 15,
            "metadata": {},
            "outputs": [],
            "source": [
                "#Using enumerate to unpack values instead of employing multiple variables to loop\n",
                "some_list = {1:2,2:3}\n",
                "for index, item in enumerate(some_list):\n",
                "    # do something with index and item\n",
                "    ..."
            ]
        },
        {
            "cell_type": "code",
            "execution_count": 16,
            "metadata": {},
            "outputs": [
                {
                    "name": "stdout",
                    "output_type": "stream",
                    "text": "1\n4\n2 3\n"
                }
            ],
            "source": [
                "#A new method of extended unpacking was introduced by PEP 3132\n",
                "\n",
                "a, *rest = [1, 2, 3]\n",
                "# a = 1, rest = [2, 3]\n",
                "\n",
                "a, *middle, c = [1, 2, 3, 4]\n",
                "# a = 1, middle = [2, 3], c = 4\n",
                "\n",
                "print(a)\n",
                "print(c)\n",
                "print(*middle)"
            ]
        },
        {
            "attachments": {},
            "cell_type": "markdown",
            "metadata": {},
            "source": [
                "### **Creating ignored variable for those value you won't use**"
            ]
        },
        {
            "cell_type": "code",
            "execution_count": 17,
            "metadata": {},
            "outputs": [],
            "source": [
                "#Using the __ for creating empty lists\n",
                "four_lists = [[] for __ in range(5)]"
            ]
        },
        {
            "attachments": {},
            "cell_type": "markdown",
            "metadata": {},
            "source": [
                "### **Lookup in a collection**"
            ]
        },
        {
            "cell_type": "code",
            "execution_count": 18,
            "metadata": {},
            "outputs": [],
            "source": [
                "#defining a set\n",
                "s = set(['s', 'p', 'a', 'm'])\n",
                "#defining a list\n",
                "l = ['s', 'p', 'a', 'm']\n",
                "\n",
                "#loop up in a set\n",
                "def lookup_set(s):\n",
                "    return 's' in s\n",
                "\n",
                "#lookup in a list\n",
                "def lookup_list(l):\n",
                "    return 's' in l"
            ]
        },
        {
            "attachments": {},
            "cell_type": "markdown",
            "metadata": {},
            "source": [
                "Since set are hashable, it's look up table takedn O(1) whilst lists take O(n) complexity."
            ]
        },
        {
            "attachments": {},
            "cell_type": "markdown",
            "metadata": {},
            "source": [
                "### **Always try using List,Set, Dict Comprehension for looping through key/values**"
            ]
        },
        {
            "cell_type": "code",
            "execution_count": 19,
            "metadata": {},
            "outputs": [
                {
                    "name": "stdout",
                    "output_type": "stream",
                    "text": "50000000 loops, best of 5: 4.81 nsec per loop\r\n"
                }
            ],
            "source": [
                "!python -m timeit -s \"l={k:k for k in range(5000)}\"   #time taken in a dict for comprehension"
            ]
        },
        {
            "cell_type": "code",
            "execution_count": 20,
            "metadata": {},
            "outputs": [
                {
                    "name": "stdout",
                    "output_type": "stream",
                    "text": "50000000 loops, best of 5: 4.8 nsec per loop\r\n"
                }
            ],
            "source": [
                "!python -m timeit -s \"l=[k for k in range(5000)]\"   #time taken in a list for comprehension"
            ]
        },
        {
            "cell_type": "code",
            "execution_count": 21,
            "metadata": {},
            "outputs": [
                {
                    "name": "stdout",
                    "output_type": "stream",
                    "text": "50000000 loops, best of 5: 4.81 nsec per loop\r\n"
                }
            ],
            "source": [
                "!python -m timeit -s \"l=tuple([k for k in range(5000)])\" #time taken in a tuple for comprehension"
            ]
        },
        {
            "cell_type": "code",
            "execution_count": 22,
            "metadata": {},
            "outputs": [
                {
                    "name": "stdout",
                    "output_type": "stream",
                    "text": "50000000 loops, best of 5: 4.8 nsec per loop\r\n"
                }
            ],
            "source": [
                "!python -m timeit -s \"l=set([k for k in range(5000)])\" #time taken in a set for comprehension"
            ]
        },
        {
            "attachments": {},
            "cell_type": "markdown",
            "metadata": {},
            "source": [
                "\n",
                "If you need to modify the sequence you are iterating over while inside the loop (for example to duplicate selected items), it is recommended that you first make a copy. Iterating over a sequence does not implicitly make a copy."
            ]
        },
        {
            "cell_type": "code",
            "execution_count": 23,
            "metadata": {},
            "outputs": [],
            "source": [
                "#BAD\n",
                "\n",
                "#Do not change/remove your elements when you loop through a list\n",
                "# Filter elements greater than 4\n",
                "a = [3, 4, 5]\n",
                "for i in a:\n",
                "    if i \u003e 4:\n",
                "        a.remove(i)"
            ]
        },
        {
            "cell_type": "code",
            "execution_count": 0,
            "metadata": {},
            "outputs": [],
            "source": [
                "#GOOD\n",
                "\n",
                "#You DO NOT HAVE TO RUN THE CELL## \n",
                "#THIS IS FOR DEMONSTRATION PURPOSE###\n",
                "\n",
                "# comprehensions create a new list object\n",
                "filtered_values = [value for value in sequence if value != x]\n",
                "\n",
                "# generators don't create another list\n",
                "filtered_values = (value for value in sequence if value != x)"
            ]
        },
        {
            "attachments": {},
            "cell_type": "markdown",
            "metadata": {},
            "source": [
                "### **Modifying the values in a list**\n",
                ""
            ]
        },
        {
            "cell_type": "code",
            "execution_count": 27,
            "metadata": {},
            "outputs": [
                {
                    "name": "stdout",
                    "output_type": "stream",
                    "text": "[6, 7, 8]\n"
                }
            ],
            "source": [
                "#Bad\n",
                "\n",
                "# Add three to all list members.\n",
                "a = [3, 4, 5]\n",
                "b = a                     # a and b refer to the same list object\n",
                "\n",
                "for i in range(len(a)):\n",
                "    a[i] += 3             # b[i] also changes\n",
                "\n",
                "print(b)"
            ]
        },
        {
            "cell_type": "code",
            "execution_count": 28,
            "metadata": {},
            "outputs": [
                {
                    "name": "stdout",
                    "output_type": "stream",
                    "text": "[3, 4, 5]\n"
                }
            ],
            "source": [
                "# Good\n",
                "\n",
                "a = [3, 4, 5]\n",
                "b = a\n",
                "\n",
                "# assign the variable \"a\" to a new list without changing \"b\"\n",
                "a = [i + 3 for i in a]\n",
                "\n",
                "print(b)"
            ]
        },
        {
            "attachments": {},
            "cell_type": "markdown",
            "metadata": {},
            "source": [
                "## **Other Recommended Conventions**"
            ]
        },
        {
            "attachments": {},
            "cell_type": "markdown",
            "metadata": {},
            "source": [
                "### **Don’t compare Boolean values to True or False using the equivalence operator**"
            ]
        },
        {
            "cell_type": "code",
            "execution_count": 29,
            "metadata": {},
            "outputs": [
                {
                    "name": "stdout",
                    "output_type": "stream",
                    "text": "6 is bigger than 5\n"
                }
            ],
            "source": [
                "#BAD\n",
                "\n",
                "my_bool = 6 \u003e 5\n",
                "if my_bool == True:\n",
                "    print('6 is bigger than 5')"
            ]
        },
        {
            "cell_type": "code",
            "execution_count": 30,
            "metadata": {},
            "outputs": [
                {
                    "name": "stdout",
                    "output_type": "stream",
                    "text": "6 is bigger than 5\n"
                }
            ],
            "source": [
                "# GOOD \n",
                "\n",
                "if my_bool:\n",
                "    print('6 is bigger than 5')"
            ]
        },
        {
            "attachments": {},
            "cell_type": "markdown",
            "metadata": {},
            "source": [
                "### **Use 'is not' rather than 'not ... is' in if statements.**"
            ]
        },
        {
            "cell_type": "code",
            "execution_count": 31,
            "metadata": {},
            "outputs": [
                {
                    "name": "stdout",
                    "output_type": "stream",
                    "text": "x exists!\n"
                }
            ],
            "source": [
                "# BAD\n",
                "\n",
                "if not x is None:\n",
                "    print('x exists!')"
            ]
        },
        {
            "cell_type": "code",
            "execution_count": 32,
            "metadata": {},
            "outputs": [
                {
                    "name": "stdout",
                    "output_type": "stream",
                    "text": "x exists!\n"
                }
            ],
            "source": [
                "#GOOD\n",
                "\n",
                "if x is not None:\n",
                "    print('x exists!')"
            ]
        },
        {
            "attachments": {},
            "cell_type": "markdown",
            "metadata": {},
            "source": [
                "### **Use the fact that empty sequences are falsy in if statements**"
            ]
        },
        {
            "cell_type": "code",
            "execution_count": 33,
            "metadata": {},
            "outputs": [
                {
                    "name": "stdout",
                    "output_type": "stream",
                    "text": "List is empty!\n"
                }
            ],
            "source": [
                "# BAD\n",
                "\n",
                "my_list = []\n",
                "if not len(my_list):\n",
                "    print('List is empty!')"
            ]
        },
        {
            "cell_type": "code",
            "execution_count": 34,
            "metadata": {},
            "outputs": [
                {
                    "name": "stdout",
                    "output_type": "stream",
                    "text": "List is empty!\n"
                }
            ],
            "source": [
                "#GOOD\n",
                "\n",
                "my_list = []\n",
                "if not my_list: #Directly using the object\n",
                "    print('List is empty!')"
            ]
        }
    ]
}
