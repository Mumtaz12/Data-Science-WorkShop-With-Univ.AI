{
    "cells": [
        {
            "attachments": {},
            "cell_type": "markdown",
            "metadata": {},
            "source": [
                "## Import data and take a look at it"
            ]
        },
        {
            "cell_type": "code",
            "execution_count": null,
            "metadata": {},
            "outputs": [
                {
                    "name": "stdout",
                    "output_type": "stream",
                    "text": [
                        "[60, 18, 12, 31, 83, 70, 28, 78, 14, 24] [5, 7, 10, 34, 37, 5, 30, 37, 17, 6]\n"
                    ]
                }
            ],
            "source": [
                "# Import gen_data function\n",
                "from data_gen import gen_data\n",
                "\n",
                "# Get the data by calling the gen_data function\n",
                "data1, data2 = gen_data()\n",
                "\n",
                "# Print 10 entries from data1 and data2\n",
                "d1=data1[:10]\n",
                "d2=data2[:10]\n",
                "print(d1,d2)"
            ]
        },
        {
            "attachments": {},
            "cell_type": "markdown",
            "metadata": {},
            "source": [
                "Standardize the data:\n",
                "1. Calculate it's mean $\\mu = (\\frac{\\Sigma(x_i)}{n})$ \n",
                "\n",
                "    $Mean= \\frac{Sum\\ of\\ all\\ the\\ values}{Total\\ number\\ of\\ values}$\n",
                "\n",
                "\n",
                "2. Calculate it's standard deviation $(\\frac{\\Sigma(x_i^2)}{n} - \\mu^2)^{1/2}$.\n",
                "\n",
                "    $Standard\\ deviation =(\\frac{Sum\\ of squared\\ values}{Total\\ number of values} -mean^2)^\\frac{1}{2}$\n",
                "\n",
                "3. For each element perform the following:\n",
                "\n",
                "    $z_i = \\frac{x_i - \\mu}{\\sigma}$\n",
                "    \n",
                "    Step 1: Subract the mean from the value\n",
                "    \n",
                "    Step 2: Divide the resulting value from step 1 by standard deviation"
            ]
        },
        {
            "cell_type": "code",
            "execution_count": null,
            "metadata": {},
            "outputs": [
                {
                    "name": "stdout",
                    "output_type": "stream",
                    "text": [
                        "[-2.110856703170642, -2.0724900467460055, -2.034123390321369, -1.9957567338967326, -1.9573900774720963, -1.91902342104746, -1.8806567646228236, -1.8422901081981873, -1.803923451773551, -1.7655567953489146]\n"
                    ]
                }
            ],
            "source": [
                "### edTest(test_std) ###\n",
                "\n",
                "# Create a list with the squared values of the elements of data1\n",
                "data_sq1 = []\n",
                "for data in data1:\n",
                "    data_sq1.append(data**2)\n",
                "\n",
                "# Calculate mean and standard deviation using formula provided in the markdown cell above\n",
                "mean1 = sum(data1)/len(data1)\n",
                "\n",
                "std1 =(sum(data_sq1)/len(data_sq1)- mean1**2)**0.5\n",
                "# Standardize the data using a loop and display 10 elements\n",
                "std_data = []\n",
                "\n",
                "for i in range(len(data1[:10])):\n",
                "    data=(i-mean1)/std1\n",
                "    std_data.append(data)\n",
                "print(std_data)"
            ]
        },
        {
            "attachments": {},
            "cell_type": "markdown",
            "metadata": {},
            "source": [
                "### Similarly standardize data2"
            ]
        },
        {
            "cell_type": "code",
            "execution_count": null,
            "metadata": {},
            "outputs": [
                {
                    "name": "stdout",
                    "output_type": "stream",
                    "text": [
                        "[-1.0231728129738393, -0.9686297769391978, -0.9140867409045563, -0.8595437048699149, -0.8050006688352734, -0.7504576328006319, -0.6959145967659905, -0.641371560731349, -0.5868285246967075, -0.5322854886620662]\n"
                    ]
                }
            ],
            "source": [
                "# Repeat the same process above but this time for the `data2` list\n",
                "data_sq2 = []\n",
                "for data in data2:\n",
                "    data_sq2.append(data**2)\n",
                "\n",
                "# Calculate mean and standard deviation\n",
                "mean1 = sum(data2)/len(data2)\n",
                "\n",
                "std1 =(sum(data_sq2)/len(data_sq2)- mean1**2)**0.5\n",
                "# Standardize the data using a loop and display 10 elements\n",
                "std_data2 = []\n",
                "\n",
                "for i in range(len(data2[0:10])):\n",
                "     data=(i-mean1)/std1\n",
                "     std_data2.append(data)\n",
                "# Standardize data and print 10 elements\n",
                "\n",
                "print(std_data2)"
            ]
        },
        {
            "attachments": {},
            "cell_type": "markdown",
            "metadata": {},
            "source": [
                "### ⏸ If you had 1000 such data sets, what would be the most efficient way of standardizing them all?\n",
                "\n",
                "#### A. Copy-paste the code for each dataset.\n",
                "#### B. Call the TA and ask him/her to do it.\n",
                "#### C. Write a function to standardize the data."
            ]
        },
        {
            "cell_type": "code",
            "execution_count": 98,
            "metadata": {},
            "outputs": [],
            "source": [
                "### edTest(test_chow1) ###\n",
                "# Submit an answer choice as a string below (eg. if you choose option A put 'A')\n",
                "\n",
                "answer = 'C'"
            ]
        },
        {
            "attachments": {},
            "cell_type": "markdown",
            "metadata": {},
            "source": [
                "## Writing a Function\n",
                "Manually copy-pasting code in order to process all different datasets would be very tedious and it would also reduce code readability which increases the chances of small errors.\n",
                "\n",
                "This is why we will declare a function to do the job for us. Everytime we wish to standardize data all we have to do is simply call the function."
            ]
        },
        {
            "cell_type": "code",
            "execution_count": null,
            "metadata": {},
            "outputs": [
                {
                    "ename": "NameError",
                    "evalue": "name 'tandardize' is not defined",
                    "output_type": "error",
                    "traceback": [
                        "\u001b[0;31m---------------------------------------------------------------------------\u001b[0m",
                        "\u001b[0;31mNameError\u001b[0m                                 Traceback (most recent call last)",
                        "Input \u001b[0;32mIn [1]\u001b[0m, in \u001b[0;36m<cell line: 19>\u001b[0;34m()\u001b[0m\n\u001b[1;32m     17\u001b[0m       std_data\u001b[38;5;241m.\u001b[39mappend(data)\n\u001b[1;32m     18\u001b[0m     \u001b[38;5;28;01mreturn\u001b[39;00m std_data\n\u001b[0;32m---> 19\u001b[0m n\u001b[38;5;241m=\u001b[39m\u001b[43mtandardize\u001b[49m(std_data)\n",
                        "\u001b[0;31mNameError\u001b[0m: name 'tandardize' is not defined"
                    ]
                }
            ],
            "source": [
                "### edTest(test_func) ###\n",
                "# Define a function which calculates mean and std of input data, and returns standardized data\n",
                "def standardize(data1):\n",
                "    data_sq1 = []\n",
                "    for data in data1:\n",
                "        data_sq1.append(data**2)\n",
                " \n",
                "    mean = sum(data1)/len(data1)\n",
                "   \n",
                " \n",
                "    sd =(sum(data_sq1)/len(data_sq1)- mean**2)**0.5\n",
                "    \n",
                " \n",
                "    std_data = []\n",
                "    for i in range(len(data1[0:10])):\n",
                "      data=(i-mean)/sd\n",
                "      std_data.append(data)\n",
                "    return std_data\n",
                "n=standardize(std_data)\n",
                "print(n)\n"
            ]
        },
        {
            "cell_type": "code",
            "execution_count": null,
            "metadata": {},
            "outputs": [
                {
                    "name": "stdout",
                    "output_type": "stream",
                    "text": [
                        "[-2.258833364190447, -2.2200301536749345, -2.181226943159422, -2.1424237326439095, -2.1036205221283972, -2.064817311612885, -2.0260141010973727, -1.9872108905818602, -1.9484076800663477, -1.9096044695508354]\n"
                    ]
                }
            ],
            "source": [
                "# Call the standardize function on data1 and display 10 elements\n",
                "data1_std = standardize(n)\n",
                "print(data1_std)"
            ]
        },
        {
            "cell_type": "code",
            "execution_count": null,
            "metadata": {},
            "outputs": [
                {
                    "ename": "TypeError",
                    "evalue": "standardize() missing 1 required positional argument: 'data2'",
                    "output_type": "error",
                    "traceback": [
                        "\u001b[0;31m---------------------------------------------------------------------------\u001b[0m",
                        "\u001b[0;31mTypeError\u001b[0m                                 Traceback (most recent call last)",
                        "Input \u001b[0;32mIn [1]\u001b[0m, in \u001b[0;36m<cell line: 2>\u001b[0;34m()\u001b[0m\n\u001b[1;32m      1\u001b[0m \u001b[38;5;66;03m# Call the standardize function on data2 and display 10 elements\u001b[39;00m\n\u001b[0;32m----> 2\u001b[0m data2_std \u001b[38;5;241m=\u001b[39m \u001b[43mstandardize\u001b[49m\u001b[43m(\u001b[49m\u001b[43mn\u001b[49m\u001b[43m)\u001b[49m\n\u001b[1;32m      3\u001b[0m \u001b[38;5;28mprint\u001b[39m(data2_std)\n",
                        "\u001b[0;31mTypeError\u001b[0m: standardize() missing 1 required positional argument: 'data2'"
                    ]
                }
            ],
            "source": [
                "# Call the standardize function on data2 and display 10 elements\n",
                "data2_std = standardize(n)\n",
                "print(data2_std)"
            ]
        },
        {
            "attachments": {},
            "cell_type": "markdown",
            "metadata": {},
            "source": [
                "## De-standardization function\n",
                "Often in data science, we perform manipulations on the standardized dataset (because it's usually easier) and then convert it back to the original scale by destandardizing. \n",
                "So let's write a function to retrieve the data by de-standardizing."
            ]
        },
        {
            "attachments": {},
            "cell_type": "markdown",
            "metadata": {},
            "source": [
                "## Function to de-standardize\n",
                "You wil require the original `mean` and `std` values in order to de-standardize. Perform the following on each element: \n",
                "\n",
                "$x_i = z_i . \\sigma + \\mu$"
            ]
        },
        {
            "cell_type": "code",
            "execution_count": 100,
            "metadata": {},
            "outputs": [],
            "source": [
                "### edTest(test_de) ###\n",
                "# Write a function which takes data, mean and std as input \n",
                "# and returns de-standardized data\n",
                "# Make sure you use the correct mean and std for \n",
                "# data1 and data2 calculated earlier\n",
                "def destandardize(mean, std, data):\n",
                "  ___\n",
                "  return ___"
            ]
        },
        {
            "cell_type": "code",
            "execution_count": 101,
            "metadata": {},
            "outputs": [
                {
                    "name": "stdout",
                    "output_type": "stream",
                    "text": [
                        "\n"
                    ]
                }
            ],
            "source": [
                "### edTest(test_de1) ###\n",
                "# Use mean and std of data1 calculated earlier and destandardize data1_std\n",
                "data_de1 = ___\n",
                "print(___)"
            ]
        },
        {
            "cell_type": "code",
            "execution_count": 102,
            "metadata": {},
            "outputs": [
                {
                    "name": "stdout",
                    "output_type": "stream",
                    "text": [
                        "\n"
                    ]
                }
            ],
            "source": [
                "### edTest(test_de2) ###\n",
                "# Use mean and std of data1 calculated earlier and destandardize data2_std\n",
                "data_de2 = ___\n",
                "print(___)"
            ]
        },
        {
            "attachments": {},
            "cell_type": "markdown",
            "metadata": {},
            "source": [
                "\n",
                "### ⏸ By looking at what data is required for destandardizing, do you observe something out of place?\n",
                "\n",
                "#### A. No, all looks good.\n",
                "#### B. `mean` and `std` got over-written when copy-pasting code.\n",
                "#### C. Function to de-standardize requires extra data (mean,std) which were not given by standardize function.\n",
                "#### D. B and C."
            ]
        },
        {
            "cell_type": "code",
            "execution_count": 103,
            "metadata": {},
            "outputs": [],
            "source": [
                "### edTest(test_chow2) ###\n",
                "# Submit an answer choice as a string below (eg. if you choose option A put 'A')\n",
                "\n",
                "answer = 'C'"
            ]
        }
    ],
    "metadata": {
        "kernelspec": {
            "display_name": "Python 3.10.5 64-bit",
            "language": "python",
            "name": "python3"
        },
        "language_info": {
            "name": "python",
            "version": "3.10.5"
        },
        "vscode": {
            "interpreter": {
                "hash": "42ac2bbbda3723635b4d79812a5d5c7fd30e1eda2aeaadb4b3ca1545733c2df7"
            }
        }
    },
    "nbformat": 4,
    "nbformat_minor": 0
}
