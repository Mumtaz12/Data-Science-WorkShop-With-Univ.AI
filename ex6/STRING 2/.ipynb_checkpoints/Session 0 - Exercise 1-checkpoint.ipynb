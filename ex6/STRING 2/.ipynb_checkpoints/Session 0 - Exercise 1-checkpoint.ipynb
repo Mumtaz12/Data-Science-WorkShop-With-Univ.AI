{
 "cells": [
  {
   "cell_type": "code",
   "execution_count": 50,
   "metadata": {},
   "outputs": [],
   "source": [
    "#Import libraries\n",
    "import numpy as np\n",
    "import pandas as pd\n",
    "import matplotlib.pyplot as plt\n",
    "%matplotlib inline"
   ]
  },
  {
   "cell_type": "code",
   "execution_count": 127,
   "metadata": {},
   "outputs": [],
   "source": [
    "#Read Julius Caesar file and create word list\n",
    "file_name = \"speech.txt\"\n",
    "word_list = []\n",
    "\n",
    "with open(___) as f:\n",
    "    ___"
   ]
  },
  {
   "cell_type": "code",
   "execution_count": 53,
   "metadata": {},
   "outputs": [],
   "source": [
    "#Read 'stopwords.csv' file as pandas dataframe\n",
    "df = pd.read_csv(___)\n",
    "df.head()"
   ]
  },
  {
   "cell_type": "code",
   "execution_count": null,
   "metadata": {},
   "outputs": [],
   "source": [
    "#Selecting stopwords that belong to English language\n",
    "\n",
    "stop_words = df[___].Words.___"
   ]
  },
  {
   "cell_type": "code",
   "execution_count": 54,
   "metadata": {},
   "outputs": [],
   "source": [
    "#Removing stopwords from the word list extracted from the play\n",
    "\n",
    "pruned_list = [i for i in ___ if i not in ___]"
   ]
  },
  {
   "cell_type": "code",
   "execution_count": 66,
   "metadata": {},
   "outputs": [],
   "source": [
    "### edTest(test_count) ###\n",
    "#Creating a frequency dictionary with words as keys and count of their occurrences as values \n",
    "\n",
    "frequency_dict = {}\n",
    "\n",
    "for i in pruned_list:\n",
    "    if i not in frequency_dict.___:\n",
    "        frequency_dict[___] = 1\n",
    "    else:\n",
    "        frequency_dict[___]+= 1"
   ]
  },
  {
   "cell_type": "code",
   "execution_count": 67,
   "metadata": {},
   "outputs": [],
   "source": [
    "#Sort the dictionary based on highest frequncy of occurence\n",
    "\n",
    "frequncy_list = sorted(frequency_dict.___, key = lambda x: -x[1])"
   ]
  },
  {
   "cell_type": "code",
   "execution_count": 75,
   "metadata": {},
   "outputs": [],
   "source": [
    "#Separate the frequency_list into 2 lists for easy plotting\n",
    "\n",
    "words = [___ for i in frequncy_list]\n",
    "frequency = [___ for i in frequncy_list]"
   ]
  },
  {
   "cell_type": "code",
   "execution_count": 76,
   "metadata": {},
   "outputs": [],
   "source": [
    "#Select the top 15 words to plot\n",
    "x = words[___]\n",
    "y = frequency[___]"
   ]
  },
  {
   "cell_type": "code",
   "execution_count": null,
   "metadata": {},
   "outputs": [],
   "source": [
    "#Plotting the words on the x-axis and frequency along the y-axis\n",
    "\n",
    "fig = plt.figure(figsize = (16,10))\n",
    "plt.bar(___)\n",
    "plt.xlabel(___)\n",
    "plt.ylabel(___)\n",
    "plt.show()\n"
   ]
  }
 ],
 "metadata": {
  "kernelspec": {
   "display_name": "Python 3",
   "language": "python",
   "name": "python3"
  },
  "language_info": {
   "codemirror_mode": {
    "name": "ipython",
    "version": 3
   },
   "file_extension": ".py",
   "mimetype": "text/x-python",
   "name": "python",
   "nbconvert_exporter": "python",
   "pygments_lexer": "ipython3",
   "version": "3.8.3"
  }
 },
 "nbformat": 4,
 "nbformat_minor": 4
}
