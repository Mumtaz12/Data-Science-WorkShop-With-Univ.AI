{
    "metadata": {
        "kernelspec": {
            "name": "python3",
            "display_name": "Python 3 (ipykernel)",
            "language": "python"
        }
    },
    "nbformat": 4,
    "nbformat_minor": 4,
    "cells": [
        {
            "attachments": {},
            "cell_type": "markdown",
            "metadata": {},
            "source": [
                "## String exercise "
            ]
        },
        {
            "cell_type": "code",
            "execution_count": 6,
            "metadata": {},
            "outputs": [
                {
                    "name": "stdout",
                    "output_type": "stream",
                    "text": "Hello my name is Hemani and I am 22 years old\n"
                }
            ],
            "source": [
                "# Fill the column for age\n",
                "name = 'Hemani'\n",
                "# Fill the column for age\n",
                "age = '22'\n",
                "\n",
                "# Write a custom string that takes values from the variables defined above\n",
                "custom_string = f'Hello my name is {name} and I am {age} years old'\n",
                "\n",
                "# print the string\n",
                "print(custom_string)"
            ]
        },
        {
            "cell_type": "code",
            "execution_count": 7,
            "metadata": {},
            "outputs": [
                {
                    "name": "stdout",
                    "output_type": "stream",
                    "text": "This is a line\nThis is another line \tHuge space here\nThis is a line\\nThis is another line \\tHuge space here\n"
                }
            ],
            "source": [
                "# Given below is a normal python string\n",
                "normal_string = 'This is a line\\nThis is another line \\tHuge space here'\n",
                "print(normal_string)\n",
                "\n",
                "# Convert the above into a python raw string literal \n",
                "raw_string = r'This is a line\\nThis is another line \\tHuge space here'\n",
                "\n",
                "# print the raw string and how it's different from the regular string\n",
                "print(raw_string)"
            ]
        },
        {
            "cell_type": "code",
            "execution_count": 8,
            "metadata": {},
            "outputs": [
                {
                    "name": "stdout",
                    "output_type": "stream",
                    "text": "Hello \\nmy name is Hemani\\nI am 22 years old\n"
                }
            ],
            "source": [
                "# We can even combine raw string literals with formatted string literals using the fr'' prefix\n",
                "# Combine the raw and literal strings in the sentence below\n",
                "formatted_raw_string = fr'Hello \\nmy name is {name}\\nI am {age} years old'\n",
                "print(formatted_raw_string)"
            ]
        },
        {
            "attachments": {},
            "cell_type": "markdown",
            "metadata": {},
            "source": [
                "## `str.strip()`"
            ]
        },
        {
            "cell_type": "code",
            "execution_count": 9,
            "metadata": {},
            "outputs": [
                {
                    "name": "stdout",
                    "output_type": "stream",
                    "text": "\n \n \n \t No Such Thing As Bad Student, \t \t \n \t Only Bad Teacher.\nTeacher Say, Student Do.\n\n\n\n\n- Mr. Miyagi \n \n\n"
                }
            ],
            "source": [
                "# Take a sample sentence such as the quote below from the 1986 movie 'The Karate Kid'\n",
                "sample_sentence = '\\n \\n \\n \\t No Such Thing As Bad Student, \\t \\t \\n \\t Only Bad Teacher.\\nTeacher Say, Student Do.\\n\\n\\n\\n\\n- Mr. Miyagi \\n \\n'\n",
                "print(sample_sentence)"
            ]
        },
        {
            "cell_type": "code",
            "execution_count": 10,
            "metadata": {},
            "outputs": [
                {
                    "name": "stdout",
                    "output_type": "stream",
                    "text": "Original sentence:\n \n \n \n \t No Such Thing As Bad Student, \t \t \n \t Only Bad Teacher.\nTeacher Say, Student Do.\n\n\n\n\n- Mr. Miyagi \n \n\nNumber of characters above 109\n\nStripped Sentence:\n No Such Thing As Bad Student, \t \t \n \t Only Bad Teacher.\nTeacher Say, Student Do.\n\n\n\n\n- Mr. Miyagi\nNumber of characters above 97\n"
                }
            ],
            "source": [
                "# As you see above, there is a lot of unnecessary space occupied while printing\n",
                "# Use the string method 'strip' to remove the formatting \n",
                "# at the start and end of the sentence\n",
                "stripped = sample_sentence.strip()\n",
                "\n",
                "print(f'Original sentence:\\n {sample_sentence}')\n",
                "print(f'Number of characters above {len(sample_sentence)}')\n",
                "print(f'\\nStripped Sentence:\\n {stripped}')\n",
                "print(f'Number of characters above {len(stripped)}')"
            ]
        },
        {
            "attachments": {},
            "cell_type": "markdown",
            "metadata": {},
            "source": [
                "## `str.split()` \u0026 `str.join()`\n",
                "\n",
                "As you can see, although `strip()` is useful, we still have space in between our sentences which is still untouched.\n",
                "\n",
                "To get access to individual substrings, we can use `str.split()` method, and recombine using the `str.join()` method.\n",
                "\n",
                "Read more about `.split()` and `.join()` [here](https://sites.pitt.edu/~naraehan/python3/split_join.html)."
            ]
        },
        {
            "cell_type": "code",
            "execution_count": 11,
            "metadata": {},
            "outputs": [
                {
                    "name": "stdout",
                    "output_type": "stream",
                    "text": "['No', 'Such', 'Thing', 'As', 'Bad', 'Student,', 'Only', 'Bad', 'Teacher.', 'Teacher', 'Say,', 'Student', 'Do.', '-', 'Mr.', 'Miyagi']\n"
                }
            ],
            "source": [
                "# Make a list of words using the `.split()` method\n",
                "word_list = stripped.split()\n",
                "\n",
                "# print the list of split strings\n",
                "print(word_list)"
            ]
        },
        {
            "cell_type": "code",
            "execution_count": 12,
            "metadata": {},
            "outputs": [
                {
                    "name": "stdout",
                    "output_type": "stream",
                    "text": "['No Such Thing As Bad Student', ' \\t \\t \\n \\t Only Bad Teacher.\\nTeacher Say', ' Student Do.\\n\\n\\n\\n\\n- Mr. Miyagi']\n"
                }
            ],
            "source": [
                "# By default the strings are split by whitespaces and trailing '\\n', '\\t' are cleaned up as well\n",
                "# However, we can specify our own delimiter\n",
                "# Specify the ',' as the delimiter in the .split() method\n",
                "comma_separated = stripped.split(',')\n",
                "\n",
                "# print the new list \n",
                "print(comma_separated)"
            ]
        },
        {
            "cell_type": "code",
            "execution_count": 13,
            "metadata": {},
            "outputs": [
                {
                    "name": "stdout",
                    "output_type": "stream",
                    "text": "No Such Thing As Bad Student Only Bad Teacher Teacher Say Student Do - Mr Miyagi\n"
                }
            ],
            "source": [
                "# Now we are ready to clean up our sentence\n",
                "\n",
                "# define a new empty list called `new_sentence`\n",
                "new_sentence = []\n",
                "# We iterate through the `word_list`\n",
                "for i in word_list:\n",
                "    # Strip each word of delimiters such as ',' and '.'\n",
                "    cleaned_word = i.strip(',.')\n",
                "    # append the cleaned_word to the new_sentence list\n",
                "    new_sentence.append(cleaned_word)\n",
                "    \n",
                "# Use the `str.join()` method to join the elements of the list by white spaces    \n",
                "cleaned_sentence = \" \".join(new_sentence)    \n",
                "print(cleaned_sentence)"
            ]
        },
        {
            "cell_type": "code",
            "execution_count": 14,
            "metadata": {},
            "outputs": [
                {
                    "name": "stdout",
                    "output_type": "stream",
                    "text": "No,Such,Thing,As,Bad,Student,Only,Bad,Teacher,Teacher,Say,Student,Do,-,Mr,Miyagi\n"
                }
            ],
            "source": [
                "# We could also join the sentence by any other delimiter\n",
                "# join the new_sentence by the ',' delimiter\n",
                "comma_sentence = \",\".join(new_sentence)\n",
                "print(comma_sentence)"
            ]
        },
        {
            "cell_type": "code",
            "execution_count": 15,
            "metadata": {},
            "outputs": [
                {
                    "name": "stdout",
                    "output_type": "stream",
                    "text": "Original sentence:\n \n \n \n \t No Such Thing As Bad Student, \t \t \n \t Only Bad Teacher.\nTeacher Say, Student Do.\n\n\n\n\n- Mr. Miyagi \n \n\nNumber of characters above 109\n\nCleaned Sentence:\n No Such Thing As Bad Student Only Bad Teacher Teacher Say Student Do - Mr Miyagi\nNumber of characters above 80\n"
                }
            ],
            "source": [
                "# Lets see how we compare with the original sentence\n",
                "# run the cell below for a comparison\n",
                "print(f'Original sentence:\\n {sample_sentence}')\n",
                "print(f'Number of characters above {len(sample_sentence)}')\n",
                "print(f'\\nCleaned Sentence:\\n {cleaned_sentence}')\n",
                "print(f'Number of characters above {len(cleaned_sentence)}')"
            ]
        },
        {
            "attachments": {},
            "cell_type": "markdown",
            "metadata": {},
            "source": [
                "## `str.lower()` \u0026 `str.upper()`\n",
                "\n",
                "We can even convert all strings to lower case or upper case.\n",
                "This applies to the entire string, i.e.\n",
                "`This iS An annOYYING stRING'.lower()` will result in:\n",
                "`this is an annoyying string`"
            ]
        },
        {
            "cell_type": "code",
            "execution_count": 16,
            "metadata": {},
            "outputs": [
                {
                    "name": "stdout",
                    "output_type": "stream",
                    "text": "no such thing as bad student only bad teacher teacher say student do - mr miyagi\n"
                }
            ],
            "source": [
                "# Use the `cleaned_sentence` and convert to lowercase\n",
                "lower = cleaned_sentence.lower()\n",
                "print(lower)"
            ]
        },
        {
            "cell_type": "code",
            "execution_count": 17,
            "metadata": {},
            "outputs": [
                {
                    "name": "stdout",
                    "output_type": "stream",
                    "text": "NO SUCH THING AS BAD STUDENT ONLY BAD TEACHER TEACHER SAY STUDENT DO - MR MIYAGI\n"
                }
            ],
            "source": [
                "# Use the `cleaned_sentence` and convert to uppercase\n",
                "upper = cleaned_sentence.upper()\n",
                "print(upper)"
            ]
        },
        {
            "attachments": {},
            "cell_type": "markdown",
            "metadata": {},
            "source": [
                "## `str.capitalize()`\n",
                "\n",
                "This method converts the first character of a string to capital and converts everything else to lowercase.\n",
                "\n",
                "`'hi MY nAME iS sHivAS'.capitalize()` will result in:\n",
                "`Hi my name is shivas`"
            ]
        },
        {
            "cell_type": "code",
            "execution_count": 18,
            "metadata": {},
            "outputs": [
                {
                    "name": "stdout",
                    "output_type": "stream",
                    "text": "hi MY nAME iS HEMANI\nHi my name is hemani\n"
                }
            ],
            "source": [
                "# define a new sample string based on the `name` variable defined above`\n",
                "sample_string = f'hi MY nAME iS {name.upper()}'\n",
                "# capitalize the `sample_string` defined above\n",
                "capitalized_string = sample_string.capitalize()\n",
                "print(sample_string)\n",
                "print(capitalized_string)"
            ]
        },
        {
            "attachments": {},
            "cell_type": "markdown",
            "metadata": {},
            "source": [
                "### ⏸ How to capitalize() each word in a string ? \n",
                "\n",
                "How will you convert the string \n",
                "\n",
                "`no such thing as bad student only bad teacher teacher say student do - mr miyagi` \n",
                "\n",
                "to\n",
                "\n",
                "`No Such Thing As Bad Student Only Bad Teacher Teacher Say Student Do - Mr Miyagi`\n",
                "\n",
                "\n",
                "\n",
                "#### A. `\" \".join([i.capitalize() for i in cleaned_sentence.split()])`\n",
                "#### B. `\" \".join([i.capitalize() for i in cleaned_sentence])`\n",
                "#### C. `\" \".join([i for i in cleaned_sentence.split()]).capitalize()`\n",
                "#### D. `\" \".capitalize().join([i for i in cleaned_sentence.split()])`"
            ]
        },
        {
            "cell_type": "code",
            "execution_count": 19,
            "metadata": {},
            "outputs": [],
            "source": [
                "### edTest(test_chow2) ###\n",
                "\n",
                "# Submit an answer choice as a string below (eg. if you choose option C, put 'C')\n",
                "answer2 = 'a'"
            ]
        }
    ]
}
