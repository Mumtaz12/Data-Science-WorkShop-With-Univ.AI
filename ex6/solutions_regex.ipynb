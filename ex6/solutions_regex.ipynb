{
    "metadata": {
        "kernelspec": {
            "name": "python3",
            "display_name": "Python 3 (ipykernel)",
            "language": "python"
        }
    },
    "nbformat": 4,
    "nbformat_minor": 4,
    "cells": [
        {
            "attachments": {},
            "cell_type": "markdown",
            "metadata": {},
            "source": [
                "## Regular Expressions using the `re` module"
            ]
        },
        {
            "cell_type": "code",
            "execution_count": 1,
            "metadata": {},
            "outputs": [],
            "source": [
                "# Import the regular expressions library\n",
                "import re\n",
                "from pprint import pprint"
            ]
        },
        {
            "attachments": {},
            "cell_type": "markdown",
            "metadata": {},
            "source": [
                "## Part 1: Toll free numbers\n",
                "In the first subsection, you will go through a chunk of text which contains the name of companies and their phone numbers. \n",
                "\n",
                "From this, you are required to extract the name of the company and its phone number.\n",
                "\n",
                "e.g. In the string `Our toll free number is 1800 180 1407` we should look to match `1800 180 1407`"
            ]
        },
        {
            "cell_type": "code",
            "execution_count": 2,
            "metadata": {},
            "outputs": [],
            "source": [
                "# First open the 'tollfree.txt' file and read its contents to `phone_nums` variable\n",
                "with open('tollfree.txt') as f:\n",
                "    phone_nums = f.read()"
            ]
        },
        {
            "cell_type": "code",
            "execution_count": 3,
            "metadata": {},
            "outputs": [
                {
                    "name": "stdout",
                    "output_type": "stream",
                    "text": "Toll Free Numbers in India Airlines Indian Airlines 1800 180 1407 Jet Airways 1800 22 5522 Spice Jet\n"
                }
            ],
            "source": [
                "# print a small sub-section of the file to see its contents\n",
                "print(phone_nums[:100])"
            ]
        },
        {
            "cell_type": "code",
            "execution_count": 4,
            "metadata": {},
            "outputs": [
                {
                    "name": "stdout",
                    "output_type": "stream",
                    "text": "['1800 180 1407',\n '1800 180 3333',\n '1800 180 0101',\n '1800 425 1400',\n '1800 425 6664',\n '1800 424 1800',\n '1800 180 8080',\n '1800 180 1104',\n '1800 180 1225',\n '1901 180 9999',\n '1800 180 8000',\n '1800 425 4255']\n"
                }
            ],
            "source": [
                "### edTest(test_nums) ###\n",
                "# Create a regular expression which extracts the toll free phone numbers\n",
                "# of the form XXXX XXX XXXX\n",
                "regex = re.compile(r'\\d{4}\\s\\d{3}\\s\\d{4}')\n",
                "# Use regex.findall() to get an extracted list of phone numbers\n",
                "nums = regex.findall(phone_nums)\n",
                "pprint(nums)"
            ]
        },
        {
            "cell_type": "code",
            "execution_count": 5,
            "metadata": {},
            "outputs": [
                {
                    "name": "stdout",
                    "output_type": "stream",
                    "text": "[(' Indian Airlines ', '1800 180 1407'),\n (' Spice Jet ', '1800 180 3333'),\n (' Kingfisher ', '1800 180 0101'),\n (' Indian Bank ', '1800 425 1400'),\n (' AMD ', '1800 425 6664'),\n (' Data One Broadband ', '1800 424 1800'),\n (' HCL ', '1800 180 8080'),\n (' Seagate ', '1800 180 1104'),\n (' Xerox ', '1800 180 1225'),\n (' LG ', '1901 180 9999'),\n (' Investments ', '1800 180 8000'),\n (' Templeton Fund ', '1800 425 4255')]\n"
                }
            ],
            "source": [
                "# Unfortunately, the above regular expression only gives the phone numbers\n",
                "# We need one that captures the name of the company and the phone numbers together\n",
                "# HINT: Use () to make two groups, one that finds 'company name' and the other 'number'\n",
                "\n",
                "regex = re.compile(r\"(\\b[a-zA-Z\\s']{1,20})(\\d{4}\\s\\d{3}\\s\\d{4})\")\n",
                "name_nums = regex.findall(phone_nums)\n",
                "pprint(name_nums)"
            ]
        },
        {
            "cell_type": "code",
            "execution_count": 6,
            "metadata": {},
            "outputs": [
                {
                    "name": "stdout",
                    "output_type": "stream",
                    "text": "No. Company               Phone number\n1  Indian Airlines     : 1800 180 1407\n2  Spice Jet           : 1800 180 3333\n3  Kingfisher          : 1800 180 0101\n4  Indian Bank         : 1800 425 1400\n5  AMD                 : 1800 425 6664\n6  Data One Broadband  : 1800 424 1800\n7  HCL                 : 1800 180 8080\n8  Seagate             : 1800 180 1104\n9  Xerox               : 1800 180 1225\n10 LG                  : 1901 180 9999\n11 Investments         : 1800 180 8000\n12 Templeton Fund      : 1800 425 4255\n"
                }
            ],
            "source": [
                "# If you have correctly captured the groups, the below code will print the name and number\n",
                "# of the company\n",
                "print('No.'.ljust(4) + 'Company'.ljust(22) + 'Phone number')\n",
                "for sr,(company,number) in enumerate(name_nums,start=1):\n",
                "    print(f'{str(sr).ljust(3)}{company.strip().ljust(20)}: {number}')"
            ]
        },
        {
            "attachments": {},
            "cell_type": "markdown",
            "metadata": {},
            "source": [
                "## Part 2: Email IDs\n",
                "In this subsection, you will dig through a blob of text for email ids."
            ]
        },
        {
            "cell_type": "code",
            "execution_count": 7,
            "metadata": {},
            "outputs": [],
            "source": [
                "# Next open the 'emails.txt' file using the .read() function\n",
                "with open('emails.txt') as f:\n",
                "    email_text = f.read()\n",
                "##print(emails)"
            ]
        },
        {
            "cell_type": "code",
            "execution_count": 8,
            "metadata": {},
            "outputs": [
                {
                    "name": "stdout",
                    "output_type": "stream",
                    "text": "\nINFOHINDIHUB.IN\nSUBSCRIBE\n\nSEARCH\n\nHome Contact Us About Us Download Aadhar Computer\n.\nFree Bulk Email ID List - 1000 Active Email Data For Free 1 To 200\nMarch 03, 2021\nअगर आप Email Marketing करते है या करना चाहते है, तो आपको लोगो को email करने पड़ते है जिससे आप की वेबसाइट की marketing होती है. Email Marketing से हम बौहत अच्छी earning कर सकते है लकिन problem यह है की हमे email id कैसे मिले। free bulk email id list कैसे मिले. Free Email List कहा से Download करे. इस website की सहायता से हम आप को ज़ादा से ज़ादा free email address database देंगे। अगर आप google पर search कर रहे है की email id list kahan se nikale. तो आप को कही और जाने की ज़रूरत नही है. आप इस Email database को कॉपी एंड पेस्ट कर के इस्तिमाल कर सकते है.\n\nBulk Email ID\nAaradhykumar@gmail.com\nAarhantkumar@gmail.com\n\nAarishkumar@gmail.c\n"
                }
            ],
            "source": [
                "# print a small sub-section of the file to see its contents\n",
                "print(email_text[:800])"
            ]
        },
        {
            "cell_type": "code",
            "execution_count": 9,
            "metadata": {},
            "outputs": [],
            "source": [
                "# Create a regular expression which extracts the email ids from the above text blob\n",
                "# of the form xxxx@xxx.xxx\n",
                "regex = re.compile(\"[\\w.]+\\@\\w+\\.\\w+\")\n",
                "# Use regex.findall() to get an extracted list of emails\n",
                "emails = regex.findall(email_text)"
            ]
        },
        {
            "attachments": {},
            "cell_type": "markdown",
            "metadata": {},
            "source": [
                "### ⏸ How many email ids from the `email_text` string are *Yahoo!* accounts ?\n",
                "\n",
                "\n",
                "#### A. 24\n",
                "#### B. 14\n",
                "#### C. 16\n",
                "#### D. 2"
            ]
        },
        {
            "cell_type": "code",
            "execution_count": 10,
            "metadata": {},
            "outputs": [
                {
                    "name": "stdout",
                    "output_type": "stream",
                    "text": "24\n"
                }
            ],
            "source": [
                "# The number of email ids which are yahoo accounts can be calculated by\n",
                "print(len(re.findall('[\\w.]+@yahoo.\\w+',email_text)))"
            ]
        },
        {
            "cell_type": "code",
            "execution_count": 12,
            "metadata": {},
            "outputs": [],
            "source": [
                "### edTest(test_chow2) ###\n",
                "\n",
                "# Submit an answer choice as a string below (eg. if you choose option C, put 'C')\n",
                "answer2 = 'A'"
            ]
        }
    ]
}
