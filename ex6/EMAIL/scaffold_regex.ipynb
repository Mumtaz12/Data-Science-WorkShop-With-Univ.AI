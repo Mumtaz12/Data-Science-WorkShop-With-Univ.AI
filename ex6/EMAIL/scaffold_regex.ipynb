{
    "metadata": {
        "kernelspec": {
            "name": "python3",
            "display_name": "Python 3 (ipykernel)",
            "language": "python"
        }
    },
    "nbformat": 4,
    "nbformat_minor": 4,
    "cells": [
        {
            "attachments": {},
            "cell_type": "markdown",
            "metadata": {},
            "source": [
                "## Regular Expressions using the `re` module"
            ]
        },
        {
            "attachments": {},
            "cell_type": "markdown",
            "metadata": {},
            "source": [
                "### ⏸ Finding multiple matches\n",
                "which of the following gives the output `['+91 7775998489,'+91 9223234422']`\n",
                "\n",
                "For the string `mystr = 'My number is +91 7775998489 but your number is +91 9223234422'`\n",
                "\n",
                "#### A. `re.findall(r'\\+91\\s\\d{10}',mystr)`\n",
                "#### B. `re.search(r'\\+91\\s\\d{10}',mystr)`\n",
                "#### C. `re.findall(r'+91\\s\\d{10}',mystr)`\n",
                "#### D. `re.searchall(r'\\+91\\s\\d{10}',mystr)`"
            ]
        },
        {
            "cell_type": "code",
            "execution_count": 1,
            "metadata": {},
            "outputs": [],
            "source": [
                "### edTest(test_chow1) ###\n",
                "\n",
                "# Submit an answer choice as a string below (eg. if you choose option C, put 'C')\n",
                "answer1 = 'A'"
            ]
        },
        {
            "cell_type": "code",
            "execution_count": 2,
            "metadata": {},
            "outputs": [],
            "source": [
                "# Import the regular expressions library\n",
                "import re"
            ]
        },
        {
            "attachments": {},
            "cell_type": "markdown",
            "metadata": {},
            "source": [
                "## Part 1: Toll free numbers\n",
                "In the first subsection, you will go through a chunk of text which contains the name of companies and their phone numbers. \n",
                "\n",
                "From this, you are required to extract the name of the company and its phone number.\n",
                "\n",
                "e.g. In the string `Indian Airlines 1800 180 1407` we should look to match `1800 180 1407`"
            ]
        },
        {
            "cell_type": "code",
            "execution_count": 3,
            "metadata": {},
            "outputs": [],
            "source": [
                "# First open the 'tollfree.txt' file and read its contents to `phone_nums` variable\n",
                "with open('tollfree.txt') as f:\n",
                "    phone_nums = f.read()"
            ]
        },
        {
            "cell_type": "code",
            "execution_count": 4,
            "metadata": {},
            "outputs": [
                {
                    "name": "stdout",
                    "output_type": "stream",
                    "text": "Toll Free Numbers in India Airlines Indian Airlines 1800 180 1407 Jet Airways 1800 22 5522 Spice Jet\n"
                }
            ],
            "source": [
                "# print a small sub-section of the file to see its contents\n",
                "print(phone_nums[:100])"
            ]
        },
        {
            "cell_type": "code",
            "execution_count": 5,
            "metadata": {},
            "outputs": [
                {
                    "name": "stdout",
                    "output_type": "stream",
                    "text": "['1800 180 1407', '1800 180 3333', '1800 180 0101', '1800 425 1400', '1800 425 6664', '1800 424 1800', '1800 180 8080', '1800 180 1104', '1800 180 1225', '1901 180 9999', '1800 180 8000', '1800 425 4255']\n"
                }
            ],
            "source": [
                "### edTest(test_nums) ###\n",
                "# Create a regular expression which extracts the toll free phone numbers\n",
                "# of the form XXXX XXX XXXX\n",
                "pattern = re.findall(r'[0-9]{4}[ ][0-9]{3}[ ][0-9]{4}',phone_nums)\n",
                "# Use re.findall() to get an extracted list of phone numbers\n",
                "nums = pattern\n",
                "print(nums)"
            ]
        },
        {
            "attachments": {},
            "cell_type": "markdown",
            "metadata": {},
            "source": [
                "## Part 2: Email IDs\n",
                "In this subsection, you will dig through a blob of text for email ids."
            ]
        },
        {
            "cell_type": "code",
            "execution_count": 6,
            "metadata": {},
            "outputs": [],
            "source": [
                "# Next open the 'emails.txt' file using the .read() function\n",
                "with open('emails.txt') as f:\n",
                "    email_text =f.read()"
            ]
        },
        {
            "cell_type": "code",
            "execution_count": 7,
            "metadata": {},
            "outputs": [
                {
                    "name": "stdout",
                    "output_type": "stream",
                    "text": "\nINFOHINDIHUB.IN\nSUBSCRIBE\n\nSEARCH\n\nHome Contact Us About Us Download Aadhar Computer\n.\nFree Bulk Email ID List - 1000 Active Email Data For Free 1 To 200\nMarch 03, 2021\nअगर आप Email Marketing करते है या करना चाहते है, तो आपको लोगो को email करने पड़ते है जिससे आप की वेबसाइट की marketing होती है. Email Marketing से हम बौहत अच्छी earning कर सकते है लकिन problem यह है की हमे email id कैसे मिले। free bulk email id list कैसे मिले. Free Email List कहा से Download करे. इस website की सहायता से हम आप को ज़ादा से ज़ादा free email address database देंगे। अगर आप google पर search कर रहे है की email id list kahan se nikale. तो आप को कही और जाने की ज़रूरत नही है. आप इस Email database को कॉपी एंड पेस्ट कर के इस्तिमाल कर सकते है.\n\nBulk Email ID\nAaradhykumar@gmail.com\nAarhantkumar@gmail.com\n\nAarishkumar@gmail.c\n"
                }
            ],
            "source": [
                "# print a small sub-section of the file to see its contents\n",
                "print(email_text[:800])"
            ]
        },
        {
            "cell_type": "code",
            "execution_count": 18,
            "metadata": {},
            "outputs": [
                {
                    "name": "stdout",
                    "output_type": "stream",
                    "text": "['Aaradhykumar@gmail.com', 'Aarhantkumar@gmail.com', 'Aarishkumar@gmail.com', 'Aaritkumar@gmail.com', 'Aarivkumar@gmail.com', 'Aarjavkumar@gmail.com', 'Aarmankumar@gmail.com', 'Aarnavkumar@gmail.com', 'Aarnikkumar@gmail.com', 'Aarogyakumar@gmail.com', 'Aarpankumar@gmail.com', 'Aarshinkumar@gmail.com', 'Aarshkumar@gmail.com', 'Aarthkumar@gmail.com', 'Aarulkumar@gmail.com', 'Aarunyakumar@gmail.com', 'Aarushkumar@gmail.com', 'Aarvkumar@gmail.com', 'Aaryamankumar@gmail.com', 'Aaryashkumar@gmail.com', 'Aaryavkumar@gmail.com', 'Aaryeshkumar@gmail.com', 'Aarzookumar@gmail.com', '1424@gmail.com', 'abhijeetsingh089@gmail.com', 'pal02@gmail.com', 'adityac705@gmail.com', 'adityanaagar123@gmail.com', 'ajaypalsngh81@gmail.com', 'br09@gmail.com', 'akashfrancis910@gmail.com', 'akashsharma3851@gmail.com', 'contact@gmail.com', 'akumarkalra4@gmail.com', 'aniketparoha1@gmail.com', 'ankitsingh33@gmail.com', 'anshu9playboy@gmail.com', 'anujchoubey4@gmail.com', 'anushadassan@gmail.com', 'mca@gmail.com', 'singh2205@gmail.com', 'cs@gmail.com', 'mca@gmail.com', 'sharma07@gmail.com', 'singh83@gmail.com', 'arvind_ajm@yahoo.com', 'arvind2you@gmail.com', 'arvindmail2me@gmail.com', 'arvindsinghfat@gmail.com', 'arvindyadav998@gmail.com', 'anit3@gmail.com', 'arya@skillpointindia.com', 'arzooromer@gmail.com', 'aseemraj86@gmail.com', 'asengar@live.com', 'atrey@webdhoom.com', 'atrnica@yahoo.com', 'attarsalauddin@gmail.com', 'atticus6699@hotmail.com', 'attitude420@yahoo.com', 'ashu@yahoo.com', 'jain786@gmail.com', 'km111@gmail.com', 'kmr3@gmail.com', 'srtv@gmail.com', 'atul_verma948@yahoo.com', 'atul242163@gmail.com', 'atul4782@yahoo.com', 'atul99900@gmail.com', '66@gmail.com', 'atulbdh@gmail.com', 'atuljais75@gmail.com', 'atulsinghg@gmail.com', 'atulthedesigner@gmail.com', 'atulverma77@rediffmail.com', 'avbaragi@gmail.com', 'avdheshk08@gmail.com', 'babushantiraj@gmail.com', 'pathak@gmail.com', 'gs012@gmail.com', 'nitin84@gmail.com', 'bhatia_pradeep@rediffmail.com', 'bhattrahul86@gmail.com', 'haridass@gmail.com', 'k18@gmail.com', 'sharma2305@gmail.com', 'bhavna2187@gmail.com', 'niraj202@gmail.com', 'pu@gmail.com', 's@netconnectglobal.com', '3@gmail.com', 'bhbuddy@gmail.com', 'bhishamlohia@gmail.com', 'bhubaneswarhotgirl@gmail.com', 'asmc@gmail.com', 'bikusharma1990@gmail.com', 'navdeep90@gmail.com', 'bskrishna17@gmail.com', '4@gmail.com', 'chhikarachirag2@gmail.com', 'cinkupatel@gmail.com', 'ckrishnadas29@gmail.com', 'cvp159@gmail.com', 'darasinghyogi@gmail.com', 'deepaknegi438@gmail.com', 'deepaksirohi1990@gmail.com', 'dharmendershrm09@gmail.com', 'dineshsundlia@gmail.com', 'diptiranjan076@gmail.com', 'cafe2011@gmail.com', 'drangababu@gmail.com', 'edp@yudirect.com', 'gandharvdod402@gmail.com', 'gargyogesh93@gmail.com', 'rathore@gmail.com', 'gulzarmunshi@yahoo.com', 'guna@lrtltd.com', 'gunalan000@gmail.com', 'saurabh@7nworld.com', 'gupta85@gmail.com', 'gunjanit@gmail.com', 'harimohanfzd67@gmail.com', 'doraibi@almarai.com', 'iipm@gmail.com', 'mca@gmail.com', 'heart_maitree@yahoo.com', 'hedrept@indman.com', 'nischal@motherprideonline.com', 'heenumahajan@gmail.com', 'heer12001@gmail.com', 'heereshgirdhar@gmail.com', 'hello_sharik@yahoo.com', 'hemakeerthiwd@gmail.com', 'hhemant40@gmail.com', 'hhemant40@yahoo.com', '3131@gmail.com', 'himansu1234himanshu@gmail.com', 'indiayadavkrishna@gmail.com', 'jeetkamal2050@gmail.com', 'jithinp25@gmail.com', 'jogendra5336@gmail.com', 'jsrcyberpoint@gmail.com', 'kaizeninfo2@gmail.com', 'karanvarshney89@gmail.com', 'upreti@gmail.com', 'kartikkumar781@gmail.com', 'ketanjoshi2910@gmail.com', 'rahaman@gmail.com', 'kplsingh15@gmail.com', 'krashpi@gmail.com', 'kumar1niket@gmail.com', 'kumar4612@gmail.com', 'kumarmrinal27@gmail.com', 'kumars0115@gmail.com', 'kumarsantosh771@gmail.com', 'kumar69@gmail.com', 'laxmankumar614@gmail.com', 'ling22313@yahoo.com', 'lotuseyecomputer@gmail.com', '12@gmail.com', 'majorarvind@gmail.com', 'co@gmail.com', 'khusrupur@gmail.com', 'raval@gmail.com', 'mannboracareer@gmail.com', 'manshsndrl19@gmail.com', 'manswak4@gmail.com', 'markedge2001@yahoo.com', 'k@gmail.com', 'mathewivan515@gmail.com', 'meetshrotriya@gmail.com', 'rajesh4@gmail.com', 'mohitthapa007@gmail.com', 'mukherjeetanoy@gmail.com', 'gujjjar@gmail.com', 'naveenparihar19@gmail.com', 'neerosenagar@gmail.com', 'niteshsingh165@gmail.com', 'omkarsingh73@gmail.com', 'panditabhishek294@gmail.com', 'pandey70@gmail.com', 'pathania50@gmail.com', 'pavantiwari111@gmail.com', 'pjdaj420786@gmail.com', 'pradipwaghmale@gmail.com', 'prakashnagar494@gmail.com', 'prakharps@gmail.com', 'pram2020ster@gmail.com', 'reddy008@gmail.com', 'prasadchinnaa@gmail.com', 'k@hcl.com', 'praveensharma1991@gmail.com', 'singh20@gmail.com', 'premchopra0505@gmail.com', 'publicdial@gmail.com', 'pushpendrasngh09@gmail.com', 'cool@gmail.com', 'rahulkumar3339@gmail.com', 'rahulmishra5790@gmail.com', 'mathur34@gmail.com', 'rajeshkumaar786@gmail.com', 'rakeshkumarolkha777@gmail.com', 'ramakantsingh29@gmail.com', 'rameshwarverma84@gmail.com', 'pathi@gmail.com', 'rashmisharma141@gmail.com', 'chandrashekhar89@gmail.com', 'coolrajput@gmail.com', 'gunjan@gmail.com', 'rhldxm@gmail.com', 'rinkukath0@gmail.com', 'rohitneema065@gmail.com', 'rshthakur80@gmail.com', 'safeercp073@gmail.com', 'sahilsharmanubgex@gmail.com', 'saikumar6448@gmail.com', 'sourabh2013@gmail.com', 'santos_giannis@yahoo.com', 'sbijan12@gmail.com', 'shashikantr99@gmail.com', 'shyamrajkr@gmail.com', 'sujeetsir2@gmail.com', 'sumeet1515@gmail.com', 'sundevs@gmail.com', 'sunyruc718@gmail.com', 'm@heliosmatheson.com', 'sushantbodgire@gmail.com', 'sweetsaddam123@gmail.com', 'tanmaysharma07@gmail.com', 'tanusingh85@gmail.com', 'tapenderkamboj@gmail.com', 'thekurueffect@gmail.com', 'tracegunjan@gmail.com', 'tridenttec@aol.com', 'uddhavsinghsulane24@gmail.com', 'upendray00@gmail.com', 'varahalababu66@gmail.com', 'yash@yahoo.com', 'vijaysingh361@gmail.com', 'vijuthakur02@gmail.com', 'vinitpanday@gmail.com', 'vineetkumar039@gmail.com', 'vipinrajput919@gmail.com', 'vijayagarwal@gmail.com', 'vipinthejat@gmail.com', 'khot91@gmail.com', 'vrhvrhari9@gmail.com', 'yogesh4133@gmail.com', '1prabhanshu@gmail.com', 'abhinani24@gmail.com', 'abhishekti478@gmail.com', 'ranjan09@gmail.com', 'adityabose7@gmail.com', 'akhileshbhambhani@gmail.com', 'akrajawat20@gmail.com', 'aksandhu90@gmail.com', 'akshayshahu000@gmail.com', 'aloky836@gmail.com', 'am27491@gmail.com', 'amarjun7@gmail.com', 'amarpritsingh1989@gmail.com', 'harbola11@gmail.com', 'anandrungta27@gmail.com', 'anandsingh3k@gmail.com', 'aneeshbanyal2011@gmail.com', 'anilsasmal15@gmail.com', 'anoop971@gmail.com', 'anuj8315@gmail.com', 'arkindia4@gmail.com', 'arunthakur0g19@gmail.com', 'ashishvedula@gmail.com', 'btech406@gmail.com', 'rock25@gmail.com', 'priya@gmail.com', 'atripathi27@gmail.com', 'atulkarki1991@gmail.com', 'bishnuroy72@gmail.com', 'bpnkesharwani@gmail.com', 'chimanchandra23@gmail.com', 'kalsi1989@gmail.com', 'dameet6@gmail.com', 'projectsofqatar@gmail.com']\n"
                }
            ],
            "source": [
                "### edTest(test_email) ###\n",
                "# Create a regular expression which extracts the email ids from the above text blob\n",
                "# of the form xxxx@xxx.xxx\n",
                "pattern = re.compile(r'\\w+\\@\\w+\\.[a-z]{3}')\n",
                "# Use re.findall() to get an extracted list of emails\n",
                "emails = re.findall(pattern,email_text)\n",
                "print(emails)"
            ]
        },
        {
            "attachments": {},
            "cell_type": "markdown",
            "metadata": {},
            "source": [
                "### ⏸ How many email ids from the `email_text` string are *Yahoo!* accounts ?\n",
                "\n",
                "\n",
                "#### A. 24\n",
                "#### B. 14\n",
                "#### C. 16\n",
                "#### D. 2"
            ]
        },
        {
            "cell_type": "code",
            "execution_count": 9,
            "metadata": {},
            "outputs": [],
            "source": [
                "### edTest(test_chow2) ###\n",
                "\n",
                "# Submit an answer choice as a string below (eg. if you choose option C, put 'C')\n",
                "answer2 = 'A'"
            ]
        }
    ]
}
