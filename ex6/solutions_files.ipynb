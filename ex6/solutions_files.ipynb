{
    "metadata": {
        "kernelspec": {
            "name": "python3",
            "display_name": "Python 3 (ipykernel)",
            "language": "python"
        }
    },
    "nbformat": 4,
    "nbformat_minor": 4,
    "cells": [
        {
            "cell_type": "code",
            "execution_count": 36,
            "metadata": {},
            "outputs": [],
            "source": [
                "# import the collections, re, and pickle library\n",
                "import pickle\n",
                "import collections\n",
                "import re"
            ]
        },
        {
            "cell_type": "code",
            "execution_count": 71,
            "metadata": {},
            "outputs": [],
            "source": [
                "#Read the 'inception.txt' file and read the file contents to `text`\n",
                "# make sure to convert the contents to LOWERCASE using the .lower() string method\n",
                "file_name = \"inception.txt\"\n",
                "\n",
                "with open(file_name) as f:\n",
                "    text = f.read().lower()"
            ]
        },
        {
            "attachments": {},
            "cell_type": "markdown",
            "metadata": {},
            "source": [
                "### ⏸ Which regular expression can catch all the words (and only words) in a string of only lowercase words? (eg. \"this is a sentence with words and 123\")\n",
                "\n",
                "\n",
                "#### A. `\\w+`\n",
                "#### B. `[a-z]+`\n",
                "#### C. `[a-z]*`\n",
                "#### D. `All of the above`"
            ]
        },
        {
            "cell_type": "code",
            "execution_count": 85,
            "metadata": {},
            "outputs": [],
            "source": [
                "### edTest(test_chow1) ###\n",
                "\n",
                "# Submit an answer choice as a string below (eg. if you choose option C, put 'C')\n",
                "answer1 = 'B'"
            ]
        },
        {
            "cell_type": "code",
            "execution_count": 86,
            "metadata": {},
            "outputs": [],
            "source": [
                "# Find a list of words from the `text` string\n",
                "word_list = re.findall(r'[a-z]+',text)"
            ]
        },
        {
            "cell_type": "code",
            "execution_count": 88,
            "metadata": {},
            "outputs": [
                {
                    "name": "stdout",
                    "output_type": "stream",
                    "text": "['i', 'me', 'my', 'myself', 'we', 'our', 'ours', 'ourselves', 'you', \"you're\"]\n"
                }
            ],
            "source": [
                "# stopwords are words of a language that frequently occur in a sentence\n",
                "# e.g 'the', 'and'\n",
                "# Below we provide you a list of stop_words in the English language\n",
                "stop_words = pickle.load(open('stopwords.pkl','rb'))\n",
                "print(stop_words[:10])"
            ]
        },
        {
            "cell_type": "code",
            "execution_count": 89,
            "metadata": {},
            "outputs": [],
            "source": [
                "### edTest(test_prune) ###\n",
                "# For our analysis, we need to remove all the stop words from the list of words\n",
                "pruned_list = [i for i in word_list if i not in stop_words ]"
            ]
        },
        {
            "cell_type": "code",
            "execution_count": 92,
            "metadata": {},
            "outputs": [],
            "source": [
                "### edTest(test_count) ###\n",
                "#Create a defaultdict() called 'wordcount' and count the occurrences of unique words in pruned_list\n",
                "\n",
                "wordcount = collections.defaultdict(int)\n",
                "\n",
                "# Run through all the words in pruned_list and update the count of unique words\n",
                "for word in pruned_list:\n",
                "    wordcount[word] += 1"
            ]
        },
        {
            "cell_type": "code",
            "execution_count": 109,
            "metadata": {},
            "outputs": [
                {
                    "name": "stdout",
                    "output_type": "stream",
                    "text": "[('cobb', 1033), ('arthur', 349), ('ariadne', 333), ('fischer', 268), ('saito', 248), ('int', 225), ('eames', 220), ('mal', 199), ('looks', 167), ('continuous', 123), ('yusuf', 117), ('cut', 115), ('back', 114), ('day', 103), ('know', 81), ('man', 78), ('ext', 78), ('browning', 77), ('turns', 75), ('room', 74)]\n"
                }
            ],
            "source": [
                "#Use the sorted() function on the items of `wordcount` to sort from highest count to lowest\n",
                "# and select the top 20 most frequently occuring words\n",
                "\n",
                "wordfrequency = sorted(wordcount.items(), key = lambda x: -x[1])[:20]\n",
                "\n",
                "# print the top most frequently occuring words\n",
                "print(wordfrequency)"
            ]
        },
        {
            "cell_type": "code",
            "execution_count": 110,
            "metadata": {},
            "outputs": [],
            "source": [
                "# Each element of 'wordfrequency' is a tuple of the 'word' and its 'frequency'\n",
                "# Seperate the two in two separate lists \n",
                "words = [i[0] for i in wordfrequency]\n",
                "frequency = [i[1] for i in wordfrequency]"
            ]
        },
        {
            "cell_type": "code",
            "execution_count": 111,
            "metadata": {},
            "outputs": [
                {
                    "name": "stdout",
                    "output_type": "stream",
                    "text": "Top words :Frequency\ncobb      :**************************************************1033\narthur    :**************** 349\nariadne   :**************** 333\nfischer   :************ 268\nsaito     :************ 248\nint       :********** 225\neames     :********** 220\nmal       :********* 199\nlooks     :******** 167\ncontinuous:***** 123\nyusuf     :***** 117\ncut       :***** 115\nback      :***** 114\nday       :**** 103\nknow      :***  81\nman       :***  78\next       :***  78\nbrowning  :***  77\nturns     :***  75\nroom      :***  74\n"
                }
            ],
            "source": [
                "# Run the cell below to get a retro 'histogram' for top 10 words and their frequency\n",
                "print(f'{\"Top words\".ljust(10)}:Frequency')\n",
                "for i in range(20):\n",
                "    ratio = frequency[i]/frequency[0]\n",
                "    print(f'{words[i].ljust(10)}:{int(50*ratio)*\"*\"}{str(frequency[i]).rjust(4)}')"
            ]
        },
        {
            "attachments": {},
            "cell_type": "markdown",
            "metadata": {},
            "source": [
                "### ⏸ `collections.Counter()`\n",
                "\n",
                "Instead of using `collections.defaultdict()`, can you use `collections.Counter()` and find the top 20 most frequently occuring words in one line? \n",
                ""
            ]
        },
        {
            "cell_type": "code",
            "execution_count": 123,
            "metadata": {},
            "outputs": [
                {
                    "name": "stdout",
                    "output_type": "stream",
                    "text": "[('cobb', 1033), ('arthur', 349), ('ariadne', 333), ('fischer', 268), ('saito', 248), ('int', 225), ('eames', 220), ('mal', 199), ('looks', 167), ('continuous', 123), ('yusuf', 117), ('cut', 115), ('back', 114), ('day', 103), ('know', 81), ('man', 78), ('ext', 78), ('browning', 77), ('turns', 75), ('room', 74)]\n"
                }
            ],
            "source": [
                "### edTest(test_counter) ###\n",
                "counter = collections.Counter(pruned_list).most_common(20)\n",
                "print(counter)"
            ]
        }
    ]
}
