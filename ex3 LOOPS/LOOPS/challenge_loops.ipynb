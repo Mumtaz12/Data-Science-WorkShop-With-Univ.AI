{
    "metadata": {
        "kernelspec": {
            "name": "python3",
            "display_name": "Python 3 (ipykernel)",
            "language": "python"
        }
    },
    "nbformat": 4,
    "nbformat_minor": 4,
    "cells": [
        {
            "attachments": {},
            "cell_type": "markdown",
            "metadata": {},
            "source": [
                "## Manipulating lists using python loops.\n",
                "\u003e Indexing is very useful to manipulate lists, however, certain selections of a list need us to iterate over the each element of a list before making a selection."
            ]
        },
        {
            "cell_type": "code",
            "execution_count": 52,
            "metadata": {},
            "outputs": [],
            "source": [
                "from helper import test_list"
            ]
        },
        {
            "cell_type": "code",
            "execution_count": 53,
            "metadata": {},
            "outputs": [
                {
                    "data": {
                        "text/plain": "[1309, 1779, 572, 886, 1760, 1224, 813, 1565, 751, 1378]"
                    },
                    "execution_count": 53,
                    "metadata": {},
                    "output_type": "execute_result"
                }
            ],
            "source": [
                "# print the first 10 elements of the `test_list`\n",
                "test_list[:10]"
            ]
        },
        {
            "cell_type": "code",
            "execution_count": 54,
            "metadata": {},
            "outputs": [
                {
                    "name": "stdout",
                    "output_type": "stream",
                    "text": "[0, 2, 5, 7, 11, 15, 16, 17, 18, 19]\n"
                }
            ],
            "source": [
                "#Check the contents of `test_list` after sorting it\n",
                "sorted_list =sorted(test_list)\n",
                "# Print the first ten elements of sorted_list\n",
                "print(sorted_list[:10])\n",
                "# You will notice that unlike the previous exercise, the `test_list` here skips many even and odd numbers\n",
                "# i.e sorted_list maybe [0,3,6,10,17,...]"
            ]
        },
        {
            "attachments": {},
            "cell_type": "markdown",
            "metadata": {},
            "source": [
                "### ⏸ Which list method can you use to add a single element to the list ? \n",
                "\n",
                "#### A. `append()`\n",
                "#### B. `extend()`\n",
                "#### C. `add()`\n",
                "#### D. `pop()`\n",
                ""
            ]
        },
        {
            "cell_type": "code",
            "execution_count": 55,
            "metadata": {},
            "outputs": [],
            "source": [
                "### edTest(test_chow1) ###\n",
                "# Submit an answer choice as a string below (eg. if you choose option A put 'A')\n",
                "answer1 = 'A'"
            ]
        },
        {
            "cell_type": "code",
            "execution_count": 56,
            "metadata": {},
            "outputs": [
                {
                    "name": "stdout",
                    "output_type": "stream",
                    "text": "[0, 2, 16, 18, 20, 26, 30, 34, 36, 38]\n"
                }
            ],
            "source": [
                "# This time, use a loop to find all even numbers and append them to 'even_list'\n",
                "even_list = []\n",
                "a=sorted_list\n",
                "for j in a:\n",
                "    if j%2==0:\n",
                "        even_list.append(j)\n",
                "        \n",
                "# Check if the list consists of only even integers        \n",
                "print(even_list[:10])        "
            ]
        },
        {
            "cell_type": "code",
            "execution_count": 57,
            "metadata": {},
            "outputs": [
                {
                    "name": "stdout",
                    "output_type": "stream",
                    "text": "[5, 7, 11, 15, 17, 19, 25, 33, 37, 43]\n"
                }
            ],
            "source": [
                "# Again use a loop to find all odd numbers and append them to 'odd_list'\n",
                "odd_list = []\n",
                "a=sorted_list\n",
                "for num in a:\n",
                "      if num%2==1:\n",
                "\n",
                "           odd_list.append(num)\n",
                "    \n",
                "# Check if the list consists of only odd integers            \n",
                "print(odd_list[:10])        "
            ]
        },
        {
            "cell_type": "code",
            "execution_count": 58,
            "metadata": {},
            "outputs": [
                {
                    "name": "stdout",
                    "output_type": "stream",
                    "text": "[2, 5, 7, 11, 17, 19, 37, 43, 53, 61]\n"
                }
            ],
            "source": [
                "### edTest(test_1) ###\n",
                "# Use a loop to find all the prime numbers and append them to `primes_list`\n",
                "# For the given list, get a list of prime numbers using a for loop\n",
                "n=sorted_list\n",
                "primes_list = []\n",
                "for i in n:\n",
                "    c=0\n",
                "    for j in range(1,i):\n",
                "            if(i%j)==0:\n",
                "                c+=1\n",
                "    if c==1:\n",
                "        primes_list.append(i)\n",
                "# Check if the list consists of only prime numbers\n",
                "print(primes_list[:10])        "
            ]
        },
        {
            "attachments": {},
            "cell_type": "markdown",
            "metadata": {},
            "source": [
                "### 🍲 For the code below, when will the code print `Nice choice!` ?\n",
                "\n",
                "```python\n",
                "while True:\n",
                "    name = input('Who is your favorite professor?')\n",
                "    if name == 'Pavlos':\n",
                "        break\n",
                "print(\"Nice choice!\")\n",
                "```\n",
                "\n",
                "#### A. user inputs `pavlos`\n",
                "#### B. user uses `command/ctrl + C` to break out of the loop\n",
                "#### C. user inputs `Pavlos`\n",
                "#### D. All of the above\n",
                ""
            ]
        },
        {
            "attachments": {},
            "cell_type": "markdown",
            "metadata": {},
            "source": [
                ""
            ]
        },
        {
            "cell_type": "code",
            "execution_count": 59,
            "metadata": {},
            "outputs": [],
            "source": [
                "### edTest(test_chow2) ###\n",
                "# Submit an answer choice as a string below (eg. if you choose option A put 'A')\n",
                "answer2 = 'C'"
            ]
        }
    ]
}
