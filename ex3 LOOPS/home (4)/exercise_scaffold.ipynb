{
    "metadata": {
        "kernelspec": {
            "name": "python3",
            "display_name": "Python 3 (ipykernel)",
            "language": "python"
        }
    },
    "nbformat": 4,
    "nbformat_minor": 5,
    "cells": [
        {
            "cell_type": "code",
            "execution_count": 1,
            "metadata": {},
            "outputs": [],
            "source": [
                "from helper import students_list, scores_list\n",
                "from pprint import pprint"
            ]
        },
        {
            "attachments": {},
            "cell_type": "markdown",
            "metadata": {},
            "source": [
                "# Who topped the AI 0 entrance test 🤔 ?\n",
                "\n",
                "## Part 1: Create a dictionary\n",
                "\n",
                "You are given two lists, `students_list` and `scores_list` which contain information of the names and corresponding scores of students who participated in the course scholarship test.\n",
                "\n",
                "In the first part of this exercise, you will make a python dictionary called `students_dict` with the names as key and the scores as the value."
            ]
        },
        {
            "cell_type": "code",
            "execution_count": 5,
            "metadata": {},
            "outputs": [
                {
                    "name": "stdout",
                    "output_type": "stream",
                    "text": "['Subrata', 'Tvisha', 'Praveen', 'Dhaval', 'Komal', 'Manmeet', 'Yash', 'Abhijeet', 'Gurbir', 'Jignesh', 'Aarav', 'Mukund', 'Dharamjeet', 'Debolina', 'Gaganjyot', 'Dharamjyot', 'Akanksha', 'Bibhuti', 'Dalvinder', 'Havya', 'Harjyot', 'Manjeet', 'Haanish', 'Ankolika', 'Indroneel', 'Rahul', 'Vaibhav', 'Gaganvinder', 'Dulmeet', 'Pakhi', 'Manbir', 'Ahem', 'Indrani', 'Debjani', 'Sukhbir', 'Ishika', 'Yuvan', 'Dulpreet', 'Karambir', 'Yaksh', 'Pranauthi', 'Praful', 'Arnab', 'Hinal', 'Jaimini', 'Vinay', 'Bidisha', 'Raashi', 'Gargi', 'Gairik', 'Parampreet', 'Navpreet', 'Shirshendu', 'Daiwik', 'Shoma', 'Devang', 'Karanjeet', 'Harjeet', 'Ronak', 'Vaishnavi', 'Vanshi', 'Ganesh', 'Drishti', 'Parmeet', 'Gaganjeet', 'Ujjwal', 'Gaurav', 'Bipin', 'Chaitali', 'Debesh', 'Parbir', 'Paritosh', 'Piyali', 'Herik', 'Harbir', 'Jasjeet', 'Joyeeta', 'Tejas', 'Tapan', 'Puruvi', 'Jigar', 'Shubhang', 'Paramjeet', 'Nishi', 'Tanishka', 'Kanchan', 'Vritika', 'Pratul', 'Nutan', 'Sourav', 'Sagarika', 'Veerja', 'Dharmesh', 'Ninad', 'Suyash', 'Akshata', 'Gaganpreet', 'Manjyot', 'Arundhati', 'Munjal']\n"
                }
            ],
            "source": [
                "# take a quick look at the students_list\n",
                "print(students_list)"
            ]
        },
        {
            "cell_type": "code",
            "execution_count": 6,
            "metadata": {},
            "outputs": [
                {
                    "name": "stdout",
                    "output_type": "stream",
                    "text": "[76, 70, 74, 58, 69, 83, 56, 70, 93, 77, 80, 34, 74, 95, 60, 79, 73, 63, 41, 33, 40, 75, 84, 98, 81, 90, 82, 64, 87, 48, 88, 82, 57, 98, 39, 80, 72, 75, 37, 32, 41, 61, 59, 38, 45, 83, 56, 45, 62, 96, 70, 89, 36, 84, 39, 59, 67, 45, 73, 62, 60, 43, 73, 31, 92, 88, 76, 56, 79, 37, 40, 99, 94, 72, 57, 51, 65, 80, 36, 45, 94, 79, 38, 68, 36, 78, 54, 87, 89, 41, 80, 36, 87, 46, 43, 53, 90, 71, 67, 79]\n"
                }
            ],
            "source": [
                "# take a quick look at the scores_list\n",
                "print(scores_list)"
            ]
        },
        {
            "cell_type": "code",
            "execution_count": 8,
            "metadata": {},
            "outputs": [],
            "source": [
                "### edTest(test_1) ###\n",
                "# initialize an empty dictionary\n",
                "students_dict = {}\n",
                "\n",
                "# Assign marks corresponding to the students\n",
                "for i in students_list:\n",
                "    for j in scores_list:\n",
                "        students_dict[i]=j\n",
                "        scores_list.remove(j)\n",
                "        break\n",
                "    # for each i, assign the name from students_list \n",
                "    # to the corresponding value in the scores_list\n",
                "    "
            ]
        },
        {
            "cell_type": "code",
            "execution_count": 9,
            "metadata": {},
            "outputs": [
                {
                    "name": "stdout",
                    "output_type": "stream",
                    "text": "{'Subrata': 76, 'Tvisha': 70, 'Praveen': 74, 'Dhaval': 58, 'Komal': 69, 'Manmeet': 83, 'Yash': 56, 'Abhijeet': 70, 'Gurbir': 93, 'Jignesh': 77, 'Aarav': 80, 'Mukund': 34, 'Dharamjeet': 74, 'Debolina': 95, 'Gaganjyot': 60, 'Dharamjyot': 79, 'Akanksha': 73, 'Bibhuti': 63, 'Dalvinder': 41, 'Havya': 33, 'Harjyot': 40, 'Manjeet': 75, 'Haanish': 84, 'Ankolika': 98, 'Indroneel': 81, 'Rahul': 90, 'Vaibhav': 82, 'Gaganvinder': 64, 'Dulmeet': 87, 'Pakhi': 48, 'Manbir': 88, 'Ahem': 82, 'Indrani': 57, 'Debjani': 98, 'Sukhbir': 39, 'Ishika': 80, 'Yuvan': 72, 'Dulpreet': 75, 'Karambir': 37, 'Yaksh': 32, 'Pranauthi': 41, 'Praful': 61, 'Arnab': 59, 'Hinal': 38, 'Jaimini': 45, 'Vinay': 83, 'Bidisha': 56, 'Raashi': 45, 'Gargi': 62, 'Gairik': 96, 'Parampreet': 70, 'Navpreet': 89, 'Shirshendu': 36, 'Daiwik': 84, 'Shoma': 39, 'Devang': 59, 'Karanjeet': 67, 'Harjeet': 45, 'Ronak': 73, 'Vaishnavi': 62, 'Vanshi': 60, 'Ganesh': 43, 'Drishti': 73, 'Parmeet': 31, 'Gaganjeet': 92, 'Ujjwal': 88, 'Gaurav': 76, 'Bipin': 56, 'Chaitali': 79, 'Debesh': 37, 'Parbir': 40, 'Paritosh': 99, 'Piyali': 94, 'Herik': 72, 'Harbir': 57, 'Jasjeet': 51, 'Joyeeta': 65, 'Tejas': 80, 'Tapan': 36, 'Puruvi': 45, 'Jigar': 94, 'Shubhang': 79, 'Paramjeet': 38, 'Nishi': 68, 'Tanishka': 36, 'Kanchan': 78, 'Vritika': 54, 'Pratul': 87, 'Nutan': 89, 'Sourav': 41, 'Sagarika': 80, 'Veerja': 36, 'Dharmesh': 87, 'Ninad': 46, 'Suyash': 43, 'Akshata': 53, 'Gaganpreet': 90, 'Manjyot': 71, 'Arundhati': 67, 'Munjal': 79}\n"
                }
            ],
            "source": [
                "# take a look at the `students_dict` \n",
                "# to confirm you have correctly assigned keys to values\n",
                "print(students_dict)"
            ]
        },
        {
            "attachments": {},
            "cell_type": "markdown",
            "metadata": {},
            "source": [
                "## PART 2: Update the dictionary\n",
                "\n",
                "It appears that five more students decided to take the entrance test, with the info below:\n",
                "- 'Sarojini' with a score of 79\n",
                "- 'Muskan' with a score of 87\n",
                "- 'Mahima' with a score of 92\n",
                "- 'Daniel' with a score of 96\n",
                "- 'Freddy' with a score of 63.\n",
                "\n",
                "In this segment, you will create a new dictionary which has the information of the previous 100 students and the additional 5 students."
            ]
        },
        {
            "attachments": {},
            "cell_type": "markdown",
            "metadata": {},
            "source": [
                "After we compiled this data, we got a few more students who wanted to enrol themselves for AI 0, so we have another dictinoary `new_students_dict`. Combine this dictionary with `students_dict`."
            ]
        },
        {
            "cell_type": "code",
            "execution_count": 10,
            "metadata": {},
            "outputs": [
                {
                    "name": "stdout",
                    "output_type": "stream",
                    "text": "{'Subrata': 76, 'Tvisha': 70, 'Praveen': 74, 'Dhaval': 58, 'Komal': 69, 'Manmeet': 83, 'Yash': 56, 'Abhijeet': 70, 'Gurbir': 93, 'Jignesh': 77, 'Aarav': 80, 'Mukund': 34, 'Dharamjeet': 74, 'Debolina': 95, 'Gaganjyot': 60, 'Dharamjyot': 79, 'Akanksha': 73, 'Bibhuti': 63, 'Dalvinder': 41, 'Havya': 33, 'Harjyot': 40, 'Manjeet': 75, 'Haanish': 84, 'Ankolika': 98, 'Indroneel': 81, 'Rahul': 90, 'Vaibhav': 82, 'Gaganvinder': 64, 'Dulmeet': 87, 'Pakhi': 48, 'Manbir': 88, 'Ahem': 82, 'Indrani': 57, 'Debjani': 98, 'Sukhbir': 39, 'Ishika': 80, 'Yuvan': 72, 'Dulpreet': 75, 'Karambir': 37, 'Yaksh': 32, 'Pranauthi': 41, 'Praful': 61, 'Arnab': 59, 'Hinal': 38, 'Jaimini': 45, 'Vinay': 83, 'Bidisha': 56, 'Raashi': 45, 'Gargi': 62, 'Gairik': 96, 'Parampreet': 70, 'Navpreet': 89, 'Shirshendu': 36, 'Daiwik': 84, 'Shoma': 39, 'Devang': 59, 'Karanjeet': 67, 'Harjeet': 45, 'Ronak': 73, 'Vaishnavi': 62, 'Vanshi': 60, 'Ganesh': 43, 'Drishti': 73, 'Parmeet': 31, 'Gaganjeet': 92, 'Ujjwal': 88, 'Gaurav': 76, 'Bipin': 56, 'Chaitali': 79, 'Debesh': 37, 'Parbir': 40, 'Paritosh': 99, 'Piyali': 94, 'Herik': 72, 'Harbir': 57, 'Jasjeet': 51, 'Joyeeta': 65, 'Tejas': 80, 'Tapan': 36, 'Puruvi': 45, 'Jigar': 94, 'Shubhang': 79, 'Paramjeet': 38, 'Nishi': 68, 'Tanishka': 36, 'Kanchan': 78, 'Vritika': 54, 'Pratul': 87, 'Nutan': 89, 'Sourav': 41, 'Sagarika': 80, 'Veerja': 36, 'Dharmesh': 87, 'Ninad': 46, 'Suyash': 43, 'Akshata': 53, 'Gaganpreet': 90, 'Manjyot': 71, 'Arundhati': 67, 'Munjal': 79, 'Sarojini': 79, 'Muskan': 87, 'Mahima': 92, 'Daniel': 96, 'Freddy': 63}\n"
                }
            ],
            "source": [
                "# create a new dictionary with new students and their scores\n",
                "new_students_dict = {'Sarojini':79, 'Muskan':87, 'Mahima':92, 'Daniel':96, 'Freddy': 63}\n",
                "\n",
                "# now update the value of new_students_dict in this new dictionary\n",
                "students_dict.update(new_students_dict)\n",
                "\n",
                "# take a look at the updated dictionary\n",
                "print(students_dict)"
            ]
        },
        {
            "attachments": {},
            "cell_type": "markdown",
            "metadata": {},
            "source": [
                "### ⏸ What should we do if we don't want to lose the information of the previous dictionary ?\n",
                "\n",
                "If you use `.update()` method on a dictionary, the previous state of the dictionary is written upon, i.e. existing keys could be overwritten, and new keys are added. How do we avoid this problem ?\n",
                "\n",
                "\n",
                "\n",
                "#### A. use `.copy()` for `students_dict` before `.update()` method and use the new dictionary\n",
                "#### B. use `.undo()` for `students_dict` after `.update()` method and use the same dictionary\n",
                "#### C. use `.copydict()` for `students_dict` before `.update()` method and use the new dictionary"
            ]
        },
        {
            "cell_type": "code",
            "execution_count": 0,
            "metadata": {},
            "outputs": [],
            "source": [
                "### edTest(test_2) ###\n",
                "\n",
                "# Submit an answer choice as a string below (eg. if you choose option A put 'A'\n",
                "your_answer = 'A'"
            ]
        },
        {
            "attachments": {},
            "cell_type": "markdown",
            "metadata": {},
            "source": [
                "## Part 3: Display the information in a table. 📝\n",
                "\n",
                "What if you wanted to look at all the student names and scores in a nice table?\n",
                "\n",
                "In this segment, you will use the `print()` function along with a loop to make such a table."
            ]
        },
        {
            "attachments": {},
            "cell_type": "markdown",
            "metadata": {},
            "source": [
                "`HINT:`\n",
                "\n",
                "We can run a loop to search through the values for each key, and then print the corresponding key, if the value matches.\n",
                "\n",
                "However, we also have a dictionary method `.items()` which helps us to get an easier access to the `(key,value)` pairs."
            ]
        },
        {
            "cell_type": "code",
            "execution_count": 12,
            "metadata": {},
            "outputs": [],
            "source": [
                "# convert the dictionary into a list of tuples to access the values easily\n",
                "# HINT: you can use the .items() method on students_dict\n",
                "# HINT2: you can cast it into a list by using the list() method\n",
                "list=[(k,v)for k,v in students_dict.items()]\n",
                "students_score = list\n",
                ""
            ]
        },
        {
            "cell_type": "code",
            "execution_count": 15,
            "metadata": {},
            "outputs": [
                {
                    "name": "stdout",
                    "output_type": "stream",
                    "text": "[('Subrata', 76), ('Tvisha', 70), ('Praveen', 74), ('Dhaval', 58), ('Komal', 69)]\n"
                }
            ],
            "source": [
                "# take a look at the first five elements of the `students_score` list\n",
                "print(students_score[:5])"
            ]
        },
        {
            "cell_type": "code",
            "execution_count": 18,
            "metadata": {},
            "outputs": [
                {
                    "name": "stdout",
                    "output_type": "stream",
                    "text": "Name Score\nSubrata 76\nTvisha 70\nPraveen 74\nDhaval 58\nKomal 69\nManmeet 83\nYash 56\nAbhijeet 70\nGurbir 93\nJignesh 77\nAarav 80\nMukund 34\nDharamjeet 74\nDebolina 95\nGaganjyot 60\nDharamjyot 79\nAkanksha 73\nBibhuti 63\nDalvinder 41\nHavya 33\nHarjyot 40\nManjeet 75\nHaanish 84\nAnkolika 98\nIndroneel 81\nRahul 90\nVaibhav 82\nGaganvinder 64\nDulmeet 87\nPakhi 48\nManbir 88\nAhem 82\nIndrani 57\nDebjani 98\nSukhbir 39\nIshika 80\nYuvan 72\nDulpreet 75\nKarambir 37\nYaksh 32\nPranauthi 41\nPraful 61\nArnab 59\nHinal 38\nJaimini 45\nVinay 83\nBidisha 56\nRaashi 45\nGargi 62\nGairik 96\nParampreet 70\nNavpreet 89\nShirshendu 36\nDaiwik 84\nShoma 39\nDevang 59\nKaranjeet 67\nHarjeet 45\nRonak 73\nVaishnavi 62\nVanshi 60\nGanesh 43\nDrishti 73\nParmeet 31\nGaganjeet 92\nUjjwal 88\nGaurav 76\nBipin 56\nChaitali 79\nDebesh 37\nParbir 40\nParitosh 99\nPiyali 94\nHerik 72\nHarbir 57\nJasjeet 51\nJoyeeta 65\nTejas 80\nTapan 36\nPuruvi 45\nJigar 94\nShubhang 79\nParamjeet 38\nNishi 68\nTanishka 36\nKanchan 78\nVritika 54\nPratul 87\nNutan 89\nSourav 41\nSagarika 80\nVeerja 36\nDharmesh 87\nNinad 46\nSuyash 43\nAkshata 53\nGaganpreet 90\nManjyot 71\nArundhati 67\nMunjal 79\nSarojini 79\nMuskan 87\nMahima 92\nDaniel 96\nFreddy 63\n"
                }
            ],
            "source": [
                "# Print the information for the top ten students to see how they are represented\n",
                "print('Name', 'Score')\n",
                "\n",
                "# Iterate through first 10 elements of students_score\n",
                "# HINT: Each element of students_score is a (key,value) tuple\n",
                "for k,v in students_dict.items():\n",
                "    # pass the key and value for each iteration\n",
                "    # remember to cast the score into a string using the python built-in function str()\n",
                "    print(k,v)"
            ]
        },
        {
            "attachments": {},
            "cell_type": "markdown",
            "metadata": {},
            "source": [
                "#### Bonus 🎁\n",
                "You can use some string methods such as `.center()`, `.ljust()`, `.rjust()`\n",
                "to better design the table.\n",
                "Run the cell below for a small demo and feel free to change the values to see the effects."
            ]
        },
        {
            "cell_type": "code",
            "execution_count": 20,
            "metadata": {},
            "outputs": [
                {
                    "name": "stdout",
                    "output_type": "stream",
                    "text": "Name    Score\n-------------\n-------------\nSubrata    76    \n-------------\nTvisha     70    \n-------------\nPraveen    74    \n-------------\nDhaval     58    \n-------------\nKomal      69    \n-------------\nManmeet    83    \n-------------\nYash       56    \n-------------\nAbhijeet   70    \n-------------\nGurbir     93    \n-------------\nJignesh    77    \n"
                }
            ],
            "source": [
                "# you can use some string methods such as .center(), .ljust(), .rjust()\n",
                "# to better design the table.\n",
                "print('Name'.ljust(6), 'Score'.rjust(6))\n",
                "print(\"-\"*13)\n",
                "for name,score in students_score[:10]:\n",
                "    print(\"-\"*13)\n",
                "    print(name.ljust(10),str(score).ljust(6))"
            ]
        },
        {
            "attachments": {},
            "cell_type": "markdown",
            "metadata": {},
            "source": [
                "## Part 4: So who gets the 100% scholarship?"
            ]
        },
        {
            "attachments": {},
            "cell_type": "markdown",
            "metadata": {},
            "source": [
                "As we have done in the past, the top student from this test will be getting a 100% scholarship. \n",
                "\n",
                "You will now find the student with the highest score from `students_score` list of tuples created in part 3.\n",
                "\n",
                "You can do this by looping through each entry of `students_score` and checking if it's the highest score.\n",
                "\n",
                "`HINT`:\n",
                "You can use two new variables, `top_score` and `topper_name` to store the highest score and name for each iteration."
            ]
        },
        {
            "cell_type": "code",
            "execution_count": 22,
            "metadata": {},
            "outputs": [
                {
                    "ename": "NameError",
                    "evalue": "name 'Paritosh' is not defined",
                    "output_type": "error",
                    "traceback": [
                        "\u001b[0;31m---------------------------------------------------------------------------\u001b[0m",
                        "\u001b[0;31mNameError\u001b[0m                                 Traceback (most recent call last)",
                        "Input \u001b[0;32mIn [1]\u001b[0m, in \u001b[0;36m\u003ccell line: 7\u003e\u001b[0;34m()\u001b[0m\n\u001b[1;32m      5\u001b[0m top_score \u001b[38;5;241m=\u001b[39m \u001b[38;5;241m99\u001b[39m\n\u001b[1;32m      6\u001b[0m \u001b[38;5;66;03m# Assign an empty string as the name of the topper\u001b[39;00m\n\u001b[0;32m----\u003e 7\u001b[0m topper_name \u001b[38;5;241m=\u001b[39m \u001b[43mParitosh\u001b[49m\n\u001b[1;32m      9\u001b[0m \u001b[38;5;66;03m# Loop through the `students_score` list \u001b[39;00m\n\u001b[1;32m     10\u001b[0m \u001b[38;5;66;03m# to get the name and score of each student\u001b[39;00m\n\u001b[1;32m     11\u001b[0m \u001b[38;5;28;01mfor\u001b[39;00m ___,___ \u001b[38;5;129;01min\u001b[39;00m ___:\n\u001b[1;32m     12\u001b[0m     \u001b[38;5;66;03m# Check if the current score is greater than the top score\u001b[39;00m\n",
                        "\u001b[0;31mNameError\u001b[0m: name 'Paritosh' is not defined"
                    ]
                }
            ],
            "source": [
                "### edTest(test_3) ###\n",
                "# Initiate variables to store the name and score of the topper\n",
                "\n",
                "# Assign a starting value of -1 for the top_score\n",
                "top_score = 99\n",
                "# Assign an empty string as the name of the topper\n",
                "topper_name = \"Paritosh\"\n",
                "\n",
                "# Loop through the `students_score` list \n",
                "# to get the name and score of each student\n",
                "for ___,___ in ___:\n",
                "    # Check if the current score is greater than the top score\n",
                "    if ___:\n",
                "        # If yes, save the name to topper_name\n",
                "        topper_name = ___\n",
                "        # Update the top_score variable with the current score\n",
                "        top_score = ___\n",
                "    else:\n",
                "        # If the score is not higher than the top_score, \n",
                "        # just continue the loop\n",
                "        continue\n",
                "\n",
                "print(\"The student with the top score of {0} is {1}\".format(top_score,topper_name))"
            ]
        },
        {
            "attachments": {},
            "cell_type": "markdown",
            "metadata": {},
            "source": [
                "### ⏸  What is a possible issue if we use the logic above to find the topper of the test ?\n",
                "\n",
                "\n",
                "#### A. If number of students is more than 1000, the code will break\n",
                "#### B. The logic does not work if the score is a floating point value\n",
                "#### C. In case of ties, the code will not correctly identify the toppers\n",
                "#### D. The code has no possible logical issues\n",
                ""
            ]
        },
        {
            "cell_type": "code",
            "execution_count": 0,
            "metadata": {},
            "outputs": [],
            "source": [
                "### edTest(test_4) ###\n",
                "\n",
                "# Submit an answer choice as a string below (eg. if you choose option A put 'A')\n",
                "your_answer = 'C'"
            ]
        }
    ]
}
