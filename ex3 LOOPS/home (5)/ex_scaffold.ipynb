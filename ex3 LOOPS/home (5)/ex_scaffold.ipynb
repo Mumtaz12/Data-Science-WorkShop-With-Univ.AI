{
    "metadata": {
        "kernelspec": {
            "name": "python3",
            "display_name": "Python 3 (ipykernel)",
            "language": "python"
        }
    },
    "nbformat": 4,
    "nbformat_minor": 4,
    "cells": [
        {
            "attachments": {},
            "cell_type": "markdown",
            "metadata": {},
            "source": [
                "# The Book Keeper's Apprentice - Dicts \u0026 List\n",
                " "
            ]
        },
        {
            "cell_type": "code",
            "execution_count": 2,
            "metadata": {},
            "outputs": [],
            "source": [
                "# Importing libraries\n",
                "import time\n",
                "from pprint import pprint\n",
                "\n",
                "# Importing data\n",
                "from helper import books_dict, authors_list, books_list"
            ]
        },
        {
            "cell_type": "code",
            "execution_count": 3,
            "metadata": {},
            "outputs": [
                {
                    "data": {
                        "text/plain": "''"
                    },
                    "execution_count": 3,
                    "metadata": {},
                    "output_type": "execute_result"
                }
            ],
            "source": [
                "# Investigate the `books_dict` dictionary and the two lists\n",
                "# `authors_list`, # `books_list`\n",
                "___"
            ]
        },
        {
            "attachments": {},
            "cell_type": "markdown",
            "metadata": {},
            "source": [
                "### ⏸ How many elements are there in the two lists provided?\n",
                "\n",
                "\n",
                "#### A. 20019\n",
                "#### B. 10220\n",
                "#### C. 10019\n",
                "\n",
                "HINT: Use `len()` on `authors_list` and `books_list`"
            ]
        },
        {
            "cell_type": "code",
            "execution_count": 4,
            "metadata": {},
            "outputs": [],
            "source": [
                "### edTest(test_0) ###\n",
                "## DO NOT REMOVE ABOVE LINE ##\n",
                "\n",
                "# Submit an answer choice as a string below \n",
                "# (eg. if you choose option C, put 'C')\n",
                "your_answer = 'C'"
            ]
        },
        {
            "attachments": {},
            "cell_type": "markdown",
            "metadata": {},
            "source": [
                "## Part 1 - Searching for Book 1: `\"1 000 Places to See Before You Die\"`"
            ]
        },
        {
            "attachments": {},
            "cell_type": "markdown",
            "metadata": {},
            "source": [
                "#### Using `books_list`, fetch the author name for `\"1 000 Places to See Before You Die\"` *(exact string match)*"
            ]
        },
        {
            "cell_type": "code",
            "execution_count": 13,
            "metadata": {},
            "outputs": [
                {
                    "name": "stdout",
                    "output_type": "stream",
                    "text": "Searching through the list...\nThe author of the book is Patricia Schultz\n--- Searching took 0.00016 seconds ---\n"
                }
            ],
            "source": [
                "### edTest(test_1) ###\n",
                "## DO NOT REMOVE ABOVE LINE ##\n",
                "\n",
                "# Let's start the clock\n",
                "start_time = time.time()\n",
                "\n",
                "print(\"Searching through the list...\")\n",
                "\n",
                "# Enter the book title\n",
                "book_title = \"1 000 Places to See Before You Die\"\n",
                "\n",
                "# Go through the books list and find the index associated with book_title\n",
                "# Find the author name using that index on authors_list\n",
                "for i in range(len(books_list)):\n",
                "    if books_list[i] == book_title:\n",
                "        author_name =authors_list[i]\n",
                "        break\n",
                "\n",
                "print(f\"The author of the book is {author_name}\")\n",
                "\n",
                "# Let's measure how much time it took\n",
                "list_duration_book_1 = time.time() - start_time\n",
                "print(f\"--- Searching took {list_duration_book_1:.5f} seconds ---\")"
            ]
        },
        {
            "attachments": {},
            "cell_type": "markdown",
            "metadata": {},
            "source": [
                "#### Using `books_dict`, fetch the author name for`\"1 000 Places to See Before You Die\"`\n",
                "\n",
                "Search for the books from the dictionary and fetch the author name."
            ]
        },
        {
            "cell_type": "code",
            "execution_count": 6,
            "metadata": {},
            "outputs": [
                {
                    "name": "stdout",
                    "output_type": "stream",
                    "text": "Searching through the dict...\nThe author of the book is Patricia Schultz\n--- Searching took 0.00039 seconds --- \n"
                }
            ],
            "source": [
                "### edTest(test_2) ###\n",
                "## DO NOT REMOVE ABOVE LINE ##\n",
                "\n",
                "# Let's start the clock\n",
                "start_time = time.time()\n",
                "\n",
                "print(\"Searching through the dict...\")\n",
                "\n",
                "# Book title\n",
                "book_title = \"1 000 Places to See Before You Die\"\n",
                "\n",
                "# Fetch the value from `books_dict` using the title key\n",
                "author_name = books_dict.get(book_title)\n",
                "\n",
                "print(f\"The author of the book is {author_name}\")\n",
                "\n",
                "# Let's measure how much time it took\n",
                "dict_duration_book_1 = time.time() - start_time\n",
                "print(f\"--- Searching took {dict_duration_book_1:.5f} seconds --- \")"
            ]
        },
        {
            "attachments": {},
            "cell_type": "markdown",
            "metadata": {},
            "source": [
                "### Head to Head\n",
                "Let's compare the amount of time it took for list search vs dictionary search"
            ]
        },
        {
            "cell_type": "code",
            "execution_count": 7,
            "metadata": {},
            "outputs": [
                {
                    "name": "stdout",
                    "output_type": "stream",
                    "text": "Ratio of list search to dictionary search is 1.030\n"
                }
            ],
            "source": [
                "# Calculate the ratio of the time taken by list search to dictionary search\n",
                "speed_ratio = 0.89+0.14\n",
                "print(f\"Ratio of list search to dictionary search is {speed_ratio:.3f}\")"
            ]
        },
        {
            "attachments": {},
            "cell_type": "markdown",
            "metadata": {},
            "source": [
                "Please note that in this case, your `book_index` was relatively small. This means that the book is placed in earlier positions. (Check value of `i` in the list search loop above to verify)."
            ]
        },
        {
            "attachments": {},
            "cell_type": "markdown",
            "metadata": {},
            "source": [
                "## Part 2 - Searching for book 2: `\"Youth in Revolt: The Journals of Nick Twisp\"`"
            ]
        },
        {
            "attachments": {},
            "cell_type": "markdown",
            "metadata": {},
            "source": [
                "#### Using `books_list`, fetch the author name of \"Youth in Revolt: The Journals of Nick Twisp\""
            ]
        },
        {
            "cell_type": "code",
            "execution_count": 8,
            "metadata": {},
            "outputs": [
                {
                    "name": "stdout",
                    "output_type": "stream",
                    "text": "Searching through the list...\nThe author of the book is C.D. Payne\n--- Searching took 0.00182 seconds ---\n"
                }
            ],
            "source": [
                "### edTest(test_3) ###\n",
                "## DO NOT REMOVE ABOVE LINE ##\n",
                "\n",
                "# Let's start the clock\n",
                "start_time = time.time()\n",
                "\n",
                "print(\"Searching through the list...\")\n",
                "\n",
                "# Title of the book\n",
                "book_title = \"Youth in Revolt: The Journals of Nick Twisp\"\n",
                "\n",
                "# Go through the books list and find the index associated with book_title\n",
                "# Find the author name using that index on authors_list\n",
                "for i in range(len(books_list)):\n",
                "    if books_list[i]==book_title:\n",
                "        author_name=authors_list[i]\n",
                "        break\n",
                "       \n",
                "# Print the name of the author of the book\n",
                "print(f\"The author of the book is {author_name}\")\n",
                "\n",
                "# Let's measure how much time it took\n",
                "list_duration_book_2 = time.time() - start_time\n",
                "print(f\"--- Searching took {list_duration_book_2:.5f} seconds ---\")"
            ]
        },
        {
            "attachments": {},
            "cell_type": "markdown",
            "metadata": {},
            "source": [
                "#### Using `books_dict`, fetch the author name of `\"Youth in Revolt: The Journals of Nick Twisp\"`"
            ]
        },
        {
            "cell_type": "code",
            "execution_count": 9,
            "metadata": {},
            "outputs": [
                {
                    "name": "stdout",
                    "output_type": "stream",
                    "text": "Searching through the dict...\nThe author of the book is C.D. Payne\n--- Searching took 0.00020 seconds --- \n"
                }
            ],
            "source": [
                "### edTest(test_4) ###\n",
                "## DO NOT REMOVE ABOVE LINE ##\n",
                "\n",
                "# Let's start the clock\n",
                "start_time = time.time()\n",
                "\n",
                "print(\"Searching through the dict...\")\n",
                "\n",
                "# Give the title of the book - \"Youth in Revolt: The Journals of Nick Twisp\"\n",
                "title = \"Youth in Revolt: The Journals of Nick Twisp\"\n",
                "\n",
                "# Fetch the author name from `books_dict` using the title key\n",
                "author_name = books_dict.get(title)\n",
                "\n",
                "print(f\"The author of the book is {author_name}\")\n",
                "\n",
                "# Let's measure how much time it took\n",
                "dict_duration_book_2 = time.time() - start_time\n",
                "print(f\"--- Searching took {dict_duration_book_2:.5f} seconds --- \")"
            ]
        },
        {
            "cell_type": "code",
            "execution_count": 10,
            "metadata": {},
            "outputs": [
                {
                    "name": "stdout",
                    "output_type": "stream",
                    "text": "Ratio of list search to dictionary search is 1.270\n"
                }
            ],
            "source": [
                "# Calculate the ratio of the time taken by list search to dictionary search\n",
                "speed_ratio =  0.79+0.48 \n",
                "print(f\"Ratio of list search to dictionary search is {speed_ratio:.3f}\")"
            ]
        },
        {
            "attachments": {},
            "cell_type": "markdown",
            "metadata": {},
            "source": [
                "Do you observe the relation between position and the time it is taking to fetch values from that position? How is it differing for a list vs. a dictionary?"
            ]
        },
        {
            "attachments": {},
            "cell_type": "markdown",
            "metadata": {},
            "source": [
                "### ⏸ Which took lesser time - searching through a list or searching through the dictionary? Why?\n",
                "\n",
                "#### A. Dictionary was much faster in the second search\n",
                "#### B. List was much faster in the second search\n",
                "#### C. Dictionary was much faster in the first search\n",
                ""
            ]
        },
        {
            "cell_type": "code",
            "execution_count": 11,
            "metadata": {},
            "outputs": [],
            "source": [
                "### edTest(test_5) ###\n",
                "## DO NOT REMOVE ABOVE LINE ##\n",
                "\n",
                "# Submit an answer choice as a string below \n",
                "# (eg. if you choose option C, put 'C')\n",
                "your_answer = 'A'"
            ]
        }
    ]
}
