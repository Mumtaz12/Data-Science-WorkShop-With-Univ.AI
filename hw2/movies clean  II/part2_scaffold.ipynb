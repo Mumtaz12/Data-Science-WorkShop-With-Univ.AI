{
    "metadata": {
        "kernelspec": {
            "name": "python3",
            "display_name": "Python 3 (ipykernel)",
            "language": "python"
        }
    },
    "nbformat": 4,
    "nbformat_minor": 4,
    "cells": [
        {
            "attachments": {},
            "cell_type": "markdown",
            "metadata": {},
            "source": [
                "![](fig/univ.png)\n",
                "\n",
                "# AI0: The Basics of Data Science\n",
                "## Homework 2: Linear Regression \u0026 Classification\n",
                "\n",
                "**Univ.AI**\u003cbr/\u003e\n",
                "\n",
                "\u003chr style=\"height:2.4pt\"\u003e"
            ]
        },
        {
            "cell_type": "code",
            "execution_count": 369,
            "metadata": {},
            "outputs": [],
            "source": [
                "# Importing necessary libraries\n",
                "import pandas as pd\n",
                "import numpy as np\n",
                "from sklearn.metrics import accuracy_score\n",
                "from sklearn.metrics import r2_score\n",
                "from sklearn.model_selection import train_test_split\n",
                "from sklearn.linear_model import LinearRegression"
            ]
        },
        {
            "attachments": {},
            "cell_type": "markdown",
            "metadata": {},
            "source": [
                "### INSTRUCTIONS\n",
                "\n",
                "\n",
                "- This homework is a jupyter notebook. You can work on it on Ed (recommended) or download to your local machine and uploade a copy without deleting the ### edTest ### cells.\n",
                "\n",
                "- Please restart the kernel and run the entire notebook again before you submit.\n",
                "\n",
                "- Running cells out of order is a common pitfall in Jupyter Notebooks. To make sure your code works restart the kernel and run the whole notebook again before you submit. \n",
                "\n",
                "- Submit the homework well before the given deadline. Submissions after the deadline will not be graded.\n",
                "\n",
                "- We have tried to include all the libraries you may need to do the assignment in the import statement at the top of this notebook. We strongly suggest that you use those and not others as we may not be familiar with them.\n",
                "\n",
                "- This homework is autograded. You can submit as many times as you need to get it right before the deadline.\n",
                "\n",
                "\u003chr style=\"height:2pt\"\u003e"
            ]
        },
        {
            "attachments": {},
            "cell_type": "markdown",
            "metadata": {},
            "source": [
                "## Section 1: Regression"
            ]
        },
        {
            "cell_type": "code",
            "execution_count": 370,
            "metadata": {},
            "outputs": [
                {
                    "data": {
                        "text/html": "\u003cdiv\u003e\n\u003cstyle scoped\u003e\n    .dataframe tbody tr th:only-of-type {\n        vertical-align: middle;\n    }\n\n    .dataframe tbody tr th {\n        vertical-align: top;\n    }\n\n    .dataframe thead th {\n        text-align: right;\n    }\n\u003c/style\u003e\n\u003ctable border=\"1\" class=\"dataframe\"\u003e\n  \u003cthead\u003e\n    \u003ctr style=\"text-align: right;\"\u003e\n      \u003cth\u003e\u003c/th\u003e\n      \u003cth\u003ebudget\u003c/th\u003e\n      \u003cth\u003egenres\u003c/th\u003e\n      \u003cth\u003ehomepage\u003c/th\u003e\n      \u003cth\u003eid\u003c/th\u003e\n      \u003cth\u003ekeywords\u003c/th\u003e\n      \u003cth\u003eoriginal_language\u003c/th\u003e\n      \u003cth\u003eoriginal_title\u003c/th\u003e\n      \u003cth\u003eoverview\u003c/th\u003e\n      \u003cth\u003epopularity\u003c/th\u003e\n      \u003cth\u003eproduction_companies\u003c/th\u003e\n      \u003cth\u003e...\u003c/th\u003e\n      \u003cth\u003eAdventure\u003c/th\u003e\n      \u003cth\u003eAction\u003c/th\u003e\n      \u003cth\u003eTV Movie\u003c/th\u003e\n      \u003cth\u003eWar\u003c/th\u003e\n      \u003cth\u003eRomance\u003c/th\u003e\n      \u003cth\u003eDocumentary\u003c/th\u003e\n      \u003cth\u003eScience Fiction\u003c/th\u003e\n      \u003cth\u003eWestern\u003c/th\u003e\n      \u003cth\u003eThriller\u003c/th\u003e\n      \u003cth\u003eDrama\u003c/th\u003e\n    \u003c/tr\u003e\n  \u003c/thead\u003e\n  \u003ctbody\u003e\n    \u003ctr\u003e\n      \u003cth\u003e0\u003c/th\u003e\n      \u003ctd\u003e8.374748\u003c/td\u003e\n      \u003ctd\u003eAction, Adventure, Fantasy, Science Fiction\u003c/td\u003e\n      \u003ctd\u003ehttp://www.avatarmovie.com/\u003c/td\u003e\n      \u003ctd\u003e19995\u003c/td\u003e\n      \u003ctd\u003eculture clash, future, space war, space colony...\u003c/td\u003e\n      \u003ctd\u003een\u003c/td\u003e\n      \u003ctd\u003eAvatar\u003c/td\u003e\n      \u003ctd\u003eIn the 22nd century, a paraplegic Marine is di...\u003c/td\u003e\n      \u003ctd\u003e2.180234\u003c/td\u003e\n      \u003ctd\u003eIngenious Film Partners, Twentieth Century Fox...\u003c/td\u003e\n      \u003ctd\u003e...\u003c/td\u003e\n      \u003ctd\u003e1\u003c/td\u003e\n      \u003ctd\u003e1\u003c/td\u003e\n      \u003ctd\u003e0\u003c/td\u003e\n      \u003ctd\u003e0\u003c/td\u003e\n      \u003ctd\u003e0\u003c/td\u003e\n      \u003ctd\u003e0\u003c/td\u003e\n      \u003ctd\u003e1\u003c/td\u003e\n      \u003ctd\u003e0\u003c/td\u003e\n      \u003ctd\u003e0\u003c/td\u003e\n      \u003ctd\u003e0\u003c/td\u003e\n    \u003c/tr\u003e\n    \u003ctr\u003e\n      \u003cth\u003e1\u003c/th\u003e\n      \u003ctd\u003e8.477121\u003c/td\u003e\n      \u003ctd\u003eAdventure, Fantasy, Action\u003c/td\u003e\n      \u003ctd\u003ehttp://disney.go.com/disneypictures/pirates/\u003c/td\u003e\n      \u003ctd\u003e285\u003c/td\u003e\n      \u003ctd\u003eocean, drug abuse, exotic island, east india t...\u003c/td\u003e\n      \u003ctd\u003een\u003c/td\u003e\n      \u003ctd\u003ePirates of the Caribbean: At World's End\u003c/td\u003e\n      \u003ctd\u003eCaptain Barbossa, long believed to be dead, ha...\u003c/td\u003e\n      \u003ctd\u003e2.146384\u003c/td\u003e\n      \u003ctd\u003eWalt Disney Pictures, Jerry Bruckheimer Films,...\u003c/td\u003e\n      \u003ctd\u003e...\u003c/td\u003e\n      \u003ctd\u003e1\u003c/td\u003e\n      \u003ctd\u003e1\u003c/td\u003e\n      \u003ctd\u003e0\u003c/td\u003e\n      \u003ctd\u003e0\u003c/td\u003e\n      \u003ctd\u003e0\u003c/td\u003e\n      \u003ctd\u003e0\u003c/td\u003e\n      \u003ctd\u003e0\u003c/td\u003e\n      \u003ctd\u003e0\u003c/td\u003e\n      \u003ctd\u003e0\u003c/td\u003e\n      \u003ctd\u003e0\u003c/td\u003e\n    \u003c/tr\u003e\n    \u003ctr\u003e\n      \u003cth\u003e2\u003c/th\u003e\n      \u003ctd\u003e8.389166\u003c/td\u003e\n      \u003ctd\u003eAction, Adventure, Crime\u003c/td\u003e\n      \u003ctd\u003ehttp://www.sonypictures.com/movies/spectre/\u003c/td\u003e\n      \u003ctd\u003e206647\u003c/td\u003e\n      \u003ctd\u003espy, based on novel, secret agent, sequel, mi6...\u003c/td\u003e\n      \u003ctd\u003een\u003c/td\u003e\n      \u003ctd\u003eSpectre\u003c/td\u003e\n      \u003ctd\u003eA cryptic message from Bond’s past sends him o...\u003c/td\u003e\n      \u003ctd\u003e2.034936\u003c/td\u003e\n      \u003ctd\u003eColumbia Pictures, Danjaq, B24\u003c/td\u003e\n      \u003ctd\u003e...\u003c/td\u003e\n      \u003ctd\u003e1\u003c/td\u003e\n      \u003ctd\u003e1\u003c/td\u003e\n      \u003ctd\u003e0\u003c/td\u003e\n      \u003ctd\u003e0\u003c/td\u003e\n      \u003ctd\u003e0\u003c/td\u003e\n      \u003ctd\u003e0\u003c/td\u003e\n      \u003ctd\u003e0\u003c/td\u003e\n      \u003ctd\u003e0\u003c/td\u003e\n      \u003ctd\u003e0\u003c/td\u003e\n      \u003ctd\u003e0\u003c/td\u003e\n    \u003c/tr\u003e\n    \u003ctr\u003e\n      \u003cth\u003e3\u003c/th\u003e\n      \u003ctd\u003e8.397940\u003c/td\u003e\n      \u003ctd\u003eAction, Crime, Drama, Thriller\u003c/td\u003e\n      \u003ctd\u003ehttp://www.thedarkknightrises.com/\u003c/td\u003e\n      \u003ctd\u003e49026\u003c/td\u003e\n      \u003ctd\u003edc comics, crime fighter, terrorist, secret id...\u003c/td\u003e\n      \u003ctd\u003een\u003c/td\u003e\n      \u003ctd\u003eThe Dark Knight Rises\u003c/td\u003e\n      \u003ctd\u003eFollowing the death of District Attorney Harve...\u003c/td\u003e\n      \u003ctd\u003e2.054280\u003c/td\u003e\n      \u003ctd\u003eLegendary Pictures, Warner Bros., DC Entertain...\u003c/td\u003e\n      \u003ctd\u003e...\u003c/td\u003e\n      \u003ctd\u003e0\u003c/td\u003e\n      \u003ctd\u003e1\u003c/td\u003e\n      \u003ctd\u003e0\u003c/td\u003e\n      \u003ctd\u003e0\u003c/td\u003e\n      \u003ctd\u003e0\u003c/td\u003e\n      \u003ctd\u003e0\u003c/td\u003e\n      \u003ctd\u003e0\u003c/td\u003e\n      \u003ctd\u003e0\u003c/td\u003e\n      \u003ctd\u003e1\u003c/td\u003e\n      \u003ctd\u003e1\u003c/td\u003e\n    \u003c/tr\u003e\n    \u003ctr\u003e\n      \u003cth\u003e4\u003c/th\u003e\n      \u003ctd\u003e8.414973\u003c/td\u003e\n      \u003ctd\u003eAction, Adventure, Science Fiction\u003c/td\u003e\n      \u003ctd\u003ehttp://movies.disney.com/john-carter\u003c/td\u003e\n      \u003ctd\u003e49529\u003c/td\u003e\n      \u003ctd\u003ebased on novel, mars, medallion, space travel,...\u003c/td\u003e\n      \u003ctd\u003een\u003c/td\u003e\n      \u003ctd\u003eJohn Carter\u003c/td\u003e\n      \u003ctd\u003eJohn Carter is a war-weary, former military ca...\u003c/td\u003e\n      \u003ctd\u003e1.652507\u003c/td\u003e\n      \u003ctd\u003eWalt Disney Pictures\u003c/td\u003e\n      \u003ctd\u003e...\u003c/td\u003e\n      \u003ctd\u003e1\u003c/td\u003e\n      \u003ctd\u003e1\u003c/td\u003e\n      \u003ctd\u003e0\u003c/td\u003e\n      \u003ctd\u003e0\u003c/td\u003e\n      \u003ctd\u003e0\u003c/td\u003e\n      \u003ctd\u003e0\u003c/td\u003e\n      \u003ctd\u003e1\u003c/td\u003e\n      \u003ctd\u003e0\u003c/td\u003e\n      \u003ctd\u003e0\u003c/td\u003e\n      \u003ctd\u003e0\u003c/td\u003e\n    \u003c/tr\u003e\n  \u003c/tbody\u003e\n\u003c/table\u003e\n\u003cp\u003e5 rows × 43 columns\u003c/p\u003e\n\u003c/div\u003e",
                        "text/plain": "     budget                                       genres  \\\n0  8.374748  Action, Adventure, Fantasy, Science Fiction   \n1  8.477121                   Adventure, Fantasy, Action   \n2  8.389166                     Action, Adventure, Crime   \n3  8.397940               Action, Crime, Drama, Thriller   \n4  8.414973           Action, Adventure, Science Fiction   \n\n                                       homepage      id  \\\n0                   http://www.avatarmovie.com/   19995   \n1  http://disney.go.com/disneypictures/pirates/     285   \n2   http://www.sonypictures.com/movies/spectre/  206647   \n3            http://www.thedarkknightrises.com/   49026   \n4          http://movies.disney.com/john-carter   49529   \n\n                                            keywords original_language  \\\n0  culture clash, future, space war, space colony...                en   \n1  ocean, drug abuse, exotic island, east india t...                en   \n2  spy, based on novel, secret agent, sequel, mi6...                en   \n3  dc comics, crime fighter, terrorist, secret id...                en   \n4  based on novel, mars, medallion, space travel,...                en   \n\n                             original_title  \\\n0                                    Avatar   \n1  Pirates of the Caribbean: At World's End   \n2                                   Spectre   \n3                     The Dark Knight Rises   \n4                               John Carter   \n\n                                            overview  popularity  \\\n0  In the 22nd century, a paraplegic Marine is di...    2.180234   \n1  Captain Barbossa, long believed to be dead, ha...    2.146384   \n2  A cryptic message from Bond’s past sends him o...    2.034936   \n3  Following the death of District Attorney Harve...    2.054280   \n4  John Carter is a war-weary, former military ca...    1.652507   \n\n                                production_companies  ... Adventure Action  \\\n0  Ingenious Film Partners, Twentieth Century Fox...  ...         1      1   \n1  Walt Disney Pictures, Jerry Bruckheimer Films,...  ...         1      1   \n2                     Columbia Pictures, Danjaq, B24  ...         1      1   \n3  Legendary Pictures, Warner Bros., DC Entertain...  ...         0      1   \n4                               Walt Disney Pictures  ...         1      1   \n\n   TV Movie  War Romance Documentary Science Fiction Western  Thriller  Drama  \n0         0    0       0           0               1       0         0      0  \n1         0    0       0           0               0       0         0      0  \n2         0    0       0           0               0       0         0      0  \n3         0    0       0           0               0       0         1      1  \n4         0    0       0           0               1       0         0      0  \n\n[5 rows x 43 columns]"
                    },
                    "execution_count": 370,
                    "metadata": {},
                    "output_type": "execute_result"
                }
            ],
            "source": [
                "# EDIT THIS CODE TO LOAD THE SAVED DF FROM THE LAST HOMEWORK\n",
                "df = pd.read_csv('movies_clean.csv')\n",
                "df.head()"
            ]
        },
        {
            "attachments": {},
            "cell_type": "markdown",
            "metadata": {},
            "source": [
                "\u003cdiv class=\"alert alert-block alert-danger\" style=\"color:black;background-color:#E7F4FA\"\u003e\n",
                "    \n",
                "### Exercise 1\n",
                "\n",
                "In Part 2 of this case study, we will primarily use the following two models: \n",
                "- Linear regression for prediction\n",
                "- k-Nearest Neighbours (kNN) for classification \n",
                "\n",
                "We will use linear regression to predict revenue, and we will use kNN to classify whether a movie was profitable or not.\n",
                "\n",
                "But first, we need to prepare the data to be used to perform regression using sklearn's implementation.\n",
                "\n",
                "#### Instructions\n",
                "\n",
                "- Define `regression_target` as `revenue` which is an entry in the original dataframe.\n",
                "- Define `regression_outcome` as the selection of the labels in the `revenue` column.\n",
                "- Use the `train_test_split()` function from sklearn to get indices (`itrain`, `itest`) so as to divide the original data. We will use `itrain` to index data to be used for training and `itest` to index data to be used for testing. Use a test size of 20\\%.\n",
                "\n",
                "\u003c/div\u003e"
            ]
        },
        {
            "cell_type": "code",
            "execution_count": 371,
            "metadata": {},
            "outputs": [],
            "source": [
                "# Define `regresssion_target` as 'revenue'\n",
                "regression_target = 'revenue'\n",
                "\n",
                "# Fetch the `regression_target` data from the df\n",
                "regression_outcome = df[regression_target]\n",
                "\n",
                "# Define a list containing the names of all features being used for model training\n",
                "all_features = ['budget', 'popularity', 'runtime', 'vote_count', 'vote_average', 'Action', 'Adventure', 'Fantasy', \n",
                "                  'Science Fiction', 'Crime', 'Drama', 'Thriller', 'Animation', 'Family', 'Western', 'Comedy', 'Romance', \n",
                "                  'Horror', 'Mystery', 'War', 'History', 'Music', 'Documentary', 'TV Movie', 'Foreign']\n",
                "\n",
                "#Fetch the dataframe containing data of all the features defined in `all_features`\n",
                "features_df = df[all_features]"
            ]
        },
        {
            "cell_type": "code",
            "execution_count": 372,
            "metadata": {},
            "outputs": [
                {
                    "name": "stdout",
                    "output_type": "stream",
                    "text": "[[6.87506132 1.66848836 1.98227123 ... 0.         0.         0.        ]\n [7.17609129 1.30715636 2.0211893  ... 0.         0.         0.        ]\n [7.54406806 1.17693043 2.05307844 ... 0.         0.         0.        ]\n ...\n [7.07918128 0.80124684 2.06069784 ... 0.         0.         0.        ]\n [8.09691002 2.04526175 2.18469143 ... 0.         0.         0.        ]\n [7.47712127 1.5175515  1.97772361 ... 0.         0.         0.        ]]\n"
                }
            ],
            "source": [
                "### edTest(test_1) ###\n",
                "## DO NOT REMOVE ABOVE LINE ##\n",
                "\n",
                "# Get the training and test data by performing train test split\n",
                "# using sklearn's `train_test_split()` with test size as 20%. and random_state=43\n",
                "\n",
                "# Note that we want to fetch the indices \n",
                "# therefore pass the range(len(df)) into the function \n",
                "itrain, itest =train_test_split(range(len(df)),test_size=0.2,random_state=43)\n",
                "\n",
                "# Using itrain, fetch the X_train values from features_df\n",
                "# HINT: use .iloc[itrain].values\n",
                "X_train =features_df.iloc[itrain].values\n",
                "\n",
                "# Using itrain, fetch the y_train values from regression_outcome\n",
                "y_train =regression_outcome.iloc[itrain].values\n",
                "\n",
                "# Using itest, fetch the X_test values from features_df\n",
                "X_test = features_df.iloc[itest].values\n",
                "print(X_test)\n",
                "\n",
                "# Using itest, fetch the y_test values from regression_outcome\n",
                "y_test = regression_outcome.iloc[itest].values\n",
                "#print(y_test)"
            ]
        },
        {
            "attachments": {},
            "cell_type": "markdown",
            "metadata": {},
            "source": [
                "\u003cdiv class=\"alert alert-block alert-danger\" style=\"color:black;background-color:#E7F4FA\"\u003e\n",
                "    \n",
                "### Exercise 2\n",
                "\n",
                "In this exercise, we will create a linear regression object, fit it on the training data and make predictions on the test data.\n",
                "We will then measure its performance by using a metric called `r2_score`.\n",
                "The `r2_score` is a measure of how well the linear regression describes the data (similar to accuracy in classification).\n",
                "Read more about `r2_score` [here.](https://towardsdatascience.com/statistics-for-machine-learning-r-squared-explained-425ddfebf667)\n",
                "\n",
                "For classification models in part 2, we will use accuracy as the performance measure.\n",
                "\n",
                "#### Instructions \n",
                "- Instantiate a `LinearRegression()` object and name it `linear_regression`.\n",
                "- Call its `.fit()` method on the `X_train,y_train` defined above.\n",
                "- Call its `.predict()` method on `X_test` and store the predictions as `y_pred`.\n",
                "- Use sklearn's implementation of `r2_score()` and report its value.\n",
                "\n",
                "\u003c/div\u003e"
            ]
        },
        {
            "cell_type": "code",
            "execution_count": 373,
            "metadata": {},
            "outputs": [
                {
                    "name": "stdout",
                    "output_type": "stream",
                    "text": "Model R2 Score is 0.46\n"
                }
            ],
            "source": [
                "### edTest(test_2) ###\n",
                "## DO NOT REMOVE ABOVE LINE ##\n",
                "\n",
                "# Instantiate a LinearRegression object using sklearn\n",
                "linear_regression = LinearRegression()\n",
                "\n",
                "# Fit X_train and y_train using linear_regression object\n",
                "\n",
                "linear_regression.fit(X_train,y_train)\n",
                "# Call predict on linear_regression object using X_test\n",
                "y_pred = linear_regression.predict(X_test)\n",
                "\n",
                "# Calculate r2_score by using sklearn's built-in function for the same\n",
                "r2score = r2_score(y_test,y_pred)\n",
                "print(f\"Model R2 Score is {r2score:.2f}\")"
            ]
        },
        {
            "attachments": {},
            "cell_type": "markdown",
            "metadata": {},
            "source": [
                "\u003cdiv class=\"alert alert-block alert-danger\" style=\"color:black;background-color:#E7F4FA\"\u003e\n",
                "    \n",
                "### Exercise 3\n",
                "\n",
                "In Exercise 2, we saw that predicting revenue was only moderately successful. It might be the case that predicting movies with actually zero revenue is difficult. \n",
                "\n",
                "In this exercise, we will exclude these movies, and re-run the analyses to determine if the fits improve. \n",
                "\n",
                "One may understand this as 'cleaning' the outliers, a step often performed in order to make sure that these extreme values do not mess with the data distribution. \n",
                "\n",
                "In this exercise, we will rerun the regression analysis for this subsetted dataset without the so-called 'outliers'.\n",
                "\n",
                "#### Instructions\n",
                "\n",
                "- Define `positive_revenue_df` as the subset of movies in `df` with `revenue` greater than zero.\n",
                "- Make a function that automates the splitting of the dataframes from before.\n",
                "\n",
                "\u003c/div\u003e"
            ]
        },
        {
            "cell_type": "code",
            "execution_count": 374,
            "metadata": {},
            "outputs": [],
            "source": [
                "# Fetch subset of df that contains 'revenue' \u003e 0\n",
                "positive_revenue_df =df[df.revenue \u003e 0]\n",
                "# Fetch the `regression_target` data from the positive_revenue_df\n",
                "regression_outcome =positive_revenue_df[regression_target]\n",
                "\n",
                "#Fetch the dataframe containing data of all the features defined in `all_features` above\n",
                "#remember to use `positive_revenue_df` instead\n",
                "features_df =positive_revenue_df[all_features]"
            ]
        },
        {
            "cell_type": "code",
            "execution_count": 375,
            "metadata": {},
            "outputs": [],
            "source": [
                "# As we will repeatedly split the data, let's modularize the train_test_split steps in function\n",
                "# Input: features_dataframe, regression_outcome, test_size\n",
                "# Output: X_train, y_train, X_test, y_test\n",
                "def get_datasets(features, outcome, test_size):\n",
                "    \n",
                "    # Get the training and test data by performing train test split as above\n",
                "    # Remember to use the test_size as mentioned in the function parameter and random_state = 43\n",
                "    itrain, itest =train_test_split(range(len(features)),test_size=test_size,random_state=43)\n",
                "    \n",
                "    # Using itrain, fetch the X_train values from features\n",
                "    X_train =  features.iloc[itrain].values\n",
                "    \n",
                "    # Using itrain, fetch the y_train values from outcome\n",
                "    y_train =outcome.iloc[itrain].values\n",
                "    \n",
                "    # Using itest, fetch the X_test values from features\n",
                "    X_test =features.iloc[itest].values\n",
                "    \n",
                "    # Using itest, fetch the y_test values from outcome\n",
                "    y_test = outcome.iloc[itest].values\n",
                "\n",
                "    return X_train, y_train, X_test, y_test"
            ]
        },
        {
            "cell_type": "code",
            "execution_count": 376,
            "metadata": {},
            "outputs": [
                {
                    "name": "stdout",
                    "output_type": "stream",
                    "text": "Model R2 Score is 0.64\n"
                }
            ],
            "source": [
                "### edTest(test_3) ###\n",
                "## DO NOT REMOVE ABOVE LINE ##\n",
                "\n",
                "# Call the `get_datasets` function on the `features_df` \n",
                "# with test size 20% and `regression_outcome`\n",
                "X_train, y_train, X_test, y_test =  get_datasets(features_df,regression_outcome,test_size=0.2)\n",
                "\n",
                "\n",
                "\n",
                "# Reinstantiate the regression model\n",
                "linear_regression =LinearRegression()\n",
                "\n",
                "# Fit X_train and y_train using linear_regression object\n",
                "linear_regression.fit(X_train,y_train)\n",
                "\n",
                "# Call predict on linear_regression object using X_test\n",
                "ypred=linear_regression.predict(X_test)\n",
                "\n",
                "# Calculate the r2_score using sklearn's built-in function\n",
                "# This score should not match the score from the previous section!\n",
                "r2score =r2_score(y_test,ypred)\n",
                "print(f\"Model R2 Score is {r2score:.2f}\")"
            ]
        },
        {
            "attachments": {},
            "cell_type": "markdown",
            "metadata": {},
            "source": [
                "\u003cdiv class=\"alert alert-block alert-danger\" style=\"color:black;background-color:#E7F4FA\"\u003e\n",
                "    \n",
                "## Section 2: Classification\n",
                "\n",
                "In this section, we will attempt to classify if a movie is `profitable` or not. To do so, we will use the k-Nearest neighbours classification algorithm. Below is an overview of the algorithm for performing k-NN classification.\n",
                "\n",
                "**k Nearest Neighbours Algorithm**\n",
                "\n",
                "1. Load the training data\n",
                "\n",
                "2. Initialize `k` to your chosen number of nearest neighbors.\n",
                "\n",
                "3. Calculate the distances between the test example and every training example using euclidean distances.\n",
                "\n",
                "4. Find the first `k` *nearest* training entries.\n",
                "\n",
                "5. Get the labels of the selected `k` entries.\n",
                "\n",
                "6. Get the most frequent label among the `k` entries.\n",
                "\n",
                "7. In case of tie, flip a coin and pick one of the two labels.\n",
                "\n",
                "![](https://i.ibb.co/zGWG1MT/knn-classify.png)\n",
                "\n",
                "Read [this](https://towardsdatascience.com/machine-learning-basics-with-the-k-nearest-neighbors-algorithm-6a6e71d01761) article for a through introduction to the kNN algorithm.\n",
                "\n",
                "\u003c/div\u003e"
            ]
        },
        {
            "attachments": {},
            "cell_type": "markdown",
            "metadata": {},
            "source": [
                "\u003cdiv class=\"alert alert-block alert-danger\" style=\"color:black;background-color:#E7F4FA\"\u003e\n",
                "    \n",
                "### Exercise 4\n",
                "\n",
                "Before you build your own kNN classifier, let us prepare the the data.\n",
                "\n",
                "#### Instructions \n",
                "\n",
                "- Define `classification_target` as `profitable` which is an entry in the original dataframe.\n",
                "- Define `classification_outcome` as the selection of the labels in the `profitable` column.\n",
                "- Use the same split (`itrain`, `itest`) as before but this time select the output on the `classification_outcome` instead and name it as `y_train_classification` and `y_test_classification`.\n",
                "\n",
                "\u003c/div\u003e"
            ]
        },
        {
            "cell_type": "code",
            "execution_count": 377,
            "metadata": {},
            "outputs": [],
            "source": [
                "# Define `classification_target` as 'profitable'\n",
                "classification_target ='profitable'\n",
                "\n",
                "# Fetch the `classification_target` data from the df\n",
                "classification_outcome = df[classification_target]\n",
                "\n",
                "# Define a list containing the names of all features being used for model training\n",
                "all_features = ['budget', 'popularity', 'runtime', 'vote_count', 'vote_average', 'Action', 'Adventure', 'Fantasy', \n",
                "                  'Science Fiction', 'Crime', 'Drama', 'Thriller', 'Animation', 'Family', 'Western', 'Comedy', 'Romance', \n",
                "                  'Horror', 'Mystery', 'War', 'History', 'Music', 'Documentary', 'TV Movie', 'Foreign']\n",
                "\n",
                "#Fetch the dataframe containing data of all the features defined in `all_features`\n",
                "features_df =df[all_features]"
            ]
        },
        {
            "cell_type": "code",
            "execution_count": 378,
            "metadata": {},
            "outputs": [],
            "source": [
                "### edTest(test_4) ###\n",
                "## DO NOT REMOVE ABOVE LINE ##\n",
                "\n",
                "# Call the `get_datasets` function on the `features_df`, `classification_outcome`\n",
                "# and with test size 20% \n",
                "X_train, y_train_classification, X_test, y_test_classification = get_datasets(features_df,classification_outcome,test_size=0.2)"
            ]
        },
        {
            "attachments": {},
            "cell_type": "markdown",
            "metadata": {},
            "source": [
                "\u003cdiv class=\"alert alert-block alert-danger\" style=\"color:black;background-color:#E7F4FA\"\u003e\n",
                "    \n",
                "### Exercise 5\n",
                "\n",
                "It's finally time to build your `myKNN` classifier class!\n",
                "\n",
                "#### Instructions \n",
                "- follow the instructions is the `__init__` docstring\n",
                "- Declare an instance method `fit`, which intializes two attributes, `self.X_train` and `self.y_train`.\n",
                "- Declare an internal instance method called `_vote` which performs voting between the k nearest labels and returns an overall predicted label based on the count.\n",
                "- Declare an instance method `predict` which takes test values, performs the k nearest neighbors search using the algorithm mentioned above, and returns a set of predicted labels. You will need your `_vote` method here. \n",
                "\n",
                "Follow the docstrings more for detailed instructions.\n",
                "\n",
                "\u003c/div\u003e"
            ]
        },
        {
            "cell_type": "code",
            "execution_count": 379,
            "metadata": {},
            "outputs": [],
            "source": [
                "np.random.seed(310)\n",
                "\n",
                "#Create your myKNN Class\n",
                "class myKNN:\n",
                "    \n",
                "    def __init__(self, n_neighbors=3):\n",
                "        \"\"\"\n",
                "        Initializes the classifier with the number of neighbors. \n",
                "        (Set a default value of 3). \n",
                "        Save the result as k. \n",
                "        \"\"\"\n",
                "        self.k = n_neighbors\n",
                "    \n",
                "    def fit(self, X_train, y_train):\n",
                "        \"\"\"\n",
                "        Initializes instance variables X_train and y_train with \n",
                "        respective values.   .    \n",
                "        \"\"\"\n",
                "        self.X_train = X_train\n",
                "        self.y_train = y_train\n",
                "        \n",
                "    def _vote(self,labels):\n",
                "        \"\"\"\n",
                "        Takes the labels of the nearest neighbors and returns the majority vote.\n",
                "        e.g. For 4 nearest neighbors and labels [1,1,1,0], _vote() will return 1.\n",
                "        INSTRUCTIONS\n",
                "        1. take the mean vote for the self.k number of labels.\n",
                "        2. if there is a tie (mean = 0.5), add to or subtract from `mean_vote` a random positive or negative amount\n",
                "        3. if the mean vote is greater than 0.5 return 1, else return 0\n",
                "        \"\"\"\n",
                "\n",
                "        # 1\n",
                "        mean_vote = np.sum(labels)/self.k\n",
                "\n",
                "        # 2\n",
                "        if mean_vote == 0.5:\n",
                "            mean_vote += np.random.choice()\n",
                "        elif mean_vote \u003e0.5:\n",
                "            return 1\n",
                "        else:\n",
                "            return 0\n",
                "        # 3\n",
                "        return  mean_vote\n",
                "        \n",
                "    def predict(self,X_test):\n",
                "        \"\"\"If you have trouble with this exercise take a look again at exercise 2 from session 7: Fundamentals of numpy for datascience\n",
                "        INSTRUCTIONS\n",
                "        1. Calculate the distances between the test example and every training example using euclidean distances.\n",
                "        2. Find the first k nearest training entries.\n",
                "        Use np.argsort to find the indices of the nearest labels. Documentation for np.argsort here: https://numpy.org/doc/stable/reference/generated/numpy.argsort.html\n",
                "        3. cast the np.array to integers:\n",
                "        4. apply the _vote method along the proper axis such that you return the majority vote\n",
                "           for the nearest neighbors of each point in the test set\n",
                "           Documentation for `np.apply_along_axis here =\u003e https://numpy.org/doc/stable/reference/generated/numpy.apply_along_axis.html\n",
                "        \"\"\"\n",
                "        #1\n",
                "        comparisons = np.sqrt(((self.X_train.reshape(1124, 1, 25) - X_test)**2).sum(axis=2))\n",
                "\n",
                "        # 2\n",
                "        nearest_neighbors = np.argsort(comparisons, axis=1)[:]\n",
                "\n",
                "        # 3\n",
                "        nearest_labels = np.array(nearest_neighbors)\n",
                "        nearest_labels = nearest_labels.astype(int)\n",
                "        \n",
                "        # 4\n",
                "        predictions = np.apply_along_axis(self._vote, axis=0, arr = nearest_labels)\n",
                "        \n",
                "        return predictions\n",
                "        pass\n",
                "                "
            ]
        },
        {
            "attachments": {},
            "cell_type": "markdown",
            "metadata": {},
            "source": [
                "\u003cdiv class=\"alert alert-block alert-danger\" style=\"color:black;background-color:#E7F4FA\"\u003e\n",
                "    \n",
                "### Exercise 6\n",
                "\n",
                "Time to use your `myKNN` classifier class to instantiate a classifer and make a prediction.\n",
                "\n",
                "#### Instructions \n",
                "\n",
                "- Intialize an object of `myKNN` and name it `knn_classifier` with `k=4`.\n",
                "- Call the `.fit()` method on `X_train` and `y_train`.\n",
                "- Call the `.predict()` method on `X_test` and store the predictions as `classification_predictions`.\n",
                "- Call the `accuracy_score` function and report the accuracy of the predictions as compared to `y_test`.\n",
                "\n",
                "\u003c/div\u003e"
            ]
        },
        {
            "cell_type": "code",
            "execution_count": 380,
            "metadata": {},
            "outputs": [
                {
                    "name": "stdout",
                    "output_type": "stream",
                    "text": "[1 1 1 1 1 1 1 1 1 1 1 1 1 1 1 1 1 1 1 1 1 1 1 1 1 1 1 1 1 1 1 1 1 1 1 1 1\n 1 1 1 1 1 1 1 1 1 1 1 1 1 1 1 1 1 1 1 1 1 1 1 1 1 1 1 1 1 1 1 1 1 1 1 1 1\n 1 1 1 1 1 1 1 1 1 1 1 1 1 1 1 1 1 1 1 1 1 1 1 1 1 1 1 1 1 1 1 1 1 1 1 1 1\n 1 1 1 1 1 1 1 1 1 1 1 1 1 1 1 1 1 1 1 1 1 1 1 1 1 1 1 1 1 1 1 1 1 1 1 1 1\n 1 1 1 1 1 1 1 1 1 1 1 1 1 1 1 1 1 1 1 1 1 1 1 1 1 1 1 1 1 1 1 1 1 1 1 1 1\n 1 1 1 1 1 1 1 1 1 1 1 1 1 1 1 1 1 1 1 1 1 1 1 1 1 1 1 1 1 1 1 1 1 1 1 1 1\n 1 1 1 1 1 1 1 1 1 1 1 1 1 1 1 1 1 1 1 1 1 1 1 1 1 1 1 1 1 1 1 1 1 1 1 1 1\n 1 1 1 1 1 1 1 1 1 1 1 1 1 1 1 1 1 1 1 1 1 1 1]\nAccuracy is 0.77\n"
                }
            ],
            "source": [
                "### edTest(test_5) ###\n",
                "## DO NOT REMOVE ABOVE LINE ##\n",
                "\n",
                "# Instantiate myKNN Classifier with 4 neighbours\n",
                "knn_classifier =myKNN(4)\n",
                "\n",
                "# Fit the trainin data on your newly instantiated classifier \n",
                "knn_classifier.fit(X_train,y_train_classification)\n",
                "# Predict on test set using the trained classifer\n",
                "classification_predictions =knn_classifier.predict(X_test)\n",
                "print(classification_predictions)\n",
                "\n",
                "# Get the accuracy score by using `accuracy_score` from sklearn.metrics\n",
                "accuracy = accuracy_score(y_test_classification,classification_predictions)\n",
                "print(f\"Accuracy is {accuracy:.2f}\")"
            ]
        },
        {
            "attachments": {},
            "cell_type": "markdown",
            "metadata": {},
            "source": [
                "\u003cdiv class=\"alert alert-block alert-danger\" style=\"color:black;background-color:#E7F4FA\"\u003e\n",
                "    \n",
                "### Exercise 7\n",
                "\n",
                "Compare your implementation with the `sklearn`'s version of kNN classifier.\n",
                "\n",
                "#### Instructions \n",
                "\n",
                "- Intialize the sklearn classifier with `n_neighbors=4` with the variable name `sknn`.\n",
                "- Call the `.fit()` method of the classifier. \n",
                "- Call the `.predict()` method on `X_test` and store the predicted labels as `skclassification_predictions`.\n",
                "- Call the `accuracy_score` function to compare the predictions with the test set.\n",
                "- Compare the predictions of your custom classifier with the sklearn's implementation.\n",
                "\n",
                "\u003c/div\u003e"
            ]
        },
        {
            "cell_type": "code",
            "execution_count": 381,
            "metadata": {},
            "outputs": [
                {
                    "name": "stdout",
                    "output_type": "stream",
                    "text": "Accuracy is 0.76\n"
                }
            ],
            "source": [
                "### edTest(test_6) ###\n",
                "## DO NOT REMOVE ABOVE LINE ##\n",
                "\n",
                "from sklearn.neighbors import KNeighborsClassifier\n",
                "\n",
                "# Instantiate KNeighborsClassifier with 4 neighbours\n",
                "sknn = KNeighborsClassifier(4)\n",
                "\n",
                "# Fit the training data\n",
                "sknn.fit(X_train,y_train_classification)\n",
                "\n",
                "# Predict on test set using the trained classifer\n",
                "skclassification_predictions =sknn.predict(X_test)\n",
                "\n",
                "# Get the accuracy score by using `accuracy_score` from sklearn.metrics\n",
                "accuracy = accuracy_score(y_test_classification,skclassification_predictions)\n",
                "print(f\"Accuracy is {accuracy:.2f}\")"
            ]
        },
        {
            "cell_type": "code",
            "execution_count": 382,
            "metadata": {},
            "outputs": [
                {
                    "name": "stdout",
                    "output_type": "stream",
                    "text": "False\n"
                }
            ],
            "source": [
                "### edTest(test_7) ###\n",
                "## DO NOT REMOVE ABOVE LINE ##\n",
                "\n",
                "# Checking to see if predictions from both the classifiers are same\n",
                "result = all(skclassification_predictions == classification_predictions)\n",
                "print(result)"
            ]
        },
        {
            "attachments": {},
            "cell_type": "markdown",
            "metadata": {},
            "source": [
                "### ⏸ Pause \u0026 Think\n",
                "\n",
                "Change the no. of neighbours from an 4 to 3 and perform comparisons on custom classifier vs. sklearn's classifier. Are the predictions still the same? What is the pattern you are observing?\n",
                "\n",
                "```\n",
                "A. Predictions are same for both classifiers when k is odd. \n",
                "B. Predictions are same for both classifiers when k is even. \n",
                "C. Predictions are same for both classifiers when k is prime. \n",
                "D. Predictions are same for both classifiers when k is multiple of 23.\n",
                "```"
            ]
        },
        {
            "cell_type": "code",
            "execution_count": 383,
            "metadata": {},
            "outputs": [
                {
                    "name": "stdout",
                    "output_type": "stream",
                    "text": "False\n"
                }
            ],
            "source": [
                "### edTest(test_8) ###\n",
                "## DO NOT REMOVE ABOVE LINE ##\n",
                "\n",
                "#-------------CUSTOM---------------#\n",
                "\n",
                "# Instantiate myKNN Classifier with 3 neighbours\n",
                "knn_classifier = myKNN(3)\n",
                "\n",
                "# Fit the training data\n",
                "knn_classifier.fit(X_train,y_train_classification)\n",
                "\n",
                "# Predict on the test set using the trained classifer\n",
                "classification_predictions = knn_classifier.predict(X_test)\n",
                "\n",
                "#------------SKLEARN--------------#\n",
                "\n",
                "# Instantiate KNeighborsClassifier with 3 neighbours\n",
                "sknn = KNeighborsClassifier()\n",
                "\n",
                "# Fit the training data \n",
                "sknn.fit(X_train,y_train_classification)\n",
                "\n",
                "# Predict on the test set \n",
                "skclassification_predictions =sknn.predict(X_test)\n",
                "\n",
                "#------------COMPARISON--------------#\n",
                "# Checking to see if predictions from both the classifiers are same\n",
                "print(all(skclassification_predictions == classification_predictions))\n",
                "\n",
                "\n",
                "#Mention your answer for the Pause \u0026 Think question here - for example: 'A'\n",
                "answer = 'A'"
            ]
        },
        {
            "attachments": {},
            "cell_type": "markdown",
            "metadata": {},
            "source": [
                "## Investigation of the behaviour obeserved\n",
                "\n",
                "Isn't it surprising to see the difference in the accuracy between odd and even no. of neighbours in our custom versus that of sklearn? Let's go investigate why this is happening."
            ]
        },
        {
            "cell_type": "code",
            "execution_count": 384,
            "metadata": {},
            "outputs": [],
            "source": [
                "# Function to flip labels i.e if ground truth label is 1, it will now be 0 \n",
                "# and vice versa. \n",
                "def flip_labels(labels):\n",
                "    return (labels + 1)%2"
            ]
        },
        {
            "cell_type": "code",
            "execution_count": 385,
            "metadata": {},
            "outputs": [],
            "source": [
                "# Helper function to fit and run the data based on the input for custom or sklearn classifier\n",
                "def fit_and_run(y_train, y_test, sk = True, n_neighbors = 3):\n",
                "    if sk:\n",
                "        sknn_ = KNeighborsClassifier(n_neighbors=n_neighbors)\n",
                "        sknn_.fit(X_train,y_train)\n",
                "        preds = sknn_.predict(X_test)\n",
                "        acc_score = accuracy_score(preds,y_test)\n",
                "        print(f'sklearn {acc_score}')\n",
                "        return acc_score\n",
                "    else:\n",
                "        knn_ = myKNN(n_neighbors=n_neighbors)\n",
                "        knn_.fit(X_train,y_train)\n",
                "        preds = knn_.predict(X_test)\n",
                "        acc_score = accuracy_score(preds,y_test)\n",
                "        print(f'myknn {acc_score}')\n",
                "        return acc_score"
            ]
        },
        {
            "cell_type": "code",
            "execution_count": 386,
            "metadata": {},
            "outputs": [
                {
                    "name": "stdout",
                    "output_type": "stream",
                    "text": "sklearn 0.7624113475177305\nsklearn 0.7943262411347518\n"
                },
                {
                    "data": {
                        "text/plain": "0.7943262411347518"
                    },
                    "execution_count": 386,
                    "metadata": {},
                    "output_type": "execute_result"
                }
            ],
            "source": [
                "# Call the function defined below to  for sklearn\n",
                "n_neighbors = 4\n",
                "fit_and_run(y_train_classification, y_test_classification ,True, n_neighbors)\n",
                "fit_and_run(flip_labels(y_train_classification), flip_labels(y_test_classification),True, n_neighbors)"
            ]
        },
        {
            "cell_type": "code",
            "execution_count": 387,
            "metadata": {},
            "outputs": [
                {
                    "name": "stdout",
                    "output_type": "stream",
                    "text": "myknn 0.7659574468085106\nmyknn 0.23404255319148937\n"
                },
                {
                    "data": {
                        "text/plain": "0.23404255319148937"
                    },
                    "execution_count": 387,
                    "metadata": {},
                    "output_type": "execute_result"
                }
            ],
            "source": [
                "# Call the function defined above for custom implementation\n",
                "fit_and_run(y_train_classification, y_test_classification, False, n_neighbors )\n",
                "fit_and_run(flip_labels(y_train_classification), flip_labels(y_test_classification), False, n_neighbors)"
            ]
        },
        {
            "attachments": {},
            "cell_type": "markdown",
            "metadata": {},
            "source": [
                "Flipping of labels should not necessarily affect the accuracy of the model since at the end, the model is looking at the same thing. To understand this better, imagine you are classifying if an image is that of a dog or cat. In one case the dog label can be represented as 1 and cat as 0, or vice versa. \n",
                "\n",
                "In both these cases, there is no impact on model training/accuracy since it is merely a representation choice. But why is it that we observe a difference in accuracy in sklearn's classifier?"
            ]
        },
        {
            "cell_type": "code",
            "execution_count": 388,
            "metadata": {},
            "outputs": [
                {
                    "name": "stdout",
                    "output_type": "stream",
                    "text": "myknn 0.7659574468085106\nmyknn 0.23404255319148937\nsklearn 0.776595744680851\nsklearn 0.776595744680851\nmyknn 0.7659574468085106\nmyknn 0.23404255319148937\nsklearn 0.7446808510638298\nsklearn 0.8049645390070922\nmyknn 0.7659574468085106\nmyknn 0.23404255319148937\nsklearn 0.7836879432624113\nsklearn 0.7836879432624113\nmyknn 0.7659574468085106\nmyknn 0.23404255319148937\nsklearn 0.7624113475177305\nsklearn 0.7943262411347518\nmyknn 0.7659574468085106\nmyknn 0.23404255319148937\nsklearn 0.7943262411347518\nsklearn 0.7943262411347518\nmyknn 0.7659574468085106\nmyknn 0.23404255319148937\nsklearn 0.7978723404255319\nsklearn 0.8014184397163121\nmyknn 0.7659574468085106\nmyknn 0.23404255319148937\nsklearn 0.8120567375886525\nsklearn 0.8120567375886525\nmyknn 0.7659574468085106\nmyknn 0.23404255319148937\nsklearn 0.8085106382978723\nsklearn 0.8049645390070922\nmyknn 0.7659574468085106\nmyknn 0.23404255319148937\nsklearn 0.8085106382978723\nsklearn 0.8085106382978723\nmyknn 0.7659574468085106\nmyknn 0.23404255319148937\nsklearn 0.7907801418439716\nsklearn 0.8120567375886525\nmyknn 0.7659574468085106\nmyknn 0.23404255319148937\nsklearn 0.8156028368794326\nsklearn 0.8156028368794326\nmyknn 0.7659574468085106\nmyknn 0.23404255319148937\nsklearn 0.7978723404255319\nsklearn 0.8156028368794326\nmyknn 0.7659574468085106\nmyknn 0.23404255319148937\nsklearn 0.7978723404255319\nsklearn 0.7978723404255319\nmyknn 0.7659574468085106\nmyknn 0.23404255319148937\nsklearn 0.8049645390070922\nsklearn 0.8014184397163121\nmyknn 0.7659574468085106\nmyknn 0.23404255319148937\nsklearn 0.8049645390070922\nsklearn 0.8049645390070922\nmyknn 0.7659574468085106\nmyknn 0.23404255319148937\nsklearn 0.8049645390070922\nsklearn 0.8049645390070922\nmyknn 0.7659574468085106\nmyknn 0.23404255319148937\nsklearn 0.8049645390070922\nsklearn 0.8049645390070922\nmyknn 0.7659574468085106\nmyknn 0.23404255319148937\nsklearn 0.7978723404255319\nsklearn 0.8085106382978723\nmyknn 0.7659574468085106\nmyknn 0.23404255319148937\nsklearn 0.8049645390070922\nsklearn 0.8049645390070922\nmyknn 0.7659574468085106\nmyknn 0.23404255319148937\nsklearn 0.8085106382978723\nsklearn 0.8120567375886525\nmyknn 0.7659574468085106\nmyknn 0.23404255319148937\nsklearn 0.8191489361702128\nsklearn 0.8191489361702128\nmyknn 0.7659574468085106\nmyknn 0.23404255319148937\nsklearn 0.8049645390070922\nsklearn 0.8191489361702128\nmyknn 0.7659574468085106\nmyknn 0.23404255319148937\nsklearn 0.8156028368794326\nsklearn 0.8156028368794326\nmyknn 0.7659574468085106\nmyknn 0.23404255319148937\nsklearn 0.8085106382978723\nsklearn 0.8156028368794326\nmyknn 0.7659574468085106\nmyknn 0.23404255319148937\nsklearn 0.8226950354609929\nsklearn 0.8226950354609929\nmyknn 0.7659574468085106\nmyknn 0.23404255319148937\nsklearn 0.8262411347517731\nsklearn 0.8191489361702128\nmyknn 0.7659574468085106\nmyknn 0.23404255319148937\nsklearn 0.8156028368794326\nsklearn 0.8156028368794326\nmyknn 0.7659574468085106\nmyknn 0.23404255319148937\nsklearn 0.8120567375886525\nsklearn 0.8156028368794326\nmyknn 0.7659574468085106\nmyknn 0.23404255319148937\nsklearn 0.8085106382978723\nsklearn 0.8085106382978723\nmyknn 0.7659574468085106\nmyknn 0.23404255319148937\nsklearn 0.8120567375886525\nsklearn 0.8156028368794326\nmyknn 0.7659574468085106\nmyknn 0.23404255319148937\nsklearn 0.8156028368794326\nsklearn 0.8156028368794326\nmyknn 0.7659574468085106\nmyknn 0.23404255319148937\nsklearn 0.8156028368794326\nsklearn 0.8156028368794326\nmyknn 0.7659574468085106\nmyknn 0.23404255319148937\nsklearn 0.8156028368794326\nsklearn 0.8156028368794326\nmyknn 0.7659574468085106\nmyknn 0.23404255319148937\nsklearn 0.8156028368794326\nsklearn 0.8191489361702128\nmyknn 0.7659574468085106\nmyknn 0.23404255319148937\nsklearn 0.8156028368794326\nsklearn 0.8156028368794326\nmyknn 0.7659574468085106\nmyknn 0.23404255319148937\nsklearn 0.8226950354609929\nsklearn 0.8156028368794326\nmyknn 0.7659574468085106\nmyknn 0.23404255319148937\nsklearn 0.8191489361702128\nsklearn 0.8191489361702128\nmyknn 0.7659574468085106\nmyknn 0.23404255319148937\nsklearn 0.8191489361702128\nsklearn 0.8156028368794326\nmyknn 0.7659574468085106\nmyknn 0.23404255319148937\nsklearn 0.8120567375886525\nsklearn 0.8120567375886525\nmyknn 0.7659574468085106\nmyknn 0.23404255319148937\nsklearn 0.8156028368794326\nsklearn 0.8156028368794326\nmyknn 0.7659574468085106\nmyknn 0.23404255319148937\nsklearn 0.8226950354609929\nsklearn 0.8226950354609929\nmyknn 0.7659574468085106\nmyknn 0.23404255319148937\nsklearn 0.8226950354609929\nsklearn 0.8226950354609929\nmyknn 0.7659574468085106\nmyknn 0.23404255319148937\nsklearn 0.8226950354609929\nsklearn 0.8226950354609929\nmyknn 0.7659574468085106\nmyknn 0.23404255319148937\nsklearn 0.8156028368794326\nsklearn 0.8262411347517731\nmyknn 0.7659574468085106\nmyknn 0.23404255319148937\nsklearn 0.8226950354609929\nsklearn 0.8226950354609929\nmyknn 0.7659574468085106\nmyknn 0.23404255319148937\nsklearn 0.8191489361702128\nsklearn 0.8226950354609929\nmyknn 0.7659574468085106\nmyknn 0.23404255319148937\nsklearn 0.8191489361702128\nsklearn 0.8191489361702128\nmyknn 0.7659574468085106\nmyknn 0.23404255319148937\nsklearn 0.8262411347517731\nsklearn 0.8156028368794326\nmyknn 0.7659574468085106\nmyknn 0.23404255319148937\nsklearn 0.8226950354609929\nsklearn 0.8226950354609929\n"
                }
            ],
            "source": [
                "# Run over several values of k and with the labels flipped\n",
                "knn = []\n",
                "knn_flipped=[]\n",
                "sklearn = []\n",
                "sklearn_flipped=[]\n",
                "\n",
                "for n_neighbors in range(1, 50):\n",
                "    knn1 = fit_and_run(y_train_classification, y_test_classification, False, n_neighbors )\n",
                "    knn2 = fit_and_run(flip_labels(y_train_classification), flip_labels(y_test_classification), False, n_neighbors)\n",
                "    sk1 = fit_and_run(y_train_classification, y_test_classification, True, n_neighbors )\n",
                "    sk2 = fit_and_run(flip_labels(y_train_classification), flip_labels(y_test_classification), True, n_neighbors = n_neighbors)   \n",
                "    knn.append(knn1)\n",
                "    knn_flipped.append(knn2)\n",
                "    sklearn.append(sk1)\n",
                "    sklearn_flipped.append(sk2)"
            ]
        },
        {
            "cell_type": "code",
            "execution_count": 389,
            "metadata": {},
            "outputs": [
                {
                    "data": {
                        "image/png": "[encoded data removed]",
                        "text/plain": "\u003cFigure size 864x288 with 2 Axes\u003e"
                    },
                    "metadata": {
                        "needs_background": "light"
                    },
                    "output_type": "display_data"
                }
            ],
            "source": [
                "# Run this cell below to visualize the output\n",
                "import matplotlib.pyplot as plt\n",
                "fig, ax = plt.subplots(1,2,figsize=(12,4))\n",
                "ax[0].plot(sklearn, '--',label = 'Original labels',color = '#FF2F92',lw=2)\n",
                "ax[0].plot(sklearn_flipped, '--',label = 'Labels flipped',color='darkblue',lw=2)\n",
                "ax[0].set_title('Scikitlearn implementation',fontsize=14)\n",
                "ax[1].plot(knn,label='Original labels',color='#FF2F92',lw=2)\n",
                "ax[1].plot(knn_flipped,label='Labels flipped',color='darkblue',lw=2)\n",
                "ax[1].set_title('Custom implementation',fontsize=14)\n",
                "\n",
                "for i in ax:\n",
                "    i.legend()"
            ]
        },
        {
            "attachments": {},
            "cell_type": "markdown",
            "metadata": {},
            "source": [
                "Upon investigation of the method employed to classify labels that are exactly mid point between two choices, sklearn's classifier is made to choose the default answer as the least-value label. \n",
                "\n",
                "For example, if we had [1,0,1,0,1,0], where there are equal numbers of 1 and equal numbers of 0, what would the KNN Classifer classify this as? In the case of sklearn's implementation it seems to be taking 0, the least-value label. By obersving the last graph visualized, clearly the accuracy in sklearn seems to be hindered due to this method of implementation. \n",
                "\n",
                "However, when you implemented your own KNNClassifer, remember that in the case of an equal mean case, we randomly add or subract a number from the `mean_vote`. This has improved the accuracy, allowing for the model to perform relatively better than sklearn's implementation! "
            ]
        }
    ]
}
