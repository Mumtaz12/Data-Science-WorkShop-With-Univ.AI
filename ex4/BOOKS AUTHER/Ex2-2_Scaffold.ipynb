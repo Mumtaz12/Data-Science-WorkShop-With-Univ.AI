{
    "metadata": {
        "kernelspec": {
            "name": "python3",
            "display_name": "Python 3 (ipykernel)",
            "language": "python"
        }
    },
    "nbformat": 4,
    "nbformat_minor": 2,
    "cells": [
        {
            "attachments": {},
            "cell_type": "markdown",
            "metadata": {},
            "source": [
                "# The Book Keeper's Apprentice - List \u0026 Dict Comprehension\n",
                "\n",
                ""
            ]
        },
        {
            "cell_type": "code",
            "execution_count": 1,
            "metadata": {},
            "outputs": [],
            "source": [
                "# Importing necessary libraries\n",
                "from pprint import pprint\n",
                "import numpy as np\n",
                "import pickle"
            ]
        },
        {
            "cell_type": "code",
            "execution_count": 2,
            "metadata": {},
            "outputs": [],
            "source": [
                "# Load the pickle file containing the dictionary containing - \n",
                "# {Key --\u003e Author Name; Value --\u003e No. of books they've written} \n",
                "with open('authors_books_freq.pkl', 'rb') as handle:\n",
                "    authors_books_freq = pickle.load(handle)"
            ]
        },
        {
            "attachments": {},
            "cell_type": "markdown",
            "metadata": {},
            "source": [
                "## Part 1 - Average number of books written by the authors\n",
                "\n",
                "Using list comprehension, find out the average books written by an author."
            ]
        },
        {
            "cell_type": "code",
            "execution_count": 3,
            "metadata": {},
            "outputs": [
                {
                    "name": "stdout",
                    "output_type": "stream",
                    "text": "The average amount of books written is 13.416212372600143.\n"
                }
            ],
            "source": [
                "### edTest(test_1) ###\n",
                "## DO NOT REMOVE ABOVE LINE ##\n",
                "\n",
                "# Using list comprehension, store values of the dict in a new list\n",
                "values_list = [value for (key,value) in authors_books_freq.items()]\n",
                "\n",
                "# Calulcating average\n",
                "avg_books = sum(values_list)/len(values_list)\n",
                "\n",
                "print(f\"The average amount of books written is {avg_books}.\")"
            ]
        },
        {
            "attachments": {},
            "cell_type": "markdown",
            "metadata": {},
            "source": [
                "## Part 2 - Total count of books written by authors whose first name is `\"Charles\"`\n",
                "\n",
                "Using list comprehension, count all the books written by authors whose first name is \"Charles\".\n",
                ""
            ]
        },
        {
            "cell_type": "code",
            "execution_count": 4,
            "metadata": {},
            "outputs": [
                {
                    "name": "stdout",
                    "output_type": "stream",
                    "text": "The total number of books written by authors containing the name 'Charles' is 514.\n"
                }
            ],
            "source": [
                "### edTest(test_2) ###\n",
                "## DO NOT REMOVE ABOVE LINE ##\n",
                "\n",
                "# If the name of the author contains a \"Charles\", store the number of books written\n",
                "# by that author in out_list. Use list comprehension.\n",
                "out_list = [ value for (key,value) in authors_books_freq.items() if 'Charles' in key]\n",
                "\n",
                "# Count the total number of books in `out_list`\n",
                "count_of_books = sum(out_list)\n",
                "\n",
                "print(f\"The total number of books written by authors containing the name 'Charles' is {count_of_books}.\")"
            ]
        },
        {
            "attachments": {},
            "cell_type": "markdown",
            "metadata": {},
            "source": [
                "## Part 3 - Ratio of authors whose name starts with a `\"William\"`.\n",
                "\n",
                "Create a list using list comprehension where you store \"Found a William\" when the author's name starts with William else store \"Not a William\". Proceed to then calculate the ratio of \"Found a William\" to \"Not a William\"."
            ]
        },
        {
            "cell_type": "code",
            "execution_count": 5,
            "metadata": {},
            "outputs": [
                {
                    "name": "stdout",
                    "output_type": "stream",
                    "text": "1.68% of all authors in our list have 'William' in their name.\n"
                }
            ],
            "source": [
                "### edTest(test_3) ###\n",
                "## DO NOT REMOVE ABOVE LINE ##\n",
                "\n",
                "# Perform list comprehension\n",
                "out_list = [1 if 'William' in key else 0 for (key,value) in authors_books_freq.items() ]\n",
                "\n",
                "# Calculate ratio of people with William as the first name to the authors who are otherwise\n",
                "ratio = sum(out_list)/len(out_list)\n",
                "\n",
                "print(f\"{ratio*100:0.2f}% of all authors in our list have 'William' in their name.\")"
            ]
        },
        {
            "attachments": {},
            "cell_type": "markdown",
            "metadata": {},
            "source": [
                "## Part 4 - Creating a new dict containing info on \"Experts\" and \"Novice\"\n",
                "\n",
                "Create a new dict that contains the following:\n",
                "+ key ---\u003e the authors name \n",
                "+ value ---\u003e \"Expert\" if the no. of books written is more than 10 else \"Novice\"\n",
                "\n",
                "After creating the dict, print the ratio of to \"Novice\"to \"Expert\"."
            ]
        },
        {
            "cell_type": "code",
            "execution_count": 6,
            "metadata": {},
            "outputs": [
                {
                    "name": "stdout",
                    "output_type": "stream",
                    "text": "The ratio of Expert to Novice is 4.089264173703257\n"
                }
            ],
            "source": [
                "# Using dict comprehension\n",
                "new_dict = {key: \"Expert\" if value \u003e 10 else \"Novice\" for (key, value) in authors_books_freq.items()}\n",
                "\n",
                "# Calculate the ratio of \"Novice\" to \"Expert\" and print the value\n",
                "ratio = list(new_dict.values()).count('Novice')/list(new_dict.values()).count('Expert')\n",
                "print(f\"The ratio of Novice to Expert is {ratio}\")"
            ]
        },
        {
            "attachments": {},
            "cell_type": "markdown",
            "metadata": {},
            "source": [
                "### ⏸ The Expert of them all!\n",
                "\n",
                "According to `authors_books_freq`, which author has the highest number of books attributed to him/her/them from the given options?\n",
                "#### A. `Roald Dahl`\n",
                "#### B. `Mario Vargas Llosa`\n",
                "#### C. `Pavlos Protopopas`\n",
                "#### D. `Charles Dickens`\n",
                ""
            ]
        },
        {
            "cell_type": "code",
            "execution_count": 7,
            "metadata": {},
            "outputs": [],
            "source": [
                "### edTest(test_5) ###\n",
                "## DO NOT REMOVE ABOVE LINE ##\n",
                "\n",
                "# Submit an answer choice as a string below \n",
                "# (eg. if you choose option C, put 'C')\n",
                "\n",
                "your_answer = 'B'"
            ]
        }
    ]
}
