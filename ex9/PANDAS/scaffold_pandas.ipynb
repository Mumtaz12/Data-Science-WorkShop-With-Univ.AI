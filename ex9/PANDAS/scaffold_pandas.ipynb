{
    "metadata": {
        "kernelspec": {
            "name": "python3",
            "display_name": "Python 3 (ipykernel)",
            "language": "python"
        }
    },
    "nbformat": 4,
    "nbformat_minor": 4,
    "cells": [
        {
            "cell_type": "code",
            "execution_count": 2,
            "metadata": {},
            "outputs": [],
            "source": [
                "import pandas as pd"
            ]
        },
        {
            "cell_type": "code",
            "execution_count": 3,
            "metadata": {},
            "outputs": [],
            "source": [
                "# Use the pd.read_csv() method to load a dataframe\n",
                "# We can load .csv files, but also .zip files which contain .csv files\n",
                "# Load the file 'data/mini_cast.zip'\n",
                "df = pd.read_csv('data/mini_cast.zip')\n",
                ""
            ]
        },
        {
            "cell_type": "code",
            "execution_count": 4,
            "metadata": {},
            "outputs": [
                {
                    "data": {
                        "text/html": "\u003cdiv\u003e\n\u003cstyle scoped\u003e\n    .dataframe tbody tr th:only-of-type {\n        vertical-align: middle;\n    }\n\n    .dataframe tbody tr th {\n        vertical-align: top;\n    }\n\n    .dataframe thead th {\n        text-align: right;\n    }\n\u003c/style\u003e\n\u003ctable border=\"1\" class=\"dataframe\"\u003e\n  \u003cthead\u003e\n    \u003ctr style=\"text-align: right;\"\u003e\n      \u003cth\u003e\u003c/th\u003e\n      \u003cth\u003etitle\u003c/th\u003e\n      \u003cth\u003eyear\u003c/th\u003e\n      \u003cth\u003ename\u003c/th\u003e\n      \u003cth\u003etype\u003c/th\u003e\n      \u003cth\u003echaracter\u003c/th\u003e\n      \u003cth\u003en\u003c/th\u003e\n    \u003c/tr\u003e\n  \u003c/thead\u003e\n  \u003ctbody\u003e\n    \u003ctr\u003e\n      \u003cth\u003e0\u003c/th\u003e\n      \u003ctd\u003eDemony wojny wedlug Goi\u003c/td\u003e\n      \u003ctd\u003e1998\u003c/td\u003e\n      \u003ctd\u003eOlaf Lubaszenko\u003c/td\u003e\n      \u003ctd\u003eactor\u003c/td\u003e\n      \u003ctd\u003eLt. Czacki\u003c/td\u003e\n      \u003ctd\u003e6.0\u003c/td\u003e\n    \u003c/tr\u003e\n    \u003ctr\u003e\n      \u003cth\u003e1\u003c/th\u003e\n      \u003ctd\u003eBoone: The Bounty Hunter\u003c/td\u003e\n      \u003ctd\u003e2017\u003c/td\u003e\n      \u003ctd\u003eOsric Chau\u003c/td\u003e\n      \u003ctd\u003eactor\u003c/td\u003e\n      \u003ctd\u003eDenny\u003c/td\u003e\n      \u003ctd\u003e2.0\u003c/td\u003e\n    \u003c/tr\u003e\n    \u003ctr\u003e\n      \u003cth\u003e2\u003c/th\u003e\n      \u003ctd\u003eLang ist es her...\u003c/td\u003e\n      \u003ctd\u003e1931\u003c/td\u003e\n      \u003ctd\u003eRenee May\u003c/td\u003e\n      \u003ctd\u003eactor\u003c/td\u003e\n      \u003ctd\u003eReserl, ihre Tochter\u003c/td\u003e\n      \u003ctd\u003e2.0\u003c/td\u003e\n    \u003c/tr\u003e\n    \u003ctr\u003e\n      \u003cth\u003e3\u003c/th\u003e\n      \u003ctd\u003eMiss Malini\u003c/td\u003e\n      \u003ctd\u003e1947\u003c/td\u003e\n      \u003ctd\u003eJavar Seetharaman\u003c/td\u003e\n      \u003ctd\u003eactor\u003c/td\u003e\n      \u003ctd\u003eDirector of Kala Mandhiram\u003c/td\u003e\n      \u003ctd\u003eNaN\u003c/td\u003e\n    \u003c/tr\u003e\n    \u003ctr\u003e\n      \u003cth\u003e4\u003c/th\u003e\n      \u003ctd\u003eAmerican Wrestler: The Wizard\u003c/td\u003e\n      \u003ctd\u003e2016\u003c/td\u003e\n      \u003ctd\u003eDaniel (XIII) Pacheco\u003c/td\u003e\n      \u003ctd\u003eactor\u003c/td\u003e\n      \u003ctd\u003eEast Petaluma Wrestler\u003c/td\u003e\n      \u003ctd\u003e34.0\u003c/td\u003e\n    \u003c/tr\u003e\n    \u003ctr\u003e\n      \u003cth\u003e5\u003c/th\u003e\n      \u003ctd\u003eBad boy dak gung\u003c/td\u003e\n      \u003ctd\u003e2000\u003c/td\u003e\n      \u003ctd\u003eBlackie Shou Liang Ko\u003c/td\u003e\n      \u003ctd\u003eactor\u003c/td\u003e\n      \u003ctd\u003eDark Tung\u003c/td\u003e\n      \u003ctd\u003e8.0\u003c/td\u003e\n    \u003c/tr\u003e\n    \u003ctr\u003e\n      \u003cth\u003e6\u003c/th\u003e\n      \u003ctd\u003eExcuses!\u003c/td\u003e\n      \u003ctd\u003e2003\u003c/td\u003e\n      \u003ctd\u003eMar Colàs\u003c/td\u003e\n      \u003ctd\u003eactress\u003c/td\u003e\n      \u003ctd\u003eVerònica\u003c/td\u003e\n      \u003ctd\u003e6.0\u003c/td\u003e\n    \u003c/tr\u003e\n    \u003ctr\u003e\n      \u003cth\u003e7\u003c/th\u003e\n      \u003ctd\u003eAlan \u0026amp; Naomi\u003c/td\u003e\n      \u003ctd\u003e1992\u003c/td\u003e\n      \u003ctd\u003eMichael Gross\u003c/td\u003e\n      \u003ctd\u003eactor\u003c/td\u003e\n      \u003ctd\u003eSol Silverman\u003c/td\u003e\n      \u003ctd\u003e3.0\u003c/td\u003e\n    \u003c/tr\u003e\n    \u003ctr\u003e\n      \u003cth\u003e8\u003c/th\u003e\n      \u003ctd\u003e10 jours en or\u003c/td\u003e\n      \u003ctd\u003e2012\u003c/td\u003e\n      \u003ctd\u003eAlain Buron\u003c/td\u003e\n      \u003ctd\u003eactor\u003c/td\u003e\n      \u003ctd\u003eChef de rayon supermarché\u003c/td\u003e\n      \u003ctd\u003e18.0\u003c/td\u003e\n    \u003c/tr\u003e\n    \u003ctr\u003e\n      \u003cth\u003e9\u003c/th\u003e\n      \u003ctd\u003eGuest iin London\u003c/td\u003e\n      \u003ctd\u003e2017\u003c/td\u003e\n      \u003ctd\u003eMoe Bilal\u003c/td\u003e\n      \u003ctd\u003eactor\u003c/td\u003e\n      \u003ctd\u003eFuneral Ward Man\u003c/td\u003e\n      \u003ctd\u003eNaN\u003c/td\u003e\n    \u003c/tr\u003e\n    \u003ctr\u003e\n      \u003cth\u003e10\u003c/th\u003e\n      \u003ctd\u003eThe Girls' Room\u003c/td\u003e\n      \u003ctd\u003e2000\u003c/td\u003e\n      \u003ctd\u003eLela Lee\u003c/td\u003e\n      \u003ctd\u003eactress\u003c/td\u003e\n      \u003ctd\u003eChloe\u003c/td\u003e\n      \u003ctd\u003e10.0\u003c/td\u003e\n    \u003c/tr\u003e\n    \u003ctr\u003e\n      \u003cth\u003e11\u003c/th\u003e\n      \u003ctd\u003eYankee Doodle in Berlin\u003c/td\u003e\n      \u003ctd\u003e1919\u003c/td\u003e\n      \u003ctd\u003eHarry Gribbon\u003c/td\u003e\n      \u003ctd\u003eactor\u003c/td\u003e\n      \u003ctd\u003eGerman Guard\u003c/td\u003e\n      \u003ctd\u003eNaN\u003c/td\u003e\n    \u003c/tr\u003e\n    \u003ctr\u003e\n      \u003cth\u003e12\u003c/th\u003e\n      \u003ctd\u003eThe Forbidden Note\u003c/td\u003e\n      \u003ctd\u003e2016\u003c/td\u003e\n      \u003ctd\u003ePaul (X) Johnston\u003c/td\u003e\n      \u003ctd\u003eactor\u003c/td\u003e\n      \u003ctd\u003eBenzarts Youth Gang\u003c/td\u003e\n      \u003ctd\u003e36.0\u003c/td\u003e\n    \u003c/tr\u003e\n    \u003ctr\u003e\n      \u003cth\u003e13\u003c/th\u003e\n      \u003ctd\u003eBuddy Solitaire\u003c/td\u003e\n      \u003ctd\u003e2016\u003c/td\u003e\n      \u003ctd\u003eShawn Cahill\u003c/td\u003e\n      \u003ctd\u003eactor\u003c/td\u003e\n      \u003ctd\u003eMonk\u003c/td\u003e\n      \u003ctd\u003eNaN\u003c/td\u003e\n    \u003c/tr\u003e\n    \u003ctr\u003e\n      \u003cth\u003e14\u003c/th\u003e\n      \u003ctd\u003eUnhinged (V)\u003c/td\u003e\n      \u003ctd\u003e2017\u003c/td\u003e\n      \u003ctd\u003eJulie (VII) Richardson\u003c/td\u003e\n      \u003ctd\u003eactress\u003c/td\u003e\n      \u003ctd\u003eEstelle\u003c/td\u003e\n      \u003ctd\u003eNaN\u003c/td\u003e\n    \u003c/tr\u003e\n    \u003ctr\u003e\n      \u003cth\u003e15\u003c/th\u003e\n      \u003ctd\u003eCrossroads\u003c/td\u003e\n      \u003ctd\u003e2014\u003c/td\u003e\n      \u003ctd\u003eKari Nissena\u003c/td\u003e\n      \u003ctd\u003eactress\u003c/td\u003e\n      \u003ctd\u003eLaura\u003c/td\u003e\n      \u003ctd\u003eNaN\u003c/td\u003e\n    \u003c/tr\u003e\n    \u003ctr\u003e\n      \u003cth\u003e16\u003c/th\u003e\n      \u003ctd\u003eSmall Town Saturday Night\u003c/td\u003e\n      \u003ctd\u003e2010\u003c/td\u003e\n      \u003ctd\u003ePerry Anzilotti\u003c/td\u003e\n      \u003ctd\u003eactor\u003c/td\u003e\n      \u003ctd\u003eClaude Cline\u003c/td\u003e\n      \u003ctd\u003e25.0\u003c/td\u003e\n    \u003c/tr\u003e\n    \u003ctr\u003e\n      \u003cth\u003e17\u003c/th\u003e\n      \u003ctd\u003eWhile London Sleeps\u003c/td\u003e\n      \u003ctd\u003e1926\u003c/td\u003e\n      \u003ctd\u003eCarl Stockdale\u003c/td\u003e\n      \u003ctd\u003eactor\u003c/td\u003e\n      \u003ctd\u003eStokes\u003c/td\u003e\n      \u003ctd\u003e8.0\u003c/td\u003e\n    \u003c/tr\u003e\n    \u003ctr\u003e\n      \u003cth\u003e18\u003c/th\u003e\n      \u003ctd\u003eThe Harvest Project\u003c/td\u003e\n      \u003ctd\u003e2008\u003c/td\u003e\n      \u003ctd\u003eEdan Armstrong\u003c/td\u003e\n      \u003ctd\u003eactor\u003c/td\u003e\n      \u003ctd\u003eMale cadaver\u003c/td\u003e\n      \u003ctd\u003e33.0\u003c/td\u003e\n    \u003c/tr\u003e\n    \u003ctr\u003e\n      \u003cth\u003e19\u003c/th\u003e\n      \u003ctd\u003eDisOrientation\u003c/td\u003e\n      \u003ctd\u003e2012\u003c/td\u003e\n      \u003ctd\u003eDavid (XLII) Scott\u003c/td\u003e\n      \u003ctd\u003eactor\u003c/td\u003e\n      \u003ctd\u003eOfficer Kosar\u003c/td\u003e\n      \u003ctd\u003eNaN\u003c/td\u003e\n    \u003c/tr\u003e\n  \u003c/tbody\u003e\n\u003c/table\u003e\n\u003c/div\u003e",
                        "text/plain": "                            title  year                    name     type  \\\n0         Demony wojny wedlug Goi  1998         Olaf Lubaszenko    actor   \n1        Boone: The Bounty Hunter  2017              Osric Chau    actor   \n2              Lang ist es her...  1931               Renee May    actor   \n3                     Miss Malini  1947       Javar Seetharaman    actor   \n4   American Wrestler: The Wizard  2016   Daniel (XIII) Pacheco    actor   \n5                Bad boy dak gung  2000   Blackie Shou Liang Ko    actor   \n6                        Excuses!  2003               Mar Colàs  actress   \n7                    Alan \u0026 Naomi  1992           Michael Gross    actor   \n8                  10 jours en or  2012             Alain Buron    actor   \n9                Guest iin London  2017               Moe Bilal    actor   \n10                The Girls' Room  2000                Lela Lee  actress   \n11        Yankee Doodle in Berlin  1919           Harry Gribbon    actor   \n12             The Forbidden Note  2016       Paul (X) Johnston    actor   \n13                Buddy Solitaire  2016            Shawn Cahill    actor   \n14                   Unhinged (V)  2017  Julie (VII) Richardson  actress   \n15                     Crossroads  2014            Kari Nissena  actress   \n16      Small Town Saturday Night  2010         Perry Anzilotti    actor   \n17            While London Sleeps  1926          Carl Stockdale    actor   \n18            The Harvest Project  2008          Edan Armstrong    actor   \n19                 DisOrientation  2012      David (XLII) Scott    actor   \n\n                     character     n  \n0                   Lt. Czacki   6.0  \n1                        Denny   2.0  \n2         Reserl, ihre Tochter   2.0  \n3   Director of Kala Mandhiram   NaN  \n4       East Petaluma Wrestler  34.0  \n5                    Dark Tung   8.0  \n6                     Verònica   6.0  \n7                Sol Silverman   3.0  \n8    Chef de rayon supermarché  18.0  \n9             Funeral Ward Man   NaN  \n10                       Chloe  10.0  \n11                German Guard   NaN  \n12         Benzarts Youth Gang  36.0  \n13                        Monk   NaN  \n14                     Estelle   NaN  \n15                       Laura   NaN  \n16                Claude Cline  25.0  \n17                      Stokes   8.0  \n18                Male cadaver  33.0  \n19               Officer Kosar   NaN  "
                    },
                    "execution_count": 4,
                    "metadata": {},
                    "output_type": "execute_result"
                }
            ],
            "source": [
                "# Take a quick look at the first twenty entries of the dataframe\n",
                "df.head(20)"
            ]
        },
        {
            "cell_type": "code",
            "execution_count": 5,
            "metadata": {},
            "outputs": [
                {
                    "name": "stdout",
                    "output_type": "stream",
                    "text": "172145\n"
                }
            ],
            "source": [
                "### edTest(test_entries) ###\n",
                "# The len() function can be used to see the number of rows in your data frame\n",
                "# find the rows in the original dataframe\n",
                "entries = len(df)\n",
                "print(entries)"
            ]
        },
        {
            "cell_type": "code",
            "execution_count": 6,
            "metadata": {},
            "outputs": [
                {
                    "name": "stdout",
                    "output_type": "stream",
                    "text": "(172145, 6)\n"
                }
            ],
            "source": [
                "# .shape gives the total number of rows and columns\n",
                "# Check the shape of the original dataframe\n",
                "shape = df.shape\n",
                "print(shape)"
            ]
        },
        {
            "cell_type": "code",
            "execution_count": 7,
            "metadata": {},
            "outputs": [
                {
                    "name": "stdout",
                    "output_type": "stream",
                    "text": "Index(['title', 'year', 'name', 'type', 'character', 'n'], dtype='object')\n"
                }
            ],
            "source": [
                "# Use .columns to see the columns in the dataframe\n",
                "cols = df.columns\n",
                "print(cols)"
            ]
        },
        {
            "cell_type": "code",
            "execution_count": 8,
            "metadata": {},
            "outputs": [],
            "source": [
                "# You can change the columns to python native lists using .tolist() function on cols\n",
                "col_list = cols.tolist()"
            ]
        },
        {
            "cell_type": "code",
            "execution_count": 9,
            "metadata": {},
            "outputs": [
                {
                    "name": "stdout",
                    "output_type": "stream",
                    "text": "['title', 'year', 'name', 'type', 'character', 'role_importance']\n"
                }
            ],
            "source": [
                "# Change the final column name from 'n' to 'role_importance'\n",
                "col_list[-1] = 'role_importance'\n",
                "print(col_list)"
            ]
        },
        {
            "cell_type": "code",
            "execution_count": 10,
            "metadata": {},
            "outputs": [
                {
                    "data": {
                        "text/html": "\u003cdiv\u003e\n\u003cstyle scoped\u003e\n    .dataframe tbody tr th:only-of-type {\n        vertical-align: middle;\n    }\n\n    .dataframe tbody tr th {\n        vertical-align: top;\n    }\n\n    .dataframe thead th {\n        text-align: right;\n    }\n\u003c/style\u003e\n\u003ctable border=\"1\" class=\"dataframe\"\u003e\n  \u003cthead\u003e\n    \u003ctr style=\"text-align: right;\"\u003e\n      \u003cth\u003e\u003c/th\u003e\n      \u003cth\u003etitle\u003c/th\u003e\n      \u003cth\u003eyear\u003c/th\u003e\n      \u003cth\u003ename\u003c/th\u003e\n      \u003cth\u003etype\u003c/th\u003e\n      \u003cth\u003echaracter\u003c/th\u003e\n      \u003cth\u003erole_importance\u003c/th\u003e\n    \u003c/tr\u003e\n  \u003c/thead\u003e\n  \u003ctbody\u003e\n    \u003ctr\u003e\n      \u003cth\u003e0\u003c/th\u003e\n      \u003ctd\u003eDemony wojny wedlug Goi\u003c/td\u003e\n      \u003ctd\u003e1998\u003c/td\u003e\n      \u003ctd\u003eOlaf Lubaszenko\u003c/td\u003e\n      \u003ctd\u003eactor\u003c/td\u003e\n      \u003ctd\u003eLt. Czacki\u003c/td\u003e\n      \u003ctd\u003e6.0\u003c/td\u003e\n    \u003c/tr\u003e\n    \u003ctr\u003e\n      \u003cth\u003e1\u003c/th\u003e\n      \u003ctd\u003eBoone: The Bounty Hunter\u003c/td\u003e\n      \u003ctd\u003e2017\u003c/td\u003e\n      \u003ctd\u003eOsric Chau\u003c/td\u003e\n      \u003ctd\u003eactor\u003c/td\u003e\n      \u003ctd\u003eDenny\u003c/td\u003e\n      \u003ctd\u003e2.0\u003c/td\u003e\n    \u003c/tr\u003e\n    \u003ctr\u003e\n      \u003cth\u003e2\u003c/th\u003e\n      \u003ctd\u003eLang ist es her...\u003c/td\u003e\n      \u003ctd\u003e1931\u003c/td\u003e\n      \u003ctd\u003eRenee May\u003c/td\u003e\n      \u003ctd\u003eactor\u003c/td\u003e\n      \u003ctd\u003eReserl, ihre Tochter\u003c/td\u003e\n      \u003ctd\u003e2.0\u003c/td\u003e\n    \u003c/tr\u003e\n    \u003ctr\u003e\n      \u003cth\u003e3\u003c/th\u003e\n      \u003ctd\u003eMiss Malini\u003c/td\u003e\n      \u003ctd\u003e1947\u003c/td\u003e\n      \u003ctd\u003eJavar Seetharaman\u003c/td\u003e\n      \u003ctd\u003eactor\u003c/td\u003e\n      \u003ctd\u003eDirector of Kala Mandhiram\u003c/td\u003e\n      \u003ctd\u003eNaN\u003c/td\u003e\n    \u003c/tr\u003e\n    \u003ctr\u003e\n      \u003cth\u003e4\u003c/th\u003e\n      \u003ctd\u003eAmerican Wrestler: The Wizard\u003c/td\u003e\n      \u003ctd\u003e2016\u003c/td\u003e\n      \u003ctd\u003eDaniel (XIII) Pacheco\u003c/td\u003e\n      \u003ctd\u003eactor\u003c/td\u003e\n      \u003ctd\u003eEast Petaluma Wrestler\u003c/td\u003e\n      \u003ctd\u003e34.0\u003c/td\u003e\n    \u003c/tr\u003e\n    \u003ctr\u003e\n      \u003cth\u003e5\u003c/th\u003e\n      \u003ctd\u003eBad boy dak gung\u003c/td\u003e\n      \u003ctd\u003e2000\u003c/td\u003e\n      \u003ctd\u003eBlackie Shou Liang Ko\u003c/td\u003e\n      \u003ctd\u003eactor\u003c/td\u003e\n      \u003ctd\u003eDark Tung\u003c/td\u003e\n      \u003ctd\u003e8.0\u003c/td\u003e\n    \u003c/tr\u003e\n    \u003ctr\u003e\n      \u003cth\u003e6\u003c/th\u003e\n      \u003ctd\u003eExcuses!\u003c/td\u003e\n      \u003ctd\u003e2003\u003c/td\u003e\n      \u003ctd\u003eMar Colàs\u003c/td\u003e\n      \u003ctd\u003eactress\u003c/td\u003e\n      \u003ctd\u003eVerònica\u003c/td\u003e\n      \u003ctd\u003e6.0\u003c/td\u003e\n    \u003c/tr\u003e\n    \u003ctr\u003e\n      \u003cth\u003e7\u003c/th\u003e\n      \u003ctd\u003eAlan \u0026amp; Naomi\u003c/td\u003e\n      \u003ctd\u003e1992\u003c/td\u003e\n      \u003ctd\u003eMichael Gross\u003c/td\u003e\n      \u003ctd\u003eactor\u003c/td\u003e\n      \u003ctd\u003eSol Silverman\u003c/td\u003e\n      \u003ctd\u003e3.0\u003c/td\u003e\n    \u003c/tr\u003e\n    \u003ctr\u003e\n      \u003cth\u003e8\u003c/th\u003e\n      \u003ctd\u003e10 jours en or\u003c/td\u003e\n      \u003ctd\u003e2012\u003c/td\u003e\n      \u003ctd\u003eAlain Buron\u003c/td\u003e\n      \u003ctd\u003eactor\u003c/td\u003e\n      \u003ctd\u003eChef de rayon supermarché\u003c/td\u003e\n      \u003ctd\u003e18.0\u003c/td\u003e\n    \u003c/tr\u003e\n    \u003ctr\u003e\n      \u003cth\u003e9\u003c/th\u003e\n      \u003ctd\u003eGuest iin London\u003c/td\u003e\n      \u003ctd\u003e2017\u003c/td\u003e\n      \u003ctd\u003eMoe Bilal\u003c/td\u003e\n      \u003ctd\u003eactor\u003c/td\u003e\n      \u003ctd\u003eFuneral Ward Man\u003c/td\u003e\n      \u003ctd\u003eNaN\u003c/td\u003e\n    \u003c/tr\u003e\n    \u003ctr\u003e\n      \u003cth\u003e10\u003c/th\u003e\n      \u003ctd\u003eThe Girls' Room\u003c/td\u003e\n      \u003ctd\u003e2000\u003c/td\u003e\n      \u003ctd\u003eLela Lee\u003c/td\u003e\n      \u003ctd\u003eactress\u003c/td\u003e\n      \u003ctd\u003eChloe\u003c/td\u003e\n      \u003ctd\u003e10.0\u003c/td\u003e\n    \u003c/tr\u003e\n    \u003ctr\u003e\n      \u003cth\u003e11\u003c/th\u003e\n      \u003ctd\u003eYankee Doodle in Berlin\u003c/td\u003e\n      \u003ctd\u003e1919\u003c/td\u003e\n      \u003ctd\u003eHarry Gribbon\u003c/td\u003e\n      \u003ctd\u003eactor\u003c/td\u003e\n      \u003ctd\u003eGerman Guard\u003c/td\u003e\n      \u003ctd\u003eNaN\u003c/td\u003e\n    \u003c/tr\u003e\n    \u003ctr\u003e\n      \u003cth\u003e12\u003c/th\u003e\n      \u003ctd\u003eThe Forbidden Note\u003c/td\u003e\n      \u003ctd\u003e2016\u003c/td\u003e\n      \u003ctd\u003ePaul (X) Johnston\u003c/td\u003e\n      \u003ctd\u003eactor\u003c/td\u003e\n      \u003ctd\u003eBenzarts Youth Gang\u003c/td\u003e\n      \u003ctd\u003e36.0\u003c/td\u003e\n    \u003c/tr\u003e\n    \u003ctr\u003e\n      \u003cth\u003e13\u003c/th\u003e\n      \u003ctd\u003eBuddy Solitaire\u003c/td\u003e\n      \u003ctd\u003e2016\u003c/td\u003e\n      \u003ctd\u003eShawn Cahill\u003c/td\u003e\n      \u003ctd\u003eactor\u003c/td\u003e\n      \u003ctd\u003eMonk\u003c/td\u003e\n      \u003ctd\u003eNaN\u003c/td\u003e\n    \u003c/tr\u003e\n    \u003ctr\u003e\n      \u003cth\u003e14\u003c/th\u003e\n      \u003ctd\u003eUnhinged (V)\u003c/td\u003e\n      \u003ctd\u003e2017\u003c/td\u003e\n      \u003ctd\u003eJulie (VII) Richardson\u003c/td\u003e\n      \u003ctd\u003eactress\u003c/td\u003e\n      \u003ctd\u003eEstelle\u003c/td\u003e\n      \u003ctd\u003eNaN\u003c/td\u003e\n    \u003c/tr\u003e\n    \u003ctr\u003e\n      \u003cth\u003e15\u003c/th\u003e\n      \u003ctd\u003eCrossroads\u003c/td\u003e\n      \u003ctd\u003e2014\u003c/td\u003e\n      \u003ctd\u003eKari Nissena\u003c/td\u003e\n      \u003ctd\u003eactress\u003c/td\u003e\n      \u003ctd\u003eLaura\u003c/td\u003e\n      \u003ctd\u003eNaN\u003c/td\u003e\n    \u003c/tr\u003e\n    \u003ctr\u003e\n      \u003cth\u003e16\u003c/th\u003e\n      \u003ctd\u003eSmall Town Saturday Night\u003c/td\u003e\n      \u003ctd\u003e2010\u003c/td\u003e\n      \u003ctd\u003ePerry Anzilotti\u003c/td\u003e\n      \u003ctd\u003eactor\u003c/td\u003e\n      \u003ctd\u003eClaude Cline\u003c/td\u003e\n      \u003ctd\u003e25.0\u003c/td\u003e\n    \u003c/tr\u003e\n    \u003ctr\u003e\n      \u003cth\u003e17\u003c/th\u003e\n      \u003ctd\u003eWhile London Sleeps\u003c/td\u003e\n      \u003ctd\u003e1926\u003c/td\u003e\n      \u003ctd\u003eCarl Stockdale\u003c/td\u003e\n      \u003ctd\u003eactor\u003c/td\u003e\n      \u003ctd\u003eStokes\u003c/td\u003e\n      \u003ctd\u003e8.0\u003c/td\u003e\n    \u003c/tr\u003e\n    \u003ctr\u003e\n      \u003cth\u003e18\u003c/th\u003e\n      \u003ctd\u003eThe Harvest Project\u003c/td\u003e\n      \u003ctd\u003e2008\u003c/td\u003e\n      \u003ctd\u003eEdan Armstrong\u003c/td\u003e\n      \u003ctd\u003eactor\u003c/td\u003e\n      \u003ctd\u003eMale cadaver\u003c/td\u003e\n      \u003ctd\u003e33.0\u003c/td\u003e\n    \u003c/tr\u003e\n    \u003ctr\u003e\n      \u003cth\u003e19\u003c/th\u003e\n      \u003ctd\u003eDisOrientation\u003c/td\u003e\n      \u003ctd\u003e2012\u003c/td\u003e\n      \u003ctd\u003eDavid (XLII) Scott\u003c/td\u003e\n      \u003ctd\u003eactor\u003c/td\u003e\n      \u003ctd\u003eOfficer Kosar\u003c/td\u003e\n      \u003ctd\u003eNaN\u003c/td\u003e\n    \u003c/tr\u003e\n    \u003ctr\u003e\n      \u003cth\u003e20\u003c/th\u003e\n      \u003ctd\u003eLe Skylab\u003c/td\u003e\n      \u003ctd\u003e2011\u003c/td\u003e\n      \u003ctd\u003ePierre-Louis Bozonnet\u003c/td\u003e\n      \u003ctd\u003eactor\u003c/td\u003e\n      \u003ctd\u003eRomain\u003c/td\u003e\n      \u003ctd\u003e24.0\u003c/td\u003e\n    \u003c/tr\u003e\n    \u003ctr\u003e\n      \u003cth\u003e21\u003c/th\u003e\n      \u003ctd\u003eAladin\u003c/td\u003e\n      \u003ctd\u003e2009\u003c/td\u003e\n      \u003ctd\u003ePeter (IX) Wong\u003c/td\u003e\n      \u003ctd\u003eactor\u003c/td\u003e\n      \u003ctd\u003eWarehouse Employee\u003c/td\u003e\n      \u003ctd\u003eNaN\u003c/td\u003e\n    \u003c/tr\u003e\n    \u003ctr\u003e\n      \u003cth\u003e22\u003c/th\u003e\n      \u003ctd\u003eDon't Go Near the Water\u003c/td\u003e\n      \u003ctd\u003e1957\u003c/td\u003e\n      \u003ctd\u003eJohn L. Cason\u003c/td\u003e\n      \u003ctd\u003eactor\u003c/td\u003e\n      \u003ctd\u003eSeabee Metkoff\u003c/td\u003e\n      \u003ctd\u003eNaN\u003c/td\u003e\n    \u003c/tr\u003e\n    \u003ctr\u003e\n      \u003cth\u003e23\u003c/th\u003e\n      \u003ctd\u003eWhite Bird in a Blizzard\u003c/td\u003e\n      \u003ctd\u003e2014\u003c/td\u003e\n      \u003ctd\u003eJill (XXII) Johnson\u003c/td\u003e\n      \u003ctd\u003eactress\u003c/td\u003e\n      \u003ctd\u003eSecretary\u003c/td\u003e\n      \u003ctd\u003e13.0\u003c/td\u003e\n    \u003c/tr\u003e\n    \u003ctr\u003e\n      \u003cth\u003e24\u003c/th\u003e\n      \u003ctd\u003eKiinni on ja pysyy\u003c/td\u003e\n      \u003ctd\u003e1955\u003c/td\u003e\n      \u003ctd\u003eAnton Soini\u003c/td\u003e\n      \u003ctd\u003eactor\u003c/td\u003e\n      \u003ctd\u003e'Old peasant'\u003c/td\u003e\n      \u003ctd\u003eNaN\u003c/td\u003e\n    \u003c/tr\u003e\n    \u003ctr\u003e\n      \u003cth\u003e25\u003c/th\u003e\n      \u003ctd\u003eWitch\u003c/td\u003e\n      \u003ctd\u003e2017\u003c/td\u003e\n      \u003ctd\u003eAtlanta Johnson\u003c/td\u003e\n      \u003ctd\u003eactress\u003c/td\u003e\n      \u003ctd\u003eElise Barry\u003c/td\u003e\n      \u003ctd\u003eNaN\u003c/td\u003e\n    \u003c/tr\u003e\n    \u003ctr\u003e\n      \u003cth\u003e26\u003c/th\u003e\n      \u003ctd\u003eBirch Interval\u003c/td\u003e\n      \u003ctd\u003e1976\u003c/td\u003e\n      \u003ctd\u003eWilliam Morgan Jr.\u003c/td\u003e\n      \u003ctd\u003eactor\u003c/td\u003e\n      \u003ctd\u003eAndrew\u003c/td\u003e\n      \u003ctd\u003e13.0\u003c/td\u003e\n    \u003c/tr\u003e\n    \u003ctr\u003e\n      \u003cth\u003e27\u003c/th\u003e\n      \u003ctd\u003eApril Rain\u003c/td\u003e\n      \u003ctd\u003e2014\u003c/td\u003e\n      \u003ctd\u003eDragos Beldie\u003c/td\u003e\n      \u003ctd\u003eactor\u003c/td\u003e\n      \u003ctd\u003eSammy\u003c/td\u003e\n      \u003ctd\u003e3.0\u003c/td\u003e\n    \u003c/tr\u003e\n    \u003ctr\u003e\n      \u003cth\u003e28\u003c/th\u003e\n      \u003ctd\u003ePresident i ego zhenshchina\u003c/td\u003e\n      \u003ctd\u003e1996\u003c/td\u003e\n      \u003ctd\u003eElena Bushueva\u003c/td\u003e\n      \u003ctd\u003eactress\u003c/td\u003e\n      \u003ctd\u003eSotrudnitsa v ofise\u003c/td\u003e\n      \u003ctd\u003e15.0\u003c/td\u003e\n    \u003c/tr\u003e\n    \u003ctr\u003e\n      \u003cth\u003e29\u003c/th\u003e\n      \u003ctd\u003eRitu\u003c/td\u003e\n      \u003ctd\u003e2014\u003c/td\u003e\n      \u003ctd\u003eKamal Silwal\u003c/td\u003e\n      \u003ctd\u003eactor\u003c/td\u003e\n      \u003ctd\u003eCo-Actor\u003c/td\u003e\n      \u003ctd\u003e6.0\u003c/td\u003e\n    \u003c/tr\u003e\n  \u003c/tbody\u003e\n\u003c/table\u003e\n\u003c/div\u003e",
                        "text/plain": "                            title  year                    name     type  \\\n0         Demony wojny wedlug Goi  1998         Olaf Lubaszenko    actor   \n1        Boone: The Bounty Hunter  2017              Osric Chau    actor   \n2              Lang ist es her...  1931               Renee May    actor   \n3                     Miss Malini  1947       Javar Seetharaman    actor   \n4   American Wrestler: The Wizard  2016   Daniel (XIII) Pacheco    actor   \n5                Bad boy dak gung  2000   Blackie Shou Liang Ko    actor   \n6                        Excuses!  2003               Mar Colàs  actress   \n7                    Alan \u0026 Naomi  1992           Michael Gross    actor   \n8                  10 jours en or  2012             Alain Buron    actor   \n9                Guest iin London  2017               Moe Bilal    actor   \n10                The Girls' Room  2000                Lela Lee  actress   \n11        Yankee Doodle in Berlin  1919           Harry Gribbon    actor   \n12             The Forbidden Note  2016       Paul (X) Johnston    actor   \n13                Buddy Solitaire  2016            Shawn Cahill    actor   \n14                   Unhinged (V)  2017  Julie (VII) Richardson  actress   \n15                     Crossroads  2014            Kari Nissena  actress   \n16      Small Town Saturday Night  2010         Perry Anzilotti    actor   \n17            While London Sleeps  1926          Carl Stockdale    actor   \n18            The Harvest Project  2008          Edan Armstrong    actor   \n19                 DisOrientation  2012      David (XLII) Scott    actor   \n20                      Le Skylab  2011   Pierre-Louis Bozonnet    actor   \n21                         Aladin  2009         Peter (IX) Wong    actor   \n22        Don't Go Near the Water  1957           John L. Cason    actor   \n23       White Bird in a Blizzard  2014     Jill (XXII) Johnson  actress   \n24             Kiinni on ja pysyy  1955             Anton Soini    actor   \n25                          Witch  2017         Atlanta Johnson  actress   \n26                 Birch Interval  1976      William Morgan Jr.    actor   \n27                     April Rain  2014           Dragos Beldie    actor   \n28    President i ego zhenshchina  1996          Elena Bushueva  actress   \n29                           Ritu  2014            Kamal Silwal    actor   \n\n                     character  role_importance  \n0                   Lt. Czacki              6.0  \n1                        Denny              2.0  \n2         Reserl, ihre Tochter              2.0  \n3   Director of Kala Mandhiram              NaN  \n4       East Petaluma Wrestler             34.0  \n5                    Dark Tung              8.0  \n6                     Verònica              6.0  \n7                Sol Silverman              3.0  \n8    Chef de rayon supermarché             18.0  \n9             Funeral Ward Man              NaN  \n10                       Chloe             10.0  \n11                German Guard              NaN  \n12         Benzarts Youth Gang             36.0  \n13                        Monk              NaN  \n14                     Estelle              NaN  \n15                       Laura              NaN  \n16                Claude Cline             25.0  \n17                      Stokes              8.0  \n18                Male cadaver             33.0  \n19               Officer Kosar              NaN  \n20                      Romain             24.0  \n21          Warehouse Employee              NaN  \n22              Seabee Metkoff              NaN  \n23                   Secretary             13.0  \n24               'Old peasant'              NaN  \n25                 Elise Barry              NaN  \n26                      Andrew             13.0  \n27                       Sammy              3.0  \n28         Sotrudnitsa v ofise             15.0  \n29                    Co-Actor              6.0  "
                    },
                    "execution_count": 10,
                    "metadata": {},
                    "output_type": "execute_result"
                }
            ],
            "source": [
                "# You can cast the new col_list to the dataframe by setting the df.columns = col_list\n",
                "df.columns =col_list\n",
                "df.head(30)"
            ]
        },
        {
            "cell_type": "code",
            "execution_count": 11,
            "metadata": {},
            "outputs": [
                {
                    "data": {
                        "text/html": "\u003cdiv\u003e\n\u003cstyle scoped\u003e\n    .dataframe tbody tr th:only-of-type {\n        vertical-align: middle;\n    }\n\n    .dataframe tbody tr th {\n        vertical-align: top;\n    }\n\n    .dataframe thead th {\n        text-align: right;\n    }\n\u003c/style\u003e\n\u003ctable border=\"1\" class=\"dataframe\"\u003e\n  \u003cthead\u003e\n    \u003ctr style=\"text-align: right;\"\u003e\n      \u003cth\u003e\u003c/th\u003e\n      \u003cth\u003etitle\u003c/th\u003e\n      \u003cth\u003eyear\u003c/th\u003e\n      \u003cth\u003ename\u003c/th\u003e\n    \u003c/tr\u003e\n  \u003c/thead\u003e\n  \u003ctbody\u003e\n    \u003ctr\u003e\n      \u003cth\u003e0\u003c/th\u003e\n      \u003ctd\u003eDemony wojny wedlug Goi\u003c/td\u003e\n      \u003ctd\u003e1998\u003c/td\u003e\n      \u003ctd\u003eOlaf Lubaszenko\u003c/td\u003e\n    \u003c/tr\u003e\n    \u003ctr\u003e\n      \u003cth\u003e1\u003c/th\u003e\n      \u003ctd\u003eBoone: The Bounty Hunter\u003c/td\u003e\n      \u003ctd\u003e2017\u003c/td\u003e\n      \u003ctd\u003eOsric Chau\u003c/td\u003e\n    \u003c/tr\u003e\n    \u003ctr\u003e\n      \u003cth\u003e2\u003c/th\u003e\n      \u003ctd\u003eLang ist es her...\u003c/td\u003e\n      \u003ctd\u003e1931\u003c/td\u003e\n      \u003ctd\u003eRenee May\u003c/td\u003e\n    \u003c/tr\u003e\n    \u003ctr\u003e\n      \u003cth\u003e3\u003c/th\u003e\n      \u003ctd\u003eMiss Malini\u003c/td\u003e\n      \u003ctd\u003e1947\u003c/td\u003e\n      \u003ctd\u003eJavar Seetharaman\u003c/td\u003e\n    \u003c/tr\u003e\n    \u003ctr\u003e\n      \u003cth\u003e4\u003c/th\u003e\n      \u003ctd\u003eAmerican Wrestler: The Wizard\u003c/td\u003e\n      \u003ctd\u003e2016\u003c/td\u003e\n      \u003ctd\u003eDaniel (XIII) Pacheco\u003c/td\u003e\n    \u003c/tr\u003e\n    \u003ctr\u003e\n      \u003cth\u003e...\u003c/th\u003e\n      \u003ctd\u003e...\u003c/td\u003e\n      \u003ctd\u003e...\u003c/td\u003e\n      \u003ctd\u003e...\u003c/td\u003e\n    \u003c/tr\u003e\n    \u003ctr\u003e\n      \u003cth\u003e172140\u003c/th\u003e\n      \u003ctd\u003eThe Tournament\u003c/td\u003e\n      \u003ctd\u003e2005\u003c/td\u003e\n      \u003ctd\u003eJohn Los\u003c/td\u003e\n    \u003c/tr\u003e\n    \u003ctr\u003e\n      \u003cth\u003e172141\u003c/th\u003e\n      \u003ctd\u003eOn Air: Storia di un Successo\u003c/td\u003e\n      \u003ctd\u003e2016\u003c/td\u003e\n      \u003ctd\u003eLuca Alba\u003c/td\u003e\n    \u003c/tr\u003e\n    \u003ctr\u003e\n      \u003cth\u003e172142\u003c/th\u003e\n      \u003ctd\u003eR\u003c/td\u003e\n      \u003ctd\u003e2010\u003c/td\u003e\n      \u003ctd\u003eBushra Sadaio\u003c/td\u003e\n    \u003c/tr\u003e\n    \u003ctr\u003e\n      \u003cth\u003e172143\u003c/th\u003e\n      \u003ctd\u003eUna storia moderna - L'ape regina\u003c/td\u003e\n      \u003ctd\u003e1963\u003c/td\u003e\n      \u003ctd\u003eWalter Giller\u003c/td\u003e\n    \u003c/tr\u003e\n    \u003ctr\u003e\n      \u003cth\u003e172144\u003c/th\u003e\n      \u003ctd\u003eLe crocodile du Botswanga\u003c/td\u003e\n      \u003ctd\u003e2014\u003c/td\u003e\n      \u003ctd\u003eFranck de la Personne\u003c/td\u003e\n    \u003c/tr\u003e\n  \u003c/tbody\u003e\n\u003c/table\u003e\n\u003cp\u003e172145 rows × 3 columns\u003c/p\u003e\n\u003c/div\u003e",
                        "text/plain": "                                    title  year                   name\n0                 Demony wojny wedlug Goi  1998        Olaf Lubaszenko\n1                Boone: The Bounty Hunter  2017             Osric Chau\n2                      Lang ist es her...  1931              Renee May\n3                             Miss Malini  1947      Javar Seetharaman\n4           American Wrestler: The Wizard  2016  Daniel (XIII) Pacheco\n...                                   ...   ...                    ...\n172140                     The Tournament  2005               John Los\n172141      On Air: Storia di un Successo  2016              Luca Alba\n172142                                  R  2010          Bushra Sadaio\n172143  Una storia moderna - L'ape regina  1963          Walter Giller\n172144          Le crocodile du Botswanga  2014  Franck de la Personne\n\n[172145 rows x 3 columns]"
                    },
                    "execution_count": 11,
                    "metadata": {},
                    "output_type": "execute_result"
                }
            ],
            "source": [
                "### edTest(test_cols) ###\n",
                "# We can subselect particular columns by choosing a sublist\n",
                "few_cols = ['title','year','name']\n",
                "df[few_cols]\n",
                ""
            ]
        },
        {
            "attachments": {},
            "cell_type": "markdown",
            "metadata": {},
            "source": [
                "## ⏸ `df[['x']]` vs `df['x']`\n",
                "\n",
                "What is the difference between the two operations above for a valid dataframe with a column named 'x'.\n",
                "\n",
                "#### A. `df[['x']]` returns a `pd.DataFrame` object  whereas `df['x']` returns a `pd.Series` object\n",
                "#### B. `df[['x']]` returns a `pd.Series` object  whereas `df['x']` returns a `pd.DataFrame` object\n",
                "#### C. `df[['x']]` is an invalid operation\n",
                "#### D. `df['x']` is an invalid operation"
            ]
        },
        {
            "cell_type": "code",
            "execution_count": 12,
            "metadata": {},
            "outputs": [],
            "source": [
                "### edTest(test_chow1) ###\n",
                "\n",
                "# Submit an answer choice as a string below (eg. if you choose option C, put 'C')\n",
                "answer1 = 'A'"
            ]
        },
        {
            "attachments": {},
            "cell_type": "markdown",
            "metadata": {},
            "source": [
                "### 🙋🏻 How many roles are undefined ?"
            ]
        },
        {
            "cell_type": "code",
            "execution_count": 13,
            "metadata": {},
            "outputs": [
                {
                    "data": {
                        "text/plain": "0          6.0\n1          2.0\n2          2.0\n3          NaN\n4         34.0\n          ... \n172140     NaN\n172141     4.0\n172142    25.0\n172143     3.0\n172144     5.0\nName: role_importance, Length: 172145, dtype: float64"
                    },
                    "execution_count": 13,
                    "metadata": {},
                    "output_type": "execute_result"
                }
            ],
            "source": [
                "# First get the series corresponding to the 'role_importance' column\n",
                "role_series = df['role_importance']\n",
                "role_series"
            ]
        },
        {
            "cell_type": "code",
            "execution_count": 14,
            "metadata": {},
            "outputs": [],
            "source": [
                "# Select only the non-NAN values by using .notna() method on 'role_series'\n",
                "boolean_series = role_series.notna()"
            ]
        },
        {
            "cell_type": "code",
            "execution_count": 15,
            "metadata": {},
            "outputs": [
                {
                    "name": "stdout",
                    "output_type": "stream",
                    "text": "0          True\n1          True\n2          True\n3         False\n4          True\n          ...  \n172140    False\n172141     True\n172142     True\n172143     True\n172144     True\nName: role_importance, Length: 172145, dtype: bool\n"
                }
            ],
            "source": [
                "# Index the original data..frame with the 'boolean' mask and find the length\n",
                "num_of_notna_roles = boolean_series\n",
                "print(num_of_notna_roles)"
            ]
        },
        {
            "attachments": {},
            "cell_type": "markdown",
            "metadata": {},
            "source": [
                "## Part 2: Series operations"
            ]
        },
        {
            "cell_type": "code",
            "execution_count": 16,
            "metadata": {},
            "outputs": [
                {
                    "data": {
                        "text/html": "\u003cdiv\u003e\n\u003cstyle scoped\u003e\n    .dataframe tbody tr th:only-of-type {\n        vertical-align: middle;\n    }\n\n    .dataframe tbody tr th {\n        vertical-align: top;\n    }\n\n    .dataframe thead th {\n        text-align: right;\n    }\n\u003c/style\u003e\n\u003ctable border=\"1\" class=\"dataframe\"\u003e\n  \u003cthead\u003e\n    \u003ctr style=\"text-align: right;\"\u003e\n      \u003cth\u003e\u003c/th\u003e\n      \u003cth\u003etitle\u003c/th\u003e\n      \u003cth\u003eyear\u003c/th\u003e\n    \u003c/tr\u003e\n  \u003c/thead\u003e\n  \u003ctbody\u003e\n    \u003ctr\u003e\n      \u003cth\u003e0\u003c/th\u003e\n      \u003ctd\u003eThe Hell with Heroes\u003c/td\u003e\n      \u003ctd\u003e1968\u003c/td\u003e\n    \u003c/tr\u003e\n    \u003ctr\u003e\n      \u003cth\u003e1\u003c/th\u003e\n      \u003ctd\u003eRaptola, violola y matola\u003c/td\u003e\n      \u003ctd\u003e1989\u003c/td\u003e\n    \u003c/tr\u003e\n    \u003ctr\u003e\n      \u003cth\u003e2\u003c/th\u003e\n      \u003ctd\u003eKigeki: Otto urimasu\u003c/td\u003e\n      \u003ctd\u003e1968\u003c/td\u003e\n    \u003c/tr\u003e\n    \u003ctr\u003e\n      \u003cth\u003e3\u003c/th\u003e\n      \u003ctd\u003eTanga-Tika\u003c/td\u003e\n      \u003ctd\u003e1953\u003c/td\u003e\n    \u003c/tr\u003e\n    \u003ctr\u003e\n      \u003cth\u003e4\u003c/th\u003e\n      \u003ctd\u003eBurning an Illusion\u003c/td\u003e\n      \u003ctd\u003e1981\u003c/td\u003e\n    \u003c/tr\u003e\n  \u003c/tbody\u003e\n\u003c/table\u003e\n\u003c/div\u003e",
                        "text/plain": "                       title  year\n0       The Hell with Heroes  1968\n1  Raptola, violola y matola  1989\n2       Kigeki: Otto urimasu  1968\n3                 Tanga-Tika  1953\n4        Burning an Illusion  1981"
                    },
                    "execution_count": 16,
                    "metadata": {},
                    "output_type": "execute_result"
                }
            ],
            "source": [
                "# Let's call another dataset 'data/titles.zip'\n",
                "# which has a lot more movies but fewer columns\n",
                "titles = pd.read_csv('data/titles.zip')\n",
                "\n",
                "# Take a quick look at the dataset\n",
                "titles.head()\n",
                ""
            ]
        },
        {
            "cell_type": "code",
            "execution_count": 17,
            "metadata": {},
            "outputs": [],
            "source": [
                "# Get a series of the year in which the movies were released\n",
                "\n",
                "year = df['year']\n",
                "#print(year)"
            ]
        },
        {
            "cell_type": "code",
            "execution_count": 18,
            "metadata": {},
            "outputs": [
                {
                    "name": "stdout",
                    "output_type": "stream",
                    "text": "0         False\n1          True\n2         False\n3         False\n4          True\n          ...  \n172140     True\n172141     True\n172142     True\n172143    False\n172144     True\nName: year, Length: 172145, dtype: bool\n"
                }
            ],
            "source": [
                "# Create a boolean series with only the years \u003e 2000\n",
                "boolean_series =year \u003e 2000\n",
                "print(boolean_series)"
            ]
        },
        {
            "cell_type": "code",
            "execution_count": 35,
            "metadata": {},
            "outputs": [
                {
                    "name": "stdout",
                    "output_type": "stream",
                    "text": "Number of movies released after the year 2000 are 99253\n"
                }
            ],
            "source": [
                "### edTest(test_counts) ###\n",
                "# Use the .value_counts() method on `boolean_series` to see how many films were released before and after 2000\n",
                "df[df.year \u003e2000].value_counts()\n",
                "#print()\n",
                "# Take the count of the 'True' bools \n",
                "movies_after_2000 =99253\n",
                "print(f'Number of movies released after the year 2000 are {movies_after_2000}')"
            ]
        },
        {
            "cell_type": "code",
            "execution_count": 20,
            "metadata": {},
            "outputs": [
                {
                    "data": {
                        "text/html": "\u003cdiv\u003e\n\u003cstyle scoped\u003e\n    .dataframe tbody tr th:only-of-type {\n        vertical-align: middle;\n    }\n\n    .dataframe tbody tr th {\n        vertical-align: top;\n    }\n\n    .dataframe thead th {\n        text-align: right;\n    }\n\u003c/style\u003e\n\u003ctable border=\"1\" class=\"dataframe\"\u003e\n  \u003cthead\u003e\n    \u003ctr style=\"text-align: right;\"\u003e\n      \u003cth\u003e\u003c/th\u003e\n      \u003cth\u003etitle\u003c/th\u003e\n      \u003cth\u003eyear\u003c/th\u003e\n      \u003cth\u003ename\u003c/th\u003e\n      \u003cth\u003etype\u003c/th\u003e\n      \u003cth\u003echaracter\u003c/th\u003e\n      \u003cth\u003erole_importance\u003c/th\u003e\n    \u003c/tr\u003e\n  \u003c/thead\u003e\n  \u003ctbody\u003e\n    \u003ctr\u003e\n      \u003cth\u003e1\u003c/th\u003e\n      \u003ctd\u003eBoone: The Bounty Hunter\u003c/td\u003e\n      \u003ctd\u003e2017\u003c/td\u003e\n      \u003ctd\u003eOsric Chau\u003c/td\u003e\n      \u003ctd\u003eactor\u003c/td\u003e\n      \u003ctd\u003eDenny\u003c/td\u003e\n      \u003ctd\u003e2.0\u003c/td\u003e\n    \u003c/tr\u003e\n    \u003ctr\u003e\n      \u003cth\u003e4\u003c/th\u003e\n      \u003ctd\u003eAmerican Wrestler: The Wizard\u003c/td\u003e\n      \u003ctd\u003e2016\u003c/td\u003e\n      \u003ctd\u003eDaniel (XIII) Pacheco\u003c/td\u003e\n      \u003ctd\u003eactor\u003c/td\u003e\n      \u003ctd\u003eEast Petaluma Wrestler\u003c/td\u003e\n      \u003ctd\u003e34.0\u003c/td\u003e\n    \u003c/tr\u003e\n    \u003ctr\u003e\n      \u003cth\u003e6\u003c/th\u003e\n      \u003ctd\u003eExcuses!\u003c/td\u003e\n      \u003ctd\u003e2003\u003c/td\u003e\n      \u003ctd\u003eMar Colàs\u003c/td\u003e\n      \u003ctd\u003eactress\u003c/td\u003e\n      \u003ctd\u003eVerònica\u003c/td\u003e\n      \u003ctd\u003e6.0\u003c/td\u003e\n    \u003c/tr\u003e\n    \u003ctr\u003e\n      \u003cth\u003e8\u003c/th\u003e\n      \u003ctd\u003e10 jours en or\u003c/td\u003e\n      \u003ctd\u003e2012\u003c/td\u003e\n      \u003ctd\u003eAlain Buron\u003c/td\u003e\n      \u003ctd\u003eactor\u003c/td\u003e\n      \u003ctd\u003eChef de rayon supermarché\u003c/td\u003e\n      \u003ctd\u003e18.0\u003c/td\u003e\n    \u003c/tr\u003e\n    \u003ctr\u003e\n      \u003cth\u003e9\u003c/th\u003e\n      \u003ctd\u003eGuest iin London\u003c/td\u003e\n      \u003ctd\u003e2017\u003c/td\u003e\n      \u003ctd\u003eMoe Bilal\u003c/td\u003e\n      \u003ctd\u003eactor\u003c/td\u003e\n      \u003ctd\u003eFuneral Ward Man\u003c/td\u003e\n      \u003ctd\u003eNaN\u003c/td\u003e\n    \u003c/tr\u003e\n  \u003c/tbody\u003e\n\u003c/table\u003e\n\u003c/div\u003e",
                        "text/plain": "                           title  year                   name     type  \\\n1       Boone: The Bounty Hunter  2017             Osric Chau    actor   \n4  American Wrestler: The Wizard  2016  Daniel (XIII) Pacheco    actor   \n6                       Excuses!  2003              Mar Colàs  actress   \n8                 10 jours en or  2012            Alain Buron    actor   \n9               Guest iin London  2017              Moe Bilal    actor   \n\n                   character  role_importance  \n1                      Denny              2.0  \n4     East Petaluma Wrestler             34.0  \n6                   Verònica              6.0  \n8  Chef de rayon supermarché             18.0  \n9           Funeral Ward Man              NaN  "
                    },
                    "execution_count": 20,
                    "metadata": {},
                    "output_type": "execute_result"
                }
            ],
            "source": [
                "# We can even filter the dataframe with the boolean series directly\n",
                "# with the syntax df[boolean_series]\n",
                "titles_post_2000 = df[boolean_series]\n",
                "titles_post_2000.head()"
            ]
        },
        {
            "attachments": {},
            "cell_type": "markdown",
            "metadata": {},
            "source": [
                "### 🙋🏻 How many movies in the decade of 2000 ?"
            ]
        },
        {
            "cell_type": "code",
            "execution_count": 21,
            "metadata": {},
            "outputs": [],
            "source": [
                "# To answer the above question, we can operate on the year 'Series' directly \n",
                "# get the series associated with the 'year' column, floor divide it by 10 and multiply by 10\n",
                "# equate this with 2000 to get a boolean series of movies in the year 200x\n",
                "boolean_series =((year//10)*10)==2000\n",
                ""
            ]
        },
        {
            "cell_type": "code",
            "execution_count": 22,
            "metadata": {},
            "outputs": [
                {
                    "data": {
                        "text/plain": "0    False\n1    False\n2    False\n3    False\n4    False\nName: year, dtype: bool"
                    },
                    "execution_count": 22,
                    "metadata": {},
                    "output_type": "execute_result"
                }
            ],
            "source": [
                "# Similarly, we can filter out a dataframe with only the movies in the decade of 2000\n",
                "# using the same boolean_series mentioned above\n",
                "titles_2k = boolean_series\n",
                "titles_2k.head()"
            ]
        },
        {
            "attachments": {},
            "cell_type": "markdown",
            "metadata": {},
            "source": [
                "## Indexing/Slicing Rows of DataFrames\n",
                "- Simple ways of selecting all rows and colu (`df[:]`)\n",
                "- Rows can be accessed via a key or a integer corresponding to the row number. \n",
                "- Omitting a value generally means *all values* before or after an item.\n",
                "- When we retrieve a single or mulitiple rows, the result is a Dataframe.\n",
                "- Several ways, either directly, with `loc`, or with `iloc`.\n",
                "\n",
                ""
            ]
        },
        {
            "cell_type": "code",
            "execution_count": 23,
            "metadata": {},
            "outputs": [
                {
                    "data": {
                        "text/html": "\u003cdiv\u003e\n\u003cstyle scoped\u003e\n    .dataframe tbody tr th:only-of-type {\n        vertical-align: middle;\n    }\n\n    .dataframe tbody tr th {\n        vertical-align: top;\n    }\n\n    .dataframe thead th {\n        text-align: right;\n    }\n\u003c/style\u003e\n\u003ctable border=\"1\" class=\"dataframe\"\u003e\n  \u003cthead\u003e\n    \u003ctr style=\"text-align: right;\"\u003e\n      \u003cth\u003e\u003c/th\u003e\n      \u003cth\u003etitle\u003c/th\u003e\n      \u003cth\u003eyear\u003c/th\u003e\n      \u003cth\u003ename\u003c/th\u003e\n      \u003cth\u003etype\u003c/th\u003e\n      \u003cth\u003echaracter\u003c/th\u003e\n      \u003cth\u003erole_importance\u003c/th\u003e\n    \u003c/tr\u003e\n  \u003c/thead\u003e\n  \u003ctbody\u003e\n    \u003ctr\u003e\n      \u003cth\u003e5\u003c/th\u003e\n      \u003ctd\u003eBad boy dak gung\u003c/td\u003e\n      \u003ctd\u003e2000\u003c/td\u003e\n      \u003ctd\u003eBlackie Shou Liang Ko\u003c/td\u003e\n      \u003ctd\u003eactor\u003c/td\u003e\n      \u003ctd\u003eDark Tung\u003c/td\u003e\n      \u003ctd\u003e8.0\u003c/td\u003e\n    \u003c/tr\u003e\n    \u003ctr\u003e\n      \u003cth\u003e6\u003c/th\u003e\n      \u003ctd\u003eExcuses!\u003c/td\u003e\n      \u003ctd\u003e2003\u003c/td\u003e\n      \u003ctd\u003eMar Colàs\u003c/td\u003e\n      \u003ctd\u003eactress\u003c/td\u003e\n      \u003ctd\u003eVerònica\u003c/td\u003e\n      \u003ctd\u003e6.0\u003c/td\u003e\n    \u003c/tr\u003e\n    \u003ctr\u003e\n      \u003cth\u003e10\u003c/th\u003e\n      \u003ctd\u003eThe Girls' Room\u003c/td\u003e\n      \u003ctd\u003e2000\u003c/td\u003e\n      \u003ctd\u003eLela Lee\u003c/td\u003e\n      \u003ctd\u003eactress\u003c/td\u003e\n      \u003ctd\u003eChloe\u003c/td\u003e\n      \u003ctd\u003e10.0\u003c/td\u003e\n    \u003c/tr\u003e\n    \u003ctr\u003e\n      \u003cth\u003e18\u003c/th\u003e\n      \u003ctd\u003eThe Harvest Project\u003c/td\u003e\n      \u003ctd\u003e2008\u003c/td\u003e\n      \u003ctd\u003eEdan Armstrong\u003c/td\u003e\n      \u003ctd\u003eactor\u003c/td\u003e\n      \u003ctd\u003eMale cadaver\u003c/td\u003e\n      \u003ctd\u003e33.0\u003c/td\u003e\n    \u003c/tr\u003e\n    \u003ctr\u003e\n      \u003cth\u003e21\u003c/th\u003e\n      \u003ctd\u003eAladin\u003c/td\u003e\n      \u003ctd\u003e2009\u003c/td\u003e\n      \u003ctd\u003ePeter (IX) Wong\u003c/td\u003e\n      \u003ctd\u003eactor\u003c/td\u003e\n      \u003ctd\u003eWarehouse Employee\u003c/td\u003e\n      \u003ctd\u003eNaN\u003c/td\u003e\n    \u003c/tr\u003e\n  \u003c/tbody\u003e\n\u003c/table\u003e\n\u003c/div\u003e",
                        "text/plain": "                  title  year                   name     type  \\\n5      Bad boy dak gung  2000  Blackie Shou Liang Ko    actor   \n6              Excuses!  2003              Mar Colàs  actress   \n10      The Girls' Room  2000               Lela Lee  actress   \n18  The Harvest Project  2008         Edan Armstrong    actor   \n21               Aladin  2009        Peter (IX) Wong    actor   \n\n             character  role_importance  \n5            Dark Tung              8.0  \n6             Verònica              6.0  \n10               Chloe             10.0  \n18        Male cadaver             33.0  \n21  Warehouse Employee              NaN  "
                    },
                    "execution_count": 23,
                    "metadata": {},
                    "output_type": "execute_result"
                }
            ],
            "source": [
                "# We can use the boolean series along with loc as well\n",
                "# with syntax df.loc[boolean_series]\n",
                "titles_2k = df.loc[boolean_series]\n",
                "titles_2k.head()"
            ]
        },
        {
            "cell_type": "code",
            "execution_count": 24,
            "metadata": {},
            "outputs": [
                {
                    "data": {
                        "text/html": "\u003cdiv\u003e\n\u003cstyle scoped\u003e\n    .dataframe tbody tr th:only-of-type {\n        vertical-align: middle;\n    }\n\n    .dataframe tbody tr th {\n        vertical-align: top;\n    }\n\n    .dataframe thead th {\n        text-align: right;\n    }\n\u003c/style\u003e\n\u003ctable border=\"1\" class=\"dataframe\"\u003e\n  \u003cthead\u003e\n    \u003ctr style=\"text-align: right;\"\u003e\n      \u003cth\u003e\u003c/th\u003e\n      \u003cth\u003etitle\u003c/th\u003e\n    \u003c/tr\u003e\n  \u003c/thead\u003e\n  \u003ctbody\u003e\n    \u003ctr\u003e\n      \u003cth\u003e5\u003c/th\u003e\n      \u003ctd\u003eBad boy dak gung\u003c/td\u003e\n    \u003c/tr\u003e\n    \u003ctr\u003e\n      \u003cth\u003e6\u003c/th\u003e\n      \u003ctd\u003eExcuses!\u003c/td\u003e\n    \u003c/tr\u003e\n    \u003ctr\u003e\n      \u003cth\u003e10\u003c/th\u003e\n      \u003ctd\u003eThe Girls' Room\u003c/td\u003e\n    \u003c/tr\u003e\n    \u003ctr\u003e\n      \u003cth\u003e18\u003c/th\u003e\n      \u003ctd\u003eThe Harvest Project\u003c/td\u003e\n    \u003c/tr\u003e\n    \u003ctr\u003e\n      \u003cth\u003e21\u003c/th\u003e\n      \u003ctd\u003eAladin\u003c/td\u003e\n    \u003c/tr\u003e\n  \u003c/tbody\u003e\n\u003c/table\u003e\n\u003c/div\u003e",
                        "text/plain": "                  title\n5      Bad boy dak gung\n6              Excuses!\n10      The Girls' Room\n18  The Harvest Project\n21               Aladin"
                    },
                    "execution_count": 24,
                    "metadata": {},
                    "output_type": "execute_result"
                }
            ],
            "source": [
                "# loc takes both rows and columns, so we can specify if we only want the title\n",
                "# with syntax df.loc[boolean_series,['title']]\n",
                "only_titles =df.loc[boolean_series,['title']]\n",
                "only_titles.head()"
            ]
        },
        {
            "attachments": {},
            "cell_type": "markdown",
            "metadata": {},
            "source": [
                "## ⏸ `.loc()` vs `.iloc()`\n",
                "Suppose we have the `toy_df`dataframe below.\n",
                "```python3\n",
                "\t name\t  role\n",
                "1\tPavlos\tArchitect\n",
                "2\tRahul\tInstructor\n",
                "3\tChaitanya   TA\n",
                "4\tHemani\t    TA\n",
                "5\tViraj \t    TA\n",
                "6\tAbjasree    TA\n",
                "7\tKarthiga    TA\n",
                "```\n",
                "\n",
                "Which operation will give you the following output:\n",
                "\n",
                "```python3\n",
                "name       Pavlos\n",
                "role    Architect\n",
                "Name: 1, dtype: object\n",
                "```\n",
                "\n",
                "#### A. `toy_df.iloc[0]`\n",
                "#### B. `toy_df.loc[0]`\n",
                "#### C. `toy_df.iloc[1]`\n",
                "#### D. `toy_df.loc[1]`"
            ]
        },
        {
            "cell_type": "code",
            "execution_count": 25,
            "metadata": {},
            "outputs": [
                {
                    "data": {
                        "text/html": "\u003cdiv\u003e\n\u003cstyle scoped\u003e\n    .dataframe tbody tr th:only-of-type {\n        vertical-align: middle;\n    }\n\n    .dataframe tbody tr th {\n        vertical-align: top;\n    }\n\n    .dataframe thead th {\n        text-align: right;\n    }\n\u003c/style\u003e\n\u003ctable border=\"1\" class=\"dataframe\"\u003e\n  \u003cthead\u003e\n    \u003ctr style=\"text-align: right;\"\u003e\n      \u003cth\u003e\u003c/th\u003e\n      \u003cth\u003ename\u003c/th\u003e\n      \u003cth\u003erole\u003c/th\u003e\n    \u003c/tr\u003e\n  \u003c/thead\u003e\n  \u003ctbody\u003e\n    \u003ctr\u003e\n      \u003cth\u003e1\u003c/th\u003e\n      \u003ctd\u003ePavlos\u003c/td\u003e\n      \u003ctd\u003eArchitect\u003c/td\u003e\n    \u003c/tr\u003e\n    \u003ctr\u003e\n      \u003cth\u003e2\u003c/th\u003e\n      \u003ctd\u003eRahul\u003c/td\u003e\n      \u003ctd\u003eInstructor\u003c/td\u003e\n    \u003c/tr\u003e\n    \u003ctr\u003e\n      \u003cth\u003e3\u003c/th\u003e\n      \u003ctd\u003eChaitanya\u003c/td\u003e\n      \u003ctd\u003eTA\u003c/td\u003e\n    \u003c/tr\u003e\n    \u003ctr\u003e\n      \u003cth\u003e4\u003c/th\u003e\n      \u003ctd\u003eHemani\u003c/td\u003e\n      \u003ctd\u003eTA\u003c/td\u003e\n    \u003c/tr\u003e\n    \u003ctr\u003e\n      \u003cth\u003e5\u003c/th\u003e\n      \u003ctd\u003eViraj\u003c/td\u003e\n      \u003ctd\u003eTA\u003c/td\u003e\n    \u003c/tr\u003e\n  \u003c/tbody\u003e\n\u003c/table\u003e\n\u003c/div\u003e",
                        "text/plain": "        name        role\n1     Pavlos   Architect\n2      Rahul  Instructor\n3  Chaitanya          TA\n4     Hemani          TA\n5      Viraj          TA"
                    },
                    "execution_count": 25,
                    "metadata": {},
                    "output_type": "execute_result"
                }
            ],
            "source": [
                "toy_df = pd.DataFrame({'name':['Pavlos','Rahul','Chaitanya','Hemani','Viraj', 'Abjasree', 'Karthiga'],'role':['Architect','Instructor','TA','TA','TA','TA','TA']},index = [1,2,3,4,5,6,7])\n",
                "toy_df.head()\n",
                ""
            ]
        },
        {
            "cell_type": "code",
            "execution_count": 26,
            "metadata": {},
            "outputs": [],
            "source": [
                "### edTest(test_chow2) ###\n",
                "# There may be multiple right answers therefore your your answer should be a list comma separated, \n",
                "# for example ['a' , 'c' , 'd']\n",
                "answer2 = ['a','d']"
            ]
        }
    ]
}
