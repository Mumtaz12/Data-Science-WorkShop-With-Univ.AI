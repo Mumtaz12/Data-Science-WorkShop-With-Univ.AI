{
    "metadata": {
        "kernelspec": {
            "name": "python3",
            "display_name": "Python 3 (ipykernel)",
            "language": "python"
        }
    },
    "nbformat": 4,
    "nbformat_minor": 4,
    "cells": [
        {
            "attachments": {},
            "cell_type": "markdown",
            "metadata": {},
            "source": [
                "# 🎵 Spotify Quiz\n",
                "\n",
                "Answer the questions below using the `spotify_artists.csv` dataset provided.\n",
                "\n",
                "**NOTE:** Answers to all questions must be made based on the provided dataset."
            ]
        },
        {
            "cell_type": "code",
            "execution_count": 1,
            "metadata": {},
            "outputs": [],
            "source": [
                "# import the pandas library\n",
                "import pandas as pd"
            ]
        },
        {
            "cell_type": "code",
            "execution_count": 3,
            "metadata": {},
            "outputs": [],
            "source": [
                "# read the `spotify_artists.csv` file into a dataframe\n",
                "df = pd.read_csv('spotify_artists.csv')"
            ]
        },
        {
            "cell_type": "code",
            "execution_count": 4,
            "metadata": {},
            "outputs": [
                {
                    "data": {
                        "text/html": "\u003cdiv\u003e\n\u003cstyle scoped\u003e\n    .dataframe tbody tr th:only-of-type {\n        vertical-align: middle;\n    }\n\n    .dataframe tbody tr th {\n        vertical-align: top;\n    }\n\n    .dataframe thead th {\n        text-align: right;\n    }\n\u003c/style\u003e\n\u003ctable border=\"1\" class=\"dataframe\"\u003e\n  \u003cthead\u003e\n    \u003ctr style=\"text-align: right;\"\u003e\n      \u003cth\u003e\u003c/th\u003e\n      \u003cth\u003ename\u003c/th\u003e\n      \u003cth\u003eartist\u003c/th\u003e\n      \u003cth\u003eyear\u003c/th\u003e\n      \u003cth\u003eduration_ms\u003c/th\u003e\n      \u003cth\u003epopularity\u003c/th\u003e\n      \u003cth\u003eenergy\u003c/th\u003e\n      \u003cth\u003edanceability\u003c/th\u003e\n      \u003cth\u003etempo\u003c/th\u003e\n    \u003c/tr\u003e\n  \u003c/thead\u003e\n  \u003ctbody\u003e\n    \u003ctr\u003e\n      \u003cth\u003e0\u003c/th\u003e\n      \u003ctd\u003eSingende Bataillone 1. Teil\u003c/td\u003e\n      \u003ctd\u003eCarl Woitschach\u003c/td\u003e\n      \u003ctd\u003e1928\u003c/td\u003e\n      \u003ctd\u003e158648\u003c/td\u003e\n      \u003ctd\u003e0\u003c/td\u003e\n      \u003ctd\u003e0.1950\u003c/td\u003e\n      \u003ctd\u003e0.708\u003c/td\u003e\n      \u003ctd\u003e118.469\u003c/td\u003e\n    \u003c/tr\u003e\n    \u003ctr\u003e\n      \u003cth\u003e1\u003c/th\u003e\n      \u003ctd\u003eFantasiestücke, Op. 111: Più tosto lento\u003c/td\u003e\n      \u003ctd\u003eRobert Schumann\u003c/td\u003e\n      \u003ctd\u003e1928\u003c/td\u003e\n      \u003ctd\u003e282133\u003c/td\u003e\n      \u003ctd\u003e0\u003c/td\u003e\n      \u003ctd\u003e0.0135\u003c/td\u003e\n      \u003ctd\u003e0.379\u003c/td\u003e\n      \u003ctd\u003e83.972\u003c/td\u003e\n    \u003c/tr\u003e\n    \u003ctr\u003e\n      \u003cth\u003e2\u003c/th\u003e\n      \u003ctd\u003eChapter 1.18 - Zamek kaniowski\u003c/td\u003e\n      \u003ctd\u003eSeweryn Goszczyński\u003c/td\u003e\n      \u003ctd\u003e1928\u003c/td\u003e\n      \u003ctd\u003e104300\u003c/td\u003e\n      \u003ctd\u003e0\u003c/td\u003e\n      \u003ctd\u003e0.2200\u003c/td\u003e\n      \u003ctd\u003e0.749\u003c/td\u003e\n      \u003ctd\u003e107.177\u003c/td\u003e\n    \u003c/tr\u003e\n    \u003ctr\u003e\n      \u003cth\u003e3\u003c/th\u003e\n      \u003ctd\u003eBebamos Juntos - Instrumental (Remasterizado)\u003c/td\u003e\n      \u003ctd\u003eFrancisco Canaro\u003c/td\u003e\n      \u003ctd\u003e1928\u003c/td\u003e\n      \u003ctd\u003e180760\u003c/td\u003e\n      \u003ctd\u003e0\u003c/td\u003e\n      \u003ctd\u003e0.1300\u003c/td\u003e\n      \u003ctd\u003e0.781\u003c/td\u003e\n      \u003ctd\u003e108.003\u003c/td\u003e\n    \u003c/tr\u003e\n    \u003ctr\u003e\n      \u003cth\u003e4\u003c/th\u003e\n      \u003ctd\u003ePolonaise-Fantaisie in A-Flat Major, Op. 61\u003c/td\u003e\n      \u003ctd\u003eNaN\u003c/td\u003e\n      \u003ctd\u003e1928\u003c/td\u003e\n      \u003ctd\u003e687733\u003c/td\u003e\n      \u003ctd\u003e1\u003c/td\u003e\n      \u003ctd\u003e0.2040\u003c/td\u003e\n      \u003ctd\u003e0.210\u003c/td\u003e\n      \u003ctd\u003e62.149\u003c/td\u003e\n    \u003c/tr\u003e\n  \u003c/tbody\u003e\n\u003c/table\u003e\n\u003c/div\u003e",
                        "text/plain": "                                            name               artist  year  \\\n0                    Singende Bataillone 1. Teil      Carl Woitschach  1928   \n1       Fantasiestücke, Op. 111: Più tosto lento      Robert Schumann  1928   \n2                 Chapter 1.18 - Zamek kaniowski  Seweryn Goszczyński  1928   \n3  Bebamos Juntos - Instrumental (Remasterizado)     Francisco Canaro  1928   \n4    Polonaise-Fantaisie in A-Flat Major, Op. 61                  NaN  1928   \n\n   duration_ms  popularity  energy  danceability    tempo  \n0       158648           0  0.1950         0.708  118.469  \n1       282133           0  0.0135         0.379   83.972  \n2       104300           0  0.2200         0.749  107.177  \n3       180760           0  0.1300         0.781  108.003  \n4       687733           1  0.2040         0.210   62.149  "
                    },
                    "execution_count": 4,
                    "metadata": {},
                    "output_type": "execute_result"
                }
            ],
            "source": [
                "# take a quick look at the data\n",
                "df.head()"
            ]
        },
        {
            "attachments": {},
            "cell_type": "markdown",
            "metadata": {},
            "source": [
                "### 1. How many songs are listed in the dataframe?"
            ]
        },
        {
            "cell_type": "code",
            "execution_count": 0,
            "metadata": {},
            "outputs": [],
            "source": [
                "# your code here"
            ]
        },
        {
            "cell_type": "code",
            "execution_count": 0,
            "metadata": {},
            "outputs": [],
            "source": [
                "### edTest(test_chow1) ###\n",
                "answer1 = len(df)"
            ]
        },
        {
            "attachments": {},
            "cell_type": "markdown",
            "metadata": {},
            "source": [
                "### 2. How may days would it take to listen to all the songs in this dataset ?\n",
                "\n",
                "**NOTE:** Round to answer to the nearest integer"
            ]
        },
        {
            "cell_type": "code",
            "execution_count": 5,
            "metadata": {},
            "outputs": [],
            "source": [
                "# your code here\n",
                "days = 1000*60*60*24"
            ]
        },
        {
            "cell_type": "code",
            "execution_count": 8,
            "metadata": {},
            "outputs": [
                {
                    "data": {
                        "text/plain": "437"
                    },
                    "execution_count": 8,
                    "metadata": {},
                    "output_type": "execute_result"
                }
            ],
            "source": [
                "### edTest(test_chow2) ###\n",
                "answer2 = round(df.duration_ms.sum()/days)\n",
                "answer2"
            ]
        },
        {
            "attachments": {},
            "cell_type": "markdown",
            "metadata": {},
            "source": [
                "### 3. In the dataframe, how many songs have been titled **\"Love\"** (exact match)"
            ]
        },
        {
            "cell_type": "code",
            "execution_count": 10,
            "metadata": {},
            "outputs": [
                {
                    "data": {
                        "text/plain": "18"
                    },
                    "execution_count": 10,
                    "metadata": {},
                    "output_type": "execute_result"
                }
            ],
            "source": [
                "# your code here\n",
                "len(df[df.name =='Love'])"
            ]
        },
        {
            "cell_type": "code",
            "execution_count": 0,
            "metadata": {},
            "outputs": [],
            "source": [
                "### edTest(test_chow3) ###\n",
                "answer3 = len(df[df.name =='Love'])"
            ]
        },
        {
            "attachments": {},
            "cell_type": "markdown",
            "metadata": {},
            "source": [
                "### 4. The most popular song titled \"Love\" was made my which artist?"
            ]
        },
        {
            "cell_type": "code",
            "execution_count": 14,
            "metadata": {},
            "outputs": [
                {
                    "data": {
                        "text/plain": "'Lana Del Rey'"
                    },
                    "execution_count": 14,
                    "metadata": {},
                    "output_type": "execute_result"
                }
            ],
            "source": [
                "# your code here\n",
                "d = df[df.name == 'Love'].sort_values(by = 'popularity',ascending=False).iloc[0]\n",
                "d['artist']"
            ]
        },
        {
            "cell_type": "code",
            "execution_count": 0,
            "metadata": {},
            "outputs": [],
            "source": [
                "### edTest(test_chow4) ###\n",
                "answer4 = d['artist']"
            ]
        },
        {
            "attachments": {},
            "cell_type": "markdown",
            "metadata": {},
            "source": [
                "### 5. Which decade has the most number of songs released?\n",
                "NOTE: if your answer is the `80s`, answer should be `1980`"
            ]
        },
        {
            "cell_type": "code",
            "execution_count": 16,
            "metadata": {},
            "outputs": [
                {
                    "data": {
                        "text/plain": "1990"
                    },
                    "execution_count": 16,
                    "metadata": {},
                    "output_type": "execute_result"
                }
            ],
            "source": [
                "# your code here\n",
                "s = (df.year//10*10)\n",
                "s.value_counts().sort_values(ascending=False).index[0]"
            ]
        },
        {
            "cell_type": "code",
            "execution_count": 0,
            "metadata": {},
            "outputs": [],
            "source": [
                "### edTest(test_chow5) ###\n",
                "answer5 = s.value_counts().sort_values(ascending=False).index[0]"
            ]
        },
        {
            "attachments": {},
            "cell_type": "markdown",
            "metadata": {},
            "source": [
                "### 6. Which column has missing data?"
            ]
        },
        {
            "cell_type": "code",
            "execution_count": 39,
            "metadata": {},
            "outputs": [],
            "source": [
                "# your code here\n",
                "s = df.isna().any()"
            ]
        },
        {
            "cell_type": "code",
            "execution_count": 32,
            "metadata": {},
            "outputs": [],
            "source": [
                "### edTest(test_chow6) ###\n",
                "answer6 = df.columns[s].item()"
            ]
        },
        {
            "attachments": {},
            "cell_type": "markdown",
            "metadata": {},
            "source": [
                "#### Drop all missing values to answer the next set of questions below."
            ]
        },
        {
            "cell_type": "code",
            "execution_count": 40,
            "metadata": {},
            "outputs": [],
            "source": [
                "# your code here\n",
                "df.dropna(inplace=True)"
            ]
        },
        {
            "attachments": {},
            "cell_type": "markdown",
            "metadata": {},
            "source": [
                "### 7. How many unique artists are represented in the dataset ?"
            ]
        },
        {
            "cell_type": "code",
            "execution_count": 43,
            "metadata": {},
            "outputs": [
                {
                    "data": {
                        "text/plain": "19695"
                    },
                    "execution_count": 43,
                    "metadata": {},
                    "output_type": "execute_result"
                }
            ],
            "source": [
                "# your code here\n",
                "df.artist.unique().shape[0]"
            ]
        },
        {
            "cell_type": "code",
            "execution_count": 0,
            "metadata": {},
            "outputs": [],
            "source": [
                "### edTest(test_chow7) ###\n",
                "answer7 = df.artist.unique().shape[0]"
            ]
        },
        {
            "attachments": {},
            "cell_type": "markdown",
            "metadata": {},
            "source": [
                "### 8. What is the average energy of all songs by 'Michael Jackson'?"
            ]
        },
        {
            "cell_type": "code",
            "execution_count": 45,
            "metadata": {},
            "outputs": [
                {
                    "data": {
                        "text/plain": "0.6930836363636363"
                    },
                    "execution_count": 45,
                    "metadata": {},
                    "output_type": "execute_result"
                }
            ],
            "source": [
                "# your code here\n",
                "df.groupby('artist')['energy'].mean()['Michael Jackson']"
            ]
        },
        {
            "cell_type": "code",
            "execution_count": 0,
            "metadata": {},
            "outputs": [],
            "source": [
                "### edTest(test_chow8) ###\n",
                "answer8 = df.groupby('artist')['energy'].mean()['Michael Jackson']"
            ]
        },
        {
            "attachments": {},
            "cell_type": "markdown",
            "metadata": {},
            "source": [
                "\n",
                "### 9. What is Michael Jackson's most energetic song ?"
            ]
        },
        {
            "cell_type": "code",
            "execution_count": 49,
            "metadata": {},
            "outputs": [
                {
                    "data": {
                        "text/plain": "'Smooth Criminal - 2012 Remaster'"
                    },
                    "execution_count": 49,
                    "metadata": {},
                    "output_type": "execute_result"
                }
            ],
            "source": [
                "# your code here\n",
                "d = df.sort_values(by='energy',ascending=False)\n",
                "d.groupby('artist')['name'].first()['Michael Jackson']"
            ]
        },
        {
            "cell_type": "code",
            "execution_count": 0,
            "metadata": {},
            "outputs": [],
            "source": [
                "### edTest(test_chow9) ###\n",
                "answer9 = d.groupby('artist')['name'].first()['Michael Jackson']"
            ]
        },
        {
            "attachments": {},
            "cell_type": "markdown",
            "metadata": {},
            "source": [
                "### 10a. Which artist has released the most number of songs since 1960?"
            ]
        },
        {
            "cell_type": "code",
            "execution_count": 59,
            "metadata": {},
            "outputs": [
                {
                    "data": {
                        "text/plain": "'Bob Dylan'"
                    },
                    "execution_count": 59,
                    "metadata": {},
                    "output_type": "execute_result"
                }
            ],
            "source": [
                "# your code here \n",
                "d = df[(df.year\u003e= 1960)]\n",
                "d.groupby('artist').size().sort_values(ascending=False).index[0]"
            ]
        },
        {
            "cell_type": "code",
            "execution_count": 0,
            "metadata": {},
            "outputs": [],
            "source": [
                "### edTest(test_chow10a) ###\n",
                "answer10a = d.groupby('artist').size().sort_values(ascending=False).index[0]"
            ]
        },
        {
            "attachments": {},
            "cell_type": "markdown",
            "metadata": {},
            "source": [
                "### 10b. What was that artists' most popular song ?"
            ]
        },
        {
            "cell_type": "code",
            "execution_count": 57,
            "metadata": {},
            "outputs": [
                {
                    "data": {
                        "text/plain": "\"Knockin' On Heaven's Door\""
                    },
                    "execution_count": 57,
                    "metadata": {},
                    "output_type": "execute_result"
                }
            ],
            "source": [
                "# your code here\n",
                "d = df[df.artist =='Bob Dylan']\n",
                "d.sort_values('popularity',ascending=False).iloc[0,0]"
            ]
        },
        {
            "cell_type": "code",
            "execution_count": 0,
            "metadata": {},
            "outputs": [],
            "source": [
                "### edTest(test_chow10b) ###\n",
                "answer10b = d.sort_values('popularity',ascending=False).iloc[0,0]"
            ]
        },
        {
            "attachments": {},
            "cell_type": "markdown",
            "metadata": {},
            "source": [
                "## 🎓 Bonus Question\n",
                "\n",
                "Create a playlist of the most popular song of each year from 1980 to 2020.\n",
                "- The output should be of type `List` with `41` values of type `str` (one song for each year)\n",
                "e.g `['song1',song2',song3'...]`"
            ]
        },
        {
            "cell_type": "code",
            "execution_count": 0,
            "metadata": {},
            "outputs": [],
            "source": [
                "# Change the variable 'attempt' to the string \"attempted\"\n",
                "# if you want to attempt bonus question\n",
                "# else keep it unchanged if you wish to skip this question\n",
                "attempt = 'attempted'"
            ]
        },
        {
            "cell_type": "code",
            "execution_count": 65,
            "metadata": {},
            "outputs": [],
            "source": [
                "# your code here\n",
                "d = df[df.year\u003e=1980]\n",
                "d = d[d.year\u003c=2020]\n",
                "d = d.sort_values(by=['popularity', 'energy'], ascending=False)\n",
                "ans = d.groupby('year').first().name.tolist()"
            ]
        },
        {
            "cell_type": "code",
            "execution_count": 0,
            "metadata": {},
            "outputs": [],
            "source": [
                "### edTest(test_bonus) ###\n",
                "answer_bonus = ans"
            ]
        }
    ]
}
