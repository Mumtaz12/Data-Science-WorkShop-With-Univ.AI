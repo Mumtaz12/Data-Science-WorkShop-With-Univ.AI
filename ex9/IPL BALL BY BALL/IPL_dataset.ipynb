{
    "metadata": {
        "kernelspec": {
            "name": "python3",
            "display_name": "Python 3 (ipykernel)",
            "language": "python"
        }
    },
    "nbformat": 4,
    "nbformat_minor": 0,
    "cells": [
        {
            "cell_type": "code",
            "execution_count": 20,
            "metadata": {},
            "outputs": [],
            "source": [
                "import pandas as pd\n",
                "import numpy as np"
            ]
        },
        {
            "attachments": {},
            "cell_type": "markdown",
            "metadata": {},
            "source": [
                "1. prob of winning match after winning toss?\n",
                "2. prob of winning after batting first?\n",
                "3. probability of winning after batting first at delhi, and percentage of matches played in delhi\n",
                "5. Player with the most player-of-the-match?\n",
                "6. What is the largest run margin a team has won by?\n",
                "7. Who has umpired for the most matches?\n",
                "\n",
                ""
            ]
        },
        {
            "cell_type": "code",
            "execution_count": 21,
            "metadata": {},
            "outputs": [
                {
                    "data": {
                        "text/html": "\u003cdiv\u003e\n\u003cstyle scoped\u003e\n    .dataframe tbody tr th:only-of-type {\n        vertical-align: middle;\n    }\n\n    .dataframe tbody tr th {\n        vertical-align: top;\n    }\n\n    .dataframe thead th {\n        text-align: right;\n    }\n\u003c/style\u003e\n\u003ctable border=\"1\" class=\"dataframe\"\u003e\n  \u003cthead\u003e\n    \u003ctr style=\"text-align: right;\"\u003e\n      \u003cth\u003e\u003c/th\u003e\n      \u003cth\u003eid\u003c/th\u003e\n      \u003cth\u003ecity\u003c/th\u003e\n      \u003cth\u003edate\u003c/th\u003e\n      \u003cth\u003eplayer_of_match\u003c/th\u003e\n      \u003cth\u003evenue\u003c/th\u003e\n      \u003cth\u003eneutral_venue\u003c/th\u003e\n      \u003cth\u003eteam1\u003c/th\u003e\n      \u003cth\u003eteam2\u003c/th\u003e\n      \u003cth\u003etoss_winner\u003c/th\u003e\n      \u003cth\u003etoss_decision\u003c/th\u003e\n      \u003cth\u003ewinner\u003c/th\u003e\n      \u003cth\u003eresult\u003c/th\u003e\n      \u003cth\u003eresult_margin\u003c/th\u003e\n      \u003cth\u003eeliminator\u003c/th\u003e\n      \u003cth\u003emethod\u003c/th\u003e\n      \u003cth\u003eumpire1\u003c/th\u003e\n      \u003cth\u003eumpire2\u003c/th\u003e\n    \u003c/tr\u003e\n  \u003c/thead\u003e\n  \u003ctbody\u003e\n    \u003ctr\u003e\n      \u003cth\u003e0\u003c/th\u003e\n      \u003ctd\u003e335982\u003c/td\u003e\n      \u003ctd\u003eBangalore\u003c/td\u003e\n      \u003ctd\u003e2008-04-18\u003c/td\u003e\n      \u003ctd\u003eBB McCullum\u003c/td\u003e\n      \u003ctd\u003eM Chinnaswamy Stadium\u003c/td\u003e\n      \u003ctd\u003e0\u003c/td\u003e\n      \u003ctd\u003eRoyal Challengers Bangalore\u003c/td\u003e\n      \u003ctd\u003eKolkata Knight Riders\u003c/td\u003e\n      \u003ctd\u003eRoyal Challengers Bangalore\u003c/td\u003e\n      \u003ctd\u003efield\u003c/td\u003e\n      \u003ctd\u003eKolkata Knight Riders\u003c/td\u003e\n      \u003ctd\u003eruns\u003c/td\u003e\n      \u003ctd\u003e140.0\u003c/td\u003e\n      \u003ctd\u003eN\u003c/td\u003e\n      \u003ctd\u003eNaN\u003c/td\u003e\n      \u003ctd\u003eAsad Rauf\u003c/td\u003e\n      \u003ctd\u003eRE Koertzen\u003c/td\u003e\n    \u003c/tr\u003e\n    \u003ctr\u003e\n      \u003cth\u003e1\u003c/th\u003e\n      \u003ctd\u003e335983\u003c/td\u003e\n      \u003ctd\u003eChandigarh\u003c/td\u003e\n      \u003ctd\u003e2008-04-19\u003c/td\u003e\n      \u003ctd\u003eMEK Hussey\u003c/td\u003e\n      \u003ctd\u003ePunjab Cricket Association Stadium, Mohali\u003c/td\u003e\n      \u003ctd\u003e0\u003c/td\u003e\n      \u003ctd\u003eKings XI Punjab\u003c/td\u003e\n      \u003ctd\u003eChennai Super Kings\u003c/td\u003e\n      \u003ctd\u003eChennai Super Kings\u003c/td\u003e\n      \u003ctd\u003ebat\u003c/td\u003e\n      \u003ctd\u003eChennai Super Kings\u003c/td\u003e\n      \u003ctd\u003eruns\u003c/td\u003e\n      \u003ctd\u003e33.0\u003c/td\u003e\n      \u003ctd\u003eN\u003c/td\u003e\n      \u003ctd\u003eNaN\u003c/td\u003e\n      \u003ctd\u003eMR Benson\u003c/td\u003e\n      \u003ctd\u003eSL Shastri\u003c/td\u003e\n    \u003c/tr\u003e\n    \u003ctr\u003e\n      \u003cth\u003e2\u003c/th\u003e\n      \u003ctd\u003e335984\u003c/td\u003e\n      \u003ctd\u003eDelhi\u003c/td\u003e\n      \u003ctd\u003e2008-04-19\u003c/td\u003e\n      \u003ctd\u003eMF Maharoof\u003c/td\u003e\n      \u003ctd\u003eFeroz Shah Kotla\u003c/td\u003e\n      \u003ctd\u003e0\u003c/td\u003e\n      \u003ctd\u003eDelhi Daredevils\u003c/td\u003e\n      \u003ctd\u003eRajasthan Royals\u003c/td\u003e\n      \u003ctd\u003eRajasthan Royals\u003c/td\u003e\n      \u003ctd\u003ebat\u003c/td\u003e\n      \u003ctd\u003eDelhi Daredevils\u003c/td\u003e\n      \u003ctd\u003ewickets\u003c/td\u003e\n      \u003ctd\u003e9.0\u003c/td\u003e\n      \u003ctd\u003eN\u003c/td\u003e\n      \u003ctd\u003eNaN\u003c/td\u003e\n      \u003ctd\u003eAleem Dar\u003c/td\u003e\n      \u003ctd\u003eGA Pratapkumar\u003c/td\u003e\n    \u003c/tr\u003e\n    \u003ctr\u003e\n      \u003cth\u003e3\u003c/th\u003e\n      \u003ctd\u003e335985\u003c/td\u003e\n      \u003ctd\u003eMumbai\u003c/td\u003e\n      \u003ctd\u003e2008-04-20\u003c/td\u003e\n      \u003ctd\u003eMV Boucher\u003c/td\u003e\n      \u003ctd\u003eWankhede Stadium\u003c/td\u003e\n      \u003ctd\u003e0\u003c/td\u003e\n      \u003ctd\u003eMumbai Indians\u003c/td\u003e\n      \u003ctd\u003eRoyal Challengers Bangalore\u003c/td\u003e\n      \u003ctd\u003eMumbai Indians\u003c/td\u003e\n      \u003ctd\u003ebat\u003c/td\u003e\n      \u003ctd\u003eRoyal Challengers Bangalore\u003c/td\u003e\n      \u003ctd\u003ewickets\u003c/td\u003e\n      \u003ctd\u003e5.0\u003c/td\u003e\n      \u003ctd\u003eN\u003c/td\u003e\n      \u003ctd\u003eNaN\u003c/td\u003e\n      \u003ctd\u003eSJ Davis\u003c/td\u003e\n      \u003ctd\u003eDJ Harper\u003c/td\u003e\n    \u003c/tr\u003e\n    \u003ctr\u003e\n      \u003cth\u003e4\u003c/th\u003e\n      \u003ctd\u003e335986\u003c/td\u003e\n      \u003ctd\u003eKolkata\u003c/td\u003e\n      \u003ctd\u003e2008-04-20\u003c/td\u003e\n      \u003ctd\u003eDJ Hussey\u003c/td\u003e\n      \u003ctd\u003eEden Gardens\u003c/td\u003e\n      \u003ctd\u003e0\u003c/td\u003e\n      \u003ctd\u003eKolkata Knight Riders\u003c/td\u003e\n      \u003ctd\u003eDeccan Chargers\u003c/td\u003e\n      \u003ctd\u003eDeccan Chargers\u003c/td\u003e\n      \u003ctd\u003ebat\u003c/td\u003e\n      \u003ctd\u003eKolkata Knight Riders\u003c/td\u003e\n      \u003ctd\u003ewickets\u003c/td\u003e\n      \u003ctd\u003e5.0\u003c/td\u003e\n      \u003ctd\u003eN\u003c/td\u003e\n      \u003ctd\u003eNaN\u003c/td\u003e\n      \u003ctd\u003eBF Bowden\u003c/td\u003e\n      \u003ctd\u003eK Hariharan\u003c/td\u003e\n    \u003c/tr\u003e\n  \u003c/tbody\u003e\n\u003c/table\u003e\n\u003c/div\u003e",
                        "text/plain": "       id        city        date player_of_match  \\\n0  335982   Bangalore  2008-04-18     BB McCullum   \n1  335983  Chandigarh  2008-04-19      MEK Hussey   \n2  335984       Delhi  2008-04-19     MF Maharoof   \n3  335985      Mumbai  2008-04-20      MV Boucher   \n4  335986     Kolkata  2008-04-20       DJ Hussey   \n\n                                        venue  neutral_venue  \\\n0                       M Chinnaswamy Stadium              0   \n1  Punjab Cricket Association Stadium, Mohali              0   \n2                            Feroz Shah Kotla              0   \n3                            Wankhede Stadium              0   \n4                                Eden Gardens              0   \n\n                         team1                        team2  \\\n0  Royal Challengers Bangalore        Kolkata Knight Riders   \n1              Kings XI Punjab          Chennai Super Kings   \n2             Delhi Daredevils             Rajasthan Royals   \n3               Mumbai Indians  Royal Challengers Bangalore   \n4        Kolkata Knight Riders              Deccan Chargers   \n\n                   toss_winner toss_decision                       winner  \\\n0  Royal Challengers Bangalore         field        Kolkata Knight Riders   \n1          Chennai Super Kings           bat          Chennai Super Kings   \n2             Rajasthan Royals           bat             Delhi Daredevils   \n3               Mumbai Indians           bat  Royal Challengers Bangalore   \n4              Deccan Chargers           bat        Kolkata Knight Riders   \n\n    result  result_margin eliminator method    umpire1         umpire2  \n0     runs          140.0          N    NaN  Asad Rauf     RE Koertzen  \n1     runs           33.0          N    NaN  MR Benson      SL Shastri  \n2  wickets            9.0          N    NaN  Aleem Dar  GA Pratapkumar  \n3  wickets            5.0          N    NaN   SJ Davis       DJ Harper  \n4  wickets            5.0          N    NaN  BF Bowden     K Hariharan  "
                    },
                    "execution_count": 21,
                    "metadata": {},
                    "output_type": "execute_result"
                }
            ],
            "source": [
                "matches = pd.read_csv('IPL Matches 2008-2020.csv')\n",
                "matches.head()\n",
                "#matches.eliminator.unique()"
            ]
        },
        {
            "cell_type": "code",
            "execution_count": 22,
            "metadata": {},
            "outputs": [
                {
                    "name": "stdout",
                    "output_type": "stream",
                    "text": "0.5122549019607843\n"
                }
            ],
            "source": [
                "# P win after winning toss\n",
                "\n",
                "total = len(matches)\n",
                "\n",
                "toss = len(matches[matches['toss_winner'] == matches['winner']])\n",
                "P_win_toss = toss/total\n",
                "\n",
                "print(P_win_toss)"
            ]
        },
        {
            "cell_type": "code",
            "execution_count": 23,
            "metadata": {},
            "outputs": [
                {
                    "name": "stdout",
                    "output_type": "stream",
                    "text": "0.44730392156862747\n"
                }
            ],
            "source": [
                "# P win batting first\n",
                "toss_loser = []\n",
                "for index, row in matches.iterrows():\n",
                "  if row['team1'] != row['toss_winner']:\n",
                "    toss_loser.append(row['team1'])\n",
                "  else:\n",
                "    toss_loser.append(row['team2'])\n",
                "\n",
                "toss_loser\n",
                "\n",
                "bat_first=[]\n",
                "for index, row in matches.iterrows():\n",
                "  if row['toss_decision'] == 'bat':\n",
                "    bat_first.append(row['toss_winner'])\n",
                "  else:\n",
                "    bat_first.append(toss_loser[index])\n",
                "\n",
                "bat_first\n",
                "\n",
                "matches['bat_first'] = bat_first\n",
                "bat_first_win = len(matches[matches['bat_first'] == matches['winner']])\n",
                "P_bat_win = bat_first_win/total\n",
                "print(P_bat_win)"
            ]
        },
        {
            "cell_type": "code",
            "execution_count": 24,
            "metadata": {},
            "outputs": [
                {
                    "name": "stdout",
                    "output_type": "stream",
                    "text": "0.4594594594594595\n9.068627450980392  % matches in delhi\n"
                }
            ],
            "source": [
                "# P win matches in delhi batting first\n",
                "\n",
                "delhi_matches = matches[matches['city']=='Delhi']\n",
                "bat_first_win = len(delhi_matches[delhi_matches['bat_first'] == delhi_matches['winner']])\n",
                "P_bat_win = bat_first_win/len(delhi_matches)\n",
                "print(P_bat_win)\n",
                "print(len(delhi_matches)*100/total,' % matches in delhi')"
            ]
        },
        {
            "cell_type": "code",
            "execution_count": 25,
            "metadata": {},
            "outputs": [
                {
                    "name": "stdout",
                    "output_type": "stream",
                    "text": "AB de Villiers\n"
                }
            ],
            "source": [
                "#PoTM\n",
                "\n",
                "print(matches['player_of_match'].mode()[0])"
            ]
        },
        {
            "cell_type": "code",
            "execution_count": 26,
            "metadata": {},
            "outputs": [
                {
                    "name": "stdout",
                    "output_type": "stream",
                    "text": "146.0\n"
                }
            ],
            "source": [
                "# Margin\n",
                "print(matches['result_margin'].max())"
            ]
        },
        {
            "cell_type": "code",
            "execution_count": 27,
            "metadata": {},
            "outputs": [
                {
                    "name": "stdout",
                    "output_type": "stream",
                    "text": "S Ravi\n"
                }
            ],
            "source": [
                "# Umpire\n",
                "\n",
                "u = matches['umpire1'].append(matches['umpire2']).mode()\n",
                "print(u[0])"
            ]
        },
        {
            "attachments": {},
            "cell_type": "markdown",
            "metadata": {},
            "source": [
                "1. mean runs on 5th ball\n",
                "2. std of runs on 8th ball\n",
                "3. What is the maximum number of balls an over has stretched to? What is the total number of runs scored on that last ball?\n",
                "3. out of the all balls, which ball has had the most boundaries scored on?\n",
                "4. out of the all balls, which is the costliest ball?\n",
                "5. Which ball has the highest percentage of boundaries?\n",
                "6. most common ball for dismissal?\n",
                "8. p of getting out by getting 'stumped'? Which ball has highest probability of getting 'stumped' on?\n",
                "9. p of boundary on each ball\n",
                "10. p of wicket on each ball"
            ]
        },
        {
            "cell_type": "code",
            "execution_count": 28,
            "metadata": {},
            "outputs": [],
            "source": [
                "deliveries = pd.read_csv('IPL Ball-by-Ball 2008-2020.csv')\n",
                "deliveries.head()\n",
                ""
            ]
        },
        {
            "cell_type": "code",
            "execution_count": 10,
            "metadata": {},
            "outputs": [],
            "source": [
                "# mean runs on 5th ball\n",
                "\n",
                "ball5 = deliveries[deliveries['ball'] == 5]\n",
                "print(ball5.total_runs.mean())"
            ]
        },
        {
            "cell_type": "code",
            "execution_count": 11,
            "metadata": {},
            "outputs": [],
            "source": [
                "# std run on 8th ball\n",
                "ball8 = deliveries[deliveries['ball'] == 8]\n",
                "print(ball8.total_runs.std())"
            ]
        },
        {
            "cell_type": "code",
            "execution_count": 12,
            "metadata": {},
            "outputs": [],
            "source": [
                "# max balls, total\n",
                "ball_max = deliveries['ball'].max()\n",
                "total = deliveries[deliveries['ball']==ball_max].total_runs.sum()\n",
                "\n",
                "print(ball_max,total)"
            ]
        },
        {
            "cell_type": "code",
            "execution_count": 13,
            "metadata": {},
            "outputs": [],
            "source": [
                "# Most boundaries\n",
                "deliveries['is_boundary'] = np.where((deliveries['batsman_runs'] == 4) | (deliveries['batsman_runs'] == 6),1,0)\n",
                "boundaries = []\n",
                "\n",
                "for i in range(1,ball_max+1):\n",
                "  boundaries.append(deliveries[deliveries['ball'] == i].is_boundary.sum())\n",
                "\n",
                "print(np.argmax(boundaries)+1)"
            ]
        },
        {
            "cell_type": "code",
            "execution_count": 14,
            "metadata": {},
            "outputs": [],
            "source": [
                "# Costliest ball\n",
                "\n",
                "total_run = []\n",
                "\n",
                "for i in range(1,ball_max+1):\n",
                "  total_run.append(deliveries[deliveries['ball']==i].total_runs.sum())\n",
                "\n",
                "print(np.argmax(total_run) +1)"
            ]
        },
        {
            "cell_type": "code",
            "execution_count": 15,
            "metadata": {},
            "outputs": [],
            "source": [
                "# Highest % boundaries\n",
                "boundary_p = []\n",
                "\n",
                "for i in range(1,ball_max+1):\n",
                "  df = deliveries[deliveries['ball'] == i]\n",
                "  total_boundaries = df.is_boundary.sum()\n",
                "  total_balls = len(df)\n",
                "\n",
                "  boundary_p.append(total_boundaries*100/total_balls)\n",
                "\n",
                "print(np.argmax(boundary_p)+1)"
            ]
        },
        {
            "cell_type": "code",
            "execution_count": 16,
            "metadata": {},
            "outputs": [],
            "source": [
                "# Most common ball for dismissal\n",
                "wickets = []\n",
                "\n",
                "for i in range(1,ball_max+1):\n",
                "  df = deliveries[deliveries['ball'] == i]\n",
                "  wickets.append(df.is_wicket.sum())\n",
                "\n",
                "print(np.argmax(wickets) +1)"
            ]
        },
        {
            "cell_type": "code",
            "execution_count": 17,
            "metadata": {},
            "outputs": [],
            "source": [
                "# Prob of getting stumped, ball with highest prob of getting stumped\n",
                "stumped = len(deliveries[deliveries['dismissal_kind']=='stumped'])\n",
                "total = len(deliveries)\n",
                "p_stumped = stumped/total\n",
                "print(p_stumped)\n",
                "p_stumped_ball = []\n",
                "for i in range(1,ball_max+1):\n",
                "  df = deliveries[deliveries['ball'] == i]\n",
                "  total_ball = len(df)\n",
                "  stumped = len(df[df['dismissal_kind']=='stumped'])\n",
                "  p_stumped_ball.append(stumped/total_ball)\n",
                "\n",
                "print(np.argmax(p_stumped_ball)+1)"
            ]
        },
        {
            "cell_type": "code",
            "execution_count": 18,
            "metadata": {},
            "outputs": [],
            "source": [
                "# prob boundary\n",
                "boundaries = len(deliveries[deliveries['is_boundary'] == 1])\n",
                "\n",
                "p_boundary = boundaries/total\n",
                "print(p_boundary)"
            ]
        },
        {
            "cell_type": "code",
            "execution_count": 19,
            "metadata": {},
            "outputs": [],
            "source": [
                "# prob wicket\n",
                "wickets = len(deliveries[deliveries['is_wicket'] == 1])\n",
                "\n",
                "p_wicket = wickets/total\n",
                "print(p_wicket)"
            ]
        }
    ]
}
