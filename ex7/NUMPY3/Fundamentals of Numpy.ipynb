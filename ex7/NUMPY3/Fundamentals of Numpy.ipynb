{
    "metadata": {
        "kernelspec": {
            "name": "python3",
            "display_name": "Python 3 (ipykernel)",
            "language": "python"
        }
    },
    "nbformat": 4,
    "nbformat_minor": 2,
    "cells": [
        {
            "attachments": {},
            "cell_type": "markdown",
            "metadata": {},
            "source": [
                "# Exercise: Fundamentals of NumPy for DS\n",
                ""
            ]
        },
        {
            "cell_type": "code",
            "execution_count": 1,
            "metadata": {},
            "outputs": [],
            "source": [
                "# Importing the necessary libraries\n",
                "import numpy as np\n",
                "import matplotlib.pyplot as plt\n",
                "np.set_printoptions(precision=1)"
            ]
        },
        {
            "attachments": {},
            "cell_type": "markdown",
            "metadata": {},
            "source": [
                "## Part 1 - Getting comfortable with reshape, vstack and hstack. "
            ]
        },
        {
            "attachments": {},
            "cell_type": "markdown",
            "metadata": {},
            "source": [
                "### 1.1 Create a 8x8 matrix and fill it with a checkerboard pattern (1,0) using hstack and vstack.\n",
                "\n",
                "For example,\n",
                "\n",
                "```\n",
                "[[0 1 0 1 0 1 0 1] \n",
                " [1 0 1 0 1 0 1 0] \n",
                " [0 1 0 1 0 1 0 1] \n",
                " [1 0 1 0 1 0 1 0] \n",
                " [0 1 0 1 0 1 0 1] \n",
                " [1 0 1 0 1 0 1 0] \n",
                " [0 1 0 1 0 1 0 1] \n",
                " [1 0 1 0 1 0 1 0]]\n",
                "```"
            ]
        },
        {
            "cell_type": "code",
            "execution_count": 2,
            "metadata": {},
            "outputs": [
                {
                    "name": "stdout",
                    "output_type": "stream",
                    "text": "[[0. 1. 0. 1. 0. 1. 0. 1.]\n [1. 0. 1. 0. 1. 0. 1. 0.]\n [0. 1. 0. 1. 0. 1. 0. 1.]\n [1. 0. 1. 0. 1. 0. 1. 0.]\n [0. 1. 0. 1. 0. 1. 0. 1.]\n [1. 0. 1. 0. 1. 0. 1. 0.]\n [0. 1. 0. 1. 0. 1. 0. 1.]\n [1. 0. 1. 0. 1. 0. 1. 0.]]\n"
                }
            ],
            "source": [
                "### edTest(test_1) ###\n",
                "## DO NOT REMOVE ABOVE LINE ##\n",
                "\n",
                "# Initialize array of zeros - the dtype must be an 'int'\n",
                "zeros_4x4 = np.zeros((4,4))\n",
                "#print(zeros_4x4)\n",
                "#zeros=np.zeros((4))\n",
                "#zeros[1::2,]=1\n",
                "#print(zeros)\n",
                "\n",
                "# Make even rows and odd columns as 1 using slicing\n",
                "zeros_4x4[::2,1::2] = 1\n",
                "#print(zeros_4x4)\n",
                "# Make odd rows and even columns as 1 using slicing\n",
                "zeros_4x4[1::2,::2] = 1\n",
                "#print()\n",
                "\n",
                "# Create an 8x4 array using vstack\n",
                "zeros_8x4 = np.zeros((8,4))\n",
                "zeros_8x4[::2,1::2]=1\n",
                "zeros_8x4[1::2,::2]=1\n",
                "zeros_8x4 = np.vstack((zeros_8x4))\n",
                "#print(zeros_8x4)\n",
                "# Create an 8x8 array using hstack\n",
                "zeros_8x8 = np.zeros((8,8))\n",
                "zeros_8x8[::2,1::2]=1\n",
                "zeros_8x8[1::2,::2]=1\n",
                "\n",
                "\n",
                "# Display the checkboard\n",
                "print(zeros_8x8)"
            ]
        },
        {
            "attachments": {},
            "cell_type": "markdown",
            "metadata": {},
            "source": [
                "### 1.2 Create a 3x3 matrix with values ranging from 0 to 8 using np.arange and np.reshape."
            ]
        },
        {
            "cell_type": "code",
            "execution_count": 3,
            "metadata": {},
            "outputs": [
                {
                    "name": "stdout",
                    "output_type": "stream",
                    "text": "[[0 1 2]\n [3 4 5]\n [6 7 8]]\n"
                }
            ],
            "source": [
                "### edTest(test_2) ###\n",
                "## DO NOT REMOVE ABOVE LINE ##\n",
                "\n",
                "# Create a 1D array with np.arange and then reshape it to 3x3 matrix\n",
                "Z = np.arange(0, 9).reshape(3,3)\n",
                "\n",
                "# Display the matrix\n",
                "print(Z)"
            ]
        },
        {
            "attachments": {},
            "cell_type": "markdown",
            "metadata": {},
            "source": [
                "### 1.3 Create a 5x5 array containing values from 0 to 24 using np.arange and np.reshape. Subsequently,swap the first two rows of this array using indexing."
            ]
        },
        {
            "cell_type": "code",
            "execution_count": 4,
            "metadata": {},
            "outputs": [
                {
                    "name": "stdout",
                    "output_type": "stream",
                    "text": "[[ 0  1  2  3  4]\n [ 0  1  2  3  4]\n [ 5  6  7  8  9]\n [15 16 17 18 19]\n [20 21 22 23 24]]\n"
                }
            ],
            "source": [
                "### edTest(test_3) ###\n",
                "## DO NOT REMOVE ABOVE LINE ##\n",
                "\n",
                "# Create a 1D array with np.arange and then reshape it to 5x5 matrix\n",
                "A = np.arange(0, 25).reshape(5,5)\n",
                "\n",
                "# Swap first two rows using indexing\n",
                "# HINT: You can specify the index of the row within the list,\n",
                "# For example, A[[0,1]] fetches the first two rows of an array.\n",
                "A[[1,2]] = A[[0,1]]\n",
                "\n",
                "# Display the swapped array\n",
                "print(A)"
            ]
        },
        {
            "attachments": {},
            "cell_type": "markdown",
            "metadata": {},
            "source": [
                "### 1.4 Reshape the following array \u003cbr\u003e\n",
                "```\n",
                "np.array([[3, 4],\n",
                "          [2, 4],\n",
                "          [4, 1],\n",
                "          [2, 2]])\n",
                "```\n",
                "\n",
                "into\n",
                "```\n",
                "np.array([[[3, 4]],\n",
                "\n",
                "          [[2, 4]], \n",
                "\n",
                "          [[4, 1]], \n",
                "                         \n",
                "          [[2, 2]]])\n",
                "```\n",
                ""
            ]
        },
        {
            "cell_type": "code",
            "execution_count": 5,
            "metadata": {},
            "outputs": [
                {
                    "name": "stdout",
                    "output_type": "stream",
                    "text": "[[3 4]\n [2 4]\n [4 1]\n [2 2]]\n"
                }
            ],
            "source": [
                "### edTest(test_4) ###\n",
                "## DO NOT REMOVE ABOVE LINE ##\n",
                "\n",
                "# Initialize the array\n",
                "A = np.array([[3, 4],\n",
                "              [2, 4],\n",
                "              [4, 1],\n",
                "              [2, 2]])\n",
                "\n",
                "# Perform reshape\n",
                "reshaped_array =A.reshape(4,2,)\n",
                "\n",
                "# Display reshaped array\n",
                "print(reshaped_array)"
            ]
        },
        {
            "attachments": {},
            "cell_type": "markdown",
            "metadata": {},
            "source": [
                "## Part 2 - Getting comfortable with broadcasting\n",
                "\n",
                "When operating on two arrays, NumPy compares their shapes element-wise. It starts with the trailing dimensions and works its way forward. Two dimensions are compatible when:\n",
                "1. they are equal, or\n",
                "2. one of them is 1\n",
                "\n",
                "\n",
                "[Source](https://realpython.com/numpy-array-programming/)\n",
                ""
            ]
        },
        {
            "attachments": {},
            "cell_type": "markdown",
            "metadata": {},
            "source": [
                "Let us understand Broadcasting through a step-by-step example."
            ]
        },
        {
            "attachments": {},
            "cell_type": "markdown",
            "metadata": {},
            "source": [
                "### 2.1 Subtract column-wise mean of an array from each of the elements i.e perform element wise subtraction."
            ]
        },
        {
            "cell_type": "code",
            "execution_count": 6,
            "metadata": {},
            "outputs": [
                {
                    "data": {
                        "text/plain": "array([[0, 1],\n       [2, 3],\n       [4, 5]])"
                    },
                    "execution_count": 6,
                    "metadata": {},
                    "output_type": "execute_result"
                }
            ],
            "source": [
                "# Initializing array\n",
                "array_a = np.arange(6).reshape((3, 2))\n",
                "\n",
                "# Display array\n",
                "array_a"
            ]
        },
        {
            "cell_type": "code",
            "execution_count": 7,
            "metadata": {},
            "outputs": [
                {
                    "name": "stdout",
                    "output_type": "stream",
                    "text": "[2. 3.]\n"
                }
            ],
            "source": [
                "# Calculate mean column-wise by specifying the relevant axis number\n",
                "mu = np.mean(array_a,axis=0)\n",
                "\n",
                "print(mu)"
            ]
        },
        {
            "cell_type": "code",
            "execution_count": 8,
            "metadata": {},
            "outputs": [
                {
                    "name": "stdout",
                    "output_type": "stream",
                    "text": "array a: (3, 2) | column wise means: (2,)\n[[-2. -2.]\n [ 0.  0.]\n [ 2.  2.]]\n"
                }
            ],
            "source": [
                "### edTest(test_5) ###\n",
                "## DO NOT REMOVE ABOVE LINE ##\n",
                "\n",
                "# Display the shapes\n",
                "print('array a:', array_a.shape, '| column wise means:', mu.shape)\n",
                "\n",
                "# Subtract column-wise mean from each of the elements\n",
                "results =np.subtract(array_a ,mu)\n",
                "\n",
                "print(results)"
            ]
        },
        {
            "attachments": {},
            "cell_type": "markdown",
            "metadata": {},
            "source": [
                "The above is fairly straightforward due to compatiable shapes for broadcasting. The following image showcases how broadcasting has taken place.\n",
                "\n",
                "![alt text](broad1.png)"
            ]
        },
        {
            "attachments": {},
            "cell_type": "markdown",
            "metadata": {},
            "source": [
                "### 2.2 Subtract row-wise mean of an array from each of the elements i.e perform element wise subtraction. \u003cbr\u003e\u003cbr\u003e NOTE: This is not the same as subtracting column-wise means."
            ]
        },
        {
            "cell_type": "code",
            "execution_count": 9,
            "metadata": {},
            "outputs": [
                {
                    "name": "stdout",
                    "output_type": "stream",
                    "text": "Row-wise means are [0.5 2.5 4.5]\narray a: (3, 2) | row wise means: (3,)\nError!!!! operands could not be broadcast together with shapes (3,2) (3,) \n"
                }
            ],
            "source": [
                "# Let's first see what happens when we perform element-wise subtraction the \n",
                "# usual way we do it\n",
                "\n",
                "# Calculate the row-wise means by specifying the relevant axis number\n",
                "row_wise_mu = np.mean(array_a,axis=1)\n",
                "\n",
                "# Display row-wise means\n",
                "print(\"Row-wise means are\", row_wise_mu)\n",
                "\n",
                "# Display the shapes\n",
                "print('array a:', array_a.shape, '| row wise means:', row_wise_mu.shape)\n",
                "\n",
                "try:\n",
                "    # Subtract row-wise mean from each of the elements\n",
                "    result = array_a - row_wise_mu\n",
                "except Exception as e:\n",
                "    print(\"Error!!!! \"+str(e))"
            ]
        },
        {
            "attachments": {},
            "cell_type": "markdown",
            "metadata": {},
            "source": [
                "### ⏸ Why broadcasting was not possible in the above calculation?\n",
                "\n",
                "```\n",
                "A. Because the broadcasting shapes were incompatible - we need to reshape the array to (3,1) to make it compatible \n",
                "B. Because the sizes of the array were incompatible - we need to resize the array to (3,2) to make it compatible\n",
                "C. Because the arrays are not type compatiable - we need to typcast the array elements to appropriate int64 type in order for broadcasting to occur\n",
                "```\n",
                "\n",
                "\n",
                ""
            ]
        },
        {
            "cell_type": "code",
            "execution_count": 10,
            "metadata": {},
            "outputs": [],
            "source": [
                "### edTest(test_mcq1) ###\n",
                "## DO NOT REMOVE ABOVE LINE ##\n",
                "\n",
                "answer = \"A\" # Enter your answer choice, For example: \"A\""
            ]
        },
        {
            "attachments": {},
            "cell_type": "markdown",
            "metadata": {},
            "source": [
                "Proceed to fix this error by reshaping the original shape in order to make it broadcast compatible."
            ]
        },
        {
            "cell_type": "code",
            "execution_count": 11,
            "metadata": {},
            "outputs": [
                {
                    "name": "stdout",
                    "output_type": "stream",
                    "text": "[[0.5]\n [2.5]\n [4.5]]\n[[-0.5  0.5]\n [-0.5  0.5]\n [-0.5  0.5]]\n"
                }
            ],
            "source": [
                "### edTest(test_6) ###\n",
                "## DO NOT REMOVE ABOVE LINE ##\n",
                "\n",
                "# Reshape mu to make it compatible to be broadcasted with array_a\n",
                "reshaped_mu = row_wise_mu.reshape((3, 1))\n",
                "print(reshaped_mu)\n",
                "# Subtract row-wise mean from correspoding row elements\n",
                "results =  array_a - reshaped_mu\n",
                "\n",
                "print(results)"
            ]
        },
        {
            "attachments": {},
            "cell_type": "markdown",
            "metadata": {},
            "source": [
                "Here is a digram explaining what happened above - take some time to understand what is happening and why it is happening.\n",
                "\n",
                "![alt text](broa2.jpg)"
            ]
        },
        {
            "attachments": {},
            "cell_type": "markdown",
            "metadata": {},
            "source": [
                "## Part 3 - Calculate Euclidean Distances between points\n",
                "\n",
                "Similar to what the Grand Book keeper did to calculate the closest star, you will be performing the same task using numpy to calculate distances between a set of 10 coordinate points of the form (x,y).\n",
                "\n",
                "To find the distance between two point (x1,y1) and (x2,y2), please note the following formula (also known as Euclidean formula):\n",
                "\n",
                "![alt text](https://www.onlinemath4all.com/images/pythagoreantheorem24.png)"
            ]
        },
        {
            "cell_type": "code",
            "execution_count": 12,
            "metadata": {},
            "outputs": [
                {
                    "name": "stdout",
                    "output_type": "stream",
                    "text": "[[3 4]\n [2 4]\n [4 1]\n [2 2]\n [2 4]\n [3 2]\n [4 1]\n [3 1]\n [3 4]\n [0 3]]\n"
                }
            ],
            "source": [
                "np.random.seed(42)\n",
                "\n",
                "# Intializing an array of points containing (x,y) coordinates. \n",
                "# You have been given 10 such points\n",
                "space_points = np.random.randint(0,5,(10,2))\n",
                "\n",
                "# Display space points\n",
                "print(space_points)"
            ]
        },
        {
            "cell_type": "code",
            "execution_count": 13,
            "metadata": {},
            "outputs": [
                {
                    "data": {
                        "image/png": "[encoded data removed]",
                        "text/plain": "\u003cFigure size 360x360 with 1 Axes\u003e"
                    },
                    "metadata": {
                        "needs_background": "light"
                    },
                    "output_type": "display_data"
                }
            ],
            "source": [
                "np.random.seed(2)\n",
                "\n",
                "# Plotting the Space Points in Space - DO NOT WORRY if you cannot understand this code. \n",
                "colors = ['white', 'purple', 'blue','cyan','orange']\n",
                "fig, ax = plt.subplots(figsize=(5,5))\n",
                "for i,point in enumerate(space_points):\n",
                "     circle = plt.Circle(point,np.random.choice([0.2,0.2,0.1]),edgecolor = 'k',facecolor = colors[i%5], ec='white')\n",
                "     ax.add_patch(circle)\n",
                "for i,point in enumerate(np.random.randint(0,7,(300,2))):\n",
                "     circle = plt.Circle(point+np.random.choice([0.01, 0.1,2,0.5,5,10]),np.random.choice([0.01]),edgecolor = 'k',facecolor = 'white', ec='white')\n",
                "     ax.add_patch(circle)\n",
                "ax.scatter([1,2,3], [4,6,7] , s = 0.1)\n",
                "ax.set_xlim(-0.5, 5)\n",
                "ax.set_ylim(-0.5, 5)\n",
                "ax.spines['right'].set_visible(False)\n",
                "ax.spines['top'].set_visible(False)\n",
                "ax.patch.set_facecolor('black')\n",
                "ax.set_title(\"Space Points in the Sky\");\n",
                "fig.show()"
            ]
        },
        {
            "attachments": {},
            "cell_type": "markdown",
            "metadata": {},
            "source": [
                "### 3.1 Reshape your space points to look like this in order to perform broadcasting. Print the shape.\n",
                "\n",
                "Hint: The original array was a `(10,2)`. In order to allow for broadcasting to be possible you need to reshape it to `(10,1,2)`.\n",
                "\n",
                "```\n",
                "array([[[3, 4]],\n",
                "\n",
                "       [[2, 4]],\n",
                "\n",
                "       [[4, 1]],\n",
                "\n",
                "       [[2, 2]],\n",
                "\n",
                "       [[2, 4]],\n",
                "\n",
                "       [[3, 2]],\n",
                "\n",
                "       [[4, 1]],\n",
                "\n",
                "       [[3, 1]],\n",
                "\n",
                "       [[3, 4]],\n",
                "\n",
                "       [[0, 3]]])\n",
                "```"
            ]
        },
        {
            "cell_type": "code",
            "execution_count": 14,
            "metadata": {},
            "outputs": [
                {
                    "name": "stdout",
                    "output_type": "stream",
                    "text": "(10, 1, 2)\n"
                }
            ],
            "source": [
                "### edTest(test_7) ###\n",
                "## DO NOT REMOVE ABOVE LINE ##\n",
                "\n",
                "# Reshape space_points\n",
                "reshaped_space_points = space_points.reshape(10,1,2)\n",
                "\n",
                "# Display shape of reshaped_space_points\n",
                "print(reshaped_space_points.shape)"
            ]
        },
        {
            "attachments": {},
            "cell_type": "markdown",
            "metadata": {},
            "source": [
                "### 3.2 Apply the Euclidean distance formula and store result in an array called results."
            ]
        },
        {
            "cell_type": "code",
            "execution_count": 15,
            "metadata": {},
            "outputs": [
                {
                    "name": "stdout",
                    "output_type": "stream",
                    "text": "[[ 0  1 10  5  1  4 10  9  0 10]\n [ 1  0 13  4  0  5 13 10  1  5]\n [10 13  0  5 13  2  0  1 10 20]\n [ 5  4  5  0  4  1  5  2  5  5]\n [ 1  0 13  4  0  5 13 10  1  5]\n [ 4  5  2  1  5  0  2  1  4 10]\n [10 13  0  5 13  2  0  1 10 20]\n [ 9 10  1  2 10  1  1  0  9 13]\n [ 0  1 10  5  1  4 10  9  0 10]\n [10  5 20  5  5 10 20 13 10  0]]\n[[0.  1.  3.2 2.2 1.  2.  3.2 3.  0.  3.2]\n [1.  0.  3.6 2.  0.  2.2 3.6 3.2 1.  2.2]\n [3.2 3.6 0.  2.2 3.6 1.4 0.  1.  3.2 4.5]\n [2.2 2.  2.2 0.  2.  1.  2.2 1.4 2.2 2.2]\n [1.  0.  3.6 2.  0.  2.2 3.6 3.2 1.  2.2]\n [2.  2.2 1.4 1.  2.2 0.  1.4 1.  2.  3.2]\n [3.2 3.6 0.  2.2 3.6 1.4 0.  1.  3.2 4.5]\n [3.  3.2 1.  1.4 3.2 1.  1.  0.  3.  3.6]\n [0.  1.  3.2 2.2 1.  2.  3.2 3.  0.  3.2]\n [3.2 2.2 4.5 2.2 2.2 3.2 4.5 3.6 3.2 0. ]]\n"
                }
            ],
            "source": [
                "### edTest(test_8) ###\n",
                "## DO NOT REMOVE ABOVE LINE ##\n",
                "\n",
                "# Apply Euclidean distance formula and store the results\n",
                "\n",
                "# STEP 1: Deltas - subract space points from reshaped_space_points\n",
                "deltas = space_points-reshaped_space_points\n",
                "\n",
                "# STEP 2: Square the deltas\n",
                "squared_deltas = np.square(deltas)\n",
                "#print(squared_deltas)\n",
                "\n",
                "# STEP 3: Sum along the row elements i.e. Vertical summation\n",
                "squared_deltas_sum =np.sum(squared_deltas,axis=2)\n",
                "print(squared_deltas_sum)\n",
                "# STEP 4: Calculate the square root of squared_deltas_sum\n",
                "results = np.sqrt(squared_deltas_sum)\n",
                "\n",
                "# Print the results\n",
                "print(results)"
            ]
        },
        {
            "attachments": {},
            "cell_type": "markdown",
            "metadata": {},
            "source": [
                "### ⏸ Why are the diagonal values 0 in results?\n",
                "\n",
                "```\n",
                "A. They are the calculated distances from origin.\n",
                "B. They are the distance calculated between the point and itself, therefore it is 0.\n",
                "C. They are 0 because they are the points of identity matrix.\n",
                "```"
            ]
        },
        {
            "cell_type": "code",
            "execution_count": 16,
            "metadata": {},
            "outputs": [],
            "source": [
                "### edTest(test_9) ###\n",
                "## DO NOT REMOVE ABOVE LINE ##\n",
                "\n",
                "# Enter the correct option here - Example: 'A'\n",
                "answer = 'B'"
            ]
        }
    ]
}
