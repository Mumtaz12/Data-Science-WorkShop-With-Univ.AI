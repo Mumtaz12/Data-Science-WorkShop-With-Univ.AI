{
    "metadata": {
        "kernelspec": {
            "name": "python3",
            "display_name": "Python 3 (ipykernel)",
            "language": "python"
        }
    },
    "nbformat": 4,
    "nbformat_minor": 5,
    "cells": [
        {
            "cell_type": "code",
            "execution_count": 59,
            "metadata": {},
            "outputs": [],
            "source": [
                "from helper import run_times_list\n",
                "import numpy as np"
            ]
        },
        {
            "cell_type": "code",
            "execution_count": 60,
            "metadata": {},
            "outputs": [
                {
                    "name": "stdout",
                    "output_type": "stream",
                    "text": "[[12.46, 16.15, 13.2, 17.78, 12.09, 11.85, 7.64, 15.95, 11.7, 12.28], [11.9, 11.24, 12.2, 12.44, 15.32, 13.76, 10.39, 12.8, 13.63, 16.73], [9.48, 12.7, 17.86, 11.94, 9.15, 10.68, 15.85, 15.57, 15.02, 12.3], [10.66, 13.06, 12.03, 14.4, 13.21, 10.76, 11.03, 10.59, 15.26, 13.55], [10.48, 14.28, 10.1, 11.97, 11.57, 7.62, 11.6, 8.86, 11.87, 13.82], [11.11, 12.58, 10.37, 10.83, 15.19, 14.82, 13.03, 15.1, 13.76, 12.82], [13.79, 11.01, 10.94, 11.8, 11.52, 11.07, 14.59, 12.81, 15.91, 11.61]]\n\nThe length of the list is 7\n"
                }
            ],
            "source": [
                "# Print the run_times_list\n",
                "print(run_times_list)\n",
                "\n",
                "# Print the length of this list\n",
                "print(f'\\nThe length of the list is {len(run_times_list)}')"
            ]
        },
        {
            "cell_type": "code",
            "execution_count": 61,
            "metadata": {},
            "outputs": [
                {
                    "data": {
                        "text/plain": "array([[12.46, 16.15, 13.2 , 17.78, 12.09, 11.85,  7.64, 15.95, 11.7 ,\n        12.28],\n       [11.9 , 11.24, 12.2 , 12.44, 15.32, 13.76, 10.39, 12.8 , 13.63,\n        16.73],\n       [ 9.48, 12.7 , 17.86, 11.94,  9.15, 10.68, 15.85, 15.57, 15.02,\n        12.3 ],\n       [10.66, 13.06, 12.03, 14.4 , 13.21, 10.76, 11.03, 10.59, 15.26,\n        13.55],\n       [10.48, 14.28, 10.1 , 11.97, 11.57,  7.62, 11.6 ,  8.86, 11.87,\n        13.82],\n       [11.11, 12.58, 10.37, 10.83, 15.19, 14.82, 13.03, 15.1 , 13.76,\n        12.82],\n       [13.79, 11.01, 10.94, 11.8 , 11.52, 11.07, 14.59, 12.81, 15.91,\n        11.61]])"
                    },
                    "execution_count": 61,
                    "metadata": {},
                    "output_type": "execute_result"
                }
            ],
            "source": [
                "### edTest(test_1) ###\n",
                "## DO NOT REMOVE ABOVE LINE ##\n",
                "\n",
                "# Store this list as a numpy array\n",
                "runs_array=np.array(run_times_list)\n",
                "runs_array"
            ]
        },
        {
            "attachments": {},
            "cell_type": "markdown",
            "metadata": {},
            "source": [
                "### The data in the `runs_array`  ndarray is structured as follows,\n",
                "\n",
                "|           | Practice 1 | Race 1 | Practice 2 | Race 2 | Practice 3 | Run 3 | Practice 4 | Run 4 | Practice 5 | Run 5 |\n",
                "|-----------|------------|--------|------------|--------|------------|-------|------------|-------|------------|-------|\n",
                "| **Shivas**    |            |        |            |        |            |       |            |       |            |       |\n",
                "| **Sheetal**   |            |        |            |        |            |       |            |       |            |       |\n",
                "| **Viraj**     |            |        |            |        |            |       |            |       |            |       |\n",
                "| **Pavlos**    |            |        |            |        |            |       |            |       |            |       |\n",
                "| **Hemani**   |            |        |            |        |            |       |            |       |            |       |\n",
                "| **Karthiga**  |            |        |            |        |            |       |            |       |            |       |\n",
                "| **Chaitanya** |            |        |            |        |            |       |            |       |            |       |\n",
                ""
            ]
        },
        {
            "cell_type": "code",
            "execution_count": 62,
            "metadata": {},
            "outputs": [
                {
                    "data": {
                        "text/plain": "(7, 10)"
                    },
                    "execution_count": 62,
                    "metadata": {},
                    "output_type": "execute_result"
                }
            ],
            "source": [
                "# print the shape of the array\n",
                "\n",
                "runs_array.shape"
            ]
        },
        {
            "attachments": {},
            "cell_type": "markdown",
            "metadata": {},
            "source": [
                "### ⏸ How many rows are present and what does each row represent?\n",
                "#### A) 7, each row represents the times taken to complete alternating practice and actual runs by a member.\n",
                "#### B) 10, each row represents the times taken to complete a run by every member. \n",
                "#### C) 10, each row represents the times taken to complete alternating practice and actual runs by a member.\n",
                "#### D) 7, each row represents the times taken to complete a run by every member."
            ]
        },
        {
            "cell_type": "code",
            "execution_count": 63,
            "metadata": {},
            "outputs": [],
            "source": [
                "### edTest(test_2) ###\n",
                "## DO NOT REMOVE ABOVE LINE ##\n",
                "\n",
                "answer='A'"
            ]
        },
        {
            "attachments": {},
            "cell_type": "markdown",
            "metadata": {},
            "source": [
                "## Make seperate arrays for practice runs and actual runs"
            ]
        },
        {
            "cell_type": "code",
            "execution_count": 64,
            "metadata": {},
            "outputs": [
                {
                    "name": "stdout",
                    "output_type": "stream",
                    "text": "Shape : (7, 5)\n"
                },
                {
                    "data": {
                        "text/plain": "array([[12.46, 13.2 , 12.09,  7.64, 11.7 ],\n       [11.9 , 12.2 , 15.32, 10.39, 13.63],\n       [ 9.48, 17.86,  9.15, 15.85, 15.02],\n       [10.66, 12.03, 13.21, 11.03, 15.26],\n       [10.48, 10.1 , 11.57, 11.6 , 11.87],\n       [11.11, 10.37, 15.19, 13.03, 13.76],\n       [13.79, 10.94, 11.52, 14.59, 15.91]])"
                    },
                    "execution_count": 64,
                    "metadata": {},
                    "output_type": "execute_result"
                }
            ],
            "source": [
                "### edTest(test_3) ###\n",
                "## DO NOT REMOVE ABOVE LINE ##\n",
                "\n",
                "#slice the array to contain only practice runs\n",
                "practice_array=runs_array[ : : , [0,2,4,6,8] ] # this is same as runs_array[:, ::2]\n",
                "\n",
                "#print the shape of the array\n",
                "print(f'Shape : {practice_array.shape}')\n",
                "practice_array"
            ]
        },
        {
            "cell_type": "code",
            "execution_count": 65,
            "metadata": {},
            "outputs": [
                {
                    "name": "stdout",
                    "output_type": "stream",
                    "text": "Shape : [[16.15 17.78 11.85 15.95 12.28]\n [11.24 12.44 13.76 12.8  16.73]\n [12.7  11.94 10.68 15.57 12.3 ]\n [13.06 14.4  10.76 10.59 13.55]\n [14.28 11.97  7.62  8.86 13.82]\n [12.58 10.83 14.82 15.1  12.82]\n [11.01 11.8  11.07 12.81 11.61]]\n"
                },
                {
                    "data": {
                        "text/plain": "array([[16.15, 17.78, 11.85, 15.95, 12.28],\n       [11.24, 12.44, 13.76, 12.8 , 16.73],\n       [12.7 , 11.94, 10.68, 15.57, 12.3 ],\n       [13.06, 14.4 , 10.76, 10.59, 13.55],\n       [14.28, 11.97,  7.62,  8.86, 13.82],\n       [12.58, 10.83, 14.82, 15.1 , 12.82],\n       [11.01, 11.8 , 11.07, 12.81, 11.61]])"
                    },
                    "execution_count": 65,
                    "metadata": {},
                    "output_type": "execute_result"
                }
            ],
            "source": [
                "### edTest(test_4) ###\n",
                "## DO NOT REMOVE ABOVE LINE ##\n",
                "\n",
                "#slice the array to contain only actul runs\n",
                "actual_runs_array=runs_array[::,1::2]\n",
                "\n",
                "#print the shape of the array\n",
                "print(f'Shape : {actual_runs_array}')\n",
                "actual_runs_array"
            ]
        },
        {
            "attachments": {},
            "cell_type": "markdown",
            "metadata": {},
            "source": [
                "## Total time taken by each member to complete the practice runs."
            ]
        },
        {
            "attachments": {},
            "cell_type": "markdown",
            "metadata": {},
            "source": [
                "## Time it took on an average to complete each practice run."
            ]
        },
        {
            "cell_type": "code",
            "execution_count": 66,
            "metadata": {},
            "outputs": [
                {
                    "name": "stdout",
                    "output_type": "stream",
                    "text": "Shape of the array is [57.09 63.44 67.36 62.19 55.62 63.46 66.75]\n"
                },
                {
                    "data": {
                        "text/plain": "array([57.09, 63.44, 67.36, 62.19, 55.62, 63.46, 66.75])"
                    },
                    "execution_count": 66,
                    "metadata": {},
                    "output_type": "execute_result"
                }
            ],
            "source": [
                "### edTest(test_5) ###\n",
                "## DO NOT REMOVE ABOVE LINE ##\n",
                "\n",
                "# Calculate the sum of run times of all the practice runs for each member\n",
                "\n",
                "sum_practice_array=np.sum(practice_array, axis=1)\n",
                "\n",
                "# Print the shape of the array\n",
                "print(f'Shape of the array is {sum_practice_array}')\n",
                "sum_practice_array"
            ]
        },
        {
            "cell_type": "code",
            "execution_count": 67,
            "metadata": {},
            "outputs": [
                {
                    "name": "stdout",
                    "output_type": "stream",
                    "text": "Shape of the array is [11.41142857 12.38571429 12.57857143 12.01857143 13.87857143]\n"
                },
                {
                    "data": {
                        "text/plain": "array([11.41142857, 12.38571429, 12.57857143, 12.01857143, 13.87857143])"
                    },
                    "execution_count": 67,
                    "metadata": {},
                    "output_type": "execute_result"
                }
            ],
            "source": [
                "### edTest(test_6) ###\n",
                "## DO NOT REMOVE ABOVE LINE ##\n",
                "\n",
                "#find the average time it took to complete each practice run by all members.\n",
                "# Hint: Perform mean along columns\n",
                "mean_practice_array=np.mean(practice_array, axis=0)\n",
                "\n",
                "# Print the shape of the array\n",
                "print(f'Shape of the array is {mean_practice_array}')\n",
                "mean_practice_array"
            ]
        },
        {
            "attachments": {},
            "cell_type": "markdown",
            "metadata": {},
            "source": [
                "## Let's see who the winner is."
            ]
        },
        {
            "cell_type": "code",
            "execution_count": 68,
            "metadata": {},
            "outputs": [
                {
                    "name": "stdout",
                    "output_type": "stream",
                    "text": "Shape of the array is [[16.15 17.78 11.85 15.95 12.28]\n [11.24 12.44 13.76 12.8  16.73]\n [12.7  11.94 10.68 15.57 12.3 ]\n [13.06 14.4  10.76 10.59 13.55]\n [14.28 11.97  7.62  8.86 13.82]\n [12.58 10.83 14.82 15.1  12.82]\n [11.01 11.8  11.07 12.81 11.61]]\n"
                },
                {
                    "data": {
                        "text/plain": "array([74.01, 66.97, 63.19, 62.36, 56.55, 66.15, 58.3 ])"
                    },
                    "execution_count": 68,
                    "metadata": {},
                    "output_type": "execute_result"
                }
            ],
            "source": [
                "### edTest(test_7) ###\n",
                "## DO NOT REMOVE ABOVE LINE ##\n",
                "\n",
                "# Calculate the total times it took for each member to complete all the actual runs.\n",
                "\n",
                "actual_runs_sum=np.sum(actual_runs_array ,axis=1)\n",
                "\n",
                "# Print the shape of the array\n",
                "print(f'Shape of the array is {actual_runs_array}')\n",
                "actual_runs_sum"
            ]
        },
        {
            "cell_type": "code",
            "execution_count": 69,
            "metadata": {},
            "outputs": [],
            "source": [
                "### edTest(test_8) ###\n",
                "## DO NOT REMOVE ABOVE LINE ##\n",
                "\n",
                "# inspect the array and report who has completed all the actual runs in least time\n",
                "\n",
                "\n",
                "winner='Hemani'"
            ]
        },
        {
            "attachments": {},
            "cell_type": "markdown",
            "metadata": {},
            "source": [
                "### 🆓️ ⏸ Pause \u0026 think\n",
                "In competitions, the winner would be the one who has completed most number of runs in least time instead of the one completing all the runs in least time.\n",
                "\n",
                "If you were to find the winner based on this, how would you achieve this and who would be the winner?"
            ]
        },
        {
            "cell_type": "code",
            "execution_count": 70,
            "metadata": {},
            "outputs": [],
            "source": [
                "### YOUR CODE HERE ###\n",
                "but firstly there is a mistake i am confused whats wrong with my code (race 1 nd race 3 incase of run1 and run3)\n",
                "\n",
                "\n",
                ""
            ]
        }
    ]
}
