{
    "metadata": {
        "kernelspec": {
            "name": "python3",
            "display_name": "Python 3 (ipykernel)",
            "language": "python"
        }
    },
    "nbformat": 4,
    "nbformat_minor": 5,
    "cells": [
        {
            "attachments": {},
            "cell_type": "markdown",
            "metadata": {},
            "source": [
                "## PyDS Olymipics : 100m dash\n",
                "We are going to have 4 of our team members compete against each other in the 100m dash."
            ]
        },
        {
            "cell_type": "code",
            "execution_count": 1,
            "metadata": {},
            "outputs": [
                {
                    "data": {
                        "text/plain": "\u003cmatplotlib.pyplot._xkcd at 0x7fbb9a4ef820\u003e"
                    },
                    "execution_count": 1,
                    "metadata": {},
                    "output_type": "execute_result"
                }
            ],
            "source": [
                "# Importing libraries\n",
                "import numpy as np\n",
                "from time import sleep\n",
                "import os\n",
                "from IPython.display import clear_output\n",
                "from collections import Counter\n",
                "from helper import Sprinter\n",
                "import matplotlib.pyplot as plt\n",
                "from prettytable import PrettyTable\n",
                "plt.xkcd(scale=0,randomness=4)"
            ]
        },
        {
            "attachments": {},
            "cell_type": "markdown",
            "metadata": {},
            "source": [
                "## Taking a look at the competitors\n",
                "Each participant has a characteristic assigned to him. The characteristic has 2 parts :\n",
                "\n",
                "1. Base speed : This is the time they gave in a non-competitive environment.\n",
                "2. Performance variance : Based on the mood, weather and other conditions this measure determines how much a participant's time will vary."
            ]
        },
        {
            "cell_type": "code",
            "execution_count": 2,
            "metadata": {},
            "outputs": [],
            "source": [
                "# Name of sprinters\n",
                "sprinters = ['Pavlos','Shivas','Abjasree','Chaitanya']\n",
                "# Defining charactersistics, ('Base pace','performance variance')\n",
                "characteristics = [(13,0.25),(12.5,0.5),(12.25,1),(14.5,1)]\n",
                "sprinters_dict = {}\n",
                "for idx,sprinter in enumerate(sprinters):\n",
                "    sprinters_dict[sprinter] = Sprinter(*characteristics[idx])"
            ]
        },
        {
            "attachments": {},
            "cell_type": "markdown",
            "metadata": {},
            "source": [
                "## Running a race\n",
                "`sprinters_dict` has keys as the name of each participant, and the value as a class. The `time` attribute of the class is the time taken by that person to run a race. \n",
                "- Call `sprinters_dict['Pavlos'].time` for 10 different times."
            ]
        },
        {
            "cell_type": "code",
            "execution_count": 3,
            "metadata": {},
            "outputs": [
                {
                    "data": {
                        "text/plain": "13.309264450358214"
                    },
                    "execution_count": 3,
                    "metadata": {},
                    "output_type": "execute_result"
                }
            ],
            "source": [
                "# Call time attribute\n",
                "sprinters_dict['Pavlos'].time"
            ]
        },
        {
            "attachments": {},
            "cell_type": "markdown",
            "metadata": {},
            "source": [
                "- Get the times for each participant by calling the `time` attribute and create a dictionary called `race`, which has the key as the name of the participant and value as the time taken by participant to run the race.\n",
                "- Sort `race.items()` according to time and get the item in dictionary with the least time taken to finish and assign it to `winner`. "
            ]
        },
        {
            "cell_type": "code",
            "execution_count": 4,
            "metadata": {},
            "outputs": [],
            "source": [
                "### edTest(test_race) ###\n",
                "\n",
                "# Get the times for each participant and make a dictionary\n",
                "race = {sprinter:dash.time for sprinter,dash in sprinters_dict.items()}\n",
                "# Then sort the items of the dictionary to get the winner\n",
                "# Hint: Remember to sort by the values and not the keys\n",
                "winner = sorted(race.items(),key=lambda x:x[1])[0] "
            ]
        },
        {
            "cell_type": "code",
            "execution_count": 5,
            "metadata": {},
            "outputs": [
                {
                    "data": {
                        "text/plain": "['Pavlos', 'Shivas', 'Abjasree', 'Chaitanya']"
                    },
                    "execution_count": 5,
                    "metadata": {},
                    "output_type": "execute_result"
                }
            ],
            "source": [
                "list(race.keys())"
            ]
        },
        {
            "attachments": {},
            "cell_type": "markdown",
            "metadata": {},
            "source": [
                "## Race simulation\n",
                "\n",
                "As you would have noticed, every time you make a new dictionary `race`, the results would differ.\n",
                "\n",
                "Redefine the `race` dictionary, and run the cell below for a simulation of the race! "
            ]
        },
        {
            "cell_type": "code",
            "execution_count": 6,
            "metadata": {},
            "outputs": [
                {
                    "name": "stdout",
                    "output_type": "stream",
                    "text": "|START|----------------------------------------|Pavlos\n|START|----------------------------------------|Shivas\n|START|----------------------------------------|Abjasree\n|START|----------------------------------------|Chaitanya\n\nThe winner is Shivas with a time of 12.13s!\n"
                }
            ],
            "source": [
                "# Again get the times for each participant and make a dictionary\n",
                "race = {sprinter:dash.time for sprinter,dash in sprinters_dict.items()}\n",
                "# Then sort the items of the dictionary to get the winner\n",
                "winner = sorted(race.items(),key=lambda x:x[1])[0] \n",
                "\n",
                "# Execute the following code\n",
                "for i in range(1,11):\n",
                "    clear_output(wait=True)\n",
                "    print(\"|START|\"+\"\\n|START|\".join(['----'*min(10,int((15*i)/race[runner]))+ '    '*(10-min(10,int((15*i)/race[runner])))+'|'+runner for runner in race.keys()]))\n",
                "    sleep(0.5)\n",
                "    \n",
                "print(f'\\nThe winner is {winner[0]} with a time of {winner[1]:.2f}s!')   "
            ]
        },
        {
            "attachments": {},
            "cell_type": "markdown",
            "metadata": {},
            "source": [
                "## Multiple simulations\n",
                "Earlier was just one race, we want to find out who performs better over multiple races. So let's run the race 5 times\n",
                "\n",
                "- Run a loop for 5 times\n",
                "- In each loop generate the race dictionary as done earlier, and get the winner after sorting `race.items()`\n",
                "- Append winners to the `winner_list`"
            ]
        },
        {
            "attachments": {},
            "cell_type": "markdown",
            "metadata": {},
            "source": [
                "Keep track of everyone's timings"
            ]
        },
        {
            "cell_type": "code",
            "execution_count": 7,
            "metadata": {},
            "outputs": [
                {
                    "data": {
                        "text/plain": "[('Pavlos', 12.87629570564545),\n ('Shivas', 13.043640150063483),\n ('Abjasree', 11.387648957040785),\n ('Abjasree', 12.36871729293384),\n ('Pavlos', 12.833475110733596)]"
                    },
                    "execution_count": 7,
                    "metadata": {},
                    "output_type": "execute_result"
                }
            ],
            "source": [
                "# Run the simulation and append winners to the winner_list\n",
                "winner_list = []\n",
                "for simulation in range(5):\n",
                "    race = {k:v.time for k,v in sprinters_dict.items()}\n",
                "    winner = sorted(race.items(),key=lambda x:x[1])[0]\n",
                "    winner_list.append(winner)\n",
                "    \n",
                "winner_list    "
            ]
        },
        {
            "attachments": {},
            "cell_type": "markdown",
            "metadata": {},
            "source": [
                "### Even more simulations\n",
                "\n",
                "We will run 10,000 simulations and use the `Counter` to see who wins how many times.\n",
                "\n",
                "Check the hints for how to use `Counter()`."
            ]
        },
        {
            "cell_type": "code",
            "execution_count": 8,
            "metadata": {},
            "outputs": [],
            "source": [
                "# Run the simulation and append winners to the winner_list\n",
                "winner_list = []\n",
                "for simulation in range(10000):\n",
                "    race = {k:v.time for k,v in sprinters_dict.items()}\n",
                "    winner = sorted(race.items(),key=lambda x:x[1])[0]\n",
                "    winner_list.append(winner[0])"
            ]
        },
        {
            "cell_type": "code",
            "execution_count": 9,
            "metadata": {},
            "outputs": [
                {
                    "data": {
                        "text/plain": "Counter({'Abjasree': 5650, 'Shivas': 3707, 'Pavlos': 498, 'Chaitanya': 145})"
                    },
                    "execution_count": 9,
                    "metadata": {},
                    "output_type": "execute_result"
                }
            ],
            "source": [
                "### edTest(test_wins) ###\n",
                "\n",
                "# Get the counts for each person winning the race\n",
                "wins = Counter(winner_list)\n",
                "wins"
            ]
        },
        {
            "cell_type": "code",
            "execution_count": 10,
            "metadata": {},
            "outputs": [
                {
                    "data": {
                        "text/plain": "Text(0, 0.5, 'Race wins')"
                    },
                    "execution_count": 10,
                    "metadata": {},
                    "output_type": "execute_result"
                },
                {
                    "name": "stderr",
                    "output_type": "stream",
                    "text": "findfont: Font family ['xkcd', 'xkcd Script', 'Humor Sans', 'Comic Neue', 'Comic Sans MS'] not found. Falling back to DejaVu Sans.\n"
                },
                {
                    "data": {
                        "image/png": "[encoded data removed]",
                        "text/plain": "\u003cFigure size 432x288 with 1 Axes\u003e"
                    },
                    "metadata": {},
                    "output_type": "display_data"
                }
            ],
            "source": [
                "# Execute the code \n",
                "plt.bar(list(wins.keys()),list(wins.values()),alpha=0.5)\n",
                "plt.xlabel('Sprinters')\n",
                "plt.ylabel('Race wins',rotation=0,labelpad=30)"
            ]
        },
        {
            "attachments": {},
            "cell_type": "markdown",
            "metadata": {},
            "source": [
                "## Why is Abjasree winning so much ?\n",
                "\n",
                "Let us analyze why exactly is Abjasree winning so frequently in our simulations.\n",
                "But first, we will need to record the sprint timings for each sprinter in every simulation."
            ]
        },
        {
            "attachments": {},
            "cell_type": "markdown",
            "metadata": {},
            "source": [
                "We will again run 10,000 simulations but this time record the individual sprint timings for each simulation instead.\n",
                "\n",
                "- Make a new dictionary `race_results` with keys as the name of sprinters and the value as an empty list. We will append race results to this list after each simulation.\n",
                "- Calculate time by calling `.time` and assign it to corresponding key in `race`\n",
                "- The `race_results` dictionary holds all the times for a participant. So for a key it has a corresponding list of times for that participant.\n",
                "- `append` `time` to the list for particular key of `race_results`"
            ]
        },
        {
            "cell_type": "code",
            "execution_count": 11,
            "metadata": {},
            "outputs": [],
            "source": [
                "# Run the earlier simulation for 10000 times\n",
                "\n",
                "race_results= {k:[] for k in sprinters_dict.keys()}\n",
                "for simulation in range(10000):\n",
                "    for sprinter,dash in sprinters_dict.items():\n",
                "        sprint_timing = dash.time\n",
                "        race_results[sprinter].append(sprint_timing) "
            ]
        },
        {
            "attachments": {},
            "cell_type": "markdown",
            "metadata": {},
            "source": [
                "### Sample mean $\\bar{x}$ sample standard deviation $s$\n",
                "\n",
                "\n",
                "Now we have a list of times given by each participant. We have the complete distribution, so let's calculate the mean, std and confidence interval.\n",
                "\n",
                "As discussed in the lecture, if we have a given sample, we can quickly compute the mean and standard deviation using `np.mean()` and `np.std()`.\n",
                "\n",
                "Let's begin with the race results for `Pavlos`."
            ]
        },
        {
            "cell_type": "code",
            "execution_count": 12,
            "metadata": {},
            "outputs": [
                {
                    "name": "stdout",
                    "output_type": "stream",
                    "text": "The average pace of Pavlos is 13.00 and the sample std is 0.249391\n"
                }
            ],
            "source": [
                "# Using the race_results dictionary, find the mean\n",
                "# and std for 'Pavlos'\n",
                "pavlos_mean = np.mean(race_results['Pavlos'])\n",
                "pavlos_std = np.std(race_results['Pavlos'])\n",
                "print(f'The average pace of Pavlos is {pavlos_mean:.2f} and the sample std is {pavlos_std:2f}')"
            ]
        },
        {
            "attachments": {},
            "cell_type": "markdown",
            "metadata": {},
            "source": [
                "### Sample mean $\\bar{x}$ sample standard deviation $s$ for all sprinters\n",
                "\n",
                "For each sprinter in the `race_results` dicitionary, find the mean and standard deviation of the 10,000 simulations using the `np.mean()` and `np.std()` functions.\n",
                "\n",
                "Store your findings in a new dictionary called `race_stats`."
            ]
        },
        {
            "cell_type": "code",
            "execution_count": 13,
            "metadata": {},
            "outputs": [],
            "source": [
                "race_stats = {}\n",
                "for sprinter in race_results.keys():\n",
                "    sprinter_mean = np.mean(race_results[sprinter])\n",
                "    sprinter_std = np.std(race_results[sprinter])\n",
                "    race_stats[sprinter] = [sprinter_mean,sprinter_std]"
            ]
        },
        {
            "cell_type": "code",
            "execution_count": 14,
            "metadata": {},
            "outputs": [
                {
                    "name": "stdout",
                    "output_type": "stream",
                    "text": "+-----------+-------------+------------+\n|  Sprinter | Sample mean | Sample std |\n+-----------+-------------+------------+\n|   Pavlos  |    13.002   |   0.249    |\n|   Shivas  |    12.498   |   0.496    |\n|  Abjasree |    12.225   |   0.994    |\n| Chaitanya |    14.488   |   0.995    |\n+-----------+-------------+------------+\n"
                }
            ],
            "source": [
                "# Use the helper code below to print your findings\n",
                "pt = PrettyTable()\n",
                "\n",
                "pt.field_names = [\"Sprinter\", \"Sample mean\", \"Sample std\"]\n",
                "\n",
                "for sprinter,stats in race_stats.items():\n",
                "    pt.add_row([sprinter, round(stats[0],3),round(stats[1],3)])\n",
                "\n",
                "print(pt)"
            ]
        },
        {
            "attachments": {},
            "cell_type": "markdown",
            "metadata": {},
            "source": [
                "### Confidence Interval\n",
                "Confidence interval is the range of values for which we can claim a certain confidence level(95% mostly). The confidence interval represents values for the population parameter for which the difference between the parameter and the observed estimate is not significant at the 5% level.\n",
                "\n",
                "- Use `np.percentile()` to calculate the 95% CI.\n",
                "- Calculate `np.percentile` at 2.5 and 97.5 to get the interval.\n",
                "- Calculate and append these to the list of stats in the `race_stats` dictionary, for each participant"
            ]
        },
        {
            "cell_type": "code",
            "execution_count": 15,
            "metadata": {},
            "outputs": [
                {
                    "name": "stdout",
                    "output_type": "stream",
                    "text": "The 95% confidence interval for Hargun is (11.53, 13.47)\n"
                }
            ],
            "source": [
                "# By using the race_results dictionary defined above,\n",
                "# Find the 2.5 and 97.5 percentile of Shivas' race runs.\n",
                "CI = np.percentile(race_results['Shivas'],[2.5,97.5])\n",
                "print(f'The 95% confidence interval for Hargun is {round(CI[0],2),round(CI[1],2)}')"
            ]
        },
        {
            "attachments": {},
            "cell_type": "markdown",
            "metadata": {},
            "source": [
                "### Confidence intervals for all sprinters.\n",
                "\n",
                "Let's repeat the above for each sprinter.\n",
                "You will add this information to your `race_stats` dictionary.\n",
                "\n",
                "We expect you to append the $2.5$ and the $97.5$ percentile values to the existing stats list for each sprinter.\n",
                "\n",
                "For e.g., if for `Pavlos`, we have `mean=13.00`, `std=0.1`, and CI as `(12.8,13.2)`, your `race_stats['Pavlos']` must look like: `[13.00,0.1,12.8,13.2]`."
            ]
        },
        {
            "cell_type": "code",
            "execution_count": 16,
            "metadata": {},
            "outputs": [],
            "source": [
                "# Now lets repeat the same, but for every sprinter\n",
                "# run through the race_results dictionary for each sprinter\n",
                "# find the confidence interval, and add it to the race_stats dictionary \n",
                "# defined above\n",
                "# Hint: You can use the .extend() method to add it to the existing list of stats\n",
                "for sprinter,runs in race_results.items():\n",
                "    ci = np.percentile(runs,[2.5,97.5])\n",
                "    race_stats[sprinter].extend(ci)"
            ]
        },
        {
            "cell_type": "code",
            "execution_count": 17,
            "metadata": {},
            "outputs": [
                {
                    "name": "stdout",
                    "output_type": "stream",
                    "text": "+-----------+-------------+------------+------------------+\n|  Sprinter | Sample mean | Sample std |      95% CI      |\n+-----------+-------------+------------+------------------+\n|   Pavlos  |    13.002   |   0.249    | (12.511, 13.491) |\n|   Shivas  |    12.498   |   0.496    | (11.534, 13.468) |\n|  Abjasree |    12.225   |   0.994    | (10.273, 14.147) |\n| Chaitanya |    14.488   |   0.995    | (12.518, 16.422) |\n+-----------+-------------+------------+------------------+\n"
                }
            ],
            "source": [
                "# Use the helper code below to print your findings\n",
                "pt = PrettyTable()\n",
                "\n",
                "pt.field_names = [\"Sprinter\", \"Sample mean\", \"Sample std\",\"95% CI\"]\n",
                "\n",
                "for sprinter,stats in race_stats.items():\n",
                "    mean = round(stats[0],3)\n",
                "    std = round(stats[1],3)\n",
                "    confidence_interval = (round(stats[2],3),round(stats[3],3))\n",
                "    pt.add_row([sprinter, mean,std,confidence_interval])\n",
                "\n",
                "print(pt)"
            ]
        },
        {
            "attachments": {},
            "cell_type": "markdown",
            "metadata": {},
            "source": [
                "## Histogram plot for each sprinter\n",
                "\n",
                "Run the following cell to get a cool plot for distribution of times."
            ]
        },
        {
            "cell_type": "code",
            "execution_count": 18,
            "metadata": {},
            "outputs": [
                {
                    "name": "stderr",
                    "output_type": "stream",
                    "text": "findfont: Font family ['xkcd', 'xkcd Script', 'Humor Sans', 'Comic Neue', 'Comic Sans MS'] not found. Falling back to DejaVu Sans.\n"
                },
                {
                    "data": {
                        "image/png": "[encoded data removed]",
                        "text/plain": "\u003cFigure size 720x432 with 1 Axes\u003e"
                    },
                    "metadata": {},
                    "output_type": "display_data"
                }
            ],
            "source": [
                "fig = plt.gcf()\n",
                "fig.set_size_inches(10,6)\n",
                "bins = np.linspace(10, 17, 50)\n",
                "\n",
                "for sprinter,runs in race_results.items():\n",
                "    height, bins, patches = plt.hist(runs, bins, alpha=0.5, \\\n",
                "                            label=sprinter,density=True,edgecolor='k')\n",
                "    plt.fill_betweenx([0, height.max()], race_stats[sprinter][2], race_stats[sprinter][3], alpha=0.2)\n",
                "plt.legend(loc='upper left',fontsize=16)\n",
                "plt.xlabel('Seconds')\n",
                "plt.ylabel('Frequency',rotation=0,labelpad=25)\n",
                "ax = plt.gca()\n",
                "ax.spines['right'].set_visible(False)\n",
                "ax.spines['top'].set_visible(False)\n",
                "plt.show()"
            ]
        },
        {
            "attachments": {},
            "cell_type": "markdown",
            "metadata": {},
            "source": [
                "## ⏸ Pause \u0026 Think\n",
                "\n",
                "..."
            ]
        },
        {
            "attachments": {},
            "cell_type": "markdown",
            "metadata": {},
            "source": [
                "## 👩🏻‍🎓 Bonus (Not graded)\n",
                "\n",
                "Find out who among has would have the most podium finishes (top 3)."
            ]
        },
        {
            "cell_type": "code",
            "execution_count": 19,
            "metadata": {},
            "outputs": [],
            "source": [
                "# Your code here"
            ]
        }
    ]
}
