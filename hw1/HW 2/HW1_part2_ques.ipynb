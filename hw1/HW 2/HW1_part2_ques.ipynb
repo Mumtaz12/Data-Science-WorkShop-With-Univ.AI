{
    "metadata": {
        "kernelspec": {
            "name": "python3",
            "display_name": "Python 3 (ipykernel)",
            "language": "python"
        }
    },
    "nbformat": 4,
    "nbformat_minor": 4,
    "cells": [
        {
            "attachments": {},
            "cell_type": "markdown",
            "metadata": {},
            "source": [
                "\u003cdiv class=\"alert alert-block alert-danger\" style=\"color:black;background-color:#E7F4FA\"\u003e\n",
                "    \n",
                "## **PART 2 [50 points]: Creating your own Cipher using string manipulations**\n",
                "\u003cbr /\u003e    \n",
                "\n",
                "A cipher is a secret code for a language. In this case study, we will explore a cipher that is reported by contemporary Greek historians to have been used by Julius Caesar to send secret messages to generals during times of war.\n",
                "\n",
                "The Caesar cipher shifts each letter of a message to another letter in the alphabet located a fixed distance from the original letter. If our encryption key were `1`, we would shift `h` to the next letter `i`, `i` to the next letter `j`, and so on. If we reach the end of the alphabet, which for us is the space character, we simply loop back to `a`. To decode the message, we make a similar shift, except we move the same number of steps backwards in the alphabet.\n",
                "\n",
                "To encode something is to change information from one form to another following a certain set of rules, such as using the Caesar shift to encode normal sentences. Decoding is to retrieve the original information from an encoded form.\n",
                "\n",
                "\u003cimg src=\"https://media.giphy.com/media/3IpHeyAdAmjQI/giphy.gif\" style=\"margin-left:350px\"\u003e\n",
                "\n",
                "In this part of the homework, you will use the tools \u0026 concepts you have learnt past few weeks to slowly work out encoding, decoding a message and guessing the key of an encoded message. You will decode using a basic strategy of frequency counting.\n",
                "    \n",
                "\u003c/div\u003e\n",
                "    "
            ]
        },
        {
            "cell_type": "code",
            "execution_count": 1,
            "metadata": {},
            "outputs": [
                {
                    "name": "stdout",
                    "output_type": "stream",
                    "text": "The Zen of Python, by Tim Peters\n\nBeautiful is better than ugly.\nExplicit is better than implicit.\nSimple is better than complex.\nComplex is better than complicated.\nFlat is better than nested.\nSparse is better than dense.\nReadability counts.\nSpecial cases aren't special enough to break the rules.\nAlthough practicality beats purity.\nErrors should never pass silently.\nUnless explicitly silenced.\nIn the face of ambiguity, refuse the temptation to guess.\nThere should be one-- and preferably only one --obvious way to do it.\nAlthough that way may not be obvious at first unless you're Dutch.\nNow is better than never.\nAlthough never is often better than *right* now.\nIf the implementation is hard to explain, it's a bad idea.\nIf the implementation is easy to explain, it may be a good idea.\nNamespaces are one honking great idea -- let's do more of those!\n"
                }
            ],
            "source": [
                "# RUN THIS CELL\n",
                "# import libraries\n",
                "import string\n",
                "import this\n",
                "from collections import Counter"
            ]
        },
        {
            "attachments": {},
            "cell_type": "markdown",
            "metadata": {},
            "source": [
                "\u003cdiv class=\"alert alert-block alert-danger\" style=\"color:black;background-color:#E7F4FA\"\u003e\n",
                "    \n",
                "## **2.1 Prepare tools [5 marks]**\n",
                "Let us prepare certain data which we will use throughout this exercise.\n",
                "### Instructions\n",
                "\n",
                "- Create a string called `alphabet` consisting of all the lowercase alphabets (you can use string library methods). \n",
                "**Note that we're only using the lowercase letters in this exercise. Hence convert all strings to lowercase before encoding**\n",
                "\n",
                "- Create a dictionary with keys consisting of the characters in alphabet and values consisting of the numbers from 0 to 25.\n",
                "- Store this as `position`.\n",
                "\u003c/div\u003e"
            ]
        },
        {
            "cell_type": "code",
            "execution_count": 2,
            "metadata": {},
            "outputs": [
                {
                    "name": "stdout",
                    "output_type": "stream",
                    "text": "abcdefghijklmnopqrstuvwxyz\n"
                }
            ],
            "source": [
                "# Your cod here\n",
                "alphabet=\"\"+ string.ascii_lowercase \n",
                "print(alphabet)"
            ]
        },
        {
            "cell_type": "code",
            "execution_count": 3,
            "metadata": {},
            "outputs": [
                {
                    "name": "stdout",
                    "output_type": "stream",
                    "text": "{'a': 0, 'b': 1, 'c': 2, 'd': 3, 'e': 4, 'f': 5, 'g': 6, 'h': 7, 'i': 8, 'j': 9, 'k': 10, 'l': 11, 'm': 12, 'n': 13, 'o': 14, 'p': 15, 'q': 16, 'r': 17, 's': 18, 't': 19, 'u': 20, 'v': 21, 'w': 22, 'x': 23, 'y': 24, 'z': 25}\n"
                }
            ],
            "source": [
                "### edTest(test_position) ###\n",
                "# Your code here\n",
                "position=dict(zip(alphabet, range(0,26)))\n",
                "print(position)\n",
                "#print(position['n'])"
            ]
        },
        {
            "attachments": {},
            "cell_type": "markdown",
            "metadata": {},
            "source": [
                "\u003cdiv class=\"alert alert-block alert-danger\" style=\"color:black;background-color:#E7F4FA\"\u003e\n",
                "    \n",
                "## **2.2 Encode a message [5 marks]**\n",
                "### Instructions \n",
                "- You are provided with `message`.\n",
                "- Using `alphabet` and `position` create an encoded message where each character in `message` has been shifted forward by 1 position.\n",
                "\n",
                "- You can ensure the result remains within 0-26 using `result % 26`. \n",
                "- **Note : Keep in mind that the message has blank spaces `' '`. Shift alphabets by 1 position, but keep the blank spaces as it is.**\n",
                "- Store this as `encoded_message`.\n",
                "\u003c/div\u003e"
            ]
        },
        {
            "attachments": {},
            "cell_type": "markdown",
            "metadata": {},
            "source": [
                ""
            ]
        },
        {
            "cell_type": "code",
            "execution_count": 4,
            "metadata": {},
            "outputs": [
                {
                    "name": "stdout",
                    "output_type": "stream",
                    "text": "uijt nfttbhf jt b mjf\n"
                }
            ],
            "source": [
                "### edTest(test_encode) ###\n",
                "# Your code below\n",
                "message = \"this message is a lie\"\n",
                "key=3\n",
                "#def shift_a(alphabet):\n",
                "    #return alphabet[shift:]+ alphabet[:shift]\n",
                "encoded_message = ''\n",
                "for c in message:\n",
                "  if c==' ':\n",
                "    encoded_message=encoded_message + c\n",
                "  elif(c!=' '):\n",
                "    d=(position[c]+1)%26\n",
                "\n",
                "    encoded_message =encoded_message + alphabet[d]\n",
                " \n",
                "print(encoded_message)"
            ]
        },
        {
            "attachments": {},
            "cell_type": "markdown",
            "metadata": {},
            "source": [
                "\u003cdiv class=\"alert alert-block alert-danger\" style=\"color:black;background-color:#E7F4FA\"\u003e\n",
                "\n",
                "### ⏸ What will be the result if I encode `encoded_message` with key 25? [1 mark]\n",
                "\n",
                "#### A. `'uijt nfttbhf jt b mjf'`\n",
                "#### B. `'sgjt ldrrzfd hr z khd'`\n",
                "#### C. `'this message is a lie'`\n",
                "#### D. `'vjku oguucig ku c nkg'`\n",
                "\u003c/div\u003e"
            ]
        },
        {
            "cell_type": "code",
            "execution_count": 5,
            "metadata": {},
            "outputs": [],
            "source": [
                "### edTest(test_chow1) ###\n",
                "# Submit an answer choice as a string below (eg. if you choose option A put 'A')\n",
                "\n",
                "answer = 'C'"
            ]
        },
        {
            "attachments": {},
            "cell_type": "markdown",
            "metadata": {},
            "source": [
                "\u003cdiv class=\"alert alert-block alert-danger\" style=\"color:black;background-color:#E7F4FA\"\u003e\n",
                "\n",
                "## **2.3 Define a Function [10 marks]**\n",
                "### Instructions \n",
                "- Define a function `encoding` that takes a message as input as well as an `int` encryption key `key` to encode a message with the Caesar cipher by shifting each letter in message by key positions.\n",
                "- Your function should return a **string** consisting of these encoded letters.\n",
                "- Use `encoding` to encode `message` using `key = 3` and save the result as `encoded_message`.\n",
                "Display `encoded_message`.\n",
                "\n",
                "**Note : Remember to check your function for multiple strings, we will be marking based on hidden test cases.**\n",
                "\u003c/div\u003e"
            ]
        },
        {
            "cell_type": "code",
            "execution_count": 6,
            "metadata": {},
            "outputs": [
                {
                    "name": "stdout",
                    "output_type": "stream",
                    "text": "wklv phvvdjh lv d olh\n"
                }
            ],
            "source": [
                "### edTest(test_encodefn) ###\n",
                "# write your code here \n",
                "\n",
                "def encoding(message,key):\n",
                "\n",
                "\n",
                "  encoded_message = ''\n",
                "  for c in message:\n",
                "       \n",
                "    if(c in alphabet):\n",
                "       d=(position[c]+key)%26\n",
                "       encoded_message =encoded_message + alphabet[d]\n",
                "    else:\n",
                "      encoded_message=encoded_message + c\n",
                "    \n",
                "\n",
                "  return encoded_message\n",
                "encoded_message= encoding(message,3)\n",
                "print(encoded_message)"
            ]
        },
        {
            "attachments": {},
            "cell_type": "markdown",
            "metadata": {},
            "source": [
                "\u003cdiv class=\"alert alert-block alert-danger\" style=\"color:black;background-color:#E7F4FA\"\u003e\n",
                "\n",
                "### ⏸ You encoded a message using the key 3, what key should you encode the encoded message with to get the original message back? [1 mark]\n",
                "\n",
                "#### A. `3`\n",
                "#### B. `27 - 3`\n",
                "#### C. `26 - 3`\n",
                "#### D. `6`\n",
                "\u003c/div\u003e"
            ]
        },
        {
            "cell_type": "code",
            "execution_count": 7,
            "metadata": {},
            "outputs": [],
            "source": [
                "### edTest(test_chow2) ###\n",
                "# Submit an answer choice as a string below (eg. if you choose option A put 'A')\n",
                "\n",
                "answer = 'C'"
            ]
        },
        {
            "attachments": {},
            "cell_type": "markdown",
            "metadata": {},
            "source": [
                "\u003cdiv class=\"alert alert-block alert-danger\" style=\"color:black;background-color:#E7F4FA\"\u003e\n",
                "\n",
                "## **2.4 Decoding [5 marks]**\n",
                "### Instructions\n",
                "- Figure a way to use `encoding` function to decode `encoded_message`. (Hint : Try to figure out what happens when you encode `encoded_message` with different keys)\n",
                "- Store your decoded message as `decoded_message`.\n",
                "- Display `decoded_message` and compare it with the original `message`.\n",
                "\u003c/div\u003e"
            ]
        },
        {
            "cell_type": "code",
            "execution_count": 8,
            "metadata": {},
            "outputs": [
                {
                    "name": "stdout",
                    "output_type": "stream",
                    "text": "wklv phvvdjh lv d olh\nthis message is a lie\n"
                }
            ],
            "source": [
                "### edTest(test_decode) ###\n",
                "# write your code here!\n",
                "\n",
                "decoded_message=encoding(encoded_message,26-key)\n",
                "print(encoded_message)\n",
                "print(decoded_message)"
            ]
        },
        {
            "attachments": {},
            "cell_type": "markdown",
            "metadata": {},
            "source": [
                "## "
            ]
        },
        {
            "attachments": {},
            "cell_type": "markdown",
            "metadata": {},
            "source": [
                "\u003cdiv class=\"alert alert-block alert-danger\" style=\"color:black;background-color:#E7F4FA\"\u003e\n",
                "\n",
                "## **Zen of Python**\n",
                "\n",
                "Take a look at `encoded_message`. This message has been encoded using caesar cipher but the key is unknown.\n",
                "\u003c/div\u003e"
            ]
        },
        {
            "cell_type": "code",
            "execution_count": 9,
            "metadata": {},
            "outputs": [
                {
                    "data": {
                        "text/plain": "\"Gur Mra bs Clguba, ol Gvz Crgref\\n\\nOrnhgvshy vf orggre guna htyl.\\nRkcyvpvg vf orggre guna vzcyvpvg.\\nFvzcyr vf orggre guna pbzcyrk.\\nPbzcyrk vf orggre guna pbzcyvpngrq.\\nSyng vf orggre guna arfgrq.\\nFcnefr vf orggre guna qrafr.\\nErnqnovyvgl pbhagf.\\nFcrpvny pnfrf nera'g fcrpvny rabhtu gb oernx gur ehyrf.\\nNygubhtu cenpgvpnyvgl orngf chevgl.\\nReebef fubhyq arire cnff fvyragyl.\\nHayrff rkcyvpvgyl fvyraprq.\\nVa gur snpr bs nzovthvgl, ershfr gur grzcgngvba gb thrff.\\nGurer fubhyq or bar-- naq cersrenoyl bayl bar --boivbhf jnl gb qb vg.\\nNygubhtu gung jnl znl abg or boivbhf ng svefg hayrff lbh'er Qhgpu.\\nAbj vf orggre guna arire.\\nNygubhtu arire vf bsgra orggre guna *evtug* abj.\\nVs gur vzcyrzragngvba vf uneq gb rkcynva, vg'f n onq vqrn.\\nVs gur vzcyrzragngvba vf rnfl gb rkcynva, vg znl or n tbbq vqrn.\\nAnzrfcnprf ner bar ubaxvat terng vqrn -- yrg'f qb zber bs gubfr!\""
                    },
                    "execution_count": 9,
                    "metadata": {},
                    "output_type": "execute_result"
                }
            ],
            "source": [
                "#  RUN THIS CELL\n",
                "encoded_message = this.s\n",
                "encoded_message"
            ]
        },
        {
            "attachments": {},
            "cell_type": "markdown",
            "metadata": {},
            "source": [
                "\u003cdiv class=\"alert alert-block alert-danger\" style=\"color:black;background-color:#E7F4FA\"\u003e\n",
                "\n",
                "## **2.5 Guess the key [10 marks]**\n",
                "A very common way of guessing the key is by counting the frequency of letters in the encoded message. It is usually found that normal text has the letter 'e' which occurs with the most frequency, hence the most frequent character after encoding the text will correspond to letter 'e'. Since we know positions of both the most frequent letter and the letter 'e', we can assign the guess key as :\n",
                "\n",
                "`guess_key = 26 - (position[most common] - position['e'])`\n",
                "\u003c/div\u003e"
            ]
        },
        {
            "attachments": {},
            "cell_type": "markdown",
            "metadata": {},
            "source": [
                "\u003cdiv class=\"alert alert-block alert-danger\" style=\"color:black;background-color:#E7F4FA\"\u003e\n",
                "\n",
                "### **2.5.1 Frequency [3 marks]**\n",
                "Find out the most frequent character in encoded message.\n",
                "Store the most common character in the `most_common` variable.\n",
                "\n",
                "\u003c/div\u003e"
            ]
        },
        {
            "cell_type": "code",
            "execution_count": 10,
            "metadata": {},
            "outputs": [
                {
                    "name": "stdout",
                    "output_type": "stream",
                    "text": "r\n"
                }
            ],
            "source": [
                "### edTest(test_frequency) ###\n",
                "# Your code here\n",
                "test=\"GurMrabsClguba,olGvzCrgref\\n\\nOrnhgvshyvforggregunahtyl.\\nRkcyvpvgvforggregunavzcyvpvg.\\nFvzcyrvforggregunapbzcyrk.\\nPbzcyrkvforggregunapbzcyvpngrq.\\nSyngvforggregunaarfgrq.\\nFcnefrvforggregunaqrafr.\\nErnqnovyvglpbhagf.\\nFcrpvnypnfrfnera'gfcrpvnyrabhtugboernxgurehyrf.\\nNygubhtucenpgvpnyvgl orngf chevgl.\\nReebeffubhyqrireacnfffvyragyl.\\nHayrffrkcyvpvgylfvyraprq.\\nVagursnprbsnzovthvgl,ershfrgurgrzcgngvbagbthrff.\\nGurerfubhyqorbar--naqcersrenoylbaylbar--boivbhfjnlgbqbvg.\\nNygubhtugungjnlznlabgorboivbhfngsvefghayrfflbh'erQhgpu.\\nAbjvforggregunaarire.\\nNygubhtuarirevfbsgraorggreguna*evtug*abj.\\nVsgurvzcyrzragngvbavfuneqgbrkcynva,vg'fnonqvqrn.\\nVsgurvzcyrzragngvba vf rnfl gb rkcynva, vg znl or n tbbq vqrn.\\nAnzrfcnprf ner bar ubaxvat terng vqrn -- yrg'f qb zber bs gubfr!\".lower()\n",
                "\n",
                "p=Counter(test)\n",
                "most_common=max(p,key=p.get)\n",
                "\n",
                "print(most_common)"
            ]
        },
        {
            "attachments": {},
            "cell_type": "markdown",
            "metadata": {},
            "source": [
                "\u003cdiv class=\"alert alert-block alert-danger\" style=\"color:black;background-color:#E7F4FA\"\u003e\n",
                "\n",
                "### **2.5.2 Guess [3 marks]**\n",
                "Calculate the `guess_key` according to the formula :\n",
                "\n",
                "`26 - (position[most common] - position['e'])`\n",
                "\n",
                "\u003c/div\u003e"
            ]
        },
        {
            "cell_type": "code",
            "execution_count": 11,
            "metadata": {},
            "outputs": [
                {
                    "name": "stdout",
                    "output_type": "stream",
                    "text": "13\n"
                }
            ],
            "source": [
                "### edTest(test_key) ###\n",
                "# Your code here\n",
                "\n",
                "guess_key = 26 - (position[most_common] - position['e'])\n",
                "print(guess_key)"
            ]
        },
        {
            "attachments": {},
            "cell_type": "markdown",
            "metadata": {},
            "source": [
                "\u003cdiv class=\"alert alert-block alert-danger\" style=\"color:black;background-color:#E7F4FA\"\u003e\n",
                "\n",
                "### **2.5.3 Decode [4 marks]**\n",
                "Decode the message using this `guess_key`.\n",
                "\u003c/div\u003e"
            ]
        },
        {
            "cell_type": "code",
            "execution_count": 12,
            "metadata": {},
            "outputs": [
                {
                    "name": "stdout",
                    "output_type": "stream",
                    "text": "the zen of python, by tim peters\n\nbeautiful is better than ugly.\nexplicit is better than implicit.\nsimple is better than complex.\ncomplex is better than complicated.\nflat is better than nested.\nsparse is better than dense.\nreadability counts.\nspecial cases aren't special enough to break the rules.\nalthough practicality beats purity.\nerrors should never pass silently.\nunless explicitly silenced.\nin the face of ambiguity, refuse the temptation to guess.\nthere should be one-- and preferably only one --obvious way to do it.\nalthough that way may not be obvious at first unless you're dutch.\nnow is better than never.\nalthough never is often better than *right* now.\nif the implementation is hard to explain, it's a bad idea.\nif the implementation is easy to explain, it may be a good idea.\nnamespaces are one honking great idea -- let's do more of those!\n"
                }
            ],
            "source": [
                "### edTest(test_dec) ###\n",
                "# Your code here\n",
                "test=\"Gur Mra bs Clguba, ol Gvz Crgref\\n\\nOrnhgvshy vf orggre guna htyl.\\nRkcyvpvg vf orggre guna vzcyvpvg.\\nFvzcyr vf orggre guna pbzcyrk.\\nPbzcyrk vf orggre guna pbzcyvpngrq.\\nSyng vf orggre guna arfgrq.\\nFcnefr vf orggre guna qrafr.\\nErnqnovyvgl pbhagf.\\nFcrpvny pnfrf nera'g fcrpvny rabhtu gb oernx gur ehyrf.\\nNygubhtu cenpgvpnyvgl orngf chevgl.\\nReebef fubhyq arire cnff fvyragyl.\\nHayrff rkcyvpvgyl fvyraprq.\\nVa gur snpr bs nzovthvgl, ershfr gur grzcgngvba gb thrff.\\nGurer fubhyq or bar-- naq cersrenoyl bayl bar --boivbhf jnl gb qb vg.\\nNygubhtu gung jnl znl abg or boivbhf ng svefg hayrff lbh'er Qhgpu.\\nAbj vf orggre guna arire.\\nNygubhtu arire vf bsgra orggre guna *evtug* abj.\\nVs gur vzcyrzragngvba vf uneq gb rkcynva, vg'f n onq vqrn.\\nVs gur vzcyrzragngvba vf rnfl gb rkcynva, vg znl or n tbbq vqrn.\\nAnzrfcnprf ner bar ubaxvat terng vqrn -- yrg'f qb zber bs gubfr!\".lower()\n",
                "decoded_message = encoding(test,26-guess_key)\n",
                "print(decoded_message)"
            ]
        },
        {
            "attachments": {},
            "cell_type": "markdown",
            "metadata": {},
            "source": [
                "\u003cdiv class=\"alert alert-block alert-danger\" style=\"color:black;background-color:#E7F4FA\"\u003e\n",
                "\n",
                "## **2.7 Write a Cipher class [13 marks]** \n",
                "### Instructions\n",
                "- Initialise using a key which is passed during instantiation.\n",
                "- Also declare `alphabet` which has all lowercase alphabets and `position` which is a dictionary alphabet as key and it's position as value. These should be instance variables of the class.\n",
                "- Declare a method called encode, it takes a string as input an encodes the string using the key from class attribute\n",
                "- Declare a method called `change_key`. It takes a key as input and modifies the class attribute `key` to the value passed\n",
                "- Declare a method called `guess_key`. It takes an encoded string as input and using the frequency counting method generates a guess key. \n",
                "\n",
                "- Test out your class and its different methods. We will grade you using hidden test cases, so make sure you are confident of your class before submitting it.\n",
                "\u003c/div\u003e"
            ]
        },
        {
            "cell_type": "code",
            "execution_count": 2,
            "metadata": {},
            "outputs": [],
            "source": [
                "### edTest(test_class) ###\n",
                "#Your code here\n",
                "class Cipher():\n",
                "    \"\"\"\n",
                "    Follow the instructions of this docstring to finish this class. \n",
                "    Cipher will encode data and guess the key for encoded data!\n",
                "    \n",
                "    Make sure to save the following instance attributes:\n",
                "    -------\n",
                "    self.key   : key required for implementing caesar cipher \n",
                "    self.alphabet   : string with all lowercase alphabets\n",
                "    self.position : dictionary with alphabets as keys and [0-25] as values\n",
                "    \n",
                "    Finish the following Methods \n",
                "    -------\n",
                "    __init__: \n",
                "        1. assign instance variable key to the user value\n",
                "        2. make 2 instance variables 'alphabet' and 'position' as decribed\n",
                "    \n",
                "    encode: \n",
                "        arguments: string\n",
                "        1. encode string according to the key in class attribute\n",
                "    \n",
                "    change_key: \n",
                "        arguments: new key\n",
                "        1. change the class attribute 'key' to the user argument new key\n",
                "    \n",
                "    guess_key: \n",
                "        arguments: string\n",
                "        1. count the frequency of letters in the string\n",
                "        2. generate guess_key by :\n",
                "            guess_key = 26 - (position[most_common] - position['e']) \n",
                "\n",
                "    \"\"\"\n",
                "\n",
                "    def __init__(self,key):\n",
                "       self.key=key\n",
                "       self.alphabet=alphabet\n",
                "       self.position=position\n",
                "    \n",
                "    def encode(self,message):\n",
                "        encoded_message = ''\n",
                "        for c in message:\n",
                "           if(c in alphabet):\n",
                "              d=(position[c]+self.key)%26\n",
                "              encoded_message =encoded_message + alphabet[d]\n",
                "           else:\n",
                "              encoded_message=encoded_message + c\n",
                "\n",
                "        return encoded_message\n",
                "\n",
                "    def change_key(self,key):\n",
                "        self.key=key\n",
                "\n",
                "       \n",
                "    def guess_key(self,message):\n",
                "        global guess_key\n",
                "        p=Counter(message)\n",
                "        most_common=max(p,key=p.get(alphabet))\n",
                "        guess_key = 26-(position[most_common]- position['e'])\n",
                "        print(guess_key)\n",
                "        print(most_common)\n",
                "    pass"
            ]
        },
        {
            "attachments": {},
            "cell_type": "markdown",
            "metadata": {},
            "source": [
                ""
            ]
        },
        {
            "cell_type": "code",
            "execution_count": 3,
            "metadata": {},
            "outputs": [
                {
                    "ename": "NameError",
                    "evalue": "name 'alphabet' is not defined",
                    "output_type": "error",
                    "traceback": [
                        "\u001b[0;31m---------------------------------------------------------------------------\u001b[0m",
                        "\u001b[0;31mNameError\u001b[0m                                 Traceback (most recent call last)",
                        "Input \u001b[0;32mIn [1]\u001b[0m, in \u001b[0;36m\u003ccell line: 5\u003e\u001b[0;34m()\u001b[0m\n\u001b[1;32m      2\u001b[0m key \u001b[38;5;241m=\u001b[39m \u001b[38;5;241m3\u001b[39m\n\u001b[1;32m      3\u001b[0m message \u001b[38;5;241m=\u001b[39m \u001b[38;5;124m'\u001b[39m\u001b[38;5;124mhey this message is not lie\u001b[39m\u001b[38;5;124m'\u001b[39m\n\u001b[0;32m----\u003e 5\u001b[0m mycipher \u001b[38;5;241m=\u001b[39m \u001b[43mCipher\u001b[49m\u001b[43m(\u001b[49m\u001b[43mkey\u001b[49m\u001b[43m)\u001b[49m\n\u001b[1;32m      6\u001b[0m encoded \u001b[38;5;241m=\u001b[39m mycipher\u001b[38;5;241m.\u001b[39mencode(message)\n\u001b[1;32m      7\u001b[0m mycipher\u001b[38;5;241m.\u001b[39mchange_key(\u001b[38;5;241m5\u001b[39m)\n",
                        "Input \u001b[0;32mIn [1]\u001b[0m, in \u001b[0;36mCipher.__init__\u001b[0;34m(self, key)\u001b[0m\n\u001b[1;32m     36\u001b[0m \u001b[38;5;28;01mdef\u001b[39;00m \u001b[38;5;21m__init__\u001b[39m(\u001b[38;5;28mself\u001b[39m,key):\n\u001b[1;32m     37\u001b[0m    \u001b[38;5;28mself\u001b[39m\u001b[38;5;241m.\u001b[39mkey\u001b[38;5;241m=\u001b[39mkey\n\u001b[0;32m---\u003e 38\u001b[0m    \u001b[38;5;28mself\u001b[39m\u001b[38;5;241m.\u001b[39malphabet\u001b[38;5;241m=\u001b[39m\u001b[43malphabet\u001b[49m\n\u001b[1;32m     39\u001b[0m    \u001b[38;5;28mself\u001b[39m\u001b[38;5;241m.\u001b[39mposition\u001b[38;5;241m=\u001b[39mposition\n",
                        "\u001b[0;31mNameError\u001b[0m: name 'alphabet' is not defined"
                    ]
                }
            ],
            "source": [
                "# Test your class here\n",
                "key = 3\n",
                "message = 'hey this message is not lie'\n",
                "\n",
                "mycipher = Cipher(key)\n",
                "encoded = mycipher.encode(message)\n",
                "mycipher.change_key(5)\n",
                "mycipher.guess_key(encoded)\n",
                "decoded = mycipher.encode(encoded)\n",
                "print(encoded,decoded)"
            ]
        }
    ]
}
