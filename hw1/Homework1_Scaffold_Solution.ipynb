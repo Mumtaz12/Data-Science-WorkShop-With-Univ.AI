{
    "metadata": {
        "kernelspec": {
            "name": "python3",
            "display_name": "Python 3 (ipykernel)",
            "language": "python"
        }
    },
    "nbformat": 4,
    "nbformat_minor": 4,
    "cells": [
        {
            "attachments": {},
            "cell_type": "markdown",
            "metadata": {},
            "source": [
                "![](fig/univ.png)\n",
                "\n",
                "# AI0: The Basics of Data Science\n",
                "## Homework 1: Data Structures, Functions \u0026 Classes\n",
                "\n",
                "**Univ.AI**\u003cbr/\u003e\n",
                "\n",
                "\u003chr style=\"height:2.4pt\"\u003e"
            ]
        },
        {
            "cell_type": "code",
            "execution_count": 29,
            "metadata": {},
            "outputs": [],
            "source": [
                "#RUN THIS CELL \n",
                "import requests\n",
                "from IPython.core.display import HTML"
            ]
        },
        {
            "cell_type": "code",
            "execution_count": 30,
            "metadata": {},
            "outputs": [],
            "source": [
                "# Import necessary libraries\n",
                "import re\n",
                "import random\n",
                "import collections\n",
                "random.seed(22)"
            ]
        },
        {
            "attachments": {},
            "cell_type": "markdown",
            "metadata": {},
            "source": [
                "### INSTRUCTIONS\n",
                "\n",
                "\n",
                "- This homework is a jupyter notebook. Download and work on it on your local machine.\n",
                "\n",
                "- Please restart the kernel and run the entire notebook again before you submit.\n",
                "\n",
                "- After completing your homework notebook, please attempt the accompanying quiz questions in order to receive credit for your submission.\n",
                "\n",
                "- Running cells out of order is a common pitfall in Jupyter Notebooks. To make sure your code works restart the kernel and run the whole notebook again before you submit. \n",
                "\n",
                "- To submit the homework, either one of you upload the working notebook on edStem and click the submit button on the bottom right corner.\n",
                "\n",
                "- Submit the homework well before the given deadline. Submissions after the deadline will not be graded.\n",
                "\n",
                "- We have tried to include all the libraries you may need to do the assignment in the import statement at the top of this notebook. We strongly suggest that you use those and not others as we may not be familiar with them.\n",
                "\n",
                "- Comment your code well. This would help the graders in case there is any issue with the notebook while running. It is important to remember that the graders will not troubleshoot your code. \n",
                "\n",
                "- Your overall grade will depend on the accompanying homework quiz. Please note that your notebook will check for your solution validity.\n",
                "\n",
                "- Attempting quiz without submitting a working  notebook will be awarded **zero** credit.\n",
                "\n",
                "\u003chr style=\"height:2pt\"\u003e"
            ]
        },
        {
            "attachments": {},
            "cell_type": "markdown",
            "metadata": {},
            "source": [
                "### Your Name"
            ]
        },
        {
            "attachments": {},
            "cell_type": "markdown",
            "metadata": {},
            "source": [
                "### **HOMEWORK QUIZ**\n",
                "\n",
                "**For each part of the homework, there is an associated quiz on edStem. You are required to attempt that after completing each section of this homework. Please note that the quiz is one attempt only.**\n",
                "\n",
                "\n",
                "![](fig/one_attempt.png)"
            ]
        },
        {
            "attachments": {},
            "cell_type": "markdown",
            "metadata": {},
            "source": [
                "\u003cdiv class=\"alert alert-block alert-danger\" style=\"color:black;background-color:#E7F4FA\"\u003e\n",
                "    \n",
                "## **PART 1 [35 points]: Creating your own Tic-Tac-Toe simluation using Lists \u0026 Functions**\n",
                "\u003cbr /\u003e    \n",
                "\n",
                "Tic-tac-toe (or noughts and crosses) is a simple strategy game in which two players take turns placing a mark on a 3x3 board, attempting to make a row, column, or diagonal of three with their mark. \n",
                "\n",
                "\u003cimg src=\"https://media.giphy.com/media/LtGpcWj3donEg3Doj2/giphy.gif\" style=\"margin-left:350px\"\u003e\n",
                "\n",
                "In the first part of the homework, you will use the tools \u0026 concepts you have learnt past few weeks to simulate a seeimgly simple game of Tic-Tac-Toe. You will create a tic-tac-toe board, place markers on the board, evaluate if either player has won, and use this to simulate two basic strategies.    \n",
                "    \n",
                "\u003c/div\u003e\n",
                "    "
            ]
        },
        {
            "attachments": {},
            "cell_type": "markdown",
            "metadata": {},
            "source": [
                "\u003cdiv class=\"alert alert-block alert-danger\" style=\"color:black;background-color:#E7F4FA\"\u003e\n",
                "\n",
                "## **PART 1: Questions**\n",
                "\u003cbr /\u003e\n",
                "\n",
                "### **1.1 [5 points] CREATION OF TIC-TAC-TOE BOARD**\n",
                "\u003cbr /\u003e\n",
                "\n",
                "* For our tic-tac-toe board, we will use a nested list with dimension 3 by 3. \n",
                "* Make a function `create_board()` that creates such a board with the value of each cell set to the integer 0.\n",
                "* Call `create_board()` and store it.\n",
                "\n",
                "\u003cbr /\u003e\u003cbr /\u003e\n",
                "\n",
                "    \n",
                "### **1.2 [10 points] PLACING MARKERS ON BOARD**\n",
                "\u003cbr /\u003e\n",
                "\n",
                "Players 1 and 2 will take turns changing values of this array from a 0 to a 1 or 2, indicating the number of the player who places a marker there. We will then determine which positions are available to either player for placing their marker.\n",
                "\n",
                "\u003cbr /\u003e\u003cbr /\u003e\n",
                "\n",
                "**1.2.1** - Create a function to place a marker.\n",
                "* Create a function `place(board, player, position)`, where:\n",
                "    * player is the current player (an integer 1 or 2).\n",
                "    * position is a tuple of length 2 specifying a desired location to place their marker.\n",
                "    * Your function should only allow the current player to place a marker on the board (change the board position to their number) if that position is empty (zero).\n",
                "* Use `create_board()` to store a board as board, and use place to have Player 1 place a marker on location (0, 0).\n",
                "\n",
                "\u003cbr /\u003e\u003cbr /\u003e\n",
                "\n",
                "**1.2.2** - Determine which positions are available to either player for placing their marker.\n",
                "\n",
                "* Create a function `possibilities(board)` that returns a list of all positions (tuples) on the board that are not occupied (0). \u003cbr/\u003e\n",
                "* With the board already defined from previous section, call `possibilities(board)` to see what it returns.\n",
                "\n",
                "\u003cbr /\u003e\u003cbr /\u003e\n",
                "\n",
                "**1.2.3** - Make both players place three markers each on available positions on board.\n",
                "\n",
                "* Write a function `random_place(board, player)` that places a marker for the current player at random among all the available positions (those currently set to 0).\n",
                "    * Find possible placements with `possibilities(board)`.\n",
                "    * Select one possible placement at random using `random.choice(selection)`.\n",
                "* Create a new board and call `random_place(board, player)` to place three pieces each on board for players 1 and 2. Print your board subsequently.\n",
                "    \n",
                "\u003cbr /\u003e\u003cbr /\u003e\n",
                "    \n",
                "### **1.3 [8 points] DETERMINING WHO WON**\n",
                "\u003cbr /\u003e\n",
                "\n",
                "**1.3.1** - Check if there is a row wise win. (This means that the player has placed consecutively across a row.)\n",
                "\n",
                "* Make a function `row_win(board, player)` that takes the player (integer) and determines if any row consists of only their marker.\n",
                "* Have it return True if this condition is met and False otherwise.\n",
                "* With the board already defined from previous exercises, call `row_win` to check if Player 1 has a complete row.\n",
                "\n",
                "\u003cbr /\u003e\u003cbr /\u003e\n",
                "\n",
                "**1.3.2** - Check if there is a column wise win. (This means that the player has placed consecutively across a column.)\n",
                "\n",
                "* Make a function col_win(board, player) that takes the player (integer) and determines if any column consists of only their marker.\n",
                "* Have it return True if this condition is met and False otherwise.\n",
                "* With the board already defined from previous exercise, call col_win to check if Player 1 has a complete row.\n",
                "\n",
                "\u003cbr /\u003e\u003cbr /\u003e\n",
                "\n",
                "**1.3.3** - Check if there is a diagnol wise win. (This means that the player has placed consecutively across both diagnols.)\n",
                "\n",
                "* Finally, create a function diag_win(board, player) that tests if either diagonal of the board consists of only their marker. \n",
                "* Have it return True if this condition is met, and False otherwise.\n",
                "* With the board slightly modified from previous exercise, call diag_win to check if Player 2 has a complete diagonal.\n",
                "\n",
                "\u003cbr /\u003e\u003cbr /\u003e\n",
                "\n",
                "**1.3.4** - Create a function to determine the winner.\n",
                "\n",
                "* Create a function `evaluate(board)` that uses `row_win`, `col_win`, and `diag_win` functions for both players. \n",
                "* If one of them has won, return that player's number. If the board is full but no one has won, return -1. Otherwise, return 0.\n",
                "* With the board is already defined from previous exercise, call `evaluate` to see if either player has won the game yet.\n",
                "    \n",
                "\u003cbr /\u003e\u003cbr /\u003e  \n",
                "    \n",
                "### **1.4 [8 points] SIMULATING THE GAME**\n",
                "\u003cbr /\u003e\n",
                "\n",
                "You will use all the functions you have made to simulate an entire game.\n",
                "\n",
                "**1.4.1** - Simulate a game using random positions i.e without using a strategy.\n",
                "    \n",
                "* `create_board()`, `random_place(board, player)`, and `evaluate(board`) have been created in previous exercises. Create a function `play_game()` that:\n",
                "    * Creates a board.\n",
                "    * Alternates taking turns between two players (beginning with Player 1), placing a marker during each turn.\n",
                "    * Evaluates the board for a winner after each placement.\n",
                "    * Continues the game until one player wins (returning 1 or 2 to reflect the winning player), or the game is a draw (returning -1).\n",
                "* Call `play_game` 1000 times, and store the results of the game in a list called `results`.\n",
                "\n",
                "\u003cbr /\u003e\u003cbr /\u003e\n",
                "\n",
                "**1.4.2** - Simulate a game using the strategy - \"always start in the middle square\".\n",
                "\n",
                "* Create a function play_strategic_game(), where Player 1 always starts with the middle square, and otherwise both players place their markers randomly.\n",
                "\n",
                "* Call play_strategic_game 1000 times.\n",
                "\n",
                "\u003cbr /\u003e\u003cbr /\u003e\n",
                "\n",
                "### **1.5 [3 points] HOMEWORK QUIZ**\n",
                "\u003cbr /\u003e\n",
                "After attempting this part of the homework, answer the questions on edStem. All the questions depend on this part of the homework and you will not be able to answer them without attempting this part.\n",
                "\n",
                "\u003cbr /\u003e\u003cbr /\u003e\n",
                "\n",
                "\u003c/div\u003e"
            ]
        },
        {
            "attachments": {},
            "cell_type": "markdown",
            "metadata": {},
            "source": [
                "\u003cdiv class=\"alert alert-block alert-danger\" style=\"color:black;background-color:#E7F4FA\"\u003e\n",
                "    \n",
                "## **PART 1: Solutions**\n",
                "\u003cbr /\u003e\n",
                "\n",
                "### **1.1 [5 points] CREATION OF TIC-TAC-TOE BOARD**\n",
                "\u003cbr /\u003e\n",
                "\n",
                "* For our tic-tac-toe board, create a nested list with the size of 3 by 3. \n",
                "* Make a function `create_board()` that creates such a board with the value of each cell set to the integer 0.\n",
                "* Call `create_board()` and store it.\n",
                "\u003cbr /\u003e\u003cbr /\u003e\n",
                "\n",
                "    \n",
                "\u003c/div\u003e"
            ]
        },
        {
            "cell_type": "code",
            "execution_count": 31,
            "metadata": {},
            "outputs": [],
            "source": [
                "#Helper function to display board --\u003e Use `display_board` whenever you want to print board.\n",
                "def display_board(board):\n",
                "    for i in board:\n",
                "        print(i)"
            ]
        },
        {
            "cell_type": "code",
            "execution_count": 32,
            "metadata": {},
            "outputs": [
                {
                    "name": "stdout",
                    "output_type": "stream",
                    "text": "[0, 0, 0]\n[0, 0, 0]\n[0, 0, 0]\n"
                }
            ],
            "source": [
                "#Function to create a board\n",
                "def create_board():\n",
                "    #Initializing a list of list \n",
                "    board = [\n",
                "             [0,0,0],\n",
                "             [0,0,0],\n",
                "             [0,0,0]\n",
                "            ]\n",
                "    #Return the board initialized\n",
                "    return board\n",
                "\n",
                "#Creating board by calling the function\n",
                "board = create_board()\n",
                "\n",
                "#Use `display_board` to display the board\n",
                "display_board(board)"
            ]
        },
        {
            "attachments": {},
            "cell_type": "markdown",
            "metadata": {},
            "source": [
                "\u003cdiv class=\"alert alert-block alert-danger\" style=\"color:black;background-color:#E7F4FA\"\u003e\n",
                "\n",
                "### **1.2 [10 points] PLACING MARKERS ON BOARD**\n",
                "\u003cbr /\u003e\n",
                "\n",
                "Players 1 and 2 will take turns changing values of this array from a 0 to a 1 or 2, indicating the number of the player who places a marker there. We will then determine which positions are available to either player for placing their marker.\n",
                "\n",
                "\u003cbr /\u003e\u003cbr /\u003e\n",
                "\n",
                "**1.2.1** - Create a function to place a marker.\n",
                "* Create a function `place(board, player, position)`, where:\n",
                "    * player is the current player (an integer 1 or 2).\n",
                "    * position is a tuple of length 2 specifying a desired location to place their marker.\n",
                "    * Your function should only allow the current player to place a marker on the board (change the board position to their number) if that position is empty (zero).\n",
                "* Use `create_board()` to store a board as board, and use place to have Player 1 place a marker on location (0, 0).\n",
                "\n",
                "\u003cbr /\u003e\u003cbr /\u003e\n",
                "\n",
                "\n",
                "    \n",
                "\u003c/div\u003e"
            ]
        },
        {
            "cell_type": "code",
            "execution_count": 33,
            "metadata": {},
            "outputs": [
                {
                    "name": "stdout",
                    "output_type": "stream",
                    "text": "[1, 0, 0]\n[0, 0, 0]\n[0, 0, 0]\n"
                }
            ],
            "source": [
                "#Function to place markers\n",
                "def place(board,player,position):\n",
                "    #Check if board position is empty\n",
                "    if board[position[0]][position[1]]==0:\n",
                "        #if yes, place number of the player\n",
                "        board[position[0]][position[1]]=player\n",
                "    else:\n",
                "        #else print \"This place has been taken.\"\n",
                "        print('This place has already been taken!')\n",
                "\n",
                "#Create board\n",
                "board = create_board()\n",
                "\n",
                "#Have player 1 place a marker in location (0,0)\n",
                "place(board,1,(0,0))\n",
                "\n",
                "#Display the board\n",
                "display_board(board)"
            ]
        },
        {
            "attachments": {},
            "cell_type": "markdown",
            "metadata": {},
            "source": [
                "\u003cdiv class=\"alert alert-block alert-danger\" style=\"color:black;background-color:#E7F4FA\"\u003e\n",
                "\n",
                "**1.2.2** - Determine which positions are available to either player for placing their marker.\n",
                "\n",
                "* Create a function `possibilities(board)` that returns a list of all positions (tuples) on the board that are not occupied (0). \u003cbr/\u003e\n",
                "* With the board already defined from previous section, call `possibilities(board)` to see what it returns.\n",
                "\n",
                "\u003cbr /\u003e\u003cbr /\u003e\n",
                "    \n",
                "\u003c/div\u003e "
            ]
        },
        {
            "cell_type": "code",
            "execution_count": 34,
            "metadata": {},
            "outputs": [
                {
                    "data": {
                        "text/plain": "[(0, 1), (0, 2), (1, 0), (1, 1), (1, 2), (2, 0), (2, 1), (2, 2)]"
                    },
                    "execution_count": 34,
                    "metadata": {},
                    "output_type": "execute_result"
                }
            ],
            "source": [
                "#Function to return possibilities where Player can place markers\n",
                "#which are basically all those positions that are not occipised. \n",
                "def possibilities(board):\n",
                "    #Intialize an empty list\n",
                "    locations = []\n",
                "    #Loop through the rows of the board\n",
                "    for row in range(len(board)):\n",
                "        #Create row_instance of the row index\n",
                "        row_instance = board[row]  \n",
                "        #Loop through columns of the row_instance\n",
                "        for col in range(len(row_instance)):    \n",
                "            #if the board position contains '0'\n",
                "            if board[row][col] == 0:\n",
                "                #Append this position as a tuple to locations list\n",
                "                locations.append((row,col))\n",
                "    #Return the locations\n",
                "    return locations\n",
                "\n",
                "#Call the possibilities function\n",
                "possibilities(board)"
            ]
        },
        {
            "attachments": {},
            "cell_type": "markdown",
            "metadata": {},
            "source": [
                "\u003cdiv class=\"alert alert-block alert-danger\" style=\"color:black;background-color:#E7F4FA\"\u003e\n",
                "\n",
                "**1.2.3** - Make both players place three markers each on available positions on board.\n",
                "\n",
                "* Write a function `random_place(board, player)` that places a marker for the current player at random among all the available positions (those currently set to 0).\n",
                "    * Find possible placements with `possibilities(board)`.\n",
                "    * Select one possible placement at random using `random.choice(selection)`.\n",
                "* Create a new board and call `random_place(board, player)` to place three pieces each on board for players 1 and 2. Print your board subsequently.\n",
                "    \n",
                "\u003cbr /\u003e\u003cbr /\u003e\n",
                "    \n",
                "\u003c/div\u003e"
            ]
        },
        {
            "cell_type": "code",
            "execution_count": 35,
            "metadata": {},
            "outputs": [],
            "source": [
                "#setting random seed to 22 - DO NOT CHANGE THIS.\n",
                "random.seed(22)\n",
                "\n",
                "#Create a function to randomly place markers in available \n",
                "def random_place(board,player):\n",
                "    #get the locations of the available positions \n",
                "    locs = possibilities(board)\n",
                "    #Using random.choice select one position from locations\n",
                "    selection = random.choice(locs)\n",
                "    #place player marker on the board in the location chosen\n",
                "    place(board=board,player = player, position = selection)"
            ]
        },
        {
            "cell_type": "code",
            "execution_count": 36,
            "metadata": {},
            "outputs": [
                {
                    "name": "stdout",
                    "output_type": "stream",
                    "text": "[1, 0, 1]\n[2, 2, 0]\n[1, 2, 0]\n"
                }
            ],
            "source": [
                "#setting random seed to 22 - DO NOT CHANGE THIS.\n",
                "random.seed(22)\n",
                "\n",
                "#Create a new board\n",
                "board = create_board()\n",
                "\n",
                "#Loop through the no. of rows and randomly place markers in available positions\n",
                "for i in range(3):\n",
                "    #place for player 1\n",
                "    random_place(board,player=1)\n",
                "    #place for player 2\n",
                "    random_place(board,player=2)\n",
                "\n",
                "#Display the board\n",
                "display_board(board)"
            ]
        },
        {
            "attachments": {},
            "cell_type": "markdown",
            "metadata": {},
            "source": [
                "\u003cdiv class=\"alert alert-block alert-danger\" style=\"color:black;background-color:#E7F4FA\"\u003e\n",
                "\n",
                "### **1.3 [8 points] DETERMINING WHO WON**\n",
                "\u003cbr /\u003e\n",
                "\n",
                "**1.3.1** - Check if there is a row wise win. (This means that the player has placed consecutively across a row.)\n",
                "\n",
                "* Make a function `row_win(board, player)` that takes the player (integer) and determines if any row consists of only their marker.\n",
                "* Have it return True if this condition is met and False otherwise.\n",
                "* With the board already defined from previous exercises, call `row_win` to check if Player 1 has a complete row.\n",
                "\n",
                "\u003cbr /\u003e\u003cbr /\u003e\n",
                "    \n",
                "\u003c/div\u003e"
            ]
        },
        {
            "cell_type": "code",
            "execution_count": 37,
            "metadata": {},
            "outputs": [
                {
                    "data": {
                        "text/plain": "False"
                    },
                    "execution_count": 37,
                    "metadata": {},
                    "output_type": "execute_result"
                }
            ],
            "source": [
                "#Create a function for seeing row-wise win\n",
                "def row_win(board, player):\n",
                "    #go through the rows in the board\n",
                "    for row in board:\n",
                "        #if the player no. count in the row is 3\n",
                "        if row.count(player) == 3:\n",
                "            #return True\n",
                "            return True\n",
                "            #Break the loop\n",
                "            break\n",
                "    #else return Flase        \n",
                "    return False \n",
                "\n",
                "row_win(board, player = 1)"
            ]
        },
        {
            "attachments": {},
            "cell_type": "markdown",
            "metadata": {},
            "source": [
                "\u003cdiv class=\"alert alert-block alert-danger\" style=\"color:black;background-color:#E7F4FA\"\u003e\n",
                "\n",
                "**1.3.2** - Check if there is a column wise win. (This means that the player has placed consecutively across a column.)\n",
                "\n",
                "* Make a function col_win(board, player) that takes the player (integer) and determines if any column consists of only their marker.\n",
                "* Have it return True if this condition is met and False otherwise.\n",
                "* With the board already defined from previous exercise, call col_win to check if Player 1 has a complete row.\n",
                "\n",
                "\u003cbr /\u003e\u003cbr /\u003e\n",
                "    \n",
                "\u003c/div\u003e"
            ]
        },
        {
            "cell_type": "code",
            "execution_count": 38,
            "metadata": {},
            "outputs": [
                {
                    "data": {
                        "text/plain": "False"
                    },
                    "execution_count": 38,
                    "metadata": {},
                    "output_type": "execute_result"
                }
            ],
            "source": [
                "#Create a function for seeing col-wise win\n",
                "def col_win(board, player):\n",
                "    #Go through col_index of board\n",
                "    for col_index in range(len(board)):\n",
                "        #Intialize empty temp list to store col values\n",
                "        temp = []\n",
                "        #Loop through row in board\n",
                "        for row in board:\n",
                "            #Append the col values to temp list\n",
                "            temp.append(row[col_index])\n",
                "        #Check if the temp list contains only player markers\n",
                "        if temp.count(player) == 3:\n",
                "            #return true\n",
                "            return True\n",
                "            #break the loop\n",
                "            break\n",
                "    #return false if no col-wise win found\n",
                "    return False\n",
                "\n",
                "#Call the col_winfunction on the board\n",
                "col_win(board, player = 1)"
            ]
        },
        {
            "attachments": {},
            "cell_type": "markdown",
            "metadata": {},
            "source": [
                "\u003cdiv class=\"alert alert-block alert-danger\" style=\"color:black;background-color:#E7F4FA\"\u003e\n",
                "\n",
                "**1.3.3** - Check if there is a diagnol wise win. (This means that the player has placed consecutively across both diagnols.)\n",
                "\n",
                "* Finally, create a function diag_win(board, player) that tests if either diagonal of the board consists of only their marker. \n",
                "* Have it return True if this condition is met, and False otherwise.\n",
                "* With the board slightly modified from previous exercise, call diag_win to check if Player 2 has a complete diagonal.\n",
                "\n",
                "\u003cbr /\u003e\u003cbr /\u003e\n",
                "\n",
                "\u003c/div\u003e"
            ]
        },
        {
            "cell_type": "code",
            "execution_count": 39,
            "metadata": {},
            "outputs": [
                {
                    "data": {
                        "text/plain": "False"
                    },
                    "execution_count": 39,
                    "metadata": {},
                    "output_type": "execute_result"
                }
            ],
            "source": [
                "#Create a function for seeing diag win\n",
                "def diag_win(board, player):\n",
                "    #Checking elements in index position (0,0), (1,1), (2,2)\n",
                "    index = 0\n",
                "    temp = []\n",
                "    for row in board:\n",
                "        temp.append(row[index])\n",
                "        index += 1\n",
                "\n",
                "    #Check if all the values are of one player values\n",
                "    if temp.count(player) == 3:\n",
                "        return True\n",
                "        \n",
                "    #Checking elements in index position (0,2), (1,1), (2,0)\n",
                "    index = len(board) - 1\n",
                "    temp = []\n",
                "    for row in board:\n",
                "        temp.append(row[index])\n",
                "        index -= 1\n",
                "    \n",
                "    #Check if all the values are of one player values\n",
                "    if temp.count(player) == 3:\n",
                "        return True\n",
                "\n",
                "    #else return False\n",
                "    return False\n",
                "    \n",
                "\n",
                "#Call the col_winfunction on the board\n",
                "diag_win(board, player = 1)"
            ]
        },
        {
            "attachments": {},
            "cell_type": "markdown",
            "metadata": {},
            "source": [
                "\u003cdiv class=\"alert alert-block alert-danger\" style=\"color:black;background-color:#E7F4FA\"\u003e\n",
                "\n",
                "**1.3.4** - Create a function to determine the winner.\n",
                "\n",
                "* Create a function `evaluate(board)` that uses `row_win`, `col_win`, and `diag_win` functions for both players. \n",
                "* If one of them has won, return that player's number. If the board is full but no one has won, return -1. Otherwise, return 0.\n",
                "* With the board is already defined from previous exercise, call `evaluate` to see if either player has won the game yet.\n",
                "    \n",
                "\u003cbr /\u003e\u003cbr /\u003e  \n",
                "\n",
                "\u003c/div\u003e"
            ]
        },
        {
            "cell_type": "code",
            "execution_count": 40,
            "metadata": {},
            "outputs": [
                {
                    "data": {
                        "text/plain": "0"
                    },
                    "execution_count": 40,
                    "metadata": {},
                    "output_type": "execute_result"
                }
            ],
            "source": [
                "#Create function evaluate\n",
                "def evaluate(board):\n",
                "    #Intialize winner variable with 0\n",
                "    winner = 0\n",
                "    #Go through each player markers\n",
                "    for player in [1, 2]:\n",
                "        #Check for all types of wins\n",
                "        if row_win(board,player) or col_win(board,player) or diag_win(board,player):\n",
                "            winner = player\n",
                "    #Checking if there are any unavailable positions\n",
                "    if [y for x in board for y in x].count(0) == 0 and winner == 0:\n",
                "        #Return winner as -1 since both did not win\n",
                "        winner = -1\n",
                "    return winner\n",
                "    \n",
                "#Call the function to evaluate the board\n",
                "evaluate(board)"
            ]
        },
        {
            "attachments": {},
            "cell_type": "markdown",
            "metadata": {},
            "source": [
                "\u003cdiv class=\"alert alert-block alert-danger\" style=\"color:black;background-color:#E7F4FA\"\u003e\n",
                "\n",
                "### **1.4 [8 points] SIMULATING THE GAME**\n",
                "\u003cbr /\u003e\n",
                "\n",
                "You will use all the functions you have made to simulate an entire game.\n",
                "\n",
                "**1.4.1** - Simulate a game using random positions i.e without using a strategy.\n",
                "    \n",
                "* `create_board()`, `random_place(board, player)`, and `evaluate(board`) have been created in previous exercises. Create a function `play_game()` that:\n",
                "    * Creates a board.\n",
                "    * Alternates taking turns between two players (beginning with Player 1), placing a marker during each turn.\n",
                "    * Evaluates the board for a winner after each placement.\n",
                "    * Continues the game until one player wins (returning 1 or 2 to reflect the winning player), or the game is a draw (returning -1).\n",
                "* Call `play_game` 1000 times, and store the results of the game in a list called `results`.\n",
                "\n",
                "\u003cbr /\u003e\u003cbr /\u003e\n",
                "    \n",
                "\u003c/div\u003e"
            ]
        },
        {
            "cell_type": "code",
            "execution_count": 41,
            "metadata": {},
            "outputs": [
                {
                    "name": "stdout",
                    "output_type": "stream",
                    "text": "No. of wins for Player 1 : 560\nNo. of wins for Player 2 : 296\nNo. of no wins : 144\n"
                }
            ],
            "source": [
                "#setting random seed to 22 - DO NOT CHANGE THIS.\n",
                "random.seed(22)\n",
                "\n",
                "def play_game():\n",
                "    board = create_board()\n",
                "    player = 1\n",
                "    result = 0\n",
                "    while result == 0:\n",
                "        random_place(board=board,player=player)\n",
                "        if player%2 !=0:\n",
                "            player = 2\n",
                "        else:\n",
                "            player =1\n",
                "        result = evaluate(board)\n",
                "    return result\n",
                "\n",
                "# write your code here! \n",
                "results = [play_game() for _ in range(1000)]\n",
                "\n",
                "#How many wins for Player 1?\n",
                "print(f'No. of wins for Player 1 : {results.count(1)}')\n",
                "\n",
                "#How many wins for Player 2?\n",
                "print(f'No. of wins for Player 2 : {results.count(2)}')\n",
                "\n",
                "#How many no wins for both?\n",
                "print(f'No. of no wins : {results.count(-1)}')\n",
                ""
            ]
        },
        {
            "attachments": {},
            "cell_type": "markdown",
            "metadata": {},
            "source": [
                "\u003cdiv class=\"alert alert-block alert-danger\" style=\"color:black;background-color:#E7F4FA\"\u003e\n",
                "\n",
                "**1.4.2** - Simulate a game using the strategy - \"always start in the middle square\".\n",
                "\n",
                "* Create a function play_strategic_game(), where Player 1 always starts with the middle square, and otherwise both players place their markers randomly.\n",
                "\n",
                "* Call play_strategic_game 1000 times.\n",
                "\n",
                "\u003cbr /\u003e\u003cbr /\u003e\n",
                "    \n",
                "\u003c/div\u003e"
            ]
        },
        {
            "cell_type": "code",
            "execution_count": 42,
            "metadata": {},
            "outputs": [
                {
                    "name": "stdout",
                    "output_type": "stream",
                    "text": "No. of wins for Player 1 : 690\nNo. of wins for Player 2 : 208\nNo. of no wins : 102\n"
                }
            ],
            "source": [
                "#setting random seed to 22 - DO NOT CHANGE THIS.\n",
                "random.seed(22)\n",
                "\n",
                "def play_strategic_game():\n",
                "    board = create_board()\n",
                "    board[1][1] = 1\n",
                "    player = 2\n",
                "    result = 0\n",
                "    while result == 0:\n",
                "        random_place(board=board,player=player)\n",
                "        if player%2 !=0:\n",
                "            player = 2\n",
                "        else:\n",
                "            player =1\n",
                "        result = evaluate(board)\n",
                "    return result\n",
                "\n",
                "# write your code here! \n",
                "results = [play_strategic_game() for _ in range(1000)]\n",
                "\n",
                "#How many wins for Player 1?\n",
                "print(f'No. of wins for Player 1 : {results.count(1)}')\n",
                "\n",
                "#How many wins for Player 2?\n",
                "print(f'No. of wins for Player 2 : {results.count(2)}')\n",
                "\n",
                "#How many no wins for both?\n",
                "print(f'No. of no wins : {results.count(-1)}')"
            ]
        },
        {
            "attachments": {},
            "cell_type": "markdown",
            "metadata": {},
            "source": [
                "___\n",
                "___\n",
                "\n",
                ""
            ]
        }
    ]
}
