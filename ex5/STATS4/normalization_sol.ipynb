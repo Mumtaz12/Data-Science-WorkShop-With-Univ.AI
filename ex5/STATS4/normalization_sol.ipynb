{
    "metadata": {
        "kernelspec": {
            "name": "python3",
            "display_name": "Python 3 (ipykernel)",
            "language": "python"
        }
    },
    "nbformat": 4,
    "nbformat_minor": 2,
    "cells": [
        {
            "cell_type": "code",
            "execution_count": 1,
            "metadata": {},
            "outputs": [],
            "source": [
                "### edTest(test_class) ###\n",
                "class Normal_scaler:\n",
                "    \"\"\"\n",
                "    a simple normal scaler class, normalizes data\n",
                "    \n",
                "    The formula for normalization is (x - x_min) / (x_max - x_min). \n",
                "    Normalization ensures that all values will be between zero and one.\n",
                "    \n",
                "    Attributes\n",
                "    -------\n",
                "    min_   : the dataset minimum\n",
                "    max_   : the dataset maximum\n",
                "    range_ : max_ - min_\n",
                "    \n",
                "    methods:\n",
                "    -------\n",
                "    __call__: \n",
                "        calls fit_transform on the dataset\n",
                "        arguments: dataset (list)\n",
                "    \n",
                "    fit_transform: normalizes the dataset ie (x - min_ / range_) \n",
                "            for every point x in the data\n",
                "    \n",
                "    inverse_transform: returns the dataset to the original scale (x*range_ + min_ )\n",
                "    \"\"\"\n",
                "    def __init__(self):\n",
                "        print(\"making normal scaler\")\n",
                "    \n",
                "    def __call__(self, dataset):\n",
                "        \"\"\"calls fit_transform to normalize the data\n",
                "\n",
                "        Parameters\n",
                "        ----------\n",
                "        datset : list of ints or list of floats\n",
                "            a list of data\n",
                "        Returns\n",
                "        -------\n",
                "        a normalized list \"\"\"\n",
                "\n",
                "        print('calling class as a function')\n",
                "        return self.fit_transform(dataset)\n",
                "    \n",
                "    def fit_transform(self, dataset):\n",
                "        \"\"\"normalizes the data\n",
                "\n",
                "        Parameters\n",
                "        ----------\n",
                "        datset : list of ints or list of floats\n",
                "            a list of data\n",
                "        Returns\n",
                "        -------\n",
                "        a normalized list \"\"\"\n",
                "        print(\"normalizing dataset\")\n",
                "        self.min_ = min(dataset)\n",
                "        self.max_ = max(dataset)\n",
                "        self.range_ = self.max_ - self.min_\n",
                "        return [(dp - self.min_) / self.range_ for dp in dataset]\n",
                "    \n",
                "    def inverse_transform(self, norm_dataset):\n",
                "        \"\"\"inverse transforms the data with saved mean and std\n",
                "\n",
                "        Parameters\n",
                "        ----------\n",
                "        norm_dataset : list of ints or list of floats\n",
                "            a normalized list of data\n",
                "        Returns\n",
                "        -------\n",
                "        a list on the original scale \"\"\"\n",
                "        print(\"inverse transforming dataset\")\n",
                "        return [dp * self.range_ + self.min_ for dp in norm_dataset]"
            ]
        },
        {
            "cell_type": "code",
            "execution_count": 0,
            "metadata": {},
            "outputs": [],
            "source": [
                ""
            ]
        },
        {
            "cell_type": "code",
            "execution_count": 2,
            "metadata": {},
            "outputs": [
                {
                    "name": "stdout",
                    "output_type": "stream",
                    "text": "making normal scaler\nnormalizing dataset\ninverse transforming dataset\n"
                }
            ],
            "source": [
                "data = [11, 6, 3, 4.5, 18]\n",
                "scaler = Normal_scaler()\n",
                "norm_data = scaler.fit_transform(data)\n",
                "norm_altered_data = [dp**2 for dp in norm_data]\n",
                "transformed_data = scaler.inverse_transform(norm_altered_data)"
            ]
        },
        {
            "cell_type": "code",
            "execution_count": 3,
            "metadata": {},
            "outputs": [
                {
                    "name": "stdout",
                    "output_type": "stream",
                    "text": "making normal scaler\ncalling class as a function\nnormalizing dataset\n"
                }
            ],
            "source": [
                "data2 = [23, 0.1, 3.4, 10, 0.2]\n",
                "scaler2 = Normal_scaler()\n",
                "norm_data2 = scaler2(data2)"
            ]
        },
        {
            "cell_type": "code",
            "execution_count": 5,
            "metadata": {},
            "outputs": [
                {
                    "data": {
                        "text/plain": "{'min_': 3, 'max_': 18, 'range_': 15}"
                    },
                    "execution_count": 5,
                    "metadata": {},
                    "output_type": "execute_result"
                }
            ],
            "source": [
                "vars(scaler)"
            ]
        },
        {
            "cell_type": "code",
            "execution_count": 6,
            "metadata": {},
            "outputs": [
                {
                    "data": {
                        "text/plain": "{'min_': 0.1, 'max_': 23, 'range_': 22.9}"
                    },
                    "execution_count": 6,
                    "metadata": {},
                    "output_type": "execute_result"
                }
            ],
            "source": [
                "vars(scaler2)"
            ]
        }
    ]
}
