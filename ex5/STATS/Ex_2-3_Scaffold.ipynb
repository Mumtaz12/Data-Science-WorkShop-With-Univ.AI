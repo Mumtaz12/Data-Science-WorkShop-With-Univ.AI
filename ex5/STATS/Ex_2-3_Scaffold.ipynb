{
    "metadata": {
        "kernelspec": {
            "name": "python3",
            "display_name": "Python 3 (ipykernel)",
            "language": "python"
        }
    },
    "nbformat": 4,
    "nbformat_minor": 2,
    "cells": [
        {
            "attachments": {},
            "cell_type": "markdown",
            "metadata": {},
            "source": [
                "# The Book Keeper's Apprentice - Zip, *, Enumerate\n",
                "\n",
                ""
            ]
        },
        {
            "cell_type": "code",
            "execution_count": 1,
            "metadata": {},
            "outputs": [],
            "source": [
                "# Import the necessary libraries\n",
                "from pprint import pprint\n",
                "import numpy as np\n",
                "from helper import names_list, books_borrowed, dob, planned_return, actual_return, categories, isbn"
            ]
        },
        {
            "attachments": {},
            "cell_type": "markdown",
            "metadata": {},
            "source": [
                "## Keeping track of all the books borrowed\n",
                "\n",
                "As the worthy apprentice of the library, you have created records containing details of books borrowed. This includes:\n",
                "1. `names_list` - Name of the person who has borrowed the books\n",
                "2. `books_borrowed` - Name of the books they have borrowed\n",
                "3. `dob` - The date of borrowing\n",
                "4. `planned_return` - The date of planned return\n",
                "5. `actual_return` - The date of actual return\n",
                "6. `categories` - The catorgory corresponding to the book borrowed\n",
                "7. `isbn` - The ISBN of the book"
            ]
        },
        {
            "cell_type": "code",
            "execution_count": 2,
            "metadata": {},
            "outputs": [
                {
                    "name": "stdout",
                    "output_type": "stream",
                    "text": "Name       Book Borrowed                   DOB    Plan_Ret     Act_Ret     Category        ISBN\n--------------------------------------------------------------------------------------------------\nLonginus   Emerald fire             10.09.1923  10.10.1923                  Fantasy  9722329982\nTom        Defense against Trolls    8.08.1923  08.09.1923              Non-fiction  9722329983\nLonginus   Saphire Pearls           10.09.1923  10.10.1923                  Fantasy  9722329987\nMary Eliza Flying \u0026 Snitch           1.08.1923   1.09.1923  11.09.1923  Educational  9722329985\nPercy      The Greek Mythos         17.07.1923  10.08.1923                  History  9722329988\n"
                }
            ],
            "source": [
                "# Run the code cell below to see zip() in action\n",
                "\n",
                "print(\"Name\".ljust(10), \"Book Borrowed\".ljust(23),\\\n",
                " \"DOB\".rjust(11), \"Plan_Ret\".rjust(11), \\\n",
                " \"Act_Ret\".rjust(11), \"Category\".rjust(12),\"ISBN\".rjust(11))\n",
                "print(\"--------------------------------------------------------------------------------------------------\")\n",
                "\n",
                "# Using zip, print the details of the books:\n",
                "for name, book, dob_, planned_ret, actual_ret, cat, no_ in \\\n",
                "zip(names_list, books_borrowed, dob, planned_return, actual_return, categories, isbn):\n",
                "    print(name.ljust(10), book.ljust(23), dob_.rjust(11), \\\n",
                "    planned_ret.rjust(11), actual_ret.rjust(11), cat.rjust(12), no_.rjust(11))\n",
                ""
            ]
        },
        {
            "attachments": {},
            "cell_type": "markdown",
            "metadata": {},
            "source": [
                "## Group all books and categories together\n",
                "\n",
                "Using Zip method group all the `books_borrowed` and `categories` together. Use the book_borrowed and categories lists from the previous cell."
            ]
        },
        {
            "cell_type": "code",
            "execution_count": 3,
            "metadata": {},
            "outputs": [
                {
                    "name": "stdout",
                    "output_type": "stream",
                    "text": "Emerald fire --\u003e Fantasy\nDefense against Trolls --\u003e Non-fiction\nSaphire Pearls --\u003e Fantasy\nFlying \u0026 Snitch --\u003e Educational\nThe Greek Mythos --\u003e History\nEmerald Fire --\u003e Fantasy\n"
                }
            ],
            "source": [
                "### edTest(test_1) ###\n",
                "## DO NOT REMOVE ABOVE LINE ##\n",
                "\n",
                "# Using zip, iterate through the two lists - \"books_borrowed\" \u0026 \"categories\"\n",
                "for book, cat in zip(books_borrowed, categories):\n",
                "    #print each book borrowed ---\u003e respective category\n",
                "    print(book + \" --\u003e \"+ cat)"
            ]
        },
        {
            "attachments": {},
            "cell_type": "markdown",
            "metadata": {},
            "source": [
                "## Sorting lists using Zip and *\n",
                "\n",
                "Sort `books_borrowed` alphabetically whilst keeping the reference to the `isbn` intact. For this, use zip and *."
            ]
        },
        {
            "cell_type": "code",
            "execution_count": 4,
            "metadata": {},
            "outputs": [
                {
                    "name": "stdout",
                    "output_type": "stream",
                    "text": "9722329982 Emerald fire\n9722329983 Defense against Trolls\n9722329987 Saphire Pearls\n9722329985 Flying \u0026 Snitch\n9722329988 The Greek Mythos\n9722329990 Emerald Fire\n"
                }
            ],
            "source": [
                "# Run the code below to see zipped books_borrowed and isbn lists before sorting\n",
                "for isbn_no, book in zip(isbn, books_borrowed):\n",
                "    print(isbn_no, book)"
            ]
        },
        {
            "cell_type": "code",
            "execution_count": 5,
            "metadata": {},
            "outputs": [],
            "source": [
                "### edTest(test_2) ###\n",
                "## DO NOT REMOVE ABOVE LINE ##\n",
                "\n",
                "# Using zip \u0026 *, sort the list 'books_borrowed' alphabetically while ensuring  \n",
                "# that reference to the respective 'isbn' value remains the same\n",
                "book_sorted, isbn_sorted = zip(*sorted(zip(books_borrowed, isbn)))"
            ]
        },
        {
            "cell_type": "code",
            "execution_count": 6,
            "metadata": {},
            "outputs": [
                {
                    "name": "stdout",
                    "output_type": "stream",
                    "text": "9722329983 Defense against Trolls\n9722329990 Emerald Fire\n9722329982 Emerald fire\n9722329985 Flying \u0026 Snitch\n9722329987 Saphire Pearls\n9722329988 The Greek Mythos\n"
                }
            ],
            "source": [
                "# Run the code below to see zipped books_borrowed and isbn lists after sorting\n",
                "for isbn_no, book in zip(isbn_sorted, book_sorted):\n",
                "    print(isbn_no, book)"
            ]
        },
        {
            "attachments": {},
            "cell_type": "markdown",
            "metadata": {},
            "source": [
                "Notice that the corresponding isbn number is same, and the zipped list is sorted now."
            ]
        },
        {
            "attachments": {},
            "cell_type": "markdown",
            "metadata": {},
            "source": [
                "### ⏸ What would happen if you do the following instead ?\n",
                "`isbn_sorted, books_sorted = zip(*sorted(zip(isbn, books_borrowed)))`\n",
                "\n",
                "#### A. The lists would be sorted in accordance with the `isbn_no` and not the `books_borrowed`.\n",
                "#### B. `UnboundLocalError`\n",
                "#### C. No change in the output"
            ]
        },
        {
            "cell_type": "code",
            "execution_count": 0,
            "metadata": {},
            "outputs": [],
            "source": [
                "### edTest(test_3) ###\n",
                "## DO NOT REMOVE ABOVE LINE ##\n",
                "\n",
                "# Submit an answer choice as a string below \n",
                "# (eg. if you choose option C, put 'C')\n",
                "answer_quiz = 'A'"
            ]
        },
        {
            "attachments": {},
            "cell_type": "markdown",
            "metadata": {},
            "source": [
                "## Zip and Enumerate\n",
                "\n",
                "Let us enumerate the zipped lists to have a better and organized indexing. "
            ]
        },
        {
            "cell_type": "code",
            "execution_count": 7,
            "metadata": {},
            "outputs": [
                {
                    "name": "stdout",
                    "output_type": "stream",
                    "text": "No  ISBN       Book name\n1 9722329982 Emerald fire\n2 9722329983 Defense against Trolls\n3 9722329987 Saphire Pearls\n4 9722329985 Flying \u0026 Snitch\n5 9722329988 The Greek Mythos\n6 9722329990 Emerald Fire\n"
                }
            ],
            "source": [
                "# Zip \u0026 Enumerate through the lists - 'isbn' \u0026 'books_borrowed' while\n",
                "# making sure to start enumeration form 1\n",
                "print('No','ISBN'.rjust(5), 'Book name'.rjust(15))\n",
                "# keep counter starting from 1\n",
                "for counter, book_detail in enumerate(zip(isbn, books_borrowed), start = 1):\n",
                "    # print the counter, isbn and book\n",
                "    print(counter ,book_detail[0],book_detail[1])"
            ]
        },
        {
            "attachments": {},
            "cell_type": "markdown",
            "metadata": {},
            "source": [
                "### ⏸ Zipping and Unzipping\n",
                "\n",
                "Run the following snippet of code in your code cell and try fixing the error. Think about what may have caused the error."
            ]
        },
        {
            "cell_type": "code",
            "execution_count": 8,
            "metadata": {},
            "outputs": [
                {
                    "name": "stdout",
                    "output_type": "stream",
                    "text": "9722329982 Emerald fire\n9722329983 Defense against Trolls\n9722329987 Saphire Pearls\n9722329985 Flying \u0026 Snitch\n9722329988 The Greek Mythos\n9722329990 Emerald Fire\n"
                }
            ],
            "source": [
                "### edTest(test_fix) ###\n",
                "## DO NOT REMOVE ABOVE LINE ##\n",
                "\n",
                "# Fix the error\n",
                "for i, j in zip(isbn, books_borrowed):\n",
                "    print(i,j)"
            ]
        },
        {
            "cell_type": "code",
            "execution_count": 9,
            "metadata": {},
            "outputs": [],
            "source": [
                ""
            ]
        }
    ]
}
