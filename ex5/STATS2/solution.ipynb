{
    "metadata": {
        "kernelspec": {
            "name": "python3",
            "display_name": "Python 3 (ipykernel)",
            "language": "python"
        }
    },
    "nbformat": 4,
    "nbformat_minor": 4,
    "cells": [
        {
            "attachments": {},
            "cell_type": "markdown",
            "metadata": {},
            "source": [
                "# FIFA Stats Analysis"
            ]
        },
        {
            "cell_type": "code",
            "execution_count": 1,
            "metadata": {},
            "outputs": [],
            "source": [
                "# Import helper function and read data\n",
                "from supp_cha import read_data\n",
                "data = read_data()"
            ]
        },
        {
            "cell_type": "code",
            "execution_count": 2,
            "metadata": {},
            "outputs": [
                {
                    "name": "stdout",
                    "output_type": "stream",
                    "text": "[158023, 'https://sofifa.com/player/158023/lionel-messi/20/159586', 'L. Messi', 'Lionel Andrés Messi Cuccittini', '24-06-1987', 170, 'Argentina', 'FC Barcelona', 94, 94, 95500000, 565000, 'RW, CF, ST', 'Left', 'Medium/Low', 'Messi', 'Yes', 195800000, '#Dribbler, #Distance Shooter, #Crosser, #FK Specialist, #Acrobat, #Clinical Finisher, #Complete Forward', 'RW', nan, '01-07-2004', 2021, nan, 87.0, 92.0, 92.0, 96.0, 39.0, 66.0, nan, nan, nan, nan, nan, nan, 'Beat Offside Trap, Argues with Officials, Early Crosser, Finesse Shot, Speed Dribbler (CPU AI Only), 1-on-1 Rush, Giant Throw-in, Outside Foot Shot', 88, 95, 70, 92, 88, 97, 93, 94, 92, 96, 91, 84, 93, 95, 95, 86, 68, 75, 68, 94, 48, 40, 94, 94, 75, 96, 33, 37, 26, 6, 11, 15, 14, 8, '89+2', '89+2', '89+2', '93+2', '93+2', '93+2', '93+2', '93+2', '93+2', '93+2', '93+2', '92+2', '87+2', '87+2', '87+2', '92+2', '68+2', '66+2', '66+2', '66+2', '68+2', '63+2', '52+2', '52+2', '52+2', '63+2']\n"
                }
            ],
            "source": [
                "# Take a look at first entry of the data\n",
                "print(data[0])"
            ]
        },
        {
            "attachments": {},
            "cell_type": "markdown",
            "metadata": {},
            "source": [
                "## Finding average of all stats of a player\n",
                "The data is a list of lists, each list contains player details of which stats are a part of, but you need to extract those stats. Lets start out by filtering only integer values from one element (i.e `data[0]`)\n",
                "\n",
                "Use the built-in `isinstance()` function to check if it is an integer  "
            ]
        },
        {
            "cell_type": "code",
            "execution_count": 3,
            "metadata": {},
            "outputs": [
                {
                    "name": "stdout",
                    "output_type": "stream",
                    "text": "[158023, 170, 94, 94, 95500000, 565000, 195800000, 2021, 88, 95, 70, 92, 88, 97, 93, 94, 92, 96, 91, 84, 93, 95, 95, 86, 68, 75, 68, 94, 48, 40, 94, 94, 75, 96, 33, 37, 26, 6, 11, 15, 14, 8]\n"
                }
            ],
            "source": [
                "### edTest(test_filter_int) ###\n",
                "\n",
                "# Use filter function to get only integer entries\n",
                "# Print values to check all integers\n",
                "filter_int = list(filter(lambda x: isinstance(x,int), data[0]))\n",
                "print(filter_int)"
            ]
        },
        {
            "attachments": {},
            "cell_type": "markdown",
            "metadata": {},
            "source": [
                "## Further filter\n",
                "You must have observed that stats have less than or equal to 2-digit only.  Write a function which takes a number as input and returns `True` if the number is a 1-digit or a 2-digit number, or `False` otherwise.\n",
                "1. Floor divide the number by 10 and keep updating number of digits until you get the number to 0.\n",
                "\n",
                "2. If the number is a 1 or 2-digit number, return `True` (as filter needs a function that returns boolean value). \n",
                "\n",
                "3. Return `False` otherwise."
            ]
        },
        {
            "cell_type": "code",
            "execution_count": 4,
            "metadata": {},
            "outputs": [],
            "source": [
                "### edTest(test_count_digit) ###\n",
                "\n",
                "# Write a function which takes a number as an input\n",
                "# It should count the number of digits in the number\n",
                "# And check if the number is a 1 or 2-digit number then return True \n",
                "# Return False for any other case\n",
                "def count_digit(num):\n",
                "  if num//100 !=0:\n",
                "    return False\n",
                "  return True"
            ]
        },
        {
            "cell_type": "code",
            "execution_count": 5,
            "metadata": {},
            "outputs": [
                {
                    "name": "stdout",
                    "output_type": "stream",
                    "text": "False\n"
                }
            ],
            "source": [
                "# Test your function by calling it on various numbers\n",
                "print(count_digit(211))"
            ]
        },
        {
            "attachments": {},
            "cell_type": "markdown",
            "metadata": {},
            "source": [
                "Using the function declared above filter out only the 2-digit integers from the data filtered by integer values."
            ]
        },
        {
            "cell_type": "code",
            "execution_count": 6,
            "metadata": {},
            "outputs": [
                {
                    "name": "stdout",
                    "output_type": "stream",
                    "text": "[94, 94, 88, 95, 70, 92, 88, 97, 93, 94, 92, 96, 91, 84, 93, 95, 95, 86, 68, 75, 68, 94, 48, 40, 94, 94, 75, 96, 33, 37, 26, 6, 11, 15, 14, 8]\n"
                }
            ],
            "source": [
                "# Using the function above, filter out integers with only 1 or 2 digits\n",
                "player_stats = list(filter(count_digit, filter_int))\n",
                "print(player_stats)"
            ]
        },
        {
            "attachments": {},
            "cell_type": "markdown",
            "metadata": {},
            "source": [
                "## Take average\n",
                "average all the 1 and 2-digit integers so that you have an all-round statistics average for player 1 (i.e `data[0]`)"
            ]
        },
        {
            "cell_type": "code",
            "execution_count": 7,
            "metadata": {},
            "outputs": [
                {
                    "name": "stdout",
                    "output_type": "stream",
                    "text": "70.52777777777777\n"
                }
            ],
            "source": [
                "# Using the sum() and len() get the mean of filtered list\n",
                "mean = sum(player_stats)/len(player_stats)\n",
                "print(mean)"
            ]
        },
        {
            "attachments": {},
            "cell_type": "markdown",
            "metadata": {},
            "source": [
                "## Map\n",
                "Define a function which takes elements of dataset as input and returns the mean of 1 and 2-digit integers. Implement this using the `filter()` function and the `count_digit` function we built earlier\n",
                "\n",
                "Use this function to calculate average values for all entries in the data list using the `map()` function"
            ]
        },
        {
            "cell_type": "code",
            "execution_count": 8,
            "metadata": {},
            "outputs": [],
            "source": [
                "### edTest(test_value_cal) ###\n",
                "\n",
                "# Define a function which filters out 1 and 2 digit integers\n",
                "# It should calculate their mean and return it\n",
                "def value_cal(datapoint):\n",
                "  ints_only=list(filter(lambda x: isinstance(x,int), datapoint))\n",
                "  two_digits_and_less=list(filter(count_digit, ints_only))\n",
                "  return sum(two_digits_and_less)/len(two_digits_and_less)"
            ]
        },
        {
            "cell_type": "code",
            "execution_count": 9,
            "metadata": {},
            "outputs": [
                {
                    "name": "stdout",
                    "output_type": "stream",
                    "text": "[70.52777777777777, 69.69444444444444, 67.77777777777777, 46.22222222222222, 67.16666666666667, 70.80555555555556, 47.083333333333336, 65.80555555555556, 70.55555555555556, 68.61111111111111]\n"
                }
            ],
            "source": [
                "# Use the map function to generate average for all elements of data\n",
                "average_vals = list(map(value_cal, data))\n",
                "print(average_vals)"
            ]
        },
        {
            "attachments": {},
            "cell_type": "markdown",
            "metadata": {},
            "source": [
                "## Sort\n",
                "Sort your data list in increasing order of all-round potential(average of 1 and 2-digit integers), using the `sorted()` function"
            ]
        },
        {
            "cell_type": "code",
            "execution_count": 10,
            "metadata": {},
            "outputs": [
                {
                    "name": "stdout",
                    "output_type": "stream",
                    "text": "['J. Oblak', 'M. ter Stegen', 'V. van Dijk', 'E. Hazard', 'Neymar Jr', 'M. Salah', 'Cristiano Ronaldo', 'L. Messi', 'L. Modrić', 'K. De Bruyne']\n"
                }
            ],
            "source": [
                "### edTest(test_sorted) ###\n",
                "# Sort the data in increasing order of the average calculated\n",
                "\n",
                "# HINT: assign an appropriate key to the sorted function\n",
                "avg_sort = sorted(data, key=value_cal)\n",
                "\n",
                "# Use map function on the sorted list to get only names from elements\n",
                "# HINT: name is the third element in the list\n",
                "avg_sort_names = list(map(lambda x: x[2], avg_sort))\n",
                "\n",
                "print(avg_sort_names)"
            ]
        },
        {
            "attachments": {},
            "cell_type": "markdown",
            "metadata": {},
            "source": [
                "Who is the player with the best all-round rating?"
            ]
        },
        {
            "cell_type": "code",
            "execution_count": 11,
            "metadata": {},
            "outputs": [],
            "source": [
                "### edTest(test_chow1) ###\n",
                "# Copy the name as displayed in the dataset as a string (eg. 'L. Messi', 'Cristiano Ronaldo' etc )\n",
                "answer = avg_sort_names[-1]"
            ]
        },
        {
            "attachments": {},
            "cell_type": "markdown",
            "metadata": {},
            "source": [
                "Who is the player with the least all-round rating?"
            ]
        },
        {
            "cell_type": "code",
            "execution_count": 12,
            "metadata": {},
            "outputs": [],
            "source": [
                "### edTest(test_chow2) ###\n",
                "# Copy the name as displayed in the dataset as a string (eg. 'L. Messi', 'Cristiano Ronaldo' etc )\n",
                "answer = avg_sort_names[0]"
            ]
        },
        {
            "attachments": {},
            "cell_type": "markdown",
            "metadata": {},
            "source": [
                "## Best all-rounder in a larger dataset\n",
                "Use the new dataset with 10,000 entries and find out who is the best and worst all-rounder"
            ]
        },
        {
            "cell_type": "code",
            "execution_count": 13,
            "metadata": {},
            "outputs": [],
            "source": [
                "from supp_cha import read_data_full\n",
                "\n",
                "data = read_data_full()"
            ]
        },
        {
            "cell_type": "code",
            "execution_count": 14,
            "metadata": {},
            "outputs": [],
            "source": [
                "# Your code here\n",
                "data_sorted=sorted(data, key=value_cal)"
            ]
        },
        {
            "cell_type": "code",
            "execution_count": 15,
            "metadata": {},
            "outputs": [],
            "source": [
                "# Your code here\n",
                "names_sorted=list(map(lambda x: x[2], data_sorted))"
            ]
        },
        {
            "attachments": {},
            "cell_type": "markdown",
            "metadata": {},
            "source": [
                "Who is the player with the best all-round rating?"
            ]
        },
        {
            "cell_type": "code",
            "execution_count": 16,
            "metadata": {},
            "outputs": [],
            "source": [
                "### edTest(test_chow3) ###\n",
                "# Copy the name as displayed in the dataset as a string (eg. 'L. Messi', 'Cristiano Ronaldo' etc )\n",
                "answer = names_sorted[-1]"
            ]
        },
        {
            "attachments": {},
            "cell_type": "markdown",
            "metadata": {},
            "source": [
                "Who is the player with the least all-round rating?"
            ]
        },
        {
            "cell_type": "code",
            "execution_count": 17,
            "metadata": {},
            "outputs": [],
            "source": [
                "### edTest(test_chow4) ###\n",
                "# Copy the name as displayed in the dataset as a string (eg. 'L. Messi', 'Cristiano Ronaldo' etc )\n",
                "answer = names_sorted[0]"
            ]
        },
        {
            "cell_type": "code",
            "execution_count": 18,
            "metadata": {},
            "outputs": [
                {
                    "data": {
                        "text/plain": "'P. Álvarez'"
                    },
                    "execution_count": 18,
                    "metadata": {},
                    "output_type": "execute_result"
                }
            ],
            "source": [
                "answer"
            ]
        }
    ]
}
