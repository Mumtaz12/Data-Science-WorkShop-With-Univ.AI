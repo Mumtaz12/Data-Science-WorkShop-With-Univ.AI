{
    "metadata": {
        "kernelspec": {
            "name": "python3",
            "display_name": "Python 3 (ipykernel)",
            "language": "python"
        }
    },
    "nbformat": 4,
    "nbformat_minor": 2,
    "cells": [
        {
            "cell_type": "code",
            "execution_count": 1,
            "metadata": {},
            "outputs": [],
            "source": [
                "#TODO simpler exercise\n",
                "### edTest(test_class) ###\n",
                "class Tesla:\n",
                "    \"\"\"\n",
                "    A toy example Tesla class\n",
                "    \n",
                "    methods\n",
                "    -------\n",
                "    vroom: assign the string \"vroom! vroom!\" to the attribute\n",
                "        `sound`.\n",
                "         \n",
                "    make: \n",
                "        assign the car's color to the string \"red\".\n",
                "        Also assign the string. \"2020 model s\" to `model`. \n",
                "        \n",
                "    info: \n",
                "        a function that prints the model and color of the car as follows:\n",
                "        'red 2020 model s'.\n",
                "    \"\"\"\n",
                "    def vroom(self):\n",
                "        self.sound = \"vroom! vroom!\"\n",
                "        print(self.sound)\n",
                "    \n",
                "    def make(self):\n",
                "        #assert isinstance(model, str)\n",
                "        self.color = 'red'\n",
                "        self.model = '2020 model s'\n",
                "    \n",
                "    def info(self):\n",
                "        self.info_ = self.color + ' ' + self.model\n",
                "        try:\n",
                "            print(self.info_)\n",
                "        except:\n",
                "            print(\"please assign the make of the car before getting info\")"
            ]
        }
    ]
}
