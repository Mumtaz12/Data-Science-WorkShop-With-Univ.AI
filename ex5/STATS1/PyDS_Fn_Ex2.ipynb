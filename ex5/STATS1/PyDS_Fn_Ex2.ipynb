{
    "metadata": {
        "kernelspec": {
            "name": "python3",
            "display_name": "Python 3 (ipykernel)",
            "language": "python"
        }
    },
    "nbformat": 4,
    "nbformat_minor": 0,
    "cells": [
        {
            "cell_type": "code",
            "execution_count": 1,
            "metadata": {},
            "outputs": [],
            "source": [
                "# Import helper function\n",
                "from helper import get_data\n",
                "from pprint import pprint"
            ]
        },
        {
            "attachments": {},
            "cell_type": "markdown",
            "metadata": {},
            "source": [
                "## Take a look at the data\n",
                "The data is in the form  of lists within a list. Each individual list has 2 elements : Name and Height of the player"
            ]
        },
        {
            "cell_type": "code",
            "execution_count": 2,
            "metadata": {},
            "outputs": [
                {
                    "name": "stdout",
                    "output_type": "stream",
                    "text": "[['L. Messi', 170],\n ['Cristiano Ronaldo', 187],\n ['Neymar Jr', 175],\n ['J. Oblak', 188],\n ['E. Hazard', 175],\n ['K. De Bruyne', 181],\n ['M. ter Stegen', 187],\n ['V. van Dijk', 193],\n ['L. Modrić', 172],\n ['M. Salah', 175]]\n"
                }
            ],
            "source": [
                "# Get the data set and take a look at the entries using pprint\n",
                "data = get_data()\n",
                "pprint(data[:10])"
            ]
        },
        {
            "attachments": {},
            "cell_type": "markdown",
            "metadata": {},
            "source": [
                "## Sort\n",
                "The dataset has names and heights of players. Using the `sorted()` function sort this list of lists in increasing and decreasing order of heights. Display top 10 people in each sort."
            ]
        },
        {
            "cell_type": "code",
            "execution_count": 3,
            "metadata": {},
            "outputs": [
                {
                    "name": "stdout",
                    "output_type": "stream",
                    "text": "[['N. Barrios', 156],\n ['J. Plata', 157],\n ['M. Moralez', 158],\n ['C. Songkrasin', 158],\n ['D. Villalva', 159],\n ['M. Domínguez', 159],\n ['V. Hernández', 160],\n ['E. Oztumer', 160],\n ['L. Acosta', 161],\n ['D. Buonanotte', 161]]\n"
                }
            ],
            "source": [
                "### edTest(test_sort_asce) ###\n",
                "\n",
                "# Use 'sorted' to sort in increasing order of height\n",
                "# Print 10 entries of the sorted list\n",
                "height_sort_asce = sorted(data,key=lambda x : x[1])\n",
                "pprint(height_sort_asce[:10])"
            ]
        },
        {
            "attachments": {},
            "cell_type": "markdown",
            "metadata": {},
            "source": [
                "\n",
                "### ⏸ What keyword argument to the `sorted` function can be used to sort in decreasing order?\n",
                "\n",
                "#### A. increase = False\n",
                "#### B. reverse = True\n",
                "#### C. flip = 1\n",
                "#### D. B and C"
            ]
        },
        {
            "cell_type": "code",
            "execution_count": 4,
            "metadata": {},
            "outputs": [],
            "source": [
                "### edTest(test_chow1) ###\n",
                "# Submit an answer choice as a string below (eg. if you choose option A put 'A')\n",
                "\n",
                "answer = 'B'"
            ]
        },
        {
            "cell_type": "code",
            "execution_count": 5,
            "metadata": {},
            "outputs": [
                {
                    "data": {
                        "text/plain": "[['T. Holý', 205],\n ['C. Pantilimon', 203],\n ['L. Traoré', 203],\n ['A. Ba', 203],\n ['V. Milinković-Savić', 202],\n ['K. Scherpen', 202],\n ['L. Kalinić', 201],\n ['F. Forster', 201],\n ['K. Letica', 201],\n ['P. Onuachu', 201]]"
                    },
                    "execution_count": 5,
                    "metadata": {},
                    "output_type": "execute_result"
                }
            ],
            "source": [
                "### edTest(test_sort_desc)\n",
                "\n",
                "# Use 'sorted' to sort in decreasing order of height\n",
                "# Print 10 entries of the sorted list\n",
                "height_sort_desc = sorted(data,key=lambda x : -x[1])\n",
                "height_sort_desc[:10]"
            ]
        },
        {
            "attachments": {},
            "cell_type": "markdown",
            "metadata": {},
            "source": [
                "## Map\n",
                "Use the `map()` function to calculate the height of players in feet and inches.\n",
                "\n",
                "1. Use `map()` function and divide the height by 30.48 to get an integer which is the height in feet.\n",
                "\n",
                "2. Use another `map()` function which first gets the remainder when height is divided by 30.48 and divides it by 2.54 to get remaining height in inches.\n",
                "\n",
                "3. Display name and height if player in ft and inches.\n",
                ""
            ]
        },
        {
            "cell_type": "code",
            "execution_count": 6,
            "metadata": {},
            "outputs": [
                {
                    "name": "stdout",
                    "output_type": "stream",
                    "text": "Height of  L. Messi  is  5.0 ft  6.0 in\nHeight of  Cristiano Ronaldo  is  6.0 ft  1.0 in\nHeight of  Neymar Jr  is  5.0 ft  8.0 in\nHeight of  J. Oblak  is  6.0 ft  2.0 in\nHeight of  E. Hazard  is  5.0 ft  8.0 in\nHeight of  K. De Bruyne  is  5.0 ft  11.0 in\nHeight of  M. ter Stegen  is  6.0 ft  1.0 in\nHeight of  V. van Dijk  is  6.0 ft  3.0 in\nHeight of  L. Modrić  is  5.0 ft  7.0 in\nHeight of  M. Salah  is  5.0 ft  8.0 in\n"
                }
            ],
            "source": [
                "### edTest(test_map) ###\n",
                "\n",
                "# Get a list which has the height calculated in feet(floor division)\n",
                "height_ft = list(map(lambda x: x[1]//30.48,data))\n",
                "\n",
                "# Get a list which converts the remainder height into inches\n",
                "height_in = list(map(lambda x: x[1]%30.48//2.54,data))\n",
                "\n",
                "# Print the name and height in ft\u0026inches of 10 players using for-loop\n",
                "for i in range(10):\n",
                "    print('Height of ',data[i][0],' is ',height_ft[i],'ft ',height_in[i],'in')"
            ]
        },
        {
            "attachments": {},
            "cell_type": "markdown",
            "metadata": {},
            "source": [
                "## Filter\n",
                "Using the filter function, remove all players which have a height less than or equal to 170(sorry messi)\n",
                "\n",
                "Using a filter function remove all players which have a height greater than or equal to 185(sorry ronaldo)"
            ]
        },
        {
            "cell_type": "code",
            "execution_count": 7,
            "metadata": {},
            "outputs": [
                {
                    "name": "stdout",
                    "output_type": "stream",
                    "text": "[['Cristiano Ronaldo', 187],\n ['Neymar Jr', 175],\n ['J. Oblak', 188],\n ['E. Hazard', 175],\n ['K. De Bruyne', 181],\n ['M. ter Stegen', 187],\n ['V. van Dijk', 193],\n ['L. Modrić', 172],\n ['M. Salah', 175],\n ['K. Mbappé', 178]]\n"
                }
            ],
            "source": [
                "# Call the filter function and get only people taller than 170cm\n",
                "# Print 10 elements of the filtered list\n",
                "filter_heights = list(filter(lambda x:x[1] \u003e170,data))\n",
                "pprint(filter_heights[:10])"
            ]
        },
        {
            "cell_type": "code",
            "execution_count": 8,
            "metadata": {},
            "outputs": [
                {
                    "name": "stdout",
                    "output_type": "stream",
                    "text": "[['L. Messi', 170],\n ['Neymar Jr', 175],\n ['E. Hazard', 175],\n ['K. De Bruyne', 181],\n ['L. Modrić', 172],\n ['M. Salah', 175],\n ['K. Mbappé', 178],\n ['N. Kanté', 168],\n ['S. Agüero', 173],\n ['Sergio Ramos', 184]]\n"
                }
            ],
            "source": [
                "### edTest(test_filter) ###\n",
                "\n",
                "# Call the filter function and get only people shorter than 185cm\n",
                "# Print 10 elements of the filtered list\n",
                "filter_heights = list(filter(lambda x:x[1] \u003c185,data))\n",
                "pprint(filter_heights[:10])"
            ]
        }
    ]
}
