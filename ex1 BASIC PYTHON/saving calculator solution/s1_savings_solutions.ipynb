{
    "metadata": {
        "kernelspec": {
            "name": "python3",
            "display_name": "Python 3 (ipykernel)",
            "language": "python"
        }
    },
    "nbformat": 4,
    "nbformat_minor": 4,
    "cells": [
        {
            "attachments": {},
            "cell_type": "markdown",
            "metadata": {},
            "source": [
                "## Python as a Savings Calculator 💰\n",
                "The New Data Science job has left you with lots of money to invest! Let's use python to see what you can make by investing in a bank.\n",
                ""
            ]
        },
        {
            "cell_type": "code",
            "execution_count": 11,
            "metadata": {},
            "outputs": [],
            "source": [
                "# Suppose you have  $1000 leftover from your first paycheck\n",
                "# Create a variable 'savings' to reflect the same\n",
                "# (e.g savings = 1000)\n",
                "# Your code here \n",
                "savings = 1000"
            ]
        },
        {
            "attachments": {},
            "cell_type": "markdown",
            "metadata": {},
            "source": [
                "### ⏸ What is the `type` of the variable `savings`?\n",
                "\n",
                "\n",
                "#### A. float\n",
                "#### B. str\n",
                "#### C. int\n",
                "#### D. tuple"
            ]
        },
        {
            "cell_type": "code",
            "execution_count": 12,
            "metadata": {},
            "outputs": [],
            "source": [
                "### edTest(test_chow1) ###\n",
                "# Submit an answer choice as a string below \n",
                "# (eg. if you choose option C, put 'C')\n",
                "answer1 = 'C'"
            ]
        },
        {
            "cell_type": "code",
            "execution_count": 13,
            "metadata": {},
            "outputs": [],
            "source": [
                "# Your bank is offering 7.01% \n",
                "# (Simple Interest, per annum)\n",
                "# Assign the numerical values only (without the %)\n",
                "# eg. if interest rate is 7.01%, assign value as 7.01/100\n",
                "\n",
                "normal_interest_rate = 7.01/100"
            ]
        },
        {
            "cell_type": "code",
            "execution_count": 14,
            "metadata": {},
            "outputs": [
                {
                    "name": "stdout",
                    "output_type": "stream",
                    "text": "Total interest earned for an investment of two years is $140.20\n"
                }
            ],
            "source": [
                "### edTest(test_si) ###\n",
                "# Let us see how much you would earn after 2 years \n",
                "num_years = 2\n",
                "# Total Savings = Principal Amount + (Principal Amount x Rate of Interest x No. of Years)\n",
                "# Hint : Refer to the exercise description for the formula\n",
                "# Using the varible names assigned, print the new amount\n",
                "new_amount = savings + ( savings * normal_interest_rate* num_years)\n",
                "#Find the interest earned after given number of years\n",
                "interest_earned = savings * normal_interest_rate * num_years\n",
                "print(f'Total interest earned for an investment of two years is ${(interest_earned):.2f}')"
            ]
        },
        {
            "attachments": {},
            "cell_type": "markdown",
            "metadata": {},
            "source": [
                "### Senior citizen scheme 👴🏻"
            ]
        },
        {
            "cell_type": "code",
            "execution_count": 15,
            "metadata": {},
            "outputs": [
                {
                    "name": "stdout",
                    "output_type": "stream",
                    "text": "Total interest earned for an investment of two years is $152.20\n"
                }
            ],
            "source": [
                "### edTest(test_type) ###\n",
                "# If you are a senior citizen, the bank will offer you a greater rate of interest\n",
                "# of 7.61%\n",
                "# Write a condition such that if the investor is a senior citizen, a different rate\n",
                "# of interest will be applied\n",
                "\n",
                "# Assign senior citizen as 'yes' or 'no'\n",
                "senior_citizen = 'yes'\n",
                "\n",
                "sc_interest_rate=7.61/100\n",
                "\n",
                "if senior_citizen =='yes':\n",
                "    # Enter new interest rate\n",
                "    interest_rate = sc_interest_rate\n",
                "else:\n",
                "    # Enter old interest rate\n",
                "    interest_rate = normal_interest_rate\n",
                "# Calculate the amount same as above\n",
                "new_amount = savings + ( savings * interest_rate* num_years)\n",
                "# Take the difference between the new amount and savings\n",
                "# to get the interest earned \n",
                "interest_earned = new_amount - savings\n",
                "\n",
                "print(f'Total interest earned for an investment of two years is ${(interest_earned):.2f}')"
            ]
        },
        {
            "cell_type": "code",
            "execution_count": 16,
            "metadata": {},
            "outputs": [],
            "source": [
                "### edTest(test_difference) ###\n",
                "# Compute the dollar difference in the amount of interest\n",
                "# for a senior citizen compared to other investors\n",
                "# HINT: interest_earned (senior citizen) - interest_earned (others)\n",
                "difference = 152.20 - 140.20"
            ]
        },
        {
            "attachments": {},
            "cell_type": "markdown",
            "metadata": {},
            "source": [
                "### 🍲 Mindchow\n",
                "\n",
                "If you had a third bracket of interest rate for armed forces, which way could you incorporate the condition ?\n",
                "####  A. Use another `else` statement\n",
                "####  B. Use an `elif` statement\n",
                "####  C. Use an `elseif` statement\n",
                "####  D. Not possible\n",
                ""
            ]
        },
        {
            "cell_type": "code",
            "execution_count": 17,
            "metadata": {},
            "outputs": [],
            "source": [
                "### edTest(test_chow2) ###\n",
                "# Submit an answer choice as a string below \n",
                "# (eg. if you choose option C, put 'C')\n",
                "\n",
                "answer2 = 'B'"
            ]
        }
    ]
}
